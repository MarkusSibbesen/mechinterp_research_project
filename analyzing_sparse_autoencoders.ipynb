{
 "cells": [
  {
   "cell_type": "code",
   "execution_count": 1,
   "metadata": {},
   "outputs": [],
   "source": [
    "import os\n",
    "\n",
    "try:\n",
    "    has_changed_dir\n",
    "except:\n",
    "    has_changed_dir = False\n",
    "\n",
    "try:\n",
    "    import google.colab\n",
    "    IN_COLAB = True\n",
    "    print(\"Running as a Colab notebook\")\n",
    "except:\n",
    "    IN_COLAB = False\n",
    "\n",
    "if IN_COLAB:\n",
    "    %pip install datasets\n",
    "    %pip install translate-toolkit\n",
    "    %pip install bitsandbytes\n",
    "\n",
    "    !git clone https://github.com/MarkusSibbesen/mechinterp_research_project.git\n",
    "\n",
    "    if not has_changed_dir:\n",
    "        os.chdir('mechinterp_research_project')\n",
    "        has_changed_dir = True\n",
    "else:\n",
    "    if not has_changed_dir:\n",
    "        os.chdir('.')\n",
    "        has_changed_dir = True"
   ]
  },
  {
   "cell_type": "code",
   "execution_count": 2,
   "metadata": {},
   "outputs": [],
   "source": [
    "import torch\n",
    "device = torch.device(\"cuda\" if torch.cuda.is_available() else \"cpu\")\n",
    "from torch.utils.data import random_split, DataLoader\n",
    "from transformers import AutoModelForCausalLM, AutoTokenizer\n",
    "\n",
    "from collections import defaultdict\n",
    "import os\n",
    "import json\n",
    "from matplotlib import pyplot as plt\n",
    "import pandas as pd\n",
    "import numpy as np\n",
    "\n",
    "from src.dataset_handling import TextClassificationDataset\n",
    "from src.utils import get_activations_and_labels, get_hidden_activations\n",
    "from src.sparse_autoencoders import SAE_topk"
   ]
  },
  {
   "cell_type": "code",
   "execution_count": 3,
   "metadata": {},
   "outputs": [],
   "source": [
    "model_url = \"EleutherAI/pythia-14m\"\n",
    "model_name = model_url.split('/')[-1]\n",
    "hookpoint_name = 'gpt_neox.layers.$.mlp.act'\n",
    "layer = 3\n",
    "\n",
    "model = AutoModelForCausalLM.from_pretrained(model_url).to(device)\n",
    "tokenizer = AutoTokenizer.from_pretrained(model_url)\n",
    "\n",
    "num_hookpoints = model.config.num_hidden_layers\n",
    "hookpoint = hookpoint_name.replace('$', str(layer))\n",
    "input_size = model.config.intermediate_size"
   ]
  },
  {
   "cell_type": "code",
   "execution_count": 6,
   "metadata": {},
   "outputs": [
    {
     "ename": "RuntimeError",
     "evalue": "Error(s) in loading state_dict for SAE_topk:\n\tMissing key(s) in state_dict: \"pre_encode_b\". ",
     "output_type": "error",
     "traceback": [
      "\u001b[1;31m---------------------------------------------------------------------------\u001b[0m",
      "\u001b[1;31mRuntimeError\u001b[0m                              Traceback (most recent call last)",
      "Cell \u001b[1;32mIn[6], line 12\u001b[0m\n\u001b[0;32m      4\u001b[0m meta_data \u001b[38;5;241m=\u001b[39m {\n\u001b[0;32m      5\u001b[0m     \u001b[38;5;124m'\u001b[39m\u001b[38;5;124minput_size\u001b[39m\u001b[38;5;124m'\u001b[39m: input_size,\n\u001b[0;32m      6\u001b[0m     \u001b[38;5;124m'\u001b[39m\u001b[38;5;124mhidden_size\u001b[39m\u001b[38;5;124m'\u001b[39m: input_size \u001b[38;5;241m*\u001b[39m expansion_factor,\n\u001b[0;32m      7\u001b[0m     \u001b[38;5;124m'\u001b[39m\u001b[38;5;124mk\u001b[39m\u001b[38;5;124m'\u001b[39m: k\n\u001b[0;32m      8\u001b[0m }\n\u001b[0;32m     10\u001b[0m sae \u001b[38;5;241m=\u001b[39m SAE_topk(meta_data\u001b[38;5;241m=\u001b[39mmeta_data)\n\u001b[1;32m---> 12\u001b[0m \u001b[43msae\u001b[49m\u001b[38;5;241;43m.\u001b[39;49m\u001b[43mload_state_dict\u001b[49m\u001b[43m(\u001b[49m\u001b[43mtorch\u001b[49m\u001b[38;5;241;43m.\u001b[39;49m\u001b[43mload\u001b[49m\u001b[43m(\u001b[49m\u001b[38;5;124;43mf\u001b[39;49m\u001b[38;5;124;43m'\u001b[39;49m\u001b[38;5;124;43mmodels/sparse_autoencoders/pythia-14m/topk\u001b[39;49m\u001b[38;5;132;43;01m{\u001b[39;49;00m\u001b[43mk\u001b[49m\u001b[38;5;132;43;01m}\u001b[39;49;00m\u001b[38;5;124;43m/\u001b[39;49m\u001b[38;5;132;43;01m{\u001b[39;49;00m\u001b[43mhookpoint\u001b[49m\u001b[38;5;132;43;01m}\u001b[39;49;00m\u001b[38;5;124;43m.pt\u001b[39;49m\u001b[38;5;124;43m'\u001b[39;49m\u001b[43m,\u001b[49m\u001b[43m \u001b[49m\u001b[43mweights_only\u001b[49m\u001b[38;5;241;43m=\u001b[39;49m\u001b[38;5;28;43;01mTrue\u001b[39;49;00m\u001b[43m,\u001b[49m\u001b[43m \u001b[49m\u001b[43mmap_location\u001b[49m\u001b[38;5;241;43m=\u001b[39;49m\u001b[43mtorch\u001b[49m\u001b[38;5;241;43m.\u001b[39;49m\u001b[43mdevice\u001b[49m\u001b[43m(\u001b[49m\u001b[38;5;124;43m'\u001b[39;49m\u001b[38;5;124;43mcpu\u001b[39;49m\u001b[38;5;124;43m'\u001b[39;49m\u001b[43m)\u001b[49m\u001b[43m)\u001b[49m\u001b[43m)\u001b[49m\n",
      "File \u001b[1;32mc:\\Users\\Bruger\\Code\\3rdsem\\rp\\rp\\Lib\\site-packages\\torch\\nn\\modules\\module.py:2215\u001b[0m, in \u001b[0;36mModule.load_state_dict\u001b[1;34m(self, state_dict, strict, assign)\u001b[0m\n\u001b[0;32m   2210\u001b[0m         error_msgs\u001b[38;5;241m.\u001b[39minsert(\n\u001b[0;32m   2211\u001b[0m             \u001b[38;5;241m0\u001b[39m, \u001b[38;5;124m'\u001b[39m\u001b[38;5;124mMissing key(s) in state_dict: \u001b[39m\u001b[38;5;132;01m{}\u001b[39;00m\u001b[38;5;124m. \u001b[39m\u001b[38;5;124m'\u001b[39m\u001b[38;5;241m.\u001b[39mformat(\n\u001b[0;32m   2212\u001b[0m                 \u001b[38;5;124m'\u001b[39m\u001b[38;5;124m, \u001b[39m\u001b[38;5;124m'\u001b[39m\u001b[38;5;241m.\u001b[39mjoin(\u001b[38;5;124mf\u001b[39m\u001b[38;5;124m'\u001b[39m\u001b[38;5;124m\"\u001b[39m\u001b[38;5;132;01m{\u001b[39;00mk\u001b[38;5;132;01m}\u001b[39;00m\u001b[38;5;124m\"\u001b[39m\u001b[38;5;124m'\u001b[39m \u001b[38;5;28;01mfor\u001b[39;00m k \u001b[38;5;129;01min\u001b[39;00m missing_keys)))\n\u001b[0;32m   2214\u001b[0m \u001b[38;5;28;01mif\u001b[39;00m \u001b[38;5;28mlen\u001b[39m(error_msgs) \u001b[38;5;241m>\u001b[39m \u001b[38;5;241m0\u001b[39m:\n\u001b[1;32m-> 2215\u001b[0m     \u001b[38;5;28;01mraise\u001b[39;00m \u001b[38;5;167;01mRuntimeError\u001b[39;00m(\u001b[38;5;124m'\u001b[39m\u001b[38;5;124mError(s) in loading state_dict for \u001b[39m\u001b[38;5;132;01m{}\u001b[39;00m\u001b[38;5;124m:\u001b[39m\u001b[38;5;130;01m\\n\u001b[39;00m\u001b[38;5;130;01m\\t\u001b[39;00m\u001b[38;5;132;01m{}\u001b[39;00m\u001b[38;5;124m'\u001b[39m\u001b[38;5;241m.\u001b[39mformat(\n\u001b[0;32m   2216\u001b[0m                        \u001b[38;5;28mself\u001b[39m\u001b[38;5;241m.\u001b[39m\u001b[38;5;18m__class__\u001b[39m\u001b[38;5;241m.\u001b[39m\u001b[38;5;18m__name__\u001b[39m, \u001b[38;5;124m\"\u001b[39m\u001b[38;5;130;01m\\n\u001b[39;00m\u001b[38;5;130;01m\\t\u001b[39;00m\u001b[38;5;124m\"\u001b[39m\u001b[38;5;241m.\u001b[39mjoin(error_msgs)))\n\u001b[0;32m   2217\u001b[0m \u001b[38;5;28;01mreturn\u001b[39;00m _IncompatibleKeys(missing_keys, unexpected_keys)\n",
      "\u001b[1;31mRuntimeError\u001b[0m: Error(s) in loading state_dict for SAE_topk:\n\tMissing key(s) in state_dict: \"pre_encode_b\". "
     ]
    }
   ],
   "source": [
    "expansion_factor = 4\n",
    "k = int(np.sqrt(input_size * expansion_factor))\n",
    "\n",
    "meta_data = {\n",
    "    'input_size': input_size,\n",
    "    'hidden_size': input_size * expansion_factor,\n",
    "    'k': k\n",
    "}\n",
    "\n",
    "sae = SAE_topk(meta_data=meta_data)\n",
    "\n",
    "sae.load_state_dict(torch.load(f'models/sparse_autoencoders/pythia-14m/topk{k}/{hookpoint}.pt', weights_only=True, map_location=torch.device('cpu')))"
   ]
  },
  {
   "cell_type": "code",
   "execution_count": 86,
   "metadata": {},
   "outputs": [],
   "source": [
    "def get_biling_acts(dataset, model, tokenizer, stop_after = 100):\n",
    "\n",
    "    da_acts = []\n",
    "    da_preacts = []\n",
    "    da_tokens = []\n",
    "    en_acts = []\n",
    "    en_preacts = []\n",
    "    en_tokens = []\n",
    "\n",
    "    for i in range(stop_after):\n",
    "\n",
    "        sent, label = dataset[i]\n",
    "\n",
    "        tokenized = [\n",
    "            tokenizer(input_, return_tensors='pt').to(device)\n",
    "            for input_ in [sent]\n",
    "        ]\n",
    "\n",
    "        transformer_acts = get_hidden_activations(model, hookpoint, tokenized)\n",
    "\n",
    "        sae_preacts = sae.get_preacts(transformer_acts)\n",
    "        sae_acts = sae.get_activations(transformer_acts)\n",
    "\n",
    "        for act_indices, preacts, token in zip(sae_acts.indices, sae_preacts, tokenized[0]['input_ids'][0]):\n",
    "\n",
    "            zeros = torch.zeros(input_size * expansion_factor)\n",
    "\n",
    "            zeros[act_indices] = 1\n",
    "\n",
    "            if label == 0:\n",
    "                da_acts.append(zeros)\n",
    "                da_preacts.append(preacts)\n",
    "                da_tokens.append(token.item())\n",
    "            else:\n",
    "                en_acts.append(zeros)\n",
    "                en_preacts.append(preacts)\n",
    "                en_tokens.append(token.item())\n",
    "\n",
    "    return da_acts, da_preacts, da_tokens, en_acts, en_preacts, en_tokens"
   ]
  },
  {
   "cell_type": "code",
   "execution_count": 87,
   "metadata": {},
   "outputs": [],
   "source": [
    "## TEXT PRINTING\n",
    "\n",
    "def format_chars(text):\n",
    "    formatted = (\n",
    "        text.replace('Ġ', ' ').\n",
    "            replace('Ã¥', 'å').\n",
    "            replace('Ã¦', 'æ').\n",
    "            replace('Ã¸', 'ø')\n",
    "    )\n",
    "    return formatted\n",
    "\n",
    "\n",
    "# absolute genius stuff form chatgpt\n",
    "\n",
    "def rgb_text(text, r, g, b, background=False):\n",
    "    \"\"\"Returns text formatted with 24-bit RGB color.\"\"\"\n",
    "    if background:\n",
    "        if (r + g + b) / 3 > 128:\n",
    "            return f\"\\033[38;2;0;0;0m\\033[48;2;{r};{g};{b}m{text}\\033[0m\" \n",
    "        else:\n",
    "            return f\"\\033[48;2;{r};{g};{b}m{text}\\033[0m\"\n",
    "    return f\"\\033[38;2;{r};{g};{b}m{text}\\033[0m\"\n",
    "\n",
    "\n",
    "\n",
    "\n",
    "def print_colored_preacts(tokens, preacts, neuron, tokenizer, stop_after=100):\n",
    "    \n",
    "    for idx, (token, preact) in enumerate(zip(tokens, preacts)):\n",
    "        if idx == stop_after:\n",
    "            break\n",
    "        if idx % 20 == 0:\n",
    "            print('')\n",
    "        formatted = format_chars(tokenizer.convert_ids_to_tokens(token))\n",
    "        value = preact[neuron].item() / 2\n",
    "\n",
    "        if value > 0:\n",
    "            print(rgb_text(formatted, r=int(abs(value) * 255), g=0, b=0, background=True), end='')\n",
    "        else:\n",
    "            print(rgb_text(formatted, r=0, g=0, b=int(abs(value) * 255), background=True), end='')\n",
    "\n",
    "\n",
    "def print_colored_acts(tokens, acts, neuron, tokenizer, stop_after=100):\n",
    "\n",
    "    for idx, (token, act) in enumerate(zip(tokens, acts)):\n",
    "        if idx == stop_after:\n",
    "            break\n",
    "        if idx % 20 == 0:\n",
    "            print('')\n",
    "\n",
    "        formatted = format_chars(tokenizer.convert_ids_to_tokens(token))\n",
    "        value = act[neuron].item()\n",
    "\n",
    "        if value:\n",
    "            print(rgb_text(formatted, r=255, g=0, b=0, background=True), end='')\n",
    "        else:\n",
    "            print(rgb_text(formatted, r=0, g=0, b=0, background=True), end='')\n",
    "\n",
    "\n",
    "\n",
    "def plot_difference_by_neuron(da_preacts, en_preacts, neuron):\n",
    "\n",
    "    da_preacts_tnsr = torch.stack(da_preacts).detach()\n",
    "    en_preacts_tnsr = torch.stack(en_preacts).detach()\n",
    "\n",
    "    fig, ax = plt.subplots(1, 1, figsize=(8, 4))\n",
    "\n",
    "    ax.set_title(f'Neuron {neuron}')\n",
    "    ax.hist(da_preacts_tnsr[:, neuron], bins=30, alpha=0.5, color='blue', label='Danish')\n",
    "    ax.hist(en_preacts_tnsr[:, neuron], bins=30, alpha=0.5, color='orange', label='English')\n",
    "\n",
    "    fig.legend()\n",
    "\n",
    "    fig.tight_layout()\n",
    "    fig.show()"
   ]
  },
  {
   "cell_type": "code",
   "execution_count": 100,
   "metadata": {},
   "outputs": [],
   "source": [
    "# for identifying neurons overrepresented in one language\n",
    "\n",
    "data_path = 'data/split/tedtalks_test.tsv'\n",
    "dataset = TextClassificationDataset.from_tsv(data_path)\n",
    "\n",
    "da_acts, da_preacts, da_tokens, en_acts, en_preacts, en_tokens = get_biling_acts(dataset, model, tokenizer, stop_after=500)\n",
    "\n",
    "\n",
    "# for checking those neurons\n",
    "\n",
    "data_path = 'data/parallel/ELRC_2923.tmx'\n",
    "dataset = TextClassificationDataset.from_tmx(data_path, 'da', 'en')\n",
    "\n",
    "da_acts2, da_preacts2, da_tokens2, en_acts2, en_preacts2, en_tokens2 = get_biling_acts(dataset, model, tokenizer, stop_after=500)"
   ]
  },
  {
   "cell_type": "code",
   "execution_count": 98,
   "metadata": {},
   "outputs": [],
   "source": [
    "da_acts_tnsr = torch.stack(da_acts)"
   ]
  },
  {
   "cell_type": "code",
   "execution_count": 99,
   "metadata": {},
   "outputs": [
    {
     "data": {
      "text/plain": [
       "tensor(771)"
      ]
     },
     "execution_count": 99,
     "metadata": {},
     "output_type": "execute_result"
    }
   ],
   "source": [
    "sum(da_acts_tnsr.sum(dim=0) > 0)"
   ]
  },
  {
   "cell_type": "code",
   "execution_count": 76,
   "metadata": {},
   "outputs": [],
   "source": [
    "# getting overrepresented neurons\n",
    "\n",
    "avg_da = sum(da_acts) / len(da_acts)\n",
    "avg_en = sum(en_acts) / len(en_acts)\n",
    "\n",
    "max_diff_neuron = torch.argmax(avg_da - avg_en).item()"
   ]
  },
  {
   "cell_type": "code",
   "execution_count": 77,
   "metadata": {},
   "outputs": [
    {
     "name": "stderr",
     "output_type": "stream",
     "text": [
      "C:\\Users\\Bruger\\AppData\\Local\\Temp\\ipykernel_6900\\4195699595.py:75: UserWarning: FigureCanvasAgg is non-interactive, and thus cannot be shown\n",
      "  fig.show()\n"
     ]
    },
    {
     "data": {
      "image/png": "[encoded data removed]",
      "text/plain": [
       "<Figure size 800x400 with 1 Axes>"
      ]
     },
     "metadata": {},
     "output_type": "display_data"
    }
   ],
   "source": [
    "plot_difference_by_neuron(da_preacts, en_preacts, max_diff_neuron)"
   ]
  },
  {
   "cell_type": "code",
   "execution_count": 78,
   "metadata": {},
   "outputs": [
    {
     "name": "stderr",
     "output_type": "stream",
     "text": [
      "C:\\Users\\Bruger\\AppData\\Local\\Temp\\ipykernel_6900\\4195699595.py:75: UserWarning: FigureCanvasAgg is non-interactive, and thus cannot be shown\n",
      "  fig.show()\n"
     ]
    },
    {
     "data": {
      "image/png": "[encoded data removed]",
      "text/plain": [
       "<Figure size 800x400 with 1 Axes>"
      ]
     },
     "metadata": {},
     "output_type": "display_data"
    }
   ],
   "source": [
    "plot_difference_by_neuron(da_preacts2, en_preacts2, max_diff_neuron)"
   ]
  },
  {
   "cell_type": "code",
   "execution_count": 79,
   "metadata": {},
   "outputs": [
    {
     "name": "stdout",
     "output_type": "stream",
     "text": [
      "\n",
      "\u001b[48;2;255;0;0m mind\u001b[0m\u001b[48;2;255;0;0mre\u001b[0m\u001b[48;2;0;0;0m end\u001b[0m\u001b[48;2;255;0;0m to\u001b[0m\u001b[48;2;255;0;0m ug\u001b[0m\u001b[48;2;255;0;0mer\u001b[0m\u001b[48;2;255;0;0m efter\u001b[0m\u001b[48;2;255;0;0m,\u001b[0m\u001b[48;2;255;0;0m at\u001b[0m\u001b[48;2;255;0;0m Kommission\u001b[0m\u001b[48;2;255;0;0men\u001b[0m\u001b[48;2;255;0;0m fre\u001b[0m\u001b[48;2;255;0;0mms\u001b[0m\u001b[48;2;255;0;0matte\u001b[0m\u001b[48;2;255;0;0m sine\u001b[0m\u001b[48;2;255;0;0m for\u001b[0m\u001b[48;2;255;0;0msl\u001b[0m\u001b[48;2;0;0;0mag\u001b[0m\u001b[48;2;0;0;0m.\u001b[0m\u001b[48;2;0;0;0mMid\u001b[0m\n",
      "\u001b[48;2;255;0;0mler\u001b[0m\u001b[48;2;0;0;0mne\u001b[0m\u001b[48;2;255;0;0m vil\u001b[0m\u001b[48;2;255;0;0m bl\u001b[0m\u001b[48;2;0;0;0mive\u001b[0m\u001b[48;2;0;0;0m ret\u001b[0m\u001b[48;2;0;0;0mtet\u001b[0m\u001b[48;2;255;0;0m mod\u001b[0m\u001b[48;2;0;0;0m s\u001b[0m\u001b[48;2;255;0;0mund\u001b[0m\u001b[48;2;255;0;0mhed\u001b[0m\u001b[48;2;0;0;0mss\u001b[0m\u001b[48;2;255;0;0mystem\u001b[0m\u001b[48;2;255;0;0mer\u001b[0m\u001b[48;2;255;0;0m,\u001b[0m\u001b[48;2;0;0;0m SM\u001b[0m\u001b[48;2;0;0;0mV\u001b[0m\u001b[48;2;0;0;0m'\u001b[0m\u001b[48;2;255;0;0mer\u001b[0m\u001b[48;2;255;0;0m,\u001b[0m\n",
      "\u001b[48;2;0;0;0m arbe\u001b[0m\u001b[48;2;0;0;0mj\u001b[0m\u001b[48;2;0;0;0mds\u001b[0m\u001b[48;2;0;0;0mmark\u001b[0m\u001b[48;2;0;0;0meder\u001b[0m\u001b[48;2;255;0;0m og\u001b[0m\u001b[48;2;255;0;0m and\u001b[0m\u001b[48;2;255;0;0mre\u001b[0m\u001b[48;2;255;0;0m så\u001b[0m\u001b[48;2;0;0;0mrb\u001b[0m\u001b[48;2;255;0;0mare\u001b[0m\u001b[48;2;255;0;0m dele\u001b[0m\u001b[48;2;255;0;0m af\u001b[0m\u001b[48;2;255;0;0m EU\u001b[0m\u001b[48;2;0;0;0m-\u001b[0m\u001b[48;2;0;0;0mmed\u001b[0m\u001b[48;2;0;0;0mlems\u001b[0m\u001b[48;2;255;0;0mland\u001b[0m\u001b[48;2;255;0;0menes\u001b[0m\u001b[48;2;0;0;0m ø\u001b[0m\n",
      "\u001b[48;2;255;0;0mk\u001b[0m\u001b[48;2;255;0;0monom\u001b[0m\u001b[48;2;255;0;0mier\u001b[0m\u001b[48;2;0;0;0m.\u001b[0m\u001b[48;2;255;0;0mForm\u001b[0m\u001b[48;2;255;0;0må\u001b[0m\u001b[48;2;255;0;0mlet\u001b[0m\u001b[48;2;255;0;0m med\u001b[0m\u001b[48;2;255;0;0m disse\u001b[0m\u001b[48;2;255;0;0m for\u001b[0m\u001b[48;2;0;0;0man\u001b[0m\u001b[48;2;0;0;0mst\u001b[0m\u001b[48;2;0;0;0malt\u001b[0m\u001b[48;2;255;0;0mninger\u001b[0m\u001b[48;2;255;0;0m er\u001b[0m\u001b[48;2;255;0;0m at\u001b[0m\u001b[48;2;255;0;0m kan\u001b[0m\u001b[48;2;255;0;0mal\u001b[0m\u001b[48;2;255;0;0mise\u001b[0m\u001b[48;2;255;0;0mre\u001b[0m\n",
      "\u001b[48;2;255;0;0m 37\u001b[0m\u001b[48;2;255;0;0m m\u001b[0m\u001b[48;2;0;0;0mia\u001b[0m\u001b[48;2;0;0;0m.\u001b[0m\u001b[48;2;0;0;0m EUR\u001b[0m\u001b[48;2;255;0;0m fra\u001b[0m\u001b[48;2;0;0;0m e\u001b[0m\u001b[48;2;0;0;0mks\u001b[0m\u001b[48;2;0;0;0miste\u001b[0m\u001b[48;2;255;0;0mrende\u001b[0m\u001b[48;2;255;0;0m EU\u001b[0m\u001b[48;2;0;0;0m-\u001b[0m\u001b[48;2;0;0;0mmid\u001b[0m\u001b[48;2;0;0;0mler\u001b[0m\u001b[48;2;255;0;0m til\u001b[0m\u001b[48;2;255;0;0m de\u001b[0m\u001b[48;2;0;0;0m b\u001b[0m\u001b[48;2;255;0;0morge\u001b[0m\u001b[48;2;255;0;0mre\u001b[0m\u001b[48;2;255;0;0m,\u001b[0m\n",
      "\u001b[48;2;0;0;0m region\u001b[0m\u001b[48;2;255;0;0mer\u001b[0m\u001b[48;2;255;0;0m og\u001b[0m\u001b[48;2;255;0;0m land\u001b[0m\u001b[48;2;255;0;0me\u001b[0m\u001b[48;2;255;0;0m,\u001b[0m\u001b[48;2;255;0;0m der\u001b[0m\u001b[48;2;255;0;0m er\u001b[0m\u001b[48;2;255;0;0m hå\u001b[0m\u001b[48;2;0;0;0mrd\u001b[0m\u001b[48;2;0;0;0mest\u001b[0m\u001b[48;2;0;0;0m ram\u001b[0m\u001b[48;2;255;0;0mt\u001b[0m\u001b[48;2;255;0;0m af\u001b[0m\u001b[48;2;0;0;0m Coron\u001b[0m\u001b[48;2;0;0;0mavirus\u001b[0m\u001b[48;2;0;0;0m-\u001b[0m\u001b[48;2;0;0;0mp\u001b[0m\u001b[48;2;0;0;0mandem\u001b[0m\u001b[48;2;255;0;0mien\u001b[0m\n",
      "\u001b[48;2;255;0;0m så\u001b[0m\u001b[48;2;0;0;0m hurt\u001b[0m\u001b[48;2;255;0;0migt\u001b[0m\u001b[48;2;255;0;0m som\u001b[0m\u001b[48;2;255;0;0m mul\u001b[0m\u001b[48;2;255;0;0migt\u001b[0m\u001b[48;2;255;0;0m.\u001b[0m\u001b[48;2;255;0;0mS\u001b[0m\u001b[48;2;255;0;0mom\u001b[0m\u001b[48;2;255;0;0m en\u001b[0m\u001b[48;2;255;0;0m del\u001b[0m\u001b[48;2;0;0;0m af\u001b[0m\u001b[48;2;255;0;0m EU\u001b[0m\u001b[48;2;0;0;0m's\u001b[0m\u001b[48;2;0;0;0m f\u001b[0m\u001b[48;2;0;0;0mæ\u001b[0m\u001b[48;2;0;0;0mll\u001b[0m\u001b[48;2;0;0;0mes\u001b[0m\u001b[48;2;0;0;0m s\u001b[0m\u001b[48;2;0;0;0mvar\u001b[0m\n",
      "\u001b[48;2;255;0;0m mod\u001b[0m\u001b[48;2;0;0;0m COVID\u001b[0m\u001b[48;2;0;0;0m-\u001b[0m\u001b[48;2;0;0;0m19\u001b[0m\u001b[48;2;0;0;0m-\u001b[0m\u001b[48;2;0;0;0mud\u001b[0m\u001b[48;2;0;0;0mbr\u001b[0m\u001b[48;2;0;0;0mud\u001b[0m\u001b[48;2;0;0;0mdet\u001b[0m\u001b[48;2;0;0;0m ved\u001b[0m\u001b[48;2;255;0;0mt\u001b[0m\u001b[48;2;0;0;0mog\u001b[0m\u001b[48;2;0;0;0m med\u001b[0m\u001b[48;2;255;0;0mlem\u001b[0m\u001b[48;2;0;0;0mmer\u001b[0m\u001b[48;2;0;0;0mne\u001b[0m\u001b[48;2;0;0;0m n\u001b[0m\u001b[48;2;255;0;0mæ\u001b[0m\u001b[48;2;255;0;0msten\u001b[0m\u001b[48;2;255;0;0m en\u001b[0m\n",
      "\u001b[48;2;0;0;0mstem\u001b[0m\u001b[48;2;255;0;0mm\u001b[0m\u001b[48;2;255;0;0migt\u001b[0m\u001b[48;2;0;0;0m tre\u001b[0m\u001b[48;2;255;0;0m haste\u001b[0m\u001b[48;2;0;0;0mfors\u001b[0m\u001b[48;2;0;0;0mlag\u001b[0m\u001b[48;2;255;0;0m på\u001b[0m\u001b[48;2;255;0;0m en\u001b[0m\u001b[48;2;255;0;0m ek\u001b[0m\u001b[48;2;255;0;0mstra\u001b[0m\u001b[48;2;0;0;0mordin\u001b[0m\u001b[48;2;255;0;0mær\u001b[0m\u001b[48;2;0;0;0m pl\u001b[0m\u001b[48;2;255;0;0men\u001b[0m\u001b[48;2;0;0;0marf\u001b[0m\u001b[48;2;0;0;0mors\u001b[0m\u001b[48;2;0;0;0mam\u001b[0m\u001b[48;2;0;0;0mling\u001b[0m\u001b[48;2;0;0;0m tors\u001b[0m\n",
      "\u001b[48;2;0;0;0mdag\u001b[0m\u001b[48;2;255;0;0m.\u001b[0m\u001b[48;2;255;0;0mD\u001b[0m\u001b[48;2;0;0;0mette\u001b[0m\u001b[48;2;255;0;0m vil\u001b[0m\u001b[48;2;255;0;0m for\u001b[0m\u001b[48;2;0;0;0mhind\u001b[0m\u001b[48;2;0;0;0mre\u001b[0m\u001b[48;2;0;0;0m lu\u001b[0m\u001b[48;2;0;0;0mft\u001b[0m\u001b[48;2;0;0;0mf\u001b[0m\u001b[48;2;0;0;0mart\u001b[0m\u001b[48;2;0;0;0mss\u001b[0m\u001b[48;2;0;0;0mels\u001b[0m\u001b[48;2;0;0;0mk\u001b[0m\u001b[48;2;0;0;0maber\u001b[0m\u001b[48;2;0;0;0mne\u001b[0m\u001b[48;2;0;0;0m i\u001b[0m\u001b[48;2;0;0;0m at\u001b[0m\u001b[48;2;0;0;0m fly\u001b[0m\n",
      "\u001b[48;2;0;0;0mve\u001b[0m\u001b[48;2;0;0;0m med\u001b[0m\u001b[48;2;0;0;0m tom\u001b[0m\u001b[48;2;0;0;0mme\u001b[0m\u001b[48;2;0;0;0m fly\u001b[0m\u001b[48;2;0;0;0m under\u001b[0m\u001b[48;2;0;0;0m pand\u001b[0m\u001b[48;2;255;0;0mem\u001b[0m\u001b[48;2;255;0;0mien\u001b[0m\u001b[48;2;255;0;0m.\u001b[0m\u001b[48;2;255;0;0mSt\u001b[0m\u001b[48;2;255;0;0mø\u001b[0m\u001b[48;2;255;0;0mtte\u001b[0m\u001b[48;2;0;0;0mbe\u001b[0m\u001b[48;2;0;0;0mrett\u001b[0m\u001b[48;2;0;0;0mig\u001b[0m\u001b[48;2;0;0;0mede\u001b[0m\u001b[48;2;0;0;0m tilt\u001b[0m\u001b[48;2;0;0;0mag\u001b[0m\u001b[48;2;255;0;0m under\u001b[0m\n",
      "\u001b[48;2;0;0;0m fond\u001b[0m\u001b[48;2;0;0;0men\u001b[0m\u001b[48;2;255;0;0m,\u001b[0m\u001b[48;2;255;0;0m vil\u001b[0m\u001b[48;2;255;0;0m bl\u001b[0m\u001b[48;2;255;0;0mive\u001b[0m\u001b[48;2;255;0;0m ud\u001b[0m\u001b[48;2;0;0;0mvid\u001b[0m\u001b[48;2;0;0;0met\u001b[0m\u001b[48;2;255;0;0m til\u001b[0m\u001b[48;2;255;0;0m også\u001b[0m\u001b[48;2;255;0;0m at\u001b[0m\u001b[48;2;255;0;0m om\u001b[0m\u001b[48;2;0;0;0mfat\u001b[0m\u001b[48;2;255;0;0mte\u001b[0m\u001b[48;2;0;0;0m st\u001b[0m\u001b[48;2;255;0;0mø\u001b[0m\u001b[48;2;255;0;0mtte\u001b[0m\u001b[48;2;255;0;0m i\u001b[0m\u001b[48;2;255;0;0m for\u001b[0m\n",
      "\u001b[48;2;0;0;0mbind\u001b[0m\u001b[48;2;255;0;0melse\u001b[0m\u001b[48;2;255;0;0m med\u001b[0m\u001b[48;2;0;0;0m st\u001b[0m\u001b[48;2;0;0;0mør\u001b[0m\u001b[48;2;255;0;0mre\u001b[0m\u001b[48;2;0;0;0m fol\u001b[0m\u001b[48;2;255;0;0mkes\u001b[0m\u001b[48;2;255;0;0mund\u001b[0m\u001b[48;2;255;0;0mhed\u001b[0m\u001b[48;2;0;0;0msk\u001b[0m\u001b[48;2;0;0;0mris\u001b[0m\u001b[48;2;255;0;0mer\u001b[0m\u001b[48;2;255;0;0m,\u001b[0m\u001b[48;2;0;0;0m her\u001b[0m\u001b[48;2;255;0;0munder\u001b[0m\u001b[48;2;0;0;0m l\u001b[0m\u001b[48;2;0;0;0mæ\u001b[0m\u001b[48;2;255;0;0mge\u001b[0m\u001b[48;2;0;0;0mh\u001b[0m\n",
      "\u001b[48;2;0;0;0mj\u001b[0m\u001b[48;2;0;0;0mæ\u001b[0m\u001b[48;2;0;0;0mlp\u001b[0m\u001b[48;2;255;0;0m,\u001b[0m\u001b[48;2;255;0;0m sam\u001b[0m\u001b[48;2;255;0;0mt\u001b[0m\u001b[48;2;255;0;0m for\u001b[0m\u001b[48;2;0;0;0man\u001b[0m\u001b[48;2;0;0;0mst\u001b[0m\u001b[48;2;0;0;0malt\u001b[0m\u001b[48;2;255;0;0mninger\u001b[0m\u001b[48;2;255;0;0m til\u001b[0m\u001b[48;2;0;0;0m fore\u001b[0m\u001b[48;2;255;0;0mby\u001b[0m\u001b[48;2;0;0;0mgg\u001b[0m\u001b[48;2;0;0;0melse\u001b[0m\u001b[48;2;255;0;0m,\u001b[0m\u001b[48;2;255;0;0m over\u001b[0m\u001b[48;2;0;0;0mv\u001b[0m\u001b[48;2;255;0;0må\u001b[0m\n",
      "\u001b[48;2;0;0;0mg\u001b[0m\u001b[48;2;0;0;0mning\u001b[0m\u001b[48;2;255;0;0m eller\u001b[0m\u001b[48;2;0;0;0m bek\u001b[0m\u001b[48;2;0;0;0mæ\u001b[0m\u001b[48;2;0;0;0mmp\u001b[0m\u001b[48;2;255;0;0melse\u001b[0m\u001b[48;2;255;0;0m af\u001b[0m\u001b[48;2;255;0;0m sp\u001b[0m\u001b[48;2;0;0;0mred\u001b[0m\u001b[48;2;255;0;0mning\u001b[0m\u001b[48;2;255;0;0m af\u001b[0m\u001b[48;2;255;0;0m sy\u001b[0m\u001b[48;2;255;0;0mg\u001b[0m\u001b[48;2;255;0;0mdom\u001b[0m\u001b[48;2;255;0;0mme\u001b[0m\u001b[48;2;255;0;0m.\u001b[0m\u001b[48;2;255;0;0mU\u001b[0m\u001b[48;2;255;0;0mdv\u001b[0m\u001b[48;2;0;0;0midel\u001b[0m\n",
      "\u001b[48;2;255;0;0mse\u001b[0m\u001b[48;2;0;0;0m af\u001b[0m\u001b[48;2;255;0;0m EU\u001b[0m\u001b[48;2;0;0;0m's\u001b[0m\u001b[48;2;0;0;0m Solid\u001b[0m\u001b[48;2;0;0;0mar\u001b[0m\u001b[48;2;0;0;0mit\u001b[0m\u001b[48;2;0;0;0mets\u001b[0m\u001b[48;2;0;0;0mf\u001b[0m\u001b[48;2;0;0;0mond\u001b[0m\u001b[48;2;0;0;0m til\u001b[0m\u001b[48;2;0;0;0m at\u001b[0m\u001b[48;2;255;0;0m om\u001b[0m\u001b[48;2;0;0;0mfat\u001b[0m\u001b[48;2;0;0;0mte\u001b[0m\u001b[48;2;0;0;0m kr\u001b[0m\u001b[48;2;0;0;0mises\u001b[0m\u001b[48;2;0;0;0mit\u001b[0m\u001b[48;2;0;0;0muation\u001b[0m\u001b[48;2;0;0;0mer\u001b[0m\n",
      "\u001b[48;2;255;0;0m på\u001b[0m\u001b[48;2;0;0;0m fol\u001b[0m\u001b[48;2;0;0;0mkes\u001b[0m\u001b[48;2;0;0;0mund\u001b[0m\u001b[48;2;255;0;0mhed\u001b[0m\u001b[48;2;255;0;0msom\u001b[0m\u001b[48;2;0;0;0mrå\u001b[0m\u001b[48;2;255;0;0mdet\u001b[0m\u001b[48;2;255;0;0m.\u001b[0m\u001b[48;2;255;0;0mDe\u001b[0m\u001b[48;2;255;0;0m ved\u001b[0m\u001b[48;2;255;0;0mtag\u001b[0m\u001b[48;2;255;0;0mne\u001b[0m\u001b[48;2;255;0;0m for\u001b[0m\u001b[48;2;255;0;0man\u001b[0m\u001b[48;2;255;0;0mst\u001b[0m\u001b[48;2;0;0;0malt\u001b[0m\u001b[48;2;255;0;0mninger\u001b[0m\u001b[48;2;255;0;0m tr\u001b[0m\u001b[48;2;255;0;0mæ\u001b[0m\n",
      "\u001b[48;2;255;0;0mder\u001b[0m\u001b[48;2;255;0;0m i\u001b[0m\u001b[48;2;255;0;0m k\u001b[0m\u001b[48;2;255;0;0mraft\u001b[0m\u001b[48;2;255;0;0m,\u001b[0m\u001b[48;2;0;0;0m n\u001b[0m\u001b[48;2;255;0;0mår\u001b[0m\u001b[48;2;255;0;0m de\u001b[0m\u001b[48;2;255;0;0m er\u001b[0m\u001b[48;2;0;0;0m off\u001b[0m\u001b[48;2;255;0;0ment\u001b[0m\u001b[48;2;0;0;0mlig\u001b[0m\u001b[48;2;0;0;0mg\u001b[0m\u001b[48;2;0;0;0mj\u001b[0m\u001b[48;2;0;0;0mort\u001b[0m\u001b[48;2;255;0;0m i\u001b[0m\u001b[48;2;255;0;0m Den\u001b[0m\u001b[48;2;0;0;0m Europ\u001b[0m\u001b[48;2;0;0;0mæ\u001b[0m\u001b[48;2;255;0;0miske\u001b[0m\n",
      "\u001b[48;2;255;0;0m Un\u001b[0m\u001b[48;2;255;0;0mions\u001b[0m\u001b[48;2;0;0;0m T\u001b[0m\u001b[48;2;0;0;0mid\u001b[0m\u001b[48;2;255;0;0mende\u001b[0m\u001b[48;2;255;0;0m,\u001b[0m\u001b[48;2;255;0;0m h\u001b[0m\u001b[48;2;255;0;0mvil\u001b[0m\u001b[48;2;255;0;0mket\u001b[0m\u001b[48;2;255;0;0m for\u001b[0m\u001b[48;2;255;0;0mvent\u001b[0m\u001b[48;2;255;0;0mes\u001b[0m\u001b[48;2;255;0;0m at\u001b[0m\u001b[48;2;0;0;0m ske\u001b[0m\u001b[48;2;255;0;0m i\u001b[0m\u001b[48;2;255;0;0m de\u001b[0m\u001b[48;2;255;0;0m kom\u001b[0m\u001b[48;2;255;0;0mm\u001b[0m\u001b[48;2;255;0;0mende\u001b[0m\u001b[48;2;255;0;0m d\u001b[0m\n",
      "\u001b[48;2;255;0;0mage\u001b[0m\u001b[48;2;255;0;0m.\u001b[0m\u001b[48;2;0;0;0mMid\u001b[0m\u001b[48;2;0;0;0ml\u001b[0m\u001b[48;2;0;0;0mert\u001b[0m\u001b[48;2;0;0;0mid\u001b[0m\u001b[48;2;0;0;0mig\u001b[0m\u001b[48;2;0;0;0m suspension\u001b[0m\u001b[48;2;0;0;0m af\u001b[0m\u001b[48;2;0;0;0m EU\u001b[0m\u001b[48;2;0;0;0m's\u001b[0m\u001b[48;2;0;0;0m reg\u001b[0m\u001b[48;2;0;0;0mler\u001b[0m\u001b[48;2;0;0;0m om\u001b[0m\u001b[48;2;0;0;0m af\u001b[0m\u001b[48;2;0;0;0mgang\u001b[0m\u001b[48;2;0;0;0ms\u001b[0m\u001b[48;2;0;0;0m-\u001b[0m\u001b[48;2;0;0;0m og\u001b[0m\u001b[48;2;255;0;0m ank\u001b[0m\n",
      "\n",
      "\u001b[48;2;0;0;0m available\u001b[0m\u001b[48;2;0;0;0m EU\u001b[0m\u001b[48;2;0;0;0m funds\u001b[0m\u001b[48;2;0;0;0m as\u001b[0m\u001b[48;2;0;0;0m soon\u001b[0m\u001b[48;2;0;0;0m as\u001b[0m\u001b[48;2;0;0;0m possible\u001b[0m\u001b[48;2;0;0;0m to\u001b[0m\u001b[48;2;0;0;0m citizens\u001b[0m\u001b[48;2;0;0;0m,\u001b[0m\u001b[48;2;0;0;0m regions\u001b[0m\u001b[48;2;0;0;0m and\u001b[0m\u001b[48;2;0;0;0m countries\u001b[0m\u001b[48;2;0;0;0m hit\u001b[0m\u001b[48;2;255;0;0m the\u001b[0m\u001b[48;2;0;0;0m hardest\u001b[0m\u001b[48;2;0;0;0m by\u001b[0m\u001b[48;2;0;0;0m the\u001b[0m\u001b[48;2;0;0;0m Coron\u001b[0m\u001b[48;2;0;0;0mavirus\u001b[0m\n",
      "\u001b[48;2;0;0;0m pandemic\u001b[0m\u001b[48;2;0;0;0m.\u001b[0m\u001b[48;2;255;0;0mAs\u001b[0m\u001b[48;2;255;0;0m part\u001b[0m\u001b[48;2;0;0;0m of\u001b[0m\u001b[48;2;255;0;0m the\u001b[0m\u001b[48;2;0;0;0m EU\u001b[0m\u001b[48;2;0;0;0m's\u001b[0m\u001b[48;2;0;0;0m joint\u001b[0m\u001b[48;2;0;0;0m response\u001b[0m\u001b[48;2;0;0;0m to\u001b[0m\u001b[48;2;0;0;0m the\u001b[0m\u001b[48;2;0;0;0m COVID\u001b[0m\u001b[48;2;0;0;0m-\u001b[0m\u001b[48;2;0;0;0m19\u001b[0m\u001b[48;2;0;0;0m outbreak\u001b[0m\u001b[48;2;0;0;0m,\u001b[0m\u001b[48;2;0;0;0m ME\u001b[0m\u001b[48;2;0;0;0mPs\u001b[0m\u001b[48;2;0;0;0m almost\u001b[0m\n",
      "\u001b[48;2;0;0;0m unanimously\u001b[0m\u001b[48;2;0;0;0m adopted\u001b[0m\u001b[48;2;0;0;0m three\u001b[0m\u001b[48;2;0;0;0m urgent\u001b[0m\u001b[48;2;0;0;0m proposals\u001b[0m\u001b[48;2;0;0;0m in\u001b[0m\u001b[48;2;0;0;0m an\u001b[0m\u001b[48;2;0;0;0m extraordinary\u001b[0m\u001b[48;2;0;0;0m pl\u001b[0m\u001b[48;2;0;0;0menary\u001b[0m\u001b[48;2;0;0;0m session\u001b[0m\u001b[48;2;0;0;0m,\u001b[0m\u001b[48;2;0;0;0m on\u001b[0m\u001b[48;2;0;0;0m Thursday\u001b[0m\u001b[48;2;0;0;0m.\u001b[0m\u001b[48;2;255;0;0mThis\u001b[0m\u001b[48;2;255;0;0m will\u001b[0m\u001b[48;2;0;0;0m stop\u001b[0m\u001b[48;2;0;0;0m air\u001b[0m\u001b[48;2;0;0;0m carriers\u001b[0m\n",
      "\u001b[48;2;0;0;0m from\u001b[0m\u001b[48;2;0;0;0m operating\u001b[0m\u001b[48;2;0;0;0m empty\u001b[0m\u001b[48;2;0;0;0m flights\u001b[0m\u001b[48;2;0;0;0m during\u001b[0m\u001b[48;2;255;0;0m the\u001b[0m\u001b[48;2;0;0;0m pandemic\u001b[0m\u001b[48;2;0;0;0m.\u001b[0m\u001b[48;2;255;0;0mOper\u001b[0m\u001b[48;2;255;0;0mations\u001b[0m\u001b[48;2;255;0;0m eligible\u001b[0m\u001b[48;2;255;0;0m under\u001b[0m\u001b[48;2;255;0;0m the\u001b[0m\u001b[48;2;0;0;0m Fund\u001b[0m\u001b[48;2;0;0;0m will\u001b[0m\u001b[48;2;0;0;0m be\u001b[0m\u001b[48;2;0;0;0m extended\u001b[0m\u001b[48;2;0;0;0m to\u001b[0m\u001b[48;2;0;0;0m include\u001b[0m\u001b[48;2;0;0;0m support\u001b[0m\n",
      "\u001b[48;2;0;0;0m in\u001b[0m\u001b[48;2;0;0;0m a\u001b[0m\u001b[48;2;0;0;0m major\u001b[0m\u001b[48;2;0;0;0m public\u001b[0m\u001b[48;2;0;0;0m health\u001b[0m\u001b[48;2;0;0;0m emergency\u001b[0m\u001b[48;2;0;0;0m,\u001b[0m\u001b[48;2;0;0;0m including\u001b[0m\u001b[48;2;0;0;0m medical\u001b[0m\u001b[48;2;0;0;0m assistance\u001b[0m\u001b[48;2;0;0;0m,\u001b[0m\u001b[48;2;0;0;0m as\u001b[0m\u001b[48;2;0;0;0m well\u001b[0m\u001b[48;2;0;0;0m as\u001b[0m\u001b[48;2;0;0;0m measures\u001b[0m\u001b[48;2;0;0;0m to\u001b[0m\u001b[48;2;0;0;0m prevent\u001b[0m\u001b[48;2;0;0;0m,\u001b[0m\u001b[48;2;0;0;0m monitor\u001b[0m\u001b[48;2;0;0;0m or\u001b[0m\n",
      "\u001b[48;2;0;0;0m control\u001b[0m\u001b[48;2;0;0;0m the\u001b[0m\u001b[48;2;0;0;0m spread\u001b[0m\u001b[48;2;0;0;0m of\u001b[0m\u001b[48;2;0;0;0m diseases\u001b[0m\u001b[48;2;0;0;0m.\u001b[0m\u001b[48;2;255;0;0mThe\u001b[0m\u001b[48;2;0;0;0m extension\u001b[0m\u001b[48;2;0;0;0m of\u001b[0m\u001b[48;2;255;0;0m the\u001b[0m\u001b[48;2;0;0;0m EU\u001b[0m\u001b[48;2;0;0;0m Solid\u001b[0m\u001b[48;2;0;0;0marity\u001b[0m\u001b[48;2;0;0;0m Fund\u001b[0m\u001b[48;2;0;0;0m to\u001b[0m\u001b[48;2;0;0;0m cover\u001b[0m\u001b[48;2;0;0;0m public\u001b[0m\u001b[48;2;0;0;0m health\u001b[0m\u001b[48;2;0;0;0m emergencies\u001b[0m\u001b[48;2;0;0;0m.\u001b[0m\n",
      "\u001b[48;2;255;0;0mThe\u001b[0m\u001b[48;2;0;0;0m adopted\u001b[0m\u001b[48;2;0;0;0m measures\u001b[0m\u001b[48;2;0;0;0m will\u001b[0m\u001b[48;2;0;0;0m enter\u001b[0m\u001b[48;2;255;0;0m into\u001b[0m\u001b[48;2;0;0;0m force\u001b[0m\u001b[48;2;0;0;0m once\u001b[0m\u001b[48;2;0;0;0m published\u001b[0m\u001b[48;2;0;0;0m in\u001b[0m\u001b[48;2;255;0;0m the\u001b[0m\u001b[48;2;0;0;0m Official\u001b[0m\u001b[48;2;0;0;0m Journal\u001b[0m\u001b[48;2;0;0;0m of\u001b[0m\u001b[48;2;0;0;0m the\u001b[0m\u001b[48;2;0;0;0m European\u001b[0m\u001b[48;2;0;0;0m Union\u001b[0m\u001b[48;2;0;0;0m in\u001b[0m\u001b[48;2;0;0;0m the\u001b[0m\u001b[48;2;0;0;0m coming\u001b[0m\n",
      "\u001b[48;2;0;0;0m days\u001b[0m\u001b[48;2;0;0;0m.\u001b[0m\u001b[48;2;255;0;0mTem\u001b[0m\u001b[48;2;255;0;0mpor\u001b[0m\u001b[48;2;255;0;0marily\u001b[0m\u001b[48;2;0;0;0m susp\u001b[0m\u001b[48;2;255;0;0mending\u001b[0m\u001b[48;2;255;0;0m EU\u001b[0m\u001b[48;2;0;0;0m rules\u001b[0m\u001b[48;2;0;0;0m on\u001b[0m\u001b[48;2;0;0;0m airport\u001b[0m\u001b[48;2;0;0;0m slots\u001b[0m\u001b[48;2;0;0;0m .\u001b[0m\u001b[48;2;255;0;0mThe\u001b[0m\u001b[48;2;0;0;0m temporary\u001b[0m\u001b[48;2;0;0;0m suspension\u001b[0m\u001b[48;2;0;0;0m means\u001b[0m\u001b[48;2;255;0;0m that\u001b[0m\u001b[48;2;0;0;0m airlines\u001b[0m\u001b[48;2;0;0;0m are\u001b[0m\n",
      "\u001b[48;2;0;0;0m not\u001b[0m\u001b[48;2;0;0;0m obliged\u001b[0m\u001b[48;2;0;0;0m to\u001b[0m\u001b[48;2;0;0;0m use\u001b[0m\u001b[48;2;0;0;0m their\u001b[0m\u001b[48;2;0;0;0m planned\u001b[0m\u001b[48;2;0;0;0m take\u001b[0m\u001b[48;2;0;0;0m-\u001b[0m\u001b[48;2;0;0;0moff\u001b[0m\u001b[48;2;0;0;0m and\u001b[0m\u001b[48;2;0;0;0m landing\u001b[0m\u001b[48;2;0;0;0m slots\u001b[0m\u001b[48;2;0;0;0m to\u001b[0m\u001b[48;2;0;0;0m keep\u001b[0m\u001b[48;2;0;0;0m them\u001b[0m\u001b[48;2;0;0;0m in\u001b[0m\u001b[48;2;255;0;0m the\u001b[0m\u001b[48;2;0;0;0m next\u001b[0m\u001b[48;2;0;0;0m corresponding\u001b[0m\u001b[48;2;0;0;0m season\u001b[0m\n",
      "\u001b[48;2;0;0;0m.\u001b[0m\u001b[48;2;255;0;0mThe\u001b[0m\u001b[48;2;0;0;0m '\u001b[0m\u001b[48;2;0;0;0muse\u001b[0m\u001b[48;2;0;0;0m it\u001b[0m\u001b[48;2;0;0;0m or\u001b[0m\u001b[48;2;0;0;0m lose\u001b[0m\u001b[48;2;0;0;0m it\u001b[0m\u001b[48;2;255;0;0m'\u001b[0m\u001b[48;2;0;0;0m rule\u001b[0m\u001b[48;2;0;0;0m will\u001b[0m\u001b[48;2;0;0;0m be\u001b[0m\u001b[48;2;255;0;0m waived\u001b[0m\u001b[48;2;255;0;0m for\u001b[0m\u001b[48;2;255;0;0m the\u001b[0m\u001b[48;2;0;0;0m whole\u001b[0m\u001b[48;2;0;0;0m summer\u001b[0m\u001b[48;2;0;0;0m season\u001b[0m\u001b[48;2;0;0;0m,\u001b[0m\u001b[48;2;0;0;0m from\u001b[0m\n",
      "\u001b[48;2;0;0;0m 29\u001b[0m\u001b[48;2;0;0;0m March\u001b[0m\u001b[48;2;0;0;0m until\u001b[0m\u001b[48;2;0;0;0m 24\u001b[0m\u001b[48;2;0;0;0m October\u001b[0m\u001b[48;2;0;0;0m 2020\u001b[0m\u001b[48;2;0;0;0m.\u001b[0m\u001b[48;2;255;0;0mC\u001b[0m\u001b[48;2;0;0;0mOVID\u001b[0m\u001b[48;2;0;0;0m-\u001b[0m\u001b[48;2;0;0;0m19\u001b[0m\u001b[48;2;0;0;0m:\u001b[0m\u001b[48;2;255;0;0m final\u001b[0m\u001b[48;2;0;0;0m vote\u001b[0m\u001b[48;2;0;0;0m in\u001b[0m\u001b[48;2;0;0;0m EP\u001b[0m\u001b[48;2;0;0;0m pl\u001b[0m\u001b[48;2;0;0;0menary\u001b[0m\u001b[48;2;0;0;0m to\u001b[0m\u001b[48;2;0;0;0m approve\u001b[0m\n",
      "\u001b[48;2;0;0;0m crucial\u001b[0m\u001b[48;2;0;0;0m EU\u001b[0m\u001b[48;2;0;0;0m support\u001b[0m\u001b[48;2;0;0;0m measures\u001b[0m\u001b[48;2;0;0;0m -\u001b[0m\u001b[48;2;0;0;0m Â©\u001b[0m\u001b[48;2;0;0;0m EP\u001b[0m\u001b[48;2;255;0;0mThe\u001b[0m\u001b[48;2;0;0;0m proposal\u001b[0m\u001b[48;2;0;0;0m was\u001b[0m\u001b[48;2;0;0;0m adopted\u001b[0m\u001b[48;2;0;0;0m with\u001b[0m\u001b[48;2;0;0;0m 6\u001b[0m\u001b[48;2;0;0;0m71\u001b[0m\u001b[48;2;0;0;0m votes\u001b[0m\u001b[48;2;0;0;0m in\u001b[0m\u001b[48;2;0;0;0m favour\u001b[0m\u001b[48;2;0;0;0m,\u001b[0m\u001b[48;2;0;0;0m 3\u001b[0m\u001b[48;2;0;0;0m against\u001b[0m\n",
      "\u001b[48;2;0;0;0m and\u001b[0m\u001b[48;2;0;0;0m 14\u001b[0m\u001b[48;2;0;0;0m abst\u001b[0m\u001b[48;2;0;0;0ment\u001b[0m\u001b[48;2;0;0;0mions\u001b[0m\u001b[48;2;0;0;0m.\u001b[0m\u001b[48;2;255;0;0mThe\u001b[0m\u001b[48;2;0;0;0m proposal\u001b[0m\u001b[48;2;0;0;0m was\u001b[0m\u001b[48;2;0;0;0m adopted\u001b[0m\u001b[48;2;0;0;0m with\u001b[0m\u001b[48;2;0;0;0m 6\u001b[0m\u001b[48;2;0;0;0m83\u001b[0m\u001b[48;2;0;0;0m votes\u001b[0m\u001b[48;2;0;0;0m in\u001b[0m\u001b[48;2;0;0;0m favour\u001b[0m\u001b[48;2;0;0;0m,\u001b[0m\u001b[48;2;0;0;0m 1\u001b[0m\u001b[48;2;0;0;0m against\u001b[0m\u001b[48;2;0;0;0m and\u001b[0m\n",
      "\u001b[48;2;0;0;0m 4\u001b[0m\u001b[48;2;0;0;0m abst\u001b[0m\u001b[48;2;0;0;0ment\u001b[0m\u001b[48;2;0;0;0mions\u001b[0m\u001b[48;2;0;0;0m.\u001b[0m\u001b[48;2;255;0;0mThe\u001b[0m\u001b[48;2;0;0;0m proposal\u001b[0m\u001b[48;2;0;0;0m was\u001b[0m\u001b[48;2;0;0;0m adopted\u001b[0m\u001b[48;2;0;0;0m with\u001b[0m\u001b[48;2;0;0;0m 6\u001b[0m\u001b[48;2;0;0;0m86\u001b[0m\u001b[48;2;0;0;0m votes\u001b[0m\u001b[48;2;0;0;0m in\u001b[0m\u001b[48;2;0;0;0m favour\u001b[0m\u001b[48;2;0;0;0m,\u001b[0m\u001b[48;2;0;0;0m no\u001b[0m\u001b[48;2;0;0;0m votes\u001b[0m\u001b[48;2;0;0;0m against\u001b[0m\u001b[48;2;0;0;0m and\u001b[0m\n",
      "\u001b[48;2;0;0;0m 2\u001b[0m\u001b[48;2;0;0;0m abst\u001b[0m\u001b[48;2;0;0;0ment\u001b[0m\u001b[48;2;0;0;0mions\u001b[0m\u001b[48;2;255;0;0m.\u001b[0m\u001b[48;2;255;0;0mdevelop\u001b[0m\u001b[48;2;255;0;0ming\u001b[0m\u001b[48;2;255;0;0m new\u001b[0m\u001b[48;2;0;0;0m vaccines\u001b[0m\u001b[48;2;255;0;0mProgram\u001b[0m\u001b[48;2;0;0;0mmes\u001b[0m\u001b[48;2;255;0;0m already\u001b[0m\u001b[48;2;0;0;0m in\u001b[0m\u001b[48;2;0;0;0m place\u001b[0m\u001b[48;2;255;0;0mThe\u001b[0m\u001b[48;2;0;0;0m 140\u001b[0m\u001b[48;2;0;0;0m research\u001b[0m\u001b[48;2;0;0;0m teams\u001b[0m\u001b[48;2;255;0;0m from\u001b[0m\u001b[48;2;0;0;0m across\u001b[0m\n",
      "\u001b[48;2;255;0;0m the\u001b[0m\u001b[48;2;0;0;0m EU\u001b[0m\u001b[48;2;0;0;0m and\u001b[0m\u001b[48;2;0;0;0m beyond\u001b[0m\u001b[48;2;0;0;0m that\u001b[0m\u001b[48;2;0;0;0m are\u001b[0m\u001b[48;2;0;0;0m participating\u001b[0m\u001b[48;2;0;0;0m in\u001b[0m\u001b[48;2;0;0;0m these\u001b[0m\u001b[48;2;0;0;0m projects\u001b[0m\u001b[48;2;0;0;0m are\u001b[0m\u001b[48;2;0;0;0m working\u001b[0m\u001b[48;2;0;0;0m on\u001b[0m\u001b[48;2;0;0;0m:\u001b[0m\u001b[48;2;255;0;0mT\u001b[0m\u001b[48;2;0;0;0mack\u001b[0m\u001b[48;2;255;0;0mling\u001b[0m\u001b[48;2;255;0;0m the\u001b[0m\u001b[48;2;0;0;0m current\u001b[0m\u001b[48;2;0;0;0m outbreak\u001b[0m\n",
      "\u001b[48;2;255;0;0mEU\u001b[0m\u001b[48;2;255;0;0m funding\u001b[0m\u001b[48;2;0;0;0m for\u001b[0m\u001b[48;2;0;0;0m Cov\u001b[0m\u001b[48;2;0;0;0mid\u001b[0m\u001b[48;2;0;0;0m-\u001b[0m\u001b[48;2;0;0;0m19\u001b[0m\u001b[48;2;0;0;0m research\u001b[0m\u001b[48;2;255;0;0mThe\u001b[0m\u001b[48;2;0;0;0m European\u001b[0m\u001b[48;2;0;0;0m Commission\u001b[0m\u001b[48;2;0;0;0m has\u001b[0m\u001b[48;2;0;0;0m allocated\u001b[0m\u001b[48;2;0;0;0m âĤ¬\u001b[0m\u001b[48;2;0;0;0m48\u001b[0m\u001b[48;2;0;0;0m.\u001b[0m\u001b[48;2;0;0;0m5\u001b[0m\u001b[48;2;0;0;0m million\u001b[0m\u001b[48;2;0;0;0m tor\u001b[0m\u001b[48;2;0;0;0m 18\u001b[0m\n",
      "\u001b[48;2;0;0;0m research\u001b[0m\u001b[48;2;0;0;0m projects\u001b[0m\u001b[48;2;0;0;0m within\u001b[0m\u001b[48;2;0;0;0m Horizon\u001b[0m\u001b[48;2;0;0;0m 2020\u001b[0m\u001b[48;2;0;0;0m ,\u001b[0m\u001b[48;2;255;0;0m the\u001b[0m\u001b[48;2;0;0;0m EU\u001b[0m\u001b[48;2;0;0;0m's\u001b[0m\u001b[48;2;0;0;0m framework\u001b[0m\u001b[48;2;0;0;0m programme\u001b[0m\u001b[48;2;0;0;0m for\u001b[0m\u001b[48;2;0;0;0m funding\u001b[0m\u001b[48;2;0;0;0m research\u001b[0m\u001b[48;2;0;0;0m.\u001b[0m\u001b[48;2;255;0;0mA\u001b[0m\u001b[48;2;255;0;0m âĤ¬\u001b[0m\u001b[48;2;0;0;0m90\u001b[0m\u001b[48;2;0;0;0m million\u001b[0m\u001b[48;2;0;0;0m total\u001b[0m\n",
      "\u001b[48;2;0;0;0m investment\u001b[0m\u001b[48;2;0;0;0m is\u001b[0m\u001b[48;2;0;0;0m expected\u001b[0m\u001b[48;2;0;0;0m:\u001b[0m\u001b[48;2;0;0;0m up\u001b[0m\u001b[48;2;0;0;0m to\u001b[0m\u001b[48;2;0;0;0m half\u001b[0m\u001b[48;2;0;0;0m coming\u001b[0m\u001b[48;2;0;0;0m from\u001b[0m\u001b[48;2;255;0;0m the\u001b[0m\u001b[48;2;0;0;0m EU\u001b[0m\u001b[48;2;0;0;0m budget\u001b[0m\u001b[48;2;0;0;0m and\u001b[0m\u001b[48;2;0;0;0m the\u001b[0m\u001b[48;2;0;0;0m rest\u001b[0m\u001b[48;2;0;0;0m from\u001b[0m\u001b[48;2;0;0;0m the\u001b[0m\u001b[48;2;0;0;0m industry\u001b[0m\u001b[48;2;0;0;0m.\u001b[0m\u001b[48;2;255;0;0mEU\u001b[0m\n",
      "\u001b[48;2;0;0;0m research\u001b[0m\u001b[48;2;0;0;0m funds\u001b[0m\u001b[48;2;0;0;0m to\u001b[0m\u001b[48;2;0;0;0m fight\u001b[0m\u001b[48;2;255;0;0m the\u001b[0m\u001b[48;2;0;0;0m coronavirus\u001b[0m\u001b[48;2;255;0;0mFunding\u001b[0m\u001b[48;2;0;0;0m research\u001b[0m\u001b[48;2;255;0;0m and\u001b[0m\u001b[48;2;0;0;0m innovation\u001b[0m\u001b[48;2;0;0;0m projects\u001b[0m\u001b[48;2;0;0;0m to\u001b[0m\u001b[48;2;0;0;0m find\u001b[0m\u001b[48;2;0;0;0m a\u001b[0m\u001b[48;2;0;0;0m cure\u001b[0m\u001b[48;2;0;0;0m for\u001b[0m\u001b[48;2;0;0;0m Cov\u001b[0m\u001b[48;2;0;0;0mid\u001b[0m\u001b[48;2;0;0;0m-\u001b[0m\u001b[48;2;0;0;0m19\u001b[0m"
     ]
    }
   ],
   "source": [
    "begin_at = 100\n",
    "\n",
    "\n",
    "print_colored_acts(\n",
    "    da_tokens2[begin_at:], \n",
    "    da_acts2[begin_at:], \n",
    "    max_diff_neuron, \n",
    "    tokenizer, \n",
    "    stop_after=400\n",
    ")\n",
    "print('')\n",
    "print_colored_acts(\n",
    "    en_tokens2[begin_at:], \n",
    "    en_acts2[begin_at:], \n",
    "    max_diff_neuron, \n",
    "    tokenizer, \n",
    "    stop_after=400\n",
    ")"
   ]
  },
  {
   "cell_type": "code",
   "execution_count": 80,
   "metadata": {},
   "outputs": [
    {
     "name": "stdout",
     "output_type": "stream",
     "text": [
      "\n",
      "\u001b[48;2;105;0;0m mind\u001b[0m\u001b[48;2;109;0;0mre\u001b[0m\u001b[48;2;0;0;26m end\u001b[0m\u001b[48;2;23;0;0m to\u001b[0m\u001b[48;2;36;0;0m ug\u001b[0m\u001b[48;2;41;0;0mer\u001b[0m\u001b[48;2;121;0;0m efter\u001b[0m\u001b[48;2;39;0;0m,\u001b[0m\u001b[48;2;101;0;0m at\u001b[0m\u001b[48;2;39;0;0m Kommission\u001b[0m\u001b[48;2;40;0;0men\u001b[0m\u001b[48;2;92;0;0m fre\u001b[0m\u001b[48;2;55;0;0mms\u001b[0m\u001b[48;2;118;0;0matte\u001b[0m\u001b[48;2;74;0;0m sine\u001b[0m\u001b[48;2;120;0;0m for\u001b[0m\u001b[48;2;54;0;0msl\u001b[0m\u001b[48;2;0;0;0mag\u001b[0m\u001b[48;2;0;0;0m.\u001b[0m\u001b[48;2;4;0;0mMid\u001b[0m\n",
      "\u001b[48;2;61;0;0mler\u001b[0m\u001b[48;2;0;0;15mne\u001b[0m\u001b[48;2;27;0;0m vil\u001b[0m\u001b[48;2;43;0;0m bl\u001b[0m\u001b[48;2;0;0;9mive\u001b[0m\u001b[48;2;0;0;34m ret\u001b[0m\u001b[48;2;0;0;21mtet\u001b[0m\u001b[48;2;29;0;0m mod\u001b[0m\u001b[48;2;11;0;0m s\u001b[0m\u001b[48;2;35;0;0mund\u001b[0m\u001b[48;2;19;0;0mhed\u001b[0m\u001b[48;2;0;0;0mss\u001b[0m\u001b[48;2;37;0;0mystem\u001b[0m\u001b[48;2;28;0;0mer\u001b[0m\u001b[48;2;12;0;0m,\u001b[0m\u001b[48;2;0;0;60m SM\u001b[0m\u001b[48;2;0;0;11mV\u001b[0m\u001b[48;2;0;0;30m'\u001b[0m\u001b[48;2;14;0;0mer\u001b[0m\u001b[48;2;36;0;0m,\u001b[0m\n",
      "\u001b[48;2;0;0;31m arbe\u001b[0m\u001b[48;2;0;0;16mj\u001b[0m\u001b[48;2;0;0;34mds\u001b[0m\u001b[48;2;0;0;39mmark\u001b[0m\u001b[48;2;0;0;30meder\u001b[0m\u001b[48;2;39;0;0m og\u001b[0m\u001b[48;2;13;0;0m and\u001b[0m\u001b[48;2;45;0;0mre\u001b[0m\u001b[48;2;65;0;0m så\u001b[0m\u001b[48;2;0;0;4mrb\u001b[0m\u001b[48;2;102;0;0mare\u001b[0m\u001b[48;2;55;0;0m dele\u001b[0m\u001b[48;2;69;0;0m af\u001b[0m\u001b[48;2;89;0;0m EU\u001b[0m\u001b[48;2;0;0;2m-\u001b[0m\u001b[48;2;0;0;43mmed\u001b[0m\u001b[48;2;0;0;0mlems\u001b[0m\u001b[48;2;26;0;0mland\u001b[0m\u001b[48;2;86;0;0menes\u001b[0m\u001b[48;2;0;0;78m ø\u001b[0m\n",
      "\u001b[48;2;76;0;0mk\u001b[0m\u001b[48;2;57;0;0monom\u001b[0m\u001b[48;2;31;0;0mier\u001b[0m\u001b[48;2;9;0;0m.\u001b[0m\u001b[48;2;47;0;0mForm\u001b[0m\u001b[48;2;116;0;0må\u001b[0m\u001b[48;2;47;0;0mlet\u001b[0m\u001b[48;2;60;0;0m med\u001b[0m\u001b[48;2;145;0;0m disse\u001b[0m\u001b[48;2;30;0;0m for\u001b[0m\u001b[48;2;0;0;5man\u001b[0m\u001b[48;2;0;0;3mst\u001b[0m\u001b[48;2;0;0;18malt\u001b[0m\u001b[48;2;88;0;0mninger\u001b[0m\u001b[48;2;117;0;0m er\u001b[0m\u001b[48;2;29;0;0m at\u001b[0m\u001b[48;2;149;0;0m kan\u001b[0m\u001b[48;2;24;0;0mal\u001b[0m\u001b[48;2;36;0;0mise\u001b[0m\u001b[48;2;53;0;0mre\u001b[0m\n",
      "\u001b[48;2;20;0;0m 37\u001b[0m\u001b[48;2;36;0;0m m\u001b[0m\u001b[48;2;13;0;0mia\u001b[0m\u001b[48;2;0;0;3m.\u001b[0m\u001b[48;2;0;0;78m EUR\u001b[0m\u001b[48;2;27;0;0m fra\u001b[0m\u001b[48;2;0;0;5m e\u001b[0m\u001b[48;2;11;0;0mks\u001b[0m\u001b[48;2;15;0;0miste\u001b[0m\u001b[48;2;108;0;0mrende\u001b[0m\u001b[48;2;22;0;0m EU\u001b[0m\u001b[48;2;0;0;21m-\u001b[0m\u001b[48;2;0;0;62mmid\u001b[0m\u001b[48;2;15;0;0mler\u001b[0m\u001b[48;2;56;0;0m til\u001b[0m\u001b[48;2;93;0;0m de\u001b[0m\u001b[48;2;0;0;25m b\u001b[0m\u001b[48;2;41;0;0morge\u001b[0m\u001b[48;2;39;0;0mre\u001b[0m\u001b[48;2;48;0;0m,\u001b[0m\n",
      "\u001b[48;2;0;0;74m region\u001b[0m\u001b[48;2;21;0;0mer\u001b[0m\u001b[48;2;80;0;0m og\u001b[0m\u001b[48;2;63;0;0m land\u001b[0m\u001b[48;2;24;0;0me\u001b[0m\u001b[48;2;28;0;0m,\u001b[0m\u001b[48;2;90;0;0m der\u001b[0m\u001b[48;2;62;0;0m er\u001b[0m\u001b[48;2;19;0;0m hå\u001b[0m\u001b[48;2;0;0;2mrd\u001b[0m\u001b[48;2;0;0;8mest\u001b[0m\u001b[48;2;4;0;0m ram\u001b[0m\u001b[48;2;21;0;0mt\u001b[0m\u001b[48;2;101;0;0m af\u001b[0m\u001b[48;2;0;0;100m Coron\u001b[0m\u001b[48;2;5;0;0mavirus\u001b[0m\u001b[48;2;0;0;11m-\u001b[0m\u001b[48;2;0;0;18mp\u001b[0m\u001b[48;2;0;0;7mandem\u001b[0m\u001b[48;2;28;0;0mien\u001b[0m\n",
      "\u001b[48;2;72;0;0m så\u001b[0m\u001b[48;2;17;0;0m hurt\u001b[0m\u001b[48;2;132;0;0migt\u001b[0m\u001b[48;2;166;0;0m som\u001b[0m\u001b[48;2;67;0;0m mul\u001b[0m\u001b[48;2;130;0;0migt\u001b[0m\u001b[48;2;21;0;0m.\u001b[0m\u001b[48;2;24;0;0mS\u001b[0m\u001b[48;2;11;0;0mom\u001b[0m\u001b[48;2;20;0;0m en\u001b[0m\u001b[48;2;65;0;0m del\u001b[0m\u001b[48;2;0;0;32m af\u001b[0m\u001b[48;2;85;0;0m EU\u001b[0m\u001b[48;2;0;0;18m's\u001b[0m\u001b[48;2;0;0;54m f\u001b[0m\u001b[48;2;0;0;20mæ\u001b[0m\u001b[48;2;0;0;14mll\u001b[0m\u001b[48;2;0;0;24mes\u001b[0m\u001b[48;2;0;0;28m s\u001b[0m\u001b[48;2;18;0;0mvar\u001b[0m\n",
      "\u001b[48;2;27;0;0m mod\u001b[0m\u001b[48;2;0;0;2m COVID\u001b[0m\u001b[48;2;0;0;28m-\u001b[0m\u001b[48;2;0;0;29m19\u001b[0m\u001b[48;2;0;0;30m-\u001b[0m\u001b[48;2;0;0;30mud\u001b[0m\u001b[48;2;8;0;0mbr\u001b[0m\u001b[48;2;0;0;28mud\u001b[0m\u001b[48;2;14;0;0mdet\u001b[0m\u001b[48;2;6;0;0m ved\u001b[0m\u001b[48;2;47;0;0mt\u001b[0m\u001b[48;2;7;0;0mog\u001b[0m\u001b[48;2;0;0;11m med\u001b[0m\u001b[48;2;24;0;0mlem\u001b[0m\u001b[48;2;0;0;2mmer\u001b[0m\u001b[48;2;13;0;0mne\u001b[0m\u001b[48;2;0;0;31m n\u001b[0m\u001b[48;2;24;0;0mæ\u001b[0m\u001b[48;2;58;0;0msten\u001b[0m\u001b[48;2;61;0;0m en\u001b[0m\n",
      "\u001b[48;2;0;0;10mstem\u001b[0m\u001b[48;2;26;0;0mm\u001b[0m\u001b[48;2;87;0;0migt\u001b[0m\u001b[48;2;10;0;0m tre\u001b[0m\u001b[48;2;39;0;0m haste\u001b[0m\u001b[48;2;15;0;0mfors\u001b[0m\u001b[48;2;8;0;0mlag\u001b[0m\u001b[48;2;117;0;0m på\u001b[0m\u001b[48;2;78;0;0m en\u001b[0m\u001b[48;2;68;0;0m ek\u001b[0m\u001b[48;2;36;0;0mstra\u001b[0m\u001b[48;2;0;0;20mordin\u001b[0m\u001b[48;2;42;0;0mær\u001b[0m\u001b[48;2;0;0;31m pl\u001b[0m\u001b[48;2;55;0;0men\u001b[0m\u001b[48;2;0;0;6marf\u001b[0m\u001b[48;2;18;0;0mors\u001b[0m\u001b[48;2;8;0;0mam\u001b[0m\u001b[48;2;0;0;7mling\u001b[0m\u001b[48;2;0;0;14m tors\u001b[0m\n",
      "\u001b[48;2;0;0;3mdag\u001b[0m\u001b[48;2;41;0;0m.\u001b[0m\u001b[48;2;25;0;0mD\u001b[0m\u001b[48;2;7;0;0mette\u001b[0m\u001b[48;2;32;0;0m vil\u001b[0m\u001b[48;2;35;0;0m for\u001b[0m\u001b[48;2;0;0;9mhind\u001b[0m\u001b[48;2;0;0;0mre\u001b[0m\u001b[48;2;0;0;14m lu\u001b[0m\u001b[48;2;3;0;0mft\u001b[0m\u001b[48;2;0;0;6mf\u001b[0m\u001b[48;2;0;0;3mart\u001b[0m\u001b[48;2;0;0;10mss\u001b[0m\u001b[48;2;0;0;7mels\u001b[0m\u001b[48;2;0;0;16mk\u001b[0m\u001b[48;2;0;0;7maber\u001b[0m\u001b[48;2;0;0;20mne\u001b[0m\u001b[48;2;0;0;8m i\u001b[0m\u001b[48;2;0;0;9m at\u001b[0m\u001b[48;2;3;0;0m fly\u001b[0m\n",
      "\u001b[48;2;0;0;21mve\u001b[0m\u001b[48;2;0;0;74m med\u001b[0m\u001b[48;2;0;0;37m tom\u001b[0m\u001b[48;2;16;0;0mme\u001b[0m\u001b[48;2;5;0;0m fly\u001b[0m\u001b[48;2;5;0;0m under\u001b[0m\u001b[48;2;0;0;102m pand\u001b[0m\u001b[48;2;32;0;0mem\u001b[0m\u001b[48;2;40;0;0mien\u001b[0m\u001b[48;2;37;0;0m.\u001b[0m\u001b[48;2;9;0;0mSt\u001b[0m\u001b[48;2;14;0;0mø\u001b[0m\u001b[48;2;68;0;0mtte\u001b[0m\u001b[48;2;7;0;0mbe\u001b[0m\u001b[48;2;0;0;20mrett\u001b[0m\u001b[48;2;0;0;13mig\u001b[0m\u001b[48;2;9;0;0mede\u001b[0m\u001b[48;2;0;0;14m tilt\u001b[0m\u001b[48;2;0;0;13mag\u001b[0m\u001b[48;2;85;0;0m under\u001b[0m\n",
      "\u001b[48;2;0;0;21m fond\u001b[0m\u001b[48;2;7;0;0men\u001b[0m\u001b[48;2;8;0;0m,\u001b[0m\u001b[48;2;101;0;0m vil\u001b[0m\u001b[48;2;33;0;0m bl\u001b[0m\u001b[48;2;35;0;0mive\u001b[0m\u001b[48;2;26;0;0m ud\u001b[0m\u001b[48;2;0;0;14mvid\u001b[0m\u001b[48;2;10;0;0met\u001b[0m\u001b[48;2;90;0;0m til\u001b[0m\u001b[48;2;170;0;0m også\u001b[0m\u001b[48;2;117;0;0m at\u001b[0m\u001b[48;2;184;0;0m om\u001b[0m\u001b[48;2;0;0;44mfat\u001b[0m\u001b[48;2;25;0;0mte\u001b[0m\u001b[48;2;0;0;3m st\u001b[0m\u001b[48;2;36;0;0mø\u001b[0m\u001b[48;2;82;0;0mtte\u001b[0m\u001b[48;2;80;0;0m i\u001b[0m\u001b[48;2;113;0;0m for\u001b[0m\n",
      "\u001b[48;2;22;0;0mbind\u001b[0m\u001b[48;2;36;0;0melse\u001b[0m\u001b[48;2;94;0;0m med\u001b[0m\u001b[48;2;0;0;0m st\u001b[0m\u001b[48;2;7;0;0mør\u001b[0m\u001b[48;2;57;0;0mre\u001b[0m\u001b[48;2;0;0;74m fol\u001b[0m\u001b[48;2;21;0;0mkes\u001b[0m\u001b[48;2;26;0;0mund\u001b[0m\u001b[48;2;28;0;0mhed\u001b[0m\u001b[48;2;0;0;0msk\u001b[0m\u001b[48;2;2;0;0mris\u001b[0m\u001b[48;2;82;0;0mer\u001b[0m\u001b[48;2;55;0;0m,\u001b[0m\u001b[48;2;0;0;22m her\u001b[0m\u001b[48;2;40;0;0munder\u001b[0m\u001b[48;2;0;0;17m l\u001b[0m\u001b[48;2;0;0;1mæ\u001b[0m\u001b[48;2;28;0;0mge\u001b[0m\u001b[48;2;0;0;1mh\u001b[0m\n",
      "\u001b[48;2;0;0;20mj\u001b[0m\u001b[48;2;7;0;0mæ\u001b[0m\u001b[48;2;0;0;7mlp\u001b[0m\u001b[48;2;80;0;0m,\u001b[0m\u001b[48;2;42;0;0m sam\u001b[0m\u001b[48;2;21;0;0mt\u001b[0m\u001b[48;2;74;0;0m for\u001b[0m\u001b[48;2;8;0;0man\u001b[0m\u001b[48;2;4;0;0mst\u001b[0m\u001b[48;2;0;0;8malt\u001b[0m\u001b[48;2;77;0;0mninger\u001b[0m\u001b[48;2;101;0;0m til\u001b[0m\u001b[48;2;0;0;69m fore\u001b[0m\u001b[48;2;36;0;0mby\u001b[0m\u001b[48;2;16;0;0mgg\u001b[0m\u001b[48;2;0;0;3melse\u001b[0m\u001b[48;2;66;0;0m,\u001b[0m\u001b[48;2;53;0;0m over\u001b[0m\u001b[48;2;9;0;0mv\u001b[0m\u001b[48;2;44;0;0må\u001b[0m\n",
      "\u001b[48;2;5;0;0mg\u001b[0m\u001b[48;2;2;0;0mning\u001b[0m\u001b[48;2;113;0;0m eller\u001b[0m\u001b[48;2;18;0;0m bek\u001b[0m\u001b[48;2;0;0;13mæ\u001b[0m\u001b[48;2;5;0;0mmp\u001b[0m\u001b[48;2;47;0;0melse\u001b[0m\u001b[48;2;99;0;0m af\u001b[0m\u001b[48;2;96;0;0m sp\u001b[0m\u001b[48;2;0;0;47mred\u001b[0m\u001b[48;2;27;0;0mning\u001b[0m\u001b[48;2;119;0;0m af\u001b[0m\u001b[48;2;36;0;0m sy\u001b[0m\u001b[48;2;39;0;0mg\u001b[0m\u001b[48;2;30;0;0mdom\u001b[0m\u001b[48;2;83;0;0mme\u001b[0m\u001b[48;2;11;0;0m.\u001b[0m\u001b[48;2;30;0;0mU\u001b[0m\u001b[48;2;19;0;0mdv\u001b[0m\u001b[48;2;14;0;0midel\u001b[0m\n",
      "\u001b[48;2;21;0;0mse\u001b[0m\u001b[48;2;0;0;43m af\u001b[0m\u001b[48;2;52;0;0m EU\u001b[0m\u001b[48;2;0;0;30m's\u001b[0m\u001b[48;2;0;0;96m Solid\u001b[0m\u001b[48;2;0;0;22mar\u001b[0m\u001b[48;2;0;0;25mit\u001b[0m\u001b[48;2;0;0;31mets\u001b[0m\u001b[48;2;0;0;29mf\u001b[0m\u001b[48;2;0;0;20mond\u001b[0m\u001b[48;2;0;0;14m til\u001b[0m\u001b[48;2;0;0;24m at\u001b[0m\u001b[48;2;47;0;0m om\u001b[0m\u001b[48;2;0;0;37mfat\u001b[0m\u001b[48;2;0;0;19mte\u001b[0m\u001b[48;2;0;0;41m kr\u001b[0m\u001b[48;2;0;0;17mises\u001b[0m\u001b[48;2;0;0;48mit\u001b[0m\u001b[48;2;0;0;2muation\u001b[0m\u001b[48;2;0;0;1mer\u001b[0m\n",
      "\u001b[48;2;104;0;0m på\u001b[0m\u001b[48;2;0;0;53m fol\u001b[0m\u001b[48;2;0;0;0mkes\u001b[0m\u001b[48;2;12;0;0mund\u001b[0m\u001b[48;2;25;0;0mhed\u001b[0m\u001b[48;2;157;0;0msom\u001b[0m\u001b[48;2;0;0;53mrå\u001b[0m\u001b[48;2;82;0;0mdet\u001b[0m\u001b[48;2;52;0;0m.\u001b[0m\u001b[48;2;43;0;0mDe\u001b[0m\u001b[48;2;50;0;0m ved\u001b[0m\u001b[48;2;19;0;0mtag\u001b[0m\u001b[48;2;48;0;0mne\u001b[0m\u001b[48;2;49;0;0m for\u001b[0m\u001b[48;2;18;0;0man\u001b[0m\u001b[48;2;15;0;0mst\u001b[0m\u001b[48;2;3;0;0malt\u001b[0m\u001b[48;2;26;0;0mninger\u001b[0m\u001b[48;2;32;0;0m tr\u001b[0m\u001b[48;2;41;0;0mæ\u001b[0m\n",
      "\u001b[48;2;70;0;0mder\u001b[0m\u001b[48;2;160;0;0m i\u001b[0m\u001b[48;2;96;0;0m k\u001b[0m\u001b[48;2;96;0;0mraft\u001b[0m\u001b[48;2;73;0;0m,\u001b[0m\u001b[48;2;2;0;0m n\u001b[0m\u001b[48;2;72;0;0mår\u001b[0m\u001b[48;2;138;0;0m de\u001b[0m\u001b[48;2;99;0;0m er\u001b[0m\u001b[48;2;0;0;7m off\u001b[0m\u001b[48;2;57;0;0ment\u001b[0m\u001b[48;2;7;0;0mlig\u001b[0m\u001b[48;2;16;0;0mg\u001b[0m\u001b[48;2;1;0;0mj\u001b[0m\u001b[48;2;4;0;0mort\u001b[0m\u001b[48;2;115;0;0m i\u001b[0m\u001b[48;2;151;0;0m Den\u001b[0m\u001b[48;2;0;0;91m Europ\u001b[0m\u001b[48;2;6;0;0mæ\u001b[0m\u001b[48;2;168;0;0miske\u001b[0m\n",
      "\u001b[48;2;62;0;0m Un\u001b[0m\u001b[48;2;45;0;0mions\u001b[0m\u001b[48;2;0;0;5m T\u001b[0m\u001b[48;2;0;0;4mid\u001b[0m\u001b[48;2;136;0;0mende\u001b[0m\u001b[48;2;89;0;0m,\u001b[0m\u001b[48;2;70;0;0m h\u001b[0m\u001b[48;2;38;0;0mvil\u001b[0m\u001b[48;2;65;0;0mket\u001b[0m\u001b[48;2;56;0;0m for\u001b[0m\u001b[48;2;22;0;0mvent\u001b[0m\u001b[48;2;30;0;0mes\u001b[0m\u001b[48;2;46;0;0m at\u001b[0m\u001b[48;2;0;0;1m ske\u001b[0m\u001b[48;2;109;0;0m i\u001b[0m\u001b[48;2;157;0;0m de\u001b[0m\u001b[48;2;48;0;0m kom\u001b[0m\u001b[48;2;67;0;0mm\u001b[0m\u001b[48;2;189;0;0mende\u001b[0m\u001b[48;2;25;0;0m d\u001b[0m\n",
      "\u001b[48;2;75;0;0mage\u001b[0m\u001b[48;2;22;0;0m.\u001b[0m\u001b[48;2;4;0;0mMid\u001b[0m\u001b[48;2;0;0;48ml\u001b[0m\u001b[48;2;0;0;8mert\u001b[0m\u001b[48;2;0;0;10mid\u001b[0m\u001b[48;2;0;0;15mig\u001b[0m\u001b[48;2;0;0;19m suspension\u001b[0m\u001b[48;2;0;0;62m af\u001b[0m\u001b[48;2;0;0;8m EU\u001b[0m\u001b[48;2;0;0;35m's\u001b[0m\u001b[48;2;0;0;83m reg\u001b[0m\u001b[48;2;0;0;24mler\u001b[0m\u001b[48;2;0;0;65m om\u001b[0m\u001b[48;2;0;0;82m af\u001b[0m\u001b[48;2;0;0;37mgang\u001b[0m\u001b[48;2;0;0;38ms\u001b[0m\u001b[48;2;0;0;32m-\u001b[0m\u001b[48;2;0;0;6m og\u001b[0m\u001b[48;2;47;0;0m ank\u001b[0m\n",
      "\n",
      "\u001b[48;2;0;0;58m available\u001b[0m\u001b[48;2;0;0;24m EU\u001b[0m\u001b[48;2;0;0;37m funds\u001b[0m\u001b[48;2;0;0;76m as\u001b[0m\u001b[48;2;0;0;57m soon\u001b[0m\u001b[48;2;0;0;40m as\u001b[0m\u001b[48;2;0;0;15m possible\u001b[0m\u001b[48;2;0;0;61m to\u001b[0m\u001b[48;2;0;0;32m citizens\u001b[0m\u001b[48;2;0;0;64m,\u001b[0m\u001b[48;2;0;0;83m regions\u001b[0m\u001b[48;2;0;0;58m and\u001b[0m\u001b[48;2;0;0;51m countries\u001b[0m\u001b[48;2;0;0;55m hit\u001b[0m\u001b[48;2;30;0;0m the\u001b[0m\u001b[48;2;0;0;65m hardest\u001b[0m\u001b[48;2;0;0;20m by\u001b[0m\u001b[48;2;0;0;32m the\u001b[0m\u001b[48;2;0;0;181m Coron\u001b[0m\u001b[48;2;0;0;5mavirus\u001b[0m\n",
      "\u001b[48;2;0;0;14m pandemic\u001b[0m\u001b[48;2;0;0;58m.\u001b[0m\u001b[48;2;41;0;0mAs\u001b[0m\u001b[48;2;18;0;0m part\u001b[0m\u001b[48;2;0;0;39m of\u001b[0m\u001b[48;2;33;0;0m the\u001b[0m\u001b[48;2;0;0;17m EU\u001b[0m\u001b[48;2;0;0;26m's\u001b[0m\u001b[48;2;0;0;45m joint\u001b[0m\u001b[48;2;0;0;41m response\u001b[0m\u001b[48;2;0;0;43m to\u001b[0m\u001b[48;2;0;0;19m the\u001b[0m\u001b[48;2;0;0;52m COVID\u001b[0m\u001b[48;2;0;0;87m-\u001b[0m\u001b[48;2;0;0;38m19\u001b[0m\u001b[48;2;0;0;20m outbreak\u001b[0m\u001b[48;2;0;0;37m,\u001b[0m\u001b[48;2;0;0;77m ME\u001b[0m\u001b[48;2;0;0;5mPs\u001b[0m\u001b[48;2;0;0;40m almost\u001b[0m\n",
      "\u001b[48;2;0;0;58m unanimously\u001b[0m\u001b[48;2;0;0;50m adopted\u001b[0m\u001b[48;2;0;0;44m three\u001b[0m\u001b[48;2;0;0;18m urgent\u001b[0m\u001b[48;2;0;0;21m proposals\u001b[0m\u001b[48;2;0;0;50m in\u001b[0m\u001b[48;2;0;0;67m an\u001b[0m\u001b[48;2;0;0;44m extraordinary\u001b[0m\u001b[48;2;0;0;139m pl\u001b[0m\u001b[48;2;0;0;47menary\u001b[0m\u001b[48;2;0;0;33m session\u001b[0m\u001b[48;2;0;0;54m,\u001b[0m\u001b[48;2;0;0;95m on\u001b[0m\u001b[48;2;0;0;17m Thursday\u001b[0m\u001b[48;2;0;0;51m.\u001b[0m\u001b[48;2;33;0;0mThis\u001b[0m\u001b[48;2;26;0;0m will\u001b[0m\u001b[48;2;0;0;43m stop\u001b[0m\u001b[48;2;0;0;42m air\u001b[0m\u001b[48;2;0;0;46m carriers\u001b[0m\n",
      "\u001b[48;2;0;0;71m from\u001b[0m\u001b[48;2;0;0;54m operating\u001b[0m\u001b[48;2;0;0;29m empty\u001b[0m\u001b[48;2;0;0;48m flights\u001b[0m\u001b[48;2;0;0;58m during\u001b[0m\u001b[48;2;35;0;0m the\u001b[0m\u001b[48;2;0;0;33m pandemic\u001b[0m\u001b[48;2;0;0;63m.\u001b[0m\u001b[48;2;31;0;0mOper\u001b[0m\u001b[48;2;76;0;0mations\u001b[0m\u001b[48;2;24;0;0m eligible\u001b[0m\u001b[48;2;48;0;0m under\u001b[0m\u001b[48;2;27;0;0m the\u001b[0m\u001b[48;2;0;0;27m Fund\u001b[0m\u001b[48;2;0;0;28m will\u001b[0m\u001b[48;2;0;0;75m be\u001b[0m\u001b[48;2;0;0;40m extended\u001b[0m\u001b[48;2;0;0;29m to\u001b[0m\u001b[48;2;0;0;39m include\u001b[0m\u001b[48;2;0;0;38m support\u001b[0m\n",
      "\u001b[48;2;0;0;48m in\u001b[0m\u001b[48;2;0;0;60m a\u001b[0m\u001b[48;2;0;0;26m major\u001b[0m\u001b[48;2;0;0;48m public\u001b[0m\u001b[48;2;0;0;27m health\u001b[0m\u001b[48;2;0;0;27m emergency\u001b[0m\u001b[48;2;0;0;52m,\u001b[0m\u001b[48;2;0;0;73m including\u001b[0m\u001b[48;2;0;0;34m medical\u001b[0m\u001b[48;2;0;0;22m assistance\u001b[0m\u001b[48;2;0;0;62m,\u001b[0m\u001b[48;2;0;0;75m as\u001b[0m\u001b[48;2;0;0;29m well\u001b[0m\u001b[48;2;0;0;36m as\u001b[0m\u001b[48;2;0;0;33m measures\u001b[0m\u001b[48;2;0;0;49m to\u001b[0m\u001b[48;2;0;0;4m prevent\u001b[0m\u001b[48;2;0;0;67m,\u001b[0m\u001b[48;2;0;0;54m monitor\u001b[0m\u001b[48;2;0;0;47m or\u001b[0m\n",
      "\u001b[48;2;0;0;43m control\u001b[0m\u001b[48;2;0;0;24m the\u001b[0m\u001b[48;2;0;0;36m spread\u001b[0m\u001b[48;2;0;0;37m of\u001b[0m\u001b[48;2;0;0;0m diseases\u001b[0m\u001b[48;2;0;0;65m.\u001b[0m\u001b[48;2;41;0;0mThe\u001b[0m\u001b[48;2;0;0;42m extension\u001b[0m\u001b[48;2;0;0;34m of\u001b[0m\u001b[48;2;34;0;0m the\u001b[0m\u001b[48;2;0;0;3m EU\u001b[0m\u001b[48;2;0;0;141m Solid\u001b[0m\u001b[48;2;0;0;8marity\u001b[0m\u001b[48;2;0;0;24m Fund\u001b[0m\u001b[48;2;0;0;43m to\u001b[0m\u001b[48;2;0;0;40m cover\u001b[0m\u001b[48;2;0;0;65m public\u001b[0m\u001b[48;2;0;0;42m health\u001b[0m\u001b[48;2;0;0;9m emergencies\u001b[0m\u001b[48;2;0;0;56m.\u001b[0m\n",
      "\u001b[48;2;41;0;0mThe\u001b[0m\u001b[48;2;0;0;23m adopted\u001b[0m\u001b[48;2;0;0;29m measures\u001b[0m\u001b[48;2;0;0;54m will\u001b[0m\u001b[48;2;0;0;60m enter\u001b[0m\u001b[48;2;32;0;0m into\u001b[0m\u001b[48;2;0;0;22m force\u001b[0m\u001b[48;2;0;0;30m once\u001b[0m\u001b[48;2;0;0;42m published\u001b[0m\u001b[48;2;0;0;71m in\u001b[0m\u001b[48;2;35;0;0m the\u001b[0m\u001b[48;2;0;0;32m Official\u001b[0m\u001b[48;2;0;0;40m Journal\u001b[0m\u001b[48;2;0;0;62m of\u001b[0m\u001b[48;2;0;0;59m the\u001b[0m\u001b[48;2;0;0;44m European\u001b[0m\u001b[48;2;0;0;34m Union\u001b[0m\u001b[48;2;0;0;38m in\u001b[0m\u001b[48;2;0;0;60m the\u001b[0m\u001b[48;2;0;0;20m coming\u001b[0m\n",
      "\u001b[48;2;0;0;17m days\u001b[0m\u001b[48;2;0;0;64m.\u001b[0m\u001b[48;2;52;0;0mTem\u001b[0m\u001b[48;2;51;0;0mpor\u001b[0m\u001b[48;2;59;0;0marily\u001b[0m\u001b[48;2;0;0;94m susp\u001b[0m\u001b[48;2;26;0;0mending\u001b[0m\u001b[48;2;24;0;0m EU\u001b[0m\u001b[48;2;0;0;15m rules\u001b[0m\u001b[48;2;0;0;28m on\u001b[0m\u001b[48;2;0;0;26m airport\u001b[0m\u001b[48;2;0;0;35m slots\u001b[0m\u001b[48;2;0;0;10m .\u001b[0m\u001b[48;2;41;0;0mThe\u001b[0m\u001b[48;2;3;0;0m temporary\u001b[0m\u001b[48;2;0;0;9m suspension\u001b[0m\u001b[48;2;0;0;2m means\u001b[0m\u001b[48;2;63;0;0m that\u001b[0m\u001b[48;2;0;0;11m airlines\u001b[0m\u001b[48;2;0;0;64m are\u001b[0m\n",
      "\u001b[48;2;0;0;28m not\u001b[0m\u001b[48;2;0;0;0m obliged\u001b[0m\u001b[48;2;0;0;10m to\u001b[0m\u001b[48;2;0;0;16m use\u001b[0m\u001b[48;2;0;0;24m their\u001b[0m\u001b[48;2;0;0;29m planned\u001b[0m\u001b[48;2;0;0;41m take\u001b[0m\u001b[48;2;0;0;56m-\u001b[0m\u001b[48;2;0;0;38moff\u001b[0m\u001b[48;2;0;0;24m and\u001b[0m\u001b[48;2;0;0;42m landing\u001b[0m\u001b[48;2;0;0;42m slots\u001b[0m\u001b[48;2;0;0;32m to\u001b[0m\u001b[48;2;0;0;4m keep\u001b[0m\u001b[48;2;0;0;31m them\u001b[0m\u001b[48;2;0;0;51m in\u001b[0m\u001b[48;2;31;0;0m the\u001b[0m\u001b[48;2;0;0;65m next\u001b[0m\u001b[48;2;0;0;24m corresponding\u001b[0m\u001b[48;2;0;0;41m season\u001b[0m\n",
      "\u001b[48;2;0;0;46m.\u001b[0m\u001b[48;2;41;0;0mThe\u001b[0m\u001b[48;2;0;0;0m '\u001b[0m\u001b[48;2;0;0;13muse\u001b[0m\u001b[48;2;0;0;2m it\u001b[0m\u001b[48;2;0;0;12m or\u001b[0m\u001b[48;2;6;0;0m lose\u001b[0m\u001b[48;2;0;0;16m it\u001b[0m\u001b[48;2;16;0;0m'\u001b[0m\u001b[48;2;13;0;0m rule\u001b[0m\u001b[48;2;0;0;0m will\u001b[0m\u001b[48;2;0;0;26m be\u001b[0m\u001b[48;2;58;0;0m waived\u001b[0m\u001b[48;2;46;0;0m for\u001b[0m\u001b[48;2;34;0;0m the\u001b[0m\u001b[48;2;0;0;8m whole\u001b[0m\u001b[48;2;0;0;39m summer\u001b[0m\u001b[48;2;0;0;16m season\u001b[0m\u001b[48;2;0;0;22m,\u001b[0m\u001b[48;2;0;0;48m from\u001b[0m\n",
      "\u001b[48;2;0;0;17m 29\u001b[0m\u001b[48;2;1;0;0m March\u001b[0m\u001b[48;2;0;0;23m until\u001b[0m\u001b[48;2;0;0;43m 24\u001b[0m\u001b[48;2;0;0;7m October\u001b[0m\u001b[48;2;0;0;27m 2020\u001b[0m\u001b[48;2;0;0;46m.\u001b[0m\u001b[48;2;22;0;0mC\u001b[0m\u001b[48;2;0;0;66mOVID\u001b[0m\u001b[48;2;0;0;26m-\u001b[0m\u001b[48;2;0;0;34m19\u001b[0m\u001b[48;2;0;0;45m:\u001b[0m\u001b[48;2;40;0;0m final\u001b[0m\u001b[48;2;0;0;43m vote\u001b[0m\u001b[48;2;0;0;40m in\u001b[0m\u001b[48;2;0;0;67m EP\u001b[0m\u001b[48;2;0;0;102m pl\u001b[0m\u001b[48;2;0;0;30menary\u001b[0m\u001b[48;2;0;0;38m to\u001b[0m\u001b[48;2;0;0;13m approve\u001b[0m\n",
      "\u001b[48;2;0;0;54m crucial\u001b[0m\u001b[48;2;0;0;32m EU\u001b[0m\u001b[48;2;0;0;46m support\u001b[0m\u001b[48;2;0;0;47m measures\u001b[0m\u001b[48;2;0;0;9m -\u001b[0m\u001b[48;2;0;0;48m Â©\u001b[0m\u001b[48;2;0;0;48m EP\u001b[0m\u001b[48;2;41;0;0mThe\u001b[0m\u001b[48;2;0;0;39m proposal\u001b[0m\u001b[48;2;0;0;81m was\u001b[0m\u001b[48;2;0;0;28m adopted\u001b[0m\u001b[48;2;0;0;41m with\u001b[0m\u001b[48;2;0;0;8m 6\u001b[0m\u001b[48;2;0;0;32m71\u001b[0m\u001b[48;2;0;0;24m votes\u001b[0m\u001b[48;2;0;0;25m in\u001b[0m\u001b[48;2;0;0;39m favour\u001b[0m\u001b[48;2;0;0;50m,\u001b[0m\u001b[48;2;0;0;31m 3\u001b[0m\u001b[48;2;0;0;21m against\u001b[0m\n",
      "\u001b[48;2;0;0;42m and\u001b[0m\u001b[48;2;0;0;30m 14\u001b[0m\u001b[48;2;0;0;125m abst\u001b[0m\u001b[48;2;0;0;46ment\u001b[0m\u001b[48;2;0;0;16mions\u001b[0m\u001b[48;2;0;0;48m.\u001b[0m\u001b[48;2;41;0;0mThe\u001b[0m\u001b[48;2;0;0;39m proposal\u001b[0m\u001b[48;2;0;0;81m was\u001b[0m\u001b[48;2;0;0;28m adopted\u001b[0m\u001b[48;2;0;0;41m with\u001b[0m\u001b[48;2;0;0;8m 6\u001b[0m\u001b[48;2;0;0;21m83\u001b[0m\u001b[48;2;0;0;26m votes\u001b[0m\u001b[48;2;0;0;26m in\u001b[0m\u001b[48;2;0;0;39m favour\u001b[0m\u001b[48;2;0;0;50m,\u001b[0m\u001b[48;2;0;0;35m 1\u001b[0m\u001b[48;2;0;0;16m against\u001b[0m\u001b[48;2;0;0;42m and\u001b[0m\n",
      "\u001b[48;2;0;0;25m 4\u001b[0m\u001b[48;2;0;0;135m abst\u001b[0m\u001b[48;2;0;0;49ment\u001b[0m\u001b[48;2;0;0;17mions\u001b[0m\u001b[48;2;0;0;47m.\u001b[0m\u001b[48;2;41;0;0mThe\u001b[0m\u001b[48;2;0;0;39m proposal\u001b[0m\u001b[48;2;0;0;81m was\u001b[0m\u001b[48;2;0;0;28m adopted\u001b[0m\u001b[48;2;0;0;41m with\u001b[0m\u001b[48;2;0;0;8m 6\u001b[0m\u001b[48;2;0;0;17m86\u001b[0m\u001b[48;2;0;0;26m votes\u001b[0m\u001b[48;2;0;0;27m in\u001b[0m\u001b[48;2;0;0;39m favour\u001b[0m\u001b[48;2;0;0;49m,\u001b[0m\u001b[48;2;0;0;19m no\u001b[0m\u001b[48;2;0;0;23m votes\u001b[0m\u001b[48;2;0;0;8m against\u001b[0m\u001b[48;2;0;0;47m and\u001b[0m\n",
      "\u001b[48;2;0;0;17m 2\u001b[0m\u001b[48;2;0;0;130m abst\u001b[0m\u001b[48;2;0;0;46ment\u001b[0m\u001b[48;2;0;0;15mions\u001b[0m\u001b[48;2;15;0;0m.\u001b[0m\u001b[48;2;41;0;0mdevelop\u001b[0m\u001b[48;2;50;0;0ming\u001b[0m\u001b[48;2;18;0;0m new\u001b[0m\u001b[48;2;1;0;0m vaccines\u001b[0m\u001b[48;2;36;0;0mProgram\u001b[0m\u001b[48;2;0;0;77mmes\u001b[0m\u001b[48;2;22;0;0m already\u001b[0m\u001b[48;2;0;0;35m in\u001b[0m\u001b[48;2;0;0;18m place\u001b[0m\u001b[48;2;41;0;0mThe\u001b[0m\u001b[48;2;0;0;25m 140\u001b[0m\u001b[48;2;0;0;34m research\u001b[0m\u001b[48;2;0;0;31m teams\u001b[0m\u001b[48;2;23;0;0m from\u001b[0m\u001b[48;2;0;0;61m across\u001b[0m\n",
      "\u001b[48;2;28;0;0m the\u001b[0m\u001b[48;2;0;0;22m EU\u001b[0m\u001b[48;2;0;0;41m and\u001b[0m\u001b[48;2;0;0;58m beyond\u001b[0m\u001b[48;2;0;0;43m that\u001b[0m\u001b[48;2;0;0;57m are\u001b[0m\u001b[48;2;0;0;42m participating\u001b[0m\u001b[48;2;0;0;40m in\u001b[0m\u001b[48;2;0;0;17m these\u001b[0m\u001b[48;2;0;0;56m projects\u001b[0m\u001b[48;2;0;0;57m are\u001b[0m\u001b[48;2;0;0;27m working\u001b[0m\u001b[48;2;0;0;40m on\u001b[0m\u001b[48;2;0;0;68m:\u001b[0m\u001b[48;2;33;0;0mT\u001b[0m\u001b[48;2;0;0;15mack\u001b[0m\u001b[48;2;51;0;0mling\u001b[0m\u001b[48;2;30;0;0m the\u001b[0m\u001b[48;2;0;0;6m current\u001b[0m\u001b[48;2;0;0;23m outbreak\u001b[0m\n",
      "\u001b[48;2;47;0;0mEU\u001b[0m\u001b[48;2;42;0;0m funding\u001b[0m\u001b[48;2;0;0;72m for\u001b[0m\u001b[48;2;0;0;167m Cov\u001b[0m\u001b[48;2;0;0;3mid\u001b[0m\u001b[48;2;0;0;35m-\u001b[0m\u001b[48;2;0;0;23m19\u001b[0m\u001b[48;2;0;0;35m research\u001b[0m\u001b[48;2;41;0;0mThe\u001b[0m\u001b[48;2;0;0;15m European\u001b[0m\u001b[48;2;0;0;31m Commission\u001b[0m\u001b[48;2;0;0;33m has\u001b[0m\u001b[48;2;0;0;47m allocated\u001b[0m\u001b[48;2;0;0;41m âĤ¬\u001b[0m\u001b[48;2;0;0;23m48\u001b[0m\u001b[48;2;0;0;49m.\u001b[0m\u001b[48;2;0;0;55m5\u001b[0m\u001b[48;2;0;0;42m million\u001b[0m\u001b[48;2;0;0;83m tor\u001b[0m\u001b[48;2;0;0;31m 18\u001b[0m\n",
      "\u001b[48;2;0;0;40m research\u001b[0m\u001b[48;2;0;0;46m projects\u001b[0m\u001b[48;2;0;0;50m within\u001b[0m\u001b[48;2;0;0;48m Horizon\u001b[0m\u001b[48;2;0;0;22m 2020\u001b[0m\u001b[48;2;0;0;81m ,\u001b[0m\u001b[48;2;22;0;0m the\u001b[0m\u001b[48;2;0;0;26m EU\u001b[0m\u001b[48;2;0;0;43m's\u001b[0m\u001b[48;2;0;0;47m framework\u001b[0m\u001b[48;2;0;0;65m programme\u001b[0m\u001b[48;2;0;0;69m for\u001b[0m\u001b[48;2;0;0;56m funding\u001b[0m\u001b[48;2;0;0;50m research\u001b[0m\u001b[48;2;0;0;69m.\u001b[0m\u001b[48;2;34;0;0mA\u001b[0m\u001b[48;2;19;0;0m âĤ¬\u001b[0m\u001b[48;2;0;0;45m90\u001b[0m\u001b[48;2;0;0;33m million\u001b[0m\u001b[48;2;0;0;47m total\u001b[0m\n",
      "\u001b[48;2;0;0;41m investment\u001b[0m\u001b[48;2;0;0;72m is\u001b[0m\u001b[48;2;0;0;86m expected\u001b[0m\u001b[48;2;0;0;49m:\u001b[0m\u001b[48;2;0;0;70m up\u001b[0m\u001b[48;2;0;0;57m to\u001b[0m\u001b[48;2;0;0;40m half\u001b[0m\u001b[48;2;0;0;40m coming\u001b[0m\u001b[48;2;0;0;41m from\u001b[0m\u001b[48;2;27;0;0m the\u001b[0m\u001b[48;2;0;0;32m EU\u001b[0m\u001b[48;2;0;0;54m budget\u001b[0m\u001b[48;2;0;0;53m and\u001b[0m\u001b[48;2;0;0;48m the\u001b[0m\u001b[48;2;0;0;45m rest\u001b[0m\u001b[48;2;0;0;53m from\u001b[0m\u001b[48;2;0;0;49m the\u001b[0m\u001b[48;2;0;0;50m industry\u001b[0m\u001b[48;2;0;0;59m.\u001b[0m\u001b[48;2;47;0;0mEU\u001b[0m\n",
      "\u001b[48;2;0;0;14m research\u001b[0m\u001b[48;2;13;0;0m funds\u001b[0m\u001b[48;2;0;0;68m to\u001b[0m\u001b[48;2;0;0;45m fight\u001b[0m\u001b[48;2;28;0;0m the\u001b[0m\u001b[48;2;0;0;29m coronavirus\u001b[0m\u001b[48;2;16;0;0mFunding\u001b[0m\u001b[48;2;0;0;1m research\u001b[0m\u001b[48;2;17;0;0m and\u001b[0m\u001b[48;2;0;0;64m innovation\u001b[0m\u001b[48;2;0;0;59m projects\u001b[0m\u001b[48;2;0;0;85m to\u001b[0m\u001b[48;2;0;0;61m find\u001b[0m\u001b[48;2;0;0;72m a\u001b[0m\u001b[48;2;0;0;40m cure\u001b[0m\u001b[48;2;0;0;37m for\u001b[0m\u001b[48;2;0;0;186m Cov\u001b[0m\u001b[48;2;0;0;10mid\u001b[0m\u001b[48;2;0;0;34m-\u001b[0m\u001b[48;2;0;0;25m19\u001b[0m"
     ]
    }
   ],
   "source": [
    "print_colored_preacts(\n",
    "    da_tokens2[begin_at:], \n",
    "    da_preacts2[begin_at:], \n",
    "    max_diff_neuron, \n",
    "    tokenizer, \n",
    "    stop_after=400\n",
    ")\n",
    "print('')\n",
    "print_colored_preacts(\n",
    "    en_tokens2[begin_at:], \n",
    "    en_preacts2[begin_at:], \n",
    "    max_diff_neuron, \n",
    "    tokenizer, \n",
    "    stop_after=400\n",
    ")"
   ]
  },
  {
   "cell_type": "code",
   "execution_count": null,
   "metadata": {},
   "outputs": [],
   "source": [
    "hidden_acts_outfolder = 'results/sparse_autoencoder_activations'\n",
    "\n",
    "if not os.path.isdir(f'{hidden_acts_outfolder}'):\n",
    "    os.mkdir(f'{hidden_acts_outfolder}')\n",
    "\n",
    "if not os.path.isdir(f'{hidden_acts_outfolder}/{model_name}'):\n",
    "    os.mkdir(f'{hidden_acts_outfolder}/{model_name}')\n",
    "\n",
    "df = pd.DataFrame({'avg_da': avg_da.numpy(), 'avg_en': avg_en.numpy()})\n",
    "df.to_csv(f'{hidden_acts_outfolder}/{model_name}/{hookpoint}.csv', index=False)"
   ]
  },
  {
   "cell_type": "code",
   "execution_count": null,
   "metadata": {},
   "outputs": [],
   "source": []
  }
 ],
 "metadata": {
  "kernelspec": {
   "display_name": "rp",
   "language": "python",
   "name": "python3"
  },
  "language_info": {
   "codemirror_mode": {
    "name": "ipython",
    "version": 3
   },
   "file_extension": ".py",
   "mimetype": "text/x-python",
   "name": "python",
   "nbconvert_exporter": "python",
   "pygments_lexer": "ipython3",
   "version": "3.11.9"
  }
 },
 "nbformat": 4,
 "nbformat_minor": 2
}
