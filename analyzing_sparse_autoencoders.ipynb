{
 "cells": [
  {
   "cell_type": "code",
   "execution_count": 1,
   "metadata": {},
   "outputs": [],
   "source": [
    "import os\n",
    "\n",
    "try:\n",
    "    has_changed_dir\n",
    "except:\n",
    "    has_changed_dir = False\n",
    "\n",
    "try:\n",
    "    import google.colab\n",
    "    IN_COLAB = True\n",
    "    print(\"Running as a Colab notebook\")\n",
    "except:\n",
    "    IN_COLAB = False\n",
    "\n",
    "if IN_COLAB:\n",
    "    %pip install datasets\n",
    "    %pip install translate-toolkit\n",
    "    %pip install bitsandbytes\n",
    "\n",
    "    !git clone https://github.com/MarkusSibbesen/mechinterp_research_project.git\n",
    "\n",
    "    if not has_changed_dir:\n",
    "        os.chdir('mechinterp_research_project')\n",
    "        has_changed_dir = True\n",
    "else:\n",
    "    if not has_changed_dir:\n",
    "        os.chdir('.')\n",
    "        has_changed_dir = True"
   ]
  },
  {
   "cell_type": "code",
   "execution_count": 2,
   "metadata": {},
   "outputs": [],
   "source": [
    "import torch\n",
    "device = torch.device(\"cuda\" if torch.cuda.is_available() else \"cpu\")\n",
    "from torch.utils.data import random_split, DataLoader\n",
    "from transformers import AutoModelForCausalLM, AutoTokenizer\n",
    "\n",
    "from collections import defaultdict\n",
    "import os\n",
    "import json\n",
    "from matplotlib import pyplot as plt\n",
    "\n",
    "from src.dataset_handling import TextClassificationDataset\n",
    "from src.utils import get_activations_and_labels, get_hidden_activations\n",
    "from src.sparse_autoencoders import SAE_topk"
   ]
  },
  {
   "cell_type": "code",
   "execution_count": 3,
   "metadata": {},
   "outputs": [],
   "source": [
    "model_url = \"EleutherAI/pythia-14m\"\n",
    "model_name = model_url.split('/')[-1]\n",
    "hookpoint_name = 'gpt_neox.layers.$.mlp.act'\n",
    "layer = 3\n",
    "\n",
    "model = AutoModelForCausalLM.from_pretrained(model_url).to(device)\n",
    "tokenizer = AutoTokenizer.from_pretrained(model_url)\n",
    "\n",
    "num_hookpoints = model.config.num_hidden_layers\n",
    "hookpoint = hookpoint_name.replace('$', str(layer))\n",
    "input_size = model.config.intermediate_size\n",
    "\n",
    "data_path = 'data/split/tedtalks_test.tsv'\n",
    "dataset = TextClassificationDataset.from_tsv(data_path)"
   ]
  },
  {
   "cell_type": "code",
   "execution_count": 5,
   "metadata": {},
   "outputs": [
    {
     "data": {
      "text/plain": [
       "<All keys matched successfully>"
      ]
     },
     "execution_count": 5,
     "metadata": {},
     "output_type": "execute_result"
    }
   ],
   "source": [
    "expansion_factor = 4\n",
    "\n",
    "meta_data = {\n",
    "    'input_size': input_size,\n",
    "    'hidden_size': input_size * expansion_factor,\n",
    "    'k': 20\n",
    "}\n",
    "\n",
    "sae = SAE_topk(meta_data=meta_data)\n",
    "\n",
    "sae.load_state_dict(torch.load(f'models/sparse_autoencoders/pythia-14m/{hookpoint}.pt', weights_only=True))"
   ]
  },
  {
   "cell_type": "code",
   "execution_count": 19,
   "metadata": {},
   "outputs": [],
   "source": [
    "da_acts = []\n",
    "da_preacts = []\n",
    "en_acts = []\n",
    "en_preacts = []\n",
    "\n",
    "for i in range(100):\n",
    "\n",
    "    sent, label = dataset[i]\n",
    "\n",
    "    tokenized = [\n",
    "        tokenizer(input_, return_tensors='pt').to(device)\n",
    "        for input_ in [sent]\n",
    "    ]\n",
    "\n",
    "    transformer_acts = get_hidden_activations(model, hookpoint, tokenized)\n",
    "\n",
    "    sae_preacts = sae.get_preacts(transformer_acts)\n",
    "    sae_acts = sae.get_activations(transformer_acts)\n",
    "\n",
    "    for act_indices, preacts in zip(sae_acts.indices, sae_preacts):\n",
    "\n",
    "        zeros = torch.zeros(input_size * expansion_factor)\n",
    "\n",
    "        zeros[act_indices] = 1\n",
    "\n",
    "        if label == 0:\n",
    "            da_acts.append(zeros)\n",
    "            da_preacts.append(preacts)\n",
    "        else:\n",
    "            en_acts.append(zeros)\n",
    "            en_preacts.append(preacts)"
   ]
  },
  {
   "cell_type": "code",
   "execution_count": 14,
   "metadata": {},
   "outputs": [],
   "source": [
    "avg_da = sum(da_acts) / len(da_acts)\n",
    "avg_en = sum(en_acts) / len(en_acts)"
   ]
  },
  {
   "cell_type": "code",
   "execution_count": 34,
   "metadata": {},
   "outputs": [],
   "source": [
    "max_diff_neuron = torch.argmax(avg_da - avg_en)"
   ]
  },
  {
   "cell_type": "code",
   "execution_count": 44,
   "metadata": {},
   "outputs": [],
   "source": [
    "da_preacts_tnsr = torch.stack(da_preacts).detach()\n",
    "en_preacts_tnsr = torch.stack(en_preacts).detach()"
   ]
  },
  {
   "cell_type": "code",
   "execution_count": 43,
   "metadata": {},
   "outputs": [],
   "source": [
    "def plot_difference_by_neuron(da_preacts, en_preacts, neuron):\n",
    "    fig, ax = plt.subplots(1, 1, figsize=(8, 4))\n",
    "\n",
    "    ax.set_title(f'Neuron {neuron}')\n",
    "    ax.hist(da_preacts[:, neuron], bins=30, alpha=0.5, color='blue')\n",
    "    ax.hist(en_preacts[:, neuron], bins=30, alpha=0.5, color='orange')\n",
    "\n",
    "    fig.tight_layout()\n",
    "    fig.show()"
   ]
  },
  {
   "cell_type": "code",
   "execution_count": 49,
   "metadata": {},
   "outputs": [
    {
     "name": "stderr",
     "output_type": "stream",
     "text": [
      "C:\\Users\\Bruger\\AppData\\Local\\Temp\\ipykernel_3708\\2055940904.py:9: UserWarning: FigureCanvasAgg is non-interactive, and thus cannot be shown\n",
      "  fig.show()\n"
     ]
    },
    {
     "data": {
      "image/png": "[encoded data removed]",
      "text/plain": [
       "<Figure size 800x400 with 1 Axes>"
      ]
     },
     "metadata": {},
     "output_type": "display_data"
    }
   ],
   "source": [
    "plot_difference_by_neuron(da_preacts_tnsr, en_preacts_tnsr, max_diff_neuron)"
   ]
  }
 ],
 "metadata": {
  "kernelspec": {
   "display_name": "rp",
   "language": "python",
   "name": "python3"
  },
  "language_info": {
   "codemirror_mode": {
    "name": "ipython",
    "version": 3
   },
   "file_extension": ".py",
   "mimetype": "text/x-python",
   "name": "python",
   "nbconvert_exporter": "python",
   "pygments_lexer": "ipython3",
   "version": "3.11.9"
  }
 },
 "nbformat": 4,
 "nbformat_minor": 2
}
