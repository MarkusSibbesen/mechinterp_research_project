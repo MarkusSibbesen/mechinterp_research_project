{
  "cells": [
    {
      "cell_type": "code",
      "execution_count": 1,
      "metadata": {
        "id": "xn3wqVXqmzoU",
        "outputId": "6acb6f14-12d5-4ed0-8f06-c4644f7e6f02",
        "colab": {
          "base_uri": "https://localhost:8080/"
        }
      },
      "outputs": [
        {
          "output_type": "stream",
          "name": "stdout",
          "text": [
            "Running as a Colab notebook\n",
            "Requirement already satisfied: datasets in /usr/local/lib/python3.10/dist-packages (3.2.0)\n",
            "Requirement already satisfied: filelock in /usr/local/lib/python3.10/dist-packages (from datasets) (3.16.1)\n",
            "Requirement already satisfied: numpy>=1.17 in /usr/local/lib/python3.10/dist-packages (from datasets) (1.26.4)\n",
            "Requirement already satisfied: pyarrow>=15.0.0 in /usr/local/lib/python3.10/dist-packages (from datasets) (17.0.0)\n",
            "Requirement already satisfied: dill<0.3.9,>=0.3.0 in /usr/local/lib/python3.10/dist-packages (from datasets) (0.3.8)\n",
            "Requirement already satisfied: pandas in /usr/local/lib/python3.10/dist-packages (from datasets) (2.2.2)\n",
            "Requirement already satisfied: requests>=2.32.2 in /usr/local/lib/python3.10/dist-packages (from datasets) (2.32.3)\n",
            "Requirement already satisfied: tqdm>=4.66.3 in /usr/local/lib/python3.10/dist-packages (from datasets) (4.66.6)\n",
            "Requirement already satisfied: xxhash in /usr/local/lib/python3.10/dist-packages (from datasets) (3.5.0)\n",
            "Requirement already satisfied: multiprocess<0.70.17 in /usr/local/lib/python3.10/dist-packages (from datasets) (0.70.16)\n",
            "Requirement already satisfied: fsspec<=2024.9.0,>=2023.1.0 in /usr/local/lib/python3.10/dist-packages (from fsspec[http]<=2024.9.0,>=2023.1.0->datasets) (2024.9.0)\n",
            "Requirement already satisfied: aiohttp in /usr/local/lib/python3.10/dist-packages (from datasets) (3.11.10)\n",
            "Requirement already satisfied: huggingface-hub>=0.23.0 in /usr/local/lib/python3.10/dist-packages (from datasets) (0.26.5)\n",
            "Requirement already satisfied: packaging in /usr/local/lib/python3.10/dist-packages (from datasets) (24.2)\n",
            "Requirement already satisfied: pyyaml>=5.1 in /usr/local/lib/python3.10/dist-packages (from datasets) (6.0.2)\n",
            "Requirement already satisfied: aiohappyeyeballs>=2.3.0 in /usr/local/lib/python3.10/dist-packages (from aiohttp->datasets) (2.4.4)\n",
            "Requirement already satisfied: aiosignal>=1.1.2 in /usr/local/lib/python3.10/dist-packages (from aiohttp->datasets) (1.3.1)\n",
            "Requirement already satisfied: async-timeout<6.0,>=4.0 in /usr/local/lib/python3.10/dist-packages (from aiohttp->datasets) (4.0.3)\n",
            "Requirement already satisfied: attrs>=17.3.0 in /usr/local/lib/python3.10/dist-packages (from aiohttp->datasets) (24.2.0)\n",
            "Requirement already satisfied: frozenlist>=1.1.1 in /usr/local/lib/python3.10/dist-packages (from aiohttp->datasets) (1.5.0)\n",
            "Requirement already satisfied: multidict<7.0,>=4.5 in /usr/local/lib/python3.10/dist-packages (from aiohttp->datasets) (6.1.0)\n",
            "Requirement already satisfied: propcache>=0.2.0 in /usr/local/lib/python3.10/dist-packages (from aiohttp->datasets) (0.2.1)\n",
            "Requirement already satisfied: yarl<2.0,>=1.17.0 in /usr/local/lib/python3.10/dist-packages (from aiohttp->datasets) (1.18.3)\n",
            "Requirement already satisfied: typing-extensions>=3.7.4.3 in /usr/local/lib/python3.10/dist-packages (from huggingface-hub>=0.23.0->datasets) (4.12.2)\n",
            "Requirement already satisfied: charset-normalizer<4,>=2 in /usr/local/lib/python3.10/dist-packages (from requests>=2.32.2->datasets) (3.4.0)\n",
            "Requirement already satisfied: idna<4,>=2.5 in /usr/local/lib/python3.10/dist-packages (from requests>=2.32.2->datasets) (3.10)\n",
            "Requirement already satisfied: urllib3<3,>=1.21.1 in /usr/local/lib/python3.10/dist-packages (from requests>=2.32.2->datasets) (2.2.3)\n",
            "Requirement already satisfied: certifi>=2017.4.17 in /usr/local/lib/python3.10/dist-packages (from requests>=2.32.2->datasets) (2024.8.30)\n",
            "Requirement already satisfied: python-dateutil>=2.8.2 in /usr/local/lib/python3.10/dist-packages (from pandas->datasets) (2.8.2)\n",
            "Requirement already satisfied: pytz>=2020.1 in /usr/local/lib/python3.10/dist-packages (from pandas->datasets) (2024.2)\n",
            "Requirement already satisfied: tzdata>=2022.7 in /usr/local/lib/python3.10/dist-packages (from pandas->datasets) (2024.2)\n",
            "Requirement already satisfied: six>=1.5 in /usr/local/lib/python3.10/dist-packages (from python-dateutil>=2.8.2->pandas->datasets) (1.17.0)\n",
            "Requirement already satisfied: translate-toolkit in /usr/local/lib/python3.10/dist-packages (3.14.1)\n",
            "Requirement already satisfied: lxml>=4.6.3 in /usr/local/lib/python3.10/dist-packages (from translate-toolkit) (5.3.0)\n",
            "Requirement already satisfied: wcwidth>=0.2.10 in /usr/local/lib/python3.10/dist-packages (from translate-toolkit) (0.2.13)\n",
            "Requirement already satisfied: bitsandbytes in /usr/local/lib/python3.10/dist-packages (0.45.0)\n",
            "Requirement already satisfied: torch in /usr/local/lib/python3.10/dist-packages (from bitsandbytes) (2.5.1+cu121)\n",
            "Requirement already satisfied: numpy in /usr/local/lib/python3.10/dist-packages (from bitsandbytes) (1.26.4)\n",
            "Requirement already satisfied: typing_extensions>=4.8.0 in /usr/local/lib/python3.10/dist-packages (from bitsandbytes) (4.12.2)\n",
            "Requirement already satisfied: filelock in /usr/local/lib/python3.10/dist-packages (from torch->bitsandbytes) (3.16.1)\n",
            "Requirement already satisfied: networkx in /usr/local/lib/python3.10/dist-packages (from torch->bitsandbytes) (3.4.2)\n",
            "Requirement already satisfied: jinja2 in /usr/local/lib/python3.10/dist-packages (from torch->bitsandbytes) (3.1.4)\n",
            "Requirement already satisfied: fsspec in /usr/local/lib/python3.10/dist-packages (from torch->bitsandbytes) (2024.9.0)\n",
            "Requirement already satisfied: sympy==1.13.1 in /usr/local/lib/python3.10/dist-packages (from torch->bitsandbytes) (1.13.1)\n",
            "Requirement already satisfied: mpmath<1.4,>=1.1.0 in /usr/local/lib/python3.10/dist-packages (from sympy==1.13.1->torch->bitsandbytes) (1.3.0)\n",
            "Requirement already satisfied: MarkupSafe>=2.0 in /usr/local/lib/python3.10/dist-packages (from jinja2->torch->bitsandbytes) (3.0.2)\n",
            "fatal: destination path 'mechinterp_research_project' already exists and is not an empty directory.\n",
            "Drive already mounted at /content/drive/; to attempt to forcibly remount, call drive.mount(\"/content/drive/\", force_remount=True).\n"
          ]
        }
      ],
      "source": [
        "import os\n",
        "\n",
        "try:\n",
        "    has_changed_dir\n",
        "except:\n",
        "    has_changed_dir = False\n",
        "\n",
        "try:\n",
        "    import google.colab\n",
        "    IN_COLAB = True\n",
        "    print(\"Running as a Colab notebook\")\n",
        "except:\n",
        "    IN_COLAB = False\n",
        "\n",
        "if IN_COLAB:\n",
        "    %pip install datasets\n",
        "    %pip install translate-toolkit\n",
        "    %pip install bitsandbytes\n",
        "\n",
        "    !git clone https://github.com/MarkusSibbesen/mechinterp_research_project.git\n",
        "\n",
        "    from google.colab import drive\n",
        "    drive.mount('/content/drive/')\n",
        "\n",
        "    if not has_changed_dir:\n",
        "        os.chdir('mechinterp_research_project')\n",
        "        has_changed_dir = True\n",
        "else:\n",
        "    if not has_changed_dir:\n",
        "        os.chdir('.')\n",
        "        has_changed_dir = True"
      ]
    },
    {
      "cell_type": "code",
      "execution_count": 2,
      "metadata": {
        "id": "TfiNhhUjmzoW"
      },
      "outputs": [],
      "source": [
        "import torch\n",
        "device = torch.device(\"cuda\" if torch.cuda.is_available() else \"cpu\")\n",
        "from torch.utils.data import random_split, DataLoader\n",
        "from transformers import AutoModelForCausalLM, AutoTokenizer\n",
        "\n",
        "from collections import defaultdict\n",
        "import os\n",
        "import json\n",
        "from matplotlib import pyplot as plt\n",
        "import pandas as pd\n",
        "import numpy as np\n",
        "\n",
        "from src.dataset_handling import TextClassificationDataset\n",
        "from src.utils import get_activations_and_labels, get_hidden_activations\n",
        "from src.sparse_autoencoders import SAE_topk"
      ]
    },
    {
      "cell_type": "code",
      "execution_count": 3,
      "metadata": {
        "id": "xM0HaI3AmzoX",
        "outputId": "b8003d6e-78a3-45f9-cda1-16c3ba1ded92",
        "colab": {
          "base_uri": "https://localhost:8080/"
        }
      },
      "outputs": [
        {
          "output_type": "stream",
          "name": "stderr",
          "text": [
            "/usr/local/lib/python3.10/dist-packages/huggingface_hub/utils/_auth.py:94: UserWarning: \n",
            "The secret `HF_TOKEN` does not exist in your Colab secrets.\n",
            "To authenticate with the Hugging Face Hub, create a token in your settings tab (https://huggingface.co/settings/tokens), set it as secret in your Google Colab and restart your session.\n",
            "You will be able to reuse this secret in all of your notebooks.\n",
            "Please note that authentication is recommended but still optional to access public models or datasets.\n",
            "  warnings.warn(\n"
          ]
        }
      ],
      "source": [
        "load_from_drive = True\n",
        "\n",
        "model_url = \"EleutherAI/pythia-1.4b\"\n",
        "model_name = model_url.split('/')[-1]\n",
        "hookpoint_name = 'gpt_neox.layers.$.mlp.act'\n",
        "layer = 16\n",
        "\n",
        "model = AutoModelForCausalLM.from_pretrained(model_url).to(device)\n",
        "tokenizer = AutoTokenizer.from_pretrained(model_url)\n",
        "\n",
        "num_hookpoints = model.config.num_hidden_layers\n",
        "hookpoint = hookpoint_name.replace('$', str(layer))\n",
        "input_size = model.config.intermediate_size"
      ]
    },
    {
      "cell_type": "code",
      "source": [],
      "metadata": {
        "id": "eAd_qhlVrdzX"
      },
      "execution_count": 3,
      "outputs": []
    },
    {
      "cell_type": "code",
      "execution_count": 4,
      "metadata": {
        "id": "4FXTixrqmzoX"
      },
      "outputs": [],
      "source": [
        "expansion_factor = 8\n",
        "meta_data = {\n",
        "    'input_size': input_size,\n",
        "    'hidden_size': input_size * expansion_factor,\n",
        "    'k': 32,\n",
        "    \"pre_encoder_bias\": True,\n",
        "    \"same_W\": False\n",
        "}\n",
        "\n",
        "sae = SAE_topk(meta_data=meta_data).to(device)\n",
        "\n",
        "if load_from_drive:\n",
        "    sae.load_state_dict(torch.load(f'../drive/MyDrive/models/{hookpoint}.pt', weights_only=True, map_location=device))\n",
        "else:\n",
        "    sae.load_state_dict(torch.load(f'models/sparse_autoencoders/pythia-14m/topk{k}/{hookpoint}.pt', weights_only=True, map_location=torch.device('cpu')))"
      ]
    },
    {
      "cell_type": "code",
      "execution_count": 62,
      "metadata": {
        "id": "l-C2a_semzoY"
      },
      "outputs": [],
      "source": [
        "def get_biling_acts(dataset, model, tokenizer, stop_after = 100):\n",
        "\n",
        "    da_acts = []\n",
        "    da_preacts = []\n",
        "    da_tokens = []\n",
        "    en_acts = []\n",
        "    en_preacts = []\n",
        "    en_tokens = []\n",
        "\n",
        "    for i in range(stop_after):\n",
        "\n",
        "        sent, label = dataset[i]\n",
        "\n",
        "        tokenized = [\n",
        "            tokenizer(input_, return_tensors='pt').to(device)\n",
        "            for input_ in [sent]\n",
        "        ]\n",
        "\n",
        "        transformer_acts = get_hidden_activations(model, hookpoint, tokenized)\n",
        "\n",
        "        sae_preacts = sae.get_preacts(transformer_acts)\n",
        "        sae_acts = sae.get_activations(transformer_acts)\n",
        "\n",
        "        for act_indices, preacts, token in zip(sae_acts.indices, sae_preacts, tokenized[0]['input_ids'][0]):\n",
        "\n",
        "            zeros = torch.zeros(input_size * expansion_factor)\n",
        "\n",
        "            zeros[act_indices] = 1\n",
        "\n",
        "            if label == 0:\n",
        "                da_acts.append(zeros.detach())\n",
        "                da_preacts.append(preacts.detach())\n",
        "                da_tokens.append(token.item())\n",
        "            else:\n",
        "                en_acts.append(zeros.detach())\n",
        "                en_preacts.append(preacts.detach())\n",
        "                en_tokens.append(token.item())\n",
        "\n",
        "    return (\n",
        "        torch.stack(da_acts).cpu().numpy(),\n",
        "        torch.stack(da_preacts).cpu().numpy(),\n",
        "        da_tokens,\n",
        "        torch.stack(en_acts).cpu().numpy(),\n",
        "        torch.stack(en_preacts).cpu().numpy(),\n",
        "        en_tokens\n",
        "    )"
      ]
    },
    {
      "cell_type": "code",
      "execution_count": 124,
      "metadata": {
        "id": "1zfkirLbmzoY"
      },
      "outputs": [],
      "source": [
        "## TEXT PRINTING\n",
        "\n",
        "def format_chars(text):\n",
        "    formatted = (\n",
        "        text.replace('Ġ', ' ').\n",
        "            replace('Ã¥', 'å').\n",
        "            replace('Ã¦', 'æ').\n",
        "            replace('Ã¸', 'ø')\n",
        "    )\n",
        "    return formatted\n",
        "\n",
        "\n",
        "# absolute genius stuff form chatgpt\n",
        "\n",
        "def rgb_text(text, r, g, b, background=False):\n",
        "    \"\"\"Returns text formatted with 24-bit RGB color.\"\"\"\n",
        "    if background:\n",
        "        if (r + g + b) / 3 > 128:\n",
        "            return f\"\\033[38;2;0;0;0m\\033[48;2;{r};{g};{b}m{text}\\033[0m\"\n",
        "        else:\n",
        "            return f\"\\033[38;2;255;255;255m\\033[48;2;{r};{g};{b}m{text}\\033[0m\"\n",
        "    return f\"\\033[38;2;{r};{g};{b}m{text}\\033[0m\"\n",
        "\n",
        "\n",
        "\n",
        "\n",
        "def print_colored_preacts(tokens, preacts, neuron, tokenizer, stop_after=100):\n",
        "\n",
        "    for idx, (token, preact) in enumerate(zip(tokens, preacts)):\n",
        "        if idx == stop_after:\n",
        "            break\n",
        "        if idx % 20 == 0:\n",
        "            print('')\n",
        "        formatted = format_chars(tokenizer.convert_ids_to_tokens(token))\n",
        "        value = preact[neuron].item()\n",
        "\n",
        "        if value > 0:\n",
        "            print(rgb_text(formatted, r=int((abs(value) / 10) * 255), g=0, b=0, background=True), end='')\n",
        "        else:\n",
        "            print(rgb_text(formatted, r=0, g=0, b=int((abs(value) / 3) * 255), background=True), end='')\n",
        "\n",
        "\n",
        "def print_colored_acts(tokens, acts, neuron, tokenizer, stop_after=100):\n",
        "\n",
        "    for idx, (token, act) in enumerate(zip(tokens, acts)):\n",
        "        if idx == stop_after:\n",
        "            break\n",
        "        if idx % 20 == 0:\n",
        "            print('')\n",
        "\n",
        "        formatted = format_chars(tokenizer.convert_ids_to_tokens(token))\n",
        "        value = act[neuron].item()\n",
        "\n",
        "        if value:\n",
        "            print(rgb_text(formatted, r=255, g=0, b=0, background=True), end='')\n",
        "        else:\n",
        "            print(formatted, end='')\n",
        "\n",
        "\n",
        "\n",
        "def plot_difference_by_neuron(da_preacts, en_preacts, neuron, output_file=None):\n",
        "\n",
        "    # da_preacts_tnsr = torch.stack(da_preacts).detach().cpu()\n",
        "    # en_preacts_tnsr = torch.stack(en_preacts).detach().cpu()\n",
        "\n",
        "    fig, ax = plt.subplots(1, 1, figsize=(8, 4))\n",
        "\n",
        "    ax.set_title(f'Neuron {neuron}')\n",
        "    ax.hist(da_preacts[:, neuron], density=True, bins=30, alpha=0.5, color='blue',  label='Danish tokens')\n",
        "    ax.hist(en_preacts[:, neuron], density=True, bins=30, alpha=0.5, color='orange', label='English tokens')\n",
        "    ax.set_yticks([])\n",
        "    ax.set_xlabel('pre-activations')\n",
        "\n",
        "    fig.legend(loc='upper right', bbox_to_anchor=(0.9, 0.85))\n",
        "\n",
        "    fig.tight_layout()\n",
        "    fig.show()\n",
        "\n",
        "    if output_file:\n",
        "        fig.savefig(output_file, dpi=300)"
      ]
    },
    {
      "cell_type": "code",
      "execution_count": 63,
      "metadata": {
        "id": "c51NZRKXmzoZ"
      },
      "outputs": [],
      "source": [
        "# for identifying neurons overrepresented in one language\n",
        "\n",
        "data_path = 'data/split/tedtalks_test.tsv'\n",
        "dataset = TextClassificationDataset.from_tsv(data_path)\n",
        "\n",
        "da_acts, da_preacts, da_tokens, en_acts, en_preacts, en_tokens = get_biling_acts(dataset, model, tokenizer, stop_after=100)\n",
        "\n",
        "\n",
        "# for checking those neurons\n",
        "\n",
        "data_path = 'data/parallel/ELRC_2923.tmx'\n",
        "dataset = TextClassificationDataset.from_tmx(data_path, 'da', 'en')\n",
        "\n",
        "da_acts2, da_preacts2, da_tokens2, en_acts2, en_preacts2, en_tokens2 = get_biling_acts(dataset, model, tokenizer, stop_after=100)"
      ]
    },
    {
      "cell_type": "code",
      "source": [
        "def get_characteristic_tokens(preacts, tokens, neuron, value, less_than=False):\n",
        "    if less_than:\n",
        "        ids = np.array(tokens)[(preacts[:, neuron] < value)]\n",
        "    else:\n",
        "        ids = np.array(tokens)[(preacts[:, neuron] > value)]\n",
        "\n",
        "    return tokenizer.convert_ids_to_tokens(ids)"
      ],
      "metadata": {
        "id": "7LOTtnrKKPv5"
      },
      "execution_count": 85,
      "outputs": []
    },
    {
      "cell_type": "code",
      "source": [
        "get_characteristic_tokens"
      ],
      "metadata": {
        "id": "iHZMkO6UbE2o",
        "outputId": "61f62f00-097e-4a20-9c5b-08959a360eb5",
        "colab": {
          "base_uri": "https://localhost:8080/"
        }
      },
      "execution_count": 21,
      "outputs": [
        {
          "output_type": "execute_result",
          "data": {
            "text/plain": [
              "['st',\n",
              " 'dv',\n",
              " 'Ġatom',\n",
              " 'k',\n",
              " 'und',\n",
              " 'ĠEarth',\n",
              " ':',\n",
              " 'ĠÃ¸',\n",
              " 'ĠÃ¸',\n",
              " 'ns',\n",
              " 'Ġst',\n",
              " 'Ġord',\n",
              " 'Ġud',\n",
              " 'k',\n",
              " 'de',\n",
              " 'ensing',\n",
              " 'ton',\n",
              " ',',\n",
              " 'Ġvil',\n",
              " 'Ġvi',\n",
              " 'Ġnav',\n",
              " 'Ġal',\n",
              " 'A',\n",
              " 'wl',\n",
              " 'L',\n",
              " ')',\n",
              " 'ĠMen',\n",
              " 'Ġmind',\n",
              " 'ord',\n",
              " 'i',\n",
              " 'lam',\n",
              " 'ents',\n",
              " 'lem',\n",
              " 'ger',\n",
              " 'Ġikke',\n",
              " 'atter',\n",
              " 'lam',\n",
              " 'j',\n",
              " 'ge',\n",
              " 'Ġrun',\n",
              " 'Ã¦',\n",
              " 'll',\n",
              " 'Ġpul',\n",
              " 'se',\n",
              " 'amp',\n",
              " 'agn',\n",
              " 'en',\n",
              " 'Ġsid',\n",
              " 'jem',\n",
              " 'er',\n",
              " 'tte',\n",
              " 'j',\n",
              " 'l',\n",
              " 'Ġmind',\n",
              " 'ry',\n",
              " 'Ġve',\n",
              " 'j',\n",
              " 'fred',\n",
              " 'st',\n",
              " 'l',\n",
              " 'Ġkommer',\n",
              " 'yt',\n",
              " 'ocin',\n",
              " 'Ġf',\n",
              " 'Ġvar',\n",
              " 'Ã¦',\n",
              " 'un',\n",
              " 'ĠTak',\n",
              " 'ĠJesus',\n",
              " 'Ġfort',\n",
              " 'Ġamen',\n",
              " 'Ġamen',\n",
              " 'ĠAust',\n",
              " 'Ġgent',\n",
              " 'Ġn',\n",
              " 'irit',\n",
              " 'o',\n",
              " 'ĠS',\n",
              " 'Ġud',\n",
              " 'Ã¸',\n",
              " '.',\n",
              " 'ĠJeg',\n",
              " 'Ġher',\n",
              " 'Ġtale',\n",
              " 'Ġtak',\n",
              " 'Ġarbe',\n",
              " 'j',\n",
              " 'de']"
            ]
          },
          "metadata": {},
          "execution_count": 21
        }
      ]
    },
    {
      "cell_type": "code",
      "execution_count": 24,
      "metadata": {
        "id": "VYKKlgj5mzob"
      },
      "outputs": [],
      "source": [
        "# getting overrepresented neurons\n",
        "\n",
        "avg_da = sum(da_acts) / len(da_acts)\n",
        "avg_en = sum(en_acts) / len(en_acts)\n",
        "\n",
        "max_diff_neuron = torch.argmax(avg_da - avg_en).item()"
      ]
    },
    {
      "cell_type": "markdown",
      "source": [],
      "metadata": {
        "id": "duCSh-tcQgi4"
      }
    },
    {
      "cell_type": "code",
      "source": [
        "torch.where((avg_da > 0.5) & (avg_en < 0.01))"
      ],
      "metadata": {
        "id": "lKAcjvrJtr4t",
        "outputId": "5ecb31f8-cf50-4350-9596-73cc73bd104f",
        "colab": {
          "base_uri": "https://localhost:8080/"
        }
      },
      "execution_count": 41,
      "outputs": [
        {
          "output_type": "execute_result",
          "data": {
            "text/plain": [
              "(tensor([20680, 26335, 27584, 41388, 44148, 46619]),)"
            ]
          },
          "metadata": {},
          "execution_count": 41
        }
      ]
    },
    {
      "cell_type": "code",
      "source": [
        "torch.where(torch.stack(da_preacts)[:,44148] > 8)"
      ],
      "metadata": {
        "id": "RNhnrWbVEUi8",
        "outputId": "53d84641-de17-462f-b46c-8667e2b02827",
        "colab": {
          "base_uri": "https://localhost:8080/"
        }
      },
      "execution_count": 57,
      "outputs": [
        {
          "output_type": "execute_result",
          "data": {
            "text/plain": [
              "(tensor([ 137,  141,  463,  490,  913,  928,  929, 1026, 1107, 1111, 1259, 1452],\n",
              "        device='cuda:0'),)"
            ]
          },
          "metadata": {},
          "execution_count": 57
        }
      ]
    },
    {
      "cell_type": "code",
      "source": [
        "bins = np.linspace(-2, 10, 30)"
      ],
      "metadata": {
        "id": "616M3bW0STpy"
      },
      "execution_count": 50,
      "outputs": []
    },
    {
      "cell_type": "code",
      "source": [
        "def find_histogram_overlap(da_preacts, en_preacts, neuron, num_bins=30):\n",
        "\n",
        "    min_da_preact = np.min(da_preacts[:, neuron])\n",
        "    min_en_preact = np.min(en_preacts[:, neuron])\n",
        "    min_preact = min(min_da_preact, min_en_preact)\n",
        "\n",
        "    max_da_preact = np.max(da_preacts[:, neuron])\n",
        "    max_en_preact = np.max(en_preacts[:, neuron])\n",
        "    max_preact = max(max_da_preact, max_en_preact)\n",
        "\n",
        "    bins = np.linspace(min_preact, max_preact, num_bins)\n",
        "\n",
        "    da_hist = np.histogram(da_preacts[:,neuron], bins=bins)[0]\n",
        "    en_hist = np.histogram(en_preacts[:,neuron], bins=bins)[0]\n",
        "\n",
        "    da_hist = da_hist / np.sum(da_hist)\n",
        "    en_hist = en_hist / np.sum(en_hist)\n",
        "\n",
        "    overlap = np.sum(np.minimum(da_hist, en_hist))\n",
        "\n",
        "    avg_da_preact = np.mean(da_preacts[:, neuron])\n",
        "    avg_en_preact = np.mean(en_preacts[:, neuron])\n",
        "    if avg_da_preact > avg_en_preact:\n",
        "        return overlap, 'da'\n",
        "    else:\n",
        "        return overlap, 'en'\n"
      ],
      "metadata": {
        "id": "fxsGLT6dSaxc"
      },
      "execution_count": 113,
      "outputs": []
    },
    {
      "cell_type": "code",
      "source": [
        "overlaps = []\n",
        "\n",
        "for i in range(32000):\n",
        "    overlap, highest_lan = find_histogram_overlap(da_preacts, en_preacts, i, num_bins=30)\n",
        "    if highest_lan == 'da':\n",
        "        overlaps.append((overlap, i))"
      ],
      "metadata": {
        "id": "XjR2qRzQQlRh"
      },
      "execution_count": 114,
      "outputs": []
    },
    {
      "cell_type": "code",
      "source": [
        "overlaps = sorted(overlaps, key=lambda x: x[0])"
      ],
      "metadata": {
        "id": "IEP58z-HWvJj"
      },
      "execution_count": 115,
      "outputs": []
    },
    {
      "cell_type": "code",
      "source": [
        "overlaps[:10]"
      ],
      "metadata": {
        "id": "X-5PUN3uW06t",
        "outputId": "a7cdefef-c8a1-4bfe-e4ed-59c44fa7ead0",
        "colab": {
          "base_uri": "https://localhost:8080/"
        }
      },
      "execution_count": 118,
      "outputs": [
        {
          "output_type": "execute_result",
          "data": {
            "text/plain": [
              "[(0.11833723510822582, 26335),\n",
              " (0.13330787494396387, 27584),\n",
              " (0.14015950234383215, 7471),\n",
              " (0.1454338164892881, 25562),\n",
              " (0.14568840038298272, 10519),\n",
              " (0.15076900939193189, 18187),\n",
              " (0.1528167494064321, 767),\n",
              " (0.15464864655453908, 22242),\n",
              " (0.15541793266809453, 14318),\n",
              " (0.15602118580750138, 19061)]"
            ]
          },
          "metadata": {},
          "execution_count": 118
        }
      ]
    },
    {
      "cell_type": "code",
      "source": [
        "np.min(da_preacts[:, 20680])"
      ],
      "metadata": {
        "id": "eDsWZXTCT5ga",
        "outputId": "73e3a92c-d79d-4db8-ab52-e8889e4b78f3",
        "colab": {
          "base_uri": "https://localhost:8080/"
        }
      },
      "execution_count": 69,
      "outputs": [
        {
          "output_type": "execute_result",
          "data": {
            "text/plain": [
              "-0.99906355"
            ]
          },
          "metadata": {},
          "execution_count": 69
        }
      ]
    },
    {
      "cell_type": "code",
      "source": [
        "find_histogram_overlap(da_preacts, en_preacts, 20680)"
      ],
      "metadata": {
        "id": "huQmZ7yNSfl-",
        "outputId": "fb0e4727-3e37-40d7-9694-70220cfcd93f",
        "colab": {
          "base_uri": "https://localhost:8080/"
        }
      },
      "execution_count": 71,
      "outputs": [
        {
          "output_type": "execute_result",
          "data": {
            "text/plain": [
              "0.2638928091118896"
            ]
          },
          "metadata": {},
          "execution_count": 71
        }
      ]
    },
    {
      "cell_type": "code",
      "source": [
        "get_characteristic_tokens(da_preacts, da_tokens, 7956, -3)"
      ],
      "metadata": {
        "id": "4070aP01XXiu",
        "outputId": "799676f3-1357-4272-e8e8-124bc36aa8db",
        "colab": {
          "base_uri": "https://localhost:8080/"
        }
      },
      "execution_count": 87,
      "outputs": [
        {
          "output_type": "execute_result",
          "data": {
            "text/plain": [
              "['Vi',\n",
              " 'De',\n",
              " 'st',\n",
              " 'U',\n",
              " 'dv',\n",
              " 'Ã¦',\n",
              " 'k',\n",
              " 'For',\n",
              " 'Ġatom',\n",
              " 'k',\n",
              " ',',\n",
              " 'ĠWhole',\n",
              " 'ĠEarth',\n",
              " 'ĠStewart',\n",
              " 'LT',\n",
              " ':',\n",
              " 'ĠNem',\n",
              " 'O',\n",
              " 's',\n",
              " 'S',\n",
              " 'Men',\n",
              " 'Her',\n",
              " 'ĠK',\n",
              " 'ensing',\n",
              " ',',\n",
              " 'Ġ',\n",
              " 'H',\n",
              " 'n',\n",
              " 'ĠAn',\n",
              " 'war',\n",
              " 'Ġal',\n",
              " '-',\n",
              " 'A',\n",
              " 'wl',\n",
              " '(',\n",
              " 'L',\n",
              " 'atter',\n",
              " ')',\n",
              " 'Ġden',\n",
              " 'Ġvir',\n",
              " 'ige',\n",
              " 'Den',\n",
              " 'F',\n",
              " 'ord',\n",
              " 'i',\n",
              " 'Ġpar',\n",
              " 'lam',\n",
              " 'Et',\n",
              " 'Ġsp',\n",
              " 'J',\n",
              " 'O',\n",
              " 'Ġ',\n",
              " 'Vi',\n",
              " 'K',\n",
              " 'amp',\n",
              " 'agn',\n",
              " 'Han',\n",
              " 'S',\n",
              " 'U',\n",
              " 'dg',\n",
              " 'ĠDiscover',\n",
              " 'Man',\n",
              " 'Ġben',\n",
              " 'O',\n",
              " 'Un',\n",
              " 'H',\n",
              " 'V',\n",
              " 'v',\n",
              " 'M',\n",
              " 'Dis',\n",
              " 'se',\n",
              " 'Ġsp',\n",
              " 'D',\n",
              " 'O',\n",
              " 'Ox',\n",
              " 'yt',\n",
              " 'ocin',\n",
              " 'Ġf',\n",
              " 'Einstein',\n",
              " 'Ġvar',\n",
              " 'H',\n",
              " 'un',\n",
              " 'E',\n",
              " 'Ġamen',\n",
              " '.',\n",
              " 'Ġtak',\n",
              " 'ĠJane',\n",
              " 'ĠAust',\n",
              " 'O',\n",
              " 'For',\n",
              " 'Ġn',\n",
              " 'yl',\n",
              " 'ĠEsp',\n",
              " 'o',\n",
              " 'ĠS',\n",
              " 'O',\n",
              " 'He',\n",
              " 'Da']"
            ]
          },
          "metadata": {},
          "execution_count": 87
        }
      ]
    },
    {
      "cell_type": "code",
      "execution_count": 129,
      "metadata": {
        "id": "KOd9whaCmzob",
        "outputId": "3a994e94-f6f0-4d0a-e7e5-f1c18c14c629",
        "colab": {
          "base_uri": "https://localhost:8080/",
          "height": 370
        }
      },
      "outputs": [
        {
          "output_type": "display_data",
          "data": {
            "text/plain": [
              "<Figure size 800x400 with 1 Axes>"
            ],
            "image/png": "[encoded data removed]"
          },
          "metadata": {}
        }
      ],
      "source": [
        "plot_difference_by_neuron(da_preacts, en_preacts, 26335)"
      ]
    },
    {
      "cell_type": "markdown",
      "source": [],
      "metadata": {
        "id": "BQpWcl2jaZXC"
      }
    },
    {
      "cell_type": "code",
      "execution_count": 128,
      "metadata": {
        "id": "cf9_FKKjmzob",
        "outputId": "3402b8c8-928a-4324-e615-9058c236d8f9",
        "colab": {
          "base_uri": "https://localhost:8080/",
          "height": 370
        }
      },
      "outputs": [
        {
          "output_type": "display_data",
          "data": {
            "text/plain": [
              "<Figure size 800x400 with 1 Axes>"
            ],
            "image/png": "[encoded data removed]"
          },
          "metadata": {}
        }
      ],
      "source": [
        "plot_difference_by_neuron(da_preacts2, en_preacts2, 767)"
      ]
    },
    {
      "cell_type": "code",
      "execution_count": null,
      "metadata": {
        "id": "uf9A7lUrmzoc",
        "outputId": "9d1d0f74-bc8e-4e36-a6c2-b3338ea013ca",
        "colab": {
          "base_uri": "https://localhost:8080/"
        }
      },
      "outputs": [
        {
          "output_type": "stream",
          "name": "stdout",
          "text": [
            "\n",
            "Corona Response Investment Initiative .Rå\u001b[38;2;255;255;255m\u001b[48;2;255;0;0mdet\u001b[0m\u001b[38;2;255;255;255m\u001b[48;2;255;0;0m skal\u001b[0m\u001b[38;2;255;255;255m\u001b[48;2;255;0;0m nu\u001b[0m\u001b[38;2;255;255;255m\u001b[48;2;255;0;0m form\u001b[0m\u001b[38;2;255;255;255m\u001b[48;2;255;0;0melt\u001b[0m\u001b[38;2;255;255;255m\u001b[48;2;255;0;0m god\u001b[0m\u001b[38;2;255;255;255m\u001b[48;2;255;0;0mk\u001b[0m\u001b[38;2;255;255;255m\u001b[48;2;255;0;0mende\u001b[0m\u001b[38;2;255;255;255m\u001b[48;2;255;0;0m Parlament\u001b[0m\u001b[38;2;255;255;255m\u001b[48;2;255;0;0mets\u001b[0m\u001b[38;2;255;255;255m\u001b[48;2;255;0;0m hold\u001b[0m\u001b[38;2;255;255;255m\u001b[48;2;255;0;0mning\u001b[0m\n",
            "\u001b[38;2;255;255;255m\u001b[48;2;255;0;0m.\u001b[0mForanstaltning\u001b[38;2;255;255;255m\u001b[48;2;255;0;0merne\u001b[0m\u001b[38;2;255;255;255m\u001b[48;2;255;0;0m vil\u001b[0m st\u001b[38;2;255;255;255m\u001b[48;2;255;0;0mille\u001b[0m\u001b[38;2;255;255;255m\u001b[48;2;255;0;0m op\u001b[0m\u001b[38;2;255;255;255m\u001b[48;2;255;0;0m til\u001b[0m\u001b[38;2;255;255;255m\u001b[48;2;255;0;0m 800\u001b[0m\u001b[38;2;255;255;255m\u001b[48;2;255;0;0m m\u001b[0m\u001b[38;2;255;255;255m\u001b[48;2;255;0;0mio\u001b[0m\u001b[38;2;255;255;255m\u001b[48;2;255;0;0m.\u001b[0m\u001b[38;2;255;255;255m\u001b[48;2;255;0;0m EUR\u001b[0m\u001b[38;2;255;255;255m\u001b[48;2;255;0;0m til\u001b[0m rå\n",
            "\u001b[38;2;255;255;255m\u001b[48;2;255;0;0mdig\u001b[0m\u001b[38;2;255;255;255m\u001b[48;2;255;0;0mhed\u001b[0m\u001b[38;2;255;255;255m\u001b[48;2;255;0;0m for\u001b[0m EU land\u001b[38;2;255;255;255m\u001b[48;2;255;0;0mene\u001b[0m\u001b[38;2;255;255;255m\u001b[48;2;255;0;0m i\u001b[0m 2020\u001b[38;2;255;255;255m\u001b[48;2;255;0;0m.\u001b[0mNæ\u001b[38;2;255;255;255m\u001b[48;2;255;0;0mste\u001b[0m\u001b[38;2;255;255;255m\u001b[48;2;255;0;0m sk\u001b[0m\u001b[38;2;255;255;255m\u001b[48;2;255;0;0mrid\u001b[0m\u001b[38;2;255;255;255m\u001b[48;2;255;0;0mt\u001b[0mHasteforanst\n",
            "altninger,\u001b[38;2;255;255;255m\u001b[48;2;255;0;0m der\u001b[0m\u001b[38;2;255;255;255m\u001b[48;2;255;0;0m skal\u001b[0m\u001b[38;2;255;255;255m\u001b[48;2;255;0;0m h\u001b[0m\u001b[38;2;255;255;255m\u001b[48;2;255;0;0mj\u001b[0m\u001b[38;2;255;255;255m\u001b[48;2;255;0;0mæ\u001b[0m\u001b[38;2;255;255;255m\u001b[48;2;255;0;0ml\u001b[0m\u001b[38;2;255;255;255m\u001b[48;2;255;0;0mpe\u001b[0m borge\u001b[38;2;255;255;255m\u001b[48;2;255;0;0mre\u001b[0m og virksomhe\u001b[38;2;255;255;255m\u001b[48;2;255;0;0mder\u001b[0m\u001b[38;2;255;255;255m\u001b[48;2;255;0;0m med\u001b[0m\n",
            "\u001b[38;2;255;255;255m\u001b[48;2;255;0;0m at\u001b[0m tackle kris\u001b[38;2;255;255;255m\u001b[48;2;255;0;0men\u001b[0m\u001b[38;2;255;255;255m\u001b[48;2;255;0;0m,\u001b[0m\u001b[38;2;255;255;255m\u001b[48;2;255;0;0m ble\u001b[0m\u001b[38;2;255;255;255m\u001b[48;2;255;0;0mv\u001b[0m\u001b[38;2;255;255;255m\u001b[48;2;255;0;0m sat\u001b[0m\u001b[38;2;255;255;255m\u001b[48;2;255;0;0m til\u001b[0m\u001b[38;2;255;255;255m\u001b[48;2;255;0;0m af\u001b[0m\u001b[38;2;255;255;255m\u001b[48;2;255;0;0mstem\u001b[0m\u001b[38;2;255;255;255m\u001b[48;2;255;0;0mning\u001b[0m\u001b[38;2;255;255;255m\u001b[48;2;255;0;0m på\u001b[0m\u001b[38;2;255;255;255m\u001b[48;2;255;0;0m et\u001b[0m\u001b[38;2;255;255;255m\u001b[48;2;255;0;0m pl\u001b[0m\u001b[38;2;255;255;255m\u001b[48;2;255;0;0men\u001b[0m\u001b[38;2;255;255;255m\u001b[48;2;255;0;0marm\u001b[0m\u001b[38;2;255;255;255m\u001b[48;2;255;0;0mø\u001b[0m\u001b[38;2;255;255;255m\u001b[48;2;255;0;0mde\u001b[0m\n",
            "\u001b[38;2;255;255;255m\u001b[48;2;255;0;0m mind\u001b[0m\u001b[38;2;255;255;255m\u001b[48;2;255;0;0mre\u001b[0m\u001b[38;2;255;255;255m\u001b[48;2;255;0;0m end\u001b[0m\u001b[38;2;255;255;255m\u001b[48;2;255;0;0m to\u001b[0m\u001b[38;2;255;255;255m\u001b[48;2;255;0;0m ug\u001b[0m\u001b[38;2;255;255;255m\u001b[48;2;255;0;0mer\u001b[0m\u001b[38;2;255;255;255m\u001b[48;2;255;0;0m efter\u001b[0m\u001b[38;2;255;255;255m\u001b[48;2;255;0;0m,\u001b[0m\u001b[38;2;255;255;255m\u001b[48;2;255;0;0m at\u001b[0m\u001b[38;2;255;255;255m\u001b[48;2;255;0;0m Kommission\u001b[0m\u001b[38;2;255;255;255m\u001b[48;2;255;0;0men\u001b[0m\u001b[38;2;255;255;255m\u001b[48;2;255;0;0m fre\u001b[0m\u001b[38;2;255;255;255m\u001b[48;2;255;0;0mms\u001b[0m\u001b[38;2;255;255;255m\u001b[48;2;255;0;0matte\u001b[0m\u001b[38;2;255;255;255m\u001b[48;2;255;0;0m sine\u001b[0m\u001b[38;2;255;255;255m\u001b[48;2;255;0;0m for\u001b[0m\u001b[38;2;255;255;255m\u001b[48;2;255;0;0msl\u001b[0m\u001b[38;2;255;255;255m\u001b[48;2;255;0;0mag\u001b[0m\u001b[38;2;255;255;255m\u001b[48;2;255;0;0m.\u001b[0mMid\n",
            "lerne\u001b[38;2;255;255;255m\u001b[48;2;255;0;0m vil\u001b[0m\u001b[38;2;255;255;255m\u001b[48;2;255;0;0m bl\u001b[0m\u001b[38;2;255;255;255m\u001b[48;2;255;0;0mive\u001b[0m\u001b[38;2;255;255;255m\u001b[48;2;255;0;0m ret\u001b[0m\u001b[38;2;255;255;255m\u001b[48;2;255;0;0mtet\u001b[0m\u001b[38;2;255;255;255m\u001b[48;2;255;0;0m mod\u001b[0m\u001b[38;2;255;255;255m\u001b[48;2;255;0;0m s\u001b[0m\u001b[38;2;255;255;255m\u001b[48;2;255;0;0mund\u001b[0m\u001b[38;2;255;255;255m\u001b[48;2;255;0;0mhed\u001b[0m\u001b[38;2;255;255;255m\u001b[48;2;255;0;0mss\u001b[0m\u001b[38;2;255;255;255m\u001b[48;2;255;0;0mystem\u001b[0m\u001b[38;2;255;255;255m\u001b[48;2;255;0;0mer\u001b[0m\u001b[38;2;255;255;255m\u001b[48;2;255;0;0m,\u001b[0m SMV\u001b[38;2;255;255;255m\u001b[48;2;255;0;0m'\u001b[0mer,\n",
            " arbejds\u001b[38;2;255;255;255m\u001b[48;2;255;0;0mmark\u001b[0meder og\u001b[38;2;255;255;255m\u001b[48;2;255;0;0m and\u001b[0mre\u001b[38;2;255;255;255m\u001b[48;2;255;0;0m så\u001b[0m\u001b[38;2;255;255;255m\u001b[48;2;255;0;0mrb\u001b[0mare dele af EU-\u001b[38;2;255;255;255m\u001b[48;2;255;0;0mmed\u001b[0mlemslandenes ø\n",
            "k\u001b[38;2;255;255;255m\u001b[48;2;255;0;0monom\u001b[0m\u001b[38;2;255;255;255m\u001b[48;2;255;0;0mier\u001b[0m\u001b[38;2;255;255;255m\u001b[48;2;255;0;0m.\u001b[0mFormålet\u001b[38;2;255;255;255m\u001b[48;2;255;0;0m med\u001b[0m disse\u001b[38;2;255;255;255m\u001b[48;2;255;0;0m for\u001b[0m\u001b[38;2;255;255;255m\u001b[48;2;255;0;0man\u001b[0mstaltninger\u001b[38;2;255;255;255m\u001b[48;2;255;0;0m er\u001b[0m\u001b[38;2;255;255;255m\u001b[48;2;255;0;0m at\u001b[0m\u001b[38;2;255;255;255m\u001b[48;2;255;0;0m kan\u001b[0mal\u001b[38;2;255;255;255m\u001b[48;2;255;0;0mise\u001b[0m\u001b[38;2;255;255;255m\u001b[48;2;255;0;0mre\u001b[0m\n",
            " 37\u001b[38;2;255;255;255m\u001b[48;2;255;0;0m m\u001b[0mia. EUR\u001b[38;2;255;255;255m\u001b[48;2;255;0;0m fra\u001b[0m eksisterende EU-\u001b[38;2;255;255;255m\u001b[48;2;255;0;0mmid\u001b[0mler\u001b[38;2;255;255;255m\u001b[48;2;255;0;0m til\u001b[0m\u001b[38;2;255;255;255m\u001b[48;2;255;0;0m de\u001b[0m borgere,\n",
            " regioner og lande, der\u001b[38;2;255;255;255m\u001b[48;2;255;0;0m er\u001b[0m\u001b[38;2;255;255;255m\u001b[48;2;255;0;0m hå\u001b[0m\u001b[38;2;255;255;255m\u001b[48;2;255;0;0mrd\u001b[0m\u001b[38;2;255;255;255m\u001b[48;2;255;0;0mest\u001b[0m\u001b[38;2;255;255;255m\u001b[48;2;255;0;0m ram\u001b[0m\u001b[38;2;255;255;255m\u001b[48;2;255;0;0mt\u001b[0m\u001b[38;2;255;255;255m\u001b[48;2;255;0;0m af\u001b[0m Coronavirus\u001b[38;2;255;255;255m\u001b[48;2;255;0;0m-\u001b[0m\u001b[38;2;255;255;255m\u001b[48;2;255;0;0mp\u001b[0m\u001b[38;2;255;255;255m\u001b[48;2;255;0;0mandem\u001b[0mien\n",
            "\u001b[38;2;255;255;255m\u001b[48;2;255;0;0m så\u001b[0m hurt\u001b[38;2;255;255;255m\u001b[48;2;255;0;0migt\u001b[0m\u001b[38;2;255;255;255m\u001b[48;2;255;0;0m som\u001b[0m\u001b[38;2;255;255;255m\u001b[48;2;255;0;0m mul\u001b[0m\u001b[38;2;255;255;255m\u001b[48;2;255;0;0migt\u001b[0m\u001b[38;2;255;255;255m\u001b[48;2;255;0;0m.\u001b[0mSom en\u001b[38;2;255;255;255m\u001b[48;2;255;0;0m del\u001b[0m\u001b[38;2;255;255;255m\u001b[48;2;255;0;0m af\u001b[0m EU's\u001b[38;2;255;255;255m\u001b[48;2;255;0;0m f\u001b[0mælles\u001b[38;2;255;255;255m\u001b[48;2;255;0;0m s\u001b[0m\u001b[38;2;255;255;255m\u001b[48;2;255;0;0mvar\u001b[0m\n",
            "\u001b[38;2;255;255;255m\u001b[48;2;255;0;0m mod\u001b[0m COVID-\u001b[38;2;255;255;255m\u001b[48;2;255;0;0m19\u001b[0m\u001b[38;2;255;255;255m\u001b[48;2;255;0;0m-\u001b[0m\u001b[38;2;255;255;255m\u001b[48;2;255;0;0mud\u001b[0m\u001b[38;2;255;255;255m\u001b[48;2;255;0;0mbr\u001b[0m\u001b[38;2;255;255;255m\u001b[48;2;255;0;0mud\u001b[0m\u001b[38;2;255;255;255m\u001b[48;2;255;0;0mdet\u001b[0m\u001b[38;2;255;255;255m\u001b[48;2;255;0;0m ved\u001b[0m\u001b[38;2;255;255;255m\u001b[48;2;255;0;0mt\u001b[0m\u001b[38;2;255;255;255m\u001b[48;2;255;0;0mog\u001b[0m\u001b[38;2;255;255;255m\u001b[48;2;255;0;0m med\u001b[0m\u001b[38;2;255;255;255m\u001b[48;2;255;0;0mlem\u001b[0m\u001b[38;2;255;255;255m\u001b[48;2;255;0;0mmer\u001b[0m\u001b[38;2;255;255;255m\u001b[48;2;255;0;0mne\u001b[0m\u001b[38;2;255;255;255m\u001b[48;2;255;0;0m n\u001b[0m\u001b[38;2;255;255;255m\u001b[48;2;255;0;0mæ\u001b[0m\u001b[38;2;255;255;255m\u001b[48;2;255;0;0msten\u001b[0m\u001b[38;2;255;255;255m\u001b[48;2;255;0;0m en\u001b[0m\n",
            "\u001b[38;2;255;255;255m\u001b[48;2;255;0;0mstem\u001b[0m\u001b[38;2;255;255;255m\u001b[48;2;255;0;0mm\u001b[0m\u001b[38;2;255;255;255m\u001b[48;2;255;0;0migt\u001b[0m\u001b[38;2;255;255;255m\u001b[48;2;255;0;0m tre\u001b[0m\u001b[38;2;255;255;255m\u001b[48;2;255;0;0m haste\u001b[0m\u001b[38;2;255;255;255m\u001b[48;2;255;0;0mfors\u001b[0m\u001b[38;2;255;255;255m\u001b[48;2;255;0;0mlag\u001b[0m\u001b[38;2;255;255;255m\u001b[48;2;255;0;0m på\u001b[0m\u001b[38;2;255;255;255m\u001b[48;2;255;0;0m en\u001b[0m\u001b[38;2;255;255;255m\u001b[48;2;255;0;0m ek\u001b[0m\u001b[38;2;255;255;255m\u001b[48;2;255;0;0mstra\u001b[0m\u001b[38;2;255;255;255m\u001b[48;2;255;0;0mordin\u001b[0m\u001b[38;2;255;255;255m\u001b[48;2;255;0;0mær\u001b[0m\u001b[38;2;255;255;255m\u001b[48;2;255;0;0m pl\u001b[0m\u001b[38;2;255;255;255m\u001b[48;2;255;0;0men\u001b[0m\u001b[38;2;255;255;255m\u001b[48;2;255;0;0marf\u001b[0m\u001b[38;2;255;255;255m\u001b[48;2;255;0;0mors\u001b[0m\u001b[38;2;255;255;255m\u001b[48;2;255;0;0mam\u001b[0m\u001b[38;2;255;255;255m\u001b[48;2;255;0;0mling\u001b[0m\u001b[38;2;255;255;255m\u001b[48;2;255;0;0m tors\u001b[0m\n",
            "\u001b[38;2;255;255;255m\u001b[48;2;255;0;0mdag\u001b[0m\u001b[38;2;255;255;255m\u001b[48;2;255;0;0m.\u001b[0mDette\u001b[38;2;255;255;255m\u001b[48;2;255;0;0m vil\u001b[0m\u001b[38;2;255;255;255m\u001b[48;2;255;0;0m for\u001b[0m\u001b[38;2;255;255;255m\u001b[48;2;255;0;0mhind\u001b[0m\u001b[38;2;255;255;255m\u001b[48;2;255;0;0mre\u001b[0m luftfartss\u001b[38;2;255;255;255m\u001b[48;2;255;0;0mels\u001b[0mk\u001b[38;2;255;255;255m\u001b[48;2;255;0;0maber\u001b[0m\u001b[38;2;255;255;255m\u001b[48;2;255;0;0mne\u001b[0m\u001b[38;2;255;255;255m\u001b[48;2;255;0;0m i\u001b[0m\u001b[38;2;255;255;255m\u001b[48;2;255;0;0m at\u001b[0m\u001b[38;2;255;255;255m\u001b[48;2;255;0;0m fly\u001b[0m\n",
            "\u001b[38;2;255;255;255m\u001b[48;2;255;0;0mve\u001b[0m\u001b[38;2;255;255;255m\u001b[48;2;255;0;0m med\u001b[0m tom\u001b[38;2;255;255;255m\u001b[48;2;255;0;0mme\u001b[0m\u001b[38;2;255;255;255m\u001b[48;2;255;0;0m fly\u001b[0m\u001b[38;2;255;255;255m\u001b[48;2;255;0;0m under\u001b[0m\u001b[38;2;255;255;255m\u001b[48;2;255;0;0m pand\u001b[0mem\u001b[38;2;255;255;255m\u001b[48;2;255;0;0mien\u001b[0m\u001b[38;2;255;255;255m\u001b[48;2;255;0;0m.\u001b[0mStø\u001b[38;2;255;255;255m\u001b[48;2;255;0;0mtte\u001b[0m\u001b[38;2;255;255;255m\u001b[48;2;255;0;0mbe\u001b[0m\u001b[38;2;255;255;255m\u001b[48;2;255;0;0mrett\u001b[0m\u001b[38;2;255;255;255m\u001b[48;2;255;0;0mig\u001b[0m\u001b[38;2;255;255;255m\u001b[48;2;255;0;0mede\u001b[0m\u001b[38;2;255;255;255m\u001b[48;2;255;0;0m tilt\u001b[0m\u001b[38;2;255;255;255m\u001b[48;2;255;0;0mag\u001b[0m\u001b[38;2;255;255;255m\u001b[48;2;255;0;0m under\u001b[0m\n",
            "\u001b[38;2;255;255;255m\u001b[48;2;255;0;0m fond\u001b[0m\u001b[38;2;255;255;255m\u001b[48;2;255;0;0men\u001b[0m\u001b[38;2;255;255;255m\u001b[48;2;255;0;0m,\u001b[0m\u001b[38;2;255;255;255m\u001b[48;2;255;0;0m vil\u001b[0m\u001b[38;2;255;255;255m\u001b[48;2;255;0;0m bl\u001b[0m\u001b[38;2;255;255;255m\u001b[48;2;255;0;0mive\u001b[0m\u001b[38;2;255;255;255m\u001b[48;2;255;0;0m ud\u001b[0m\u001b[38;2;255;255;255m\u001b[48;2;255;0;0mvid\u001b[0m\u001b[38;2;255;255;255m\u001b[48;2;255;0;0met\u001b[0m\u001b[38;2;255;255;255m\u001b[48;2;255;0;0m til\u001b[0m\u001b[38;2;255;255;255m\u001b[48;2;255;0;0m også\u001b[0m\u001b[38;2;255;255;255m\u001b[48;2;255;0;0m at\u001b[0m\u001b[38;2;255;255;255m\u001b[48;2;255;0;0m om\u001b[0m\u001b[38;2;255;255;255m\u001b[48;2;255;0;0mfat\u001b[0m\u001b[38;2;255;255;255m\u001b[48;2;255;0;0mte\u001b[0m st\u001b[38;2;255;255;255m\u001b[48;2;255;0;0mø\u001b[0mtte\u001b[38;2;255;255;255m\u001b[48;2;255;0;0m i\u001b[0m\u001b[38;2;255;255;255m\u001b[48;2;255;0;0m for\u001b[0m\n",
            "bind\u001b[38;2;255;255;255m\u001b[48;2;255;0;0melse\u001b[0m\u001b[38;2;255;255;255m\u001b[48;2;255;0;0m med\u001b[0m st\u001b[38;2;255;255;255m\u001b[48;2;255;0;0mør\u001b[0m\u001b[38;2;255;255;255m\u001b[48;2;255;0;0mre\u001b[0m fol\u001b[38;2;255;255;255m\u001b[48;2;255;0;0mkes\u001b[0m\u001b[38;2;255;255;255m\u001b[48;2;255;0;0mund\u001b[0mhedskriser\u001b[38;2;255;255;255m\u001b[48;2;255;0;0m,\u001b[0m\u001b[38;2;255;255;255m\u001b[48;2;255;0;0m her\u001b[0m\u001b[38;2;255;255;255m\u001b[48;2;255;0;0munder\u001b[0m\u001b[38;2;255;255;255m\u001b[48;2;255;0;0m l\u001b[0mægeh\n",
            "jælp\u001b[38;2;255;255;255m\u001b[48;2;255;0;0m,\u001b[0m\u001b[38;2;255;255;255m\u001b[48;2;255;0;0m sam\u001b[0m\u001b[38;2;255;255;255m\u001b[48;2;255;0;0mt\u001b[0m\u001b[38;2;255;255;255m\u001b[48;2;255;0;0m for\u001b[0m\u001b[38;2;255;255;255m\u001b[48;2;255;0;0man\u001b[0m\u001b[38;2;255;255;255m\u001b[48;2;255;0;0mst\u001b[0m\u001b[38;2;255;255;255m\u001b[48;2;255;0;0malt\u001b[0m\u001b[38;2;255;255;255m\u001b[48;2;255;0;0mninger\u001b[0m\u001b[38;2;255;255;255m\u001b[48;2;255;0;0m til\u001b[0m\u001b[38;2;255;255;255m\u001b[48;2;255;0;0m fore\u001b[0m\u001b[38;2;255;255;255m\u001b[48;2;255;0;0mby\u001b[0m\u001b[38;2;255;255;255m\u001b[48;2;255;0;0mgg\u001b[0m\u001b[38;2;255;255;255m\u001b[48;2;255;0;0melse\u001b[0m\u001b[38;2;255;255;255m\u001b[48;2;255;0;0m,\u001b[0m\u001b[38;2;255;255;255m\u001b[48;2;255;0;0m over\u001b[0m\u001b[38;2;255;255;255m\u001b[48;2;255;0;0mv\u001b[0m\u001b[38;2;255;255;255m\u001b[48;2;255;0;0må\u001b[0m\n",
            "\u001b[38;2;255;255;255m\u001b[48;2;255;0;0mg\u001b[0m\u001b[38;2;255;255;255m\u001b[48;2;255;0;0mning\u001b[0m\u001b[38;2;255;255;255m\u001b[48;2;255;0;0m eller\u001b[0m\u001b[38;2;255;255;255m\u001b[48;2;255;0;0m bek\u001b[0mæ\u001b[38;2;255;255;255m\u001b[48;2;255;0;0mmp\u001b[0melse\u001b[38;2;255;255;255m\u001b[48;2;255;0;0m af\u001b[0m sp\u001b[38;2;255;255;255m\u001b[48;2;255;0;0mred\u001b[0mning af sygdomme\u001b[38;2;255;255;255m\u001b[48;2;255;0;0m.\u001b[0mUdvidel\n",
            "\n",
            "The Corona Response Investment Initiative .The Council has to formally approve Parliament's position.The measures will\n",
            " make up to âĤ¬800 million available for European countries in 2020.Further informationThe urgent measures to help\n",
            " people and businesses tackle the crisis were voted on in plenary less than two weeks after the Commission t\n",
            "abled its proposals.The funds will be directed towards healthcare systems, SMEs, labour markets and\n",
            " other vulnerable parts of EU member states' economies.These measures are meant to channel âĤ¬37 billion from\n",
            " available EU funds as soon as possible to citizens, regions and countries hit the hardest by the Coronavirus\n",
            " pandemic.As part of the EU's joint response to the COVID-19 outbreak, MEPs almost\n",
            " unanimously adopted three urgent proposals in an extraordinary plenary session, on Thursday.This will stop air carriers\n",
            " from operating empty flights during the pandemic.Operations eligible under the Fund will be extended to include support\n",
            " in a major public health emergency, including medical assistance, as well as measures to prevent, monitor or\n",
            " control the spread of diseases.The extension of the EU Solidarity Fund to cover public health emergencies.\n",
            "The adopted measures will enter into force once published in the Official Journal of the European Union in the coming\n",
            " days.Temporarily suspending EU rules on airport slots .The temporary suspension means that airlines are\n",
            " not obliged to use their planned take-off and landing slots to keep them in the next corresponding season\n",
            ".The 'use it or lose it' rule will be waived for the whole summer season, from\n",
            " 29 March until 24 October 2020.COVID-19: final vote in EP plenary to approve\n",
            " crucial EU support measures - Â© EPThe proposal was adopted with 671 votes in favour, 3 against\n",
            " and 14 abstentions.The proposal was adopted with 683 votes in favour, 1 against and\n",
            " 4 abstentions.The proposal was adopted with 686 votes in favour, no votes against and\n",
            " 2 abstentions.developing new vaccinesProgrammes already in placeThe 140 research teams from across"
          ]
        }
      ],
      "source": [
        "begin_at = 0\n",
        "\n",
        "\n",
        "print_colored_acts(\n",
        "    da_tokens2[begin_at:],\n",
        "    da_acts2[begin_at:],\n",
        "    27584,\n",
        "    tokenizer,\n",
        "    stop_after=400\n",
        ")\n",
        "print('')\n",
        "print_colored_acts(\n",
        "    en_tokens2[begin_at:],\n",
        "    en_acts2[begin_at:],\n",
        "    27584,\n",
        "    tokenizer,\n",
        "    stop_after=400\n",
        ")"
      ]
    },
    {
      "cell_type": "code",
      "execution_count": null,
      "metadata": {
        "id": "soGLSKI5mzoc",
        "outputId": "6cfad226-1a33-43aa-d340-fbc769ed2eab",
        "colab": {
          "base_uri": "https://localhost:8080/"
        }
      },
      "outputs": [
        {
          "output_type": "stream",
          "name": "stdout",
          "text": [
            "\n",
            "\u001b[38;2;255;255;255m\u001b[48;2;0;0;0mCor\u001b[0m\u001b[38;2;255;255;255m\u001b[48;2;3;0;0mona\u001b[0m\u001b[38;2;255;255;255m\u001b[48;2;3;0;0m Response\u001b[0m\u001b[38;2;255;255;255m\u001b[48;2;0;0;0m Investment\u001b[0m\u001b[38;2;255;255;255m\u001b[48;2;0;0;29m Initiative\u001b[0m\u001b[38;2;255;255;255m\u001b[48;2;0;0;21m .\u001b[0m\u001b[38;2;255;255;255m\u001b[48;2;0;0;0mR\u001b[0m\u001b[38;2;255;255;255m\u001b[48;2;25;0;0må\u001b[0m\u001b[38;2;255;255;255m\u001b[48;2;67;0;0mdet\u001b[0m\u001b[38;2;255;255;255m\u001b[48;2;96;0;0m skal\u001b[0m\u001b[38;2;255;255;255m\u001b[48;2;100;0;0m nu\u001b[0m\u001b[38;2;255;255;255m\u001b[48;2;90;0;0m form\u001b[0m\u001b[38;2;255;255;255m\u001b[48;2;126;0;0melt\u001b[0m\u001b[38;2;255;255;255m\u001b[48;2;79;0;0m god\u001b[0m\u001b[38;2;255;255;255m\u001b[48;2;64;0;0mk\u001b[0m\u001b[38;2;255;255;255m\u001b[48;2;94;0;0mende\u001b[0m\u001b[38;2;255;255;255m\u001b[48;2;74;0;0m Parlament\u001b[0m\u001b[38;2;255;255;255m\u001b[48;2;129;0;0mets\u001b[0m\u001b[38;2;255;255;255m\u001b[48;2;65;0;0m hold\u001b[0m\u001b[38;2;255;255;255m\u001b[48;2;77;0;0mning\u001b[0m\n",
            "\u001b[38;2;255;255;255m\u001b[48;2;122;0;0m.\u001b[0m\u001b[38;2;255;255;255m\u001b[48;2;0;0;0mFor\u001b[0m\u001b[38;2;255;255;255m\u001b[48;2;0;0;14man\u001b[0m\u001b[38;2;255;255;255m\u001b[48;2;25;0;0mst\u001b[0m\u001b[38;2;255;255;255m\u001b[48;2;24;0;0malt\u001b[0m\u001b[38;2;255;255;255m\u001b[48;2;77;0;0mning\u001b[0m\u001b[38;2;255;255;255m\u001b[48;2;95;0;0merne\u001b[0m\u001b[38;2;255;255;255m\u001b[48;2;119;0;0m vil\u001b[0m\u001b[38;2;255;255;255m\u001b[48;2;79;0;0m st\u001b[0m\u001b[38;2;255;255;255m\u001b[48;2;108;0;0mille\u001b[0m\u001b[38;2;255;255;255m\u001b[48;2;66;0;0m op\u001b[0m\u001b[38;2;255;255;255m\u001b[48;2;99;0;0m til\u001b[0m\u001b[38;2;255;255;255m\u001b[48;2;135;0;0m 800\u001b[0m\u001b[38;2;255;255;255m\u001b[48;2;84;0;0m m\u001b[0m\u001b[38;2;255;255;255m\u001b[48;2;113;0;0mio\u001b[0m\u001b[38;2;255;255;255m\u001b[48;2;126;0;0m.\u001b[0m\u001b[38;2;255;255;255m\u001b[48;2;157;0;0m EUR\u001b[0m\u001b[38;2;255;255;255m\u001b[48;2;111;0;0m til\u001b[0m\u001b[38;2;255;255;255m\u001b[48;2;63;0;0m r\u001b[0m\u001b[38;2;255;255;255m\u001b[48;2;46;0;0må\u001b[0m\n",
            "\u001b[38;2;255;255;255m\u001b[48;2;88;0;0mdig\u001b[0m\u001b[38;2;255;255;255m\u001b[48;2;88;0;0mhed\u001b[0m\u001b[38;2;255;255;255m\u001b[48;2;66;0;0m for\u001b[0m\u001b[38;2;255;255;255m\u001b[48;2;57;0;0m EU\u001b[0m\u001b[38;2;255;255;255m\u001b[48;2;82;0;0m land\u001b[0m\u001b[38;2;255;255;255m\u001b[48;2;80;0;0mene\u001b[0m\u001b[38;2;255;255;255m\u001b[48;2;53;0;0m i\u001b[0m\u001b[38;2;255;255;255m\u001b[48;2;57;0;0m 2020\u001b[0m\u001b[38;2;255;255;255m\u001b[48;2;100;0;0m.\u001b[0m\u001b[38;2;255;255;255m\u001b[48;2;0;0;0mN\u001b[0m\u001b[38;2;255;255;255m\u001b[48;2;17;0;0mæ\u001b[0m\u001b[38;2;255;255;255m\u001b[48;2;108;0;0mste\u001b[0m\u001b[38;2;255;255;255m\u001b[48;2;83;0;0m sk\u001b[0m\u001b[38;2;255;255;255m\u001b[48;2;46;0;0mrid\u001b[0m\u001b[38;2;255;255;255m\u001b[48;2;107;0;0mt\u001b[0m\u001b[38;2;255;255;255m\u001b[48;2;0;0;0mH\u001b[0m\u001b[38;2;255;255;255m\u001b[48;2;0;0;6maste\u001b[0m\u001b[38;2;255;255;255m\u001b[48;2;0;0;43mfor\u001b[0m\u001b[38;2;255;255;255m\u001b[48;2;0;0;39man\u001b[0m\u001b[38;2;255;255;255m\u001b[48;2;13;0;0mst\u001b[0m\n",
            "\u001b[38;2;255;255;255m\u001b[48;2;13;0;0malt\u001b[0m\u001b[38;2;255;255;255m\u001b[48;2;71;0;0mninger\u001b[0m\u001b[38;2;255;255;255m\u001b[48;2;77;0;0m,\u001b[0m\u001b[38;2;255;255;255m\u001b[48;2;133;0;0m der\u001b[0m\u001b[38;2;255;255;255m\u001b[48;2;123;0;0m skal\u001b[0m\u001b[38;2;255;255;255m\u001b[48;2;109;0;0m h\u001b[0m\u001b[38;2;255;255;255m\u001b[48;2;71;0;0mj\u001b[0m\u001b[38;2;255;255;255m\u001b[48;2;37;0;0mæ\u001b[0m\u001b[38;2;255;255;255m\u001b[48;2;48;0;0ml\u001b[0m\u001b[38;2;255;255;255m\u001b[48;2;98;0;0mpe\u001b[0m\u001b[38;2;255;255;255m\u001b[48;2;76;0;0m b\u001b[0m\u001b[38;2;255;255;255m\u001b[48;2;84;0;0morge\u001b[0m\u001b[38;2;255;255;255m\u001b[48;2;67;0;0mre\u001b[0m\u001b[38;2;255;255;255m\u001b[48;2;119;0;0m og\u001b[0m\u001b[38;2;255;255;255m\u001b[48;2;63;0;0m vir\u001b[0m\u001b[38;2;255;255;255m\u001b[48;2;70;0;0mks\u001b[0m\u001b[38;2;255;255;255m\u001b[48;2;111;0;0mom\u001b[0m\u001b[38;2;255;255;255m\u001b[48;2;69;0;0mhe\u001b[0m\u001b[38;2;255;255;255m\u001b[48;2;90;0;0mder\u001b[0m\u001b[38;2;255;255;255m\u001b[48;2;87;0;0m med\u001b[0m\n",
            "\u001b[38;2;255;255;255m\u001b[48;2;75;0;0m at\u001b[0m\u001b[38;2;255;255;255m\u001b[48;2;60;0;0m tackle\u001b[0m\u001b[38;2;255;255;255m\u001b[48;2;82;0;0m k\u001b[0m\u001b[38;2;255;255;255m\u001b[48;2;47;0;0mris\u001b[0m\u001b[38;2;255;255;255m\u001b[48;2;86;0;0men\u001b[0m\u001b[38;2;255;255;255m\u001b[48;2;124;0;0m,\u001b[0m\u001b[38;2;255;255;255m\u001b[48;2;91;0;0m ble\u001b[0m\u001b[38;2;255;255;255m\u001b[48;2;132;0;0mv\u001b[0m\u001b[38;2;255;255;255m\u001b[48;2;137;0;0m sat\u001b[0m\u001b[38;2;255;255;255m\u001b[48;2;99;0;0m til\u001b[0m\u001b[38;2;255;255;255m\u001b[48;2;74;0;0m af\u001b[0m\u001b[38;2;255;255;255m\u001b[48;2;63;0;0mstem\u001b[0m\u001b[38;2;255;255;255m\u001b[48;2;95;0;0mning\u001b[0m\u001b[38;2;255;255;255m\u001b[48;2;96;0;0m på\u001b[0m\u001b[38;2;255;255;255m\u001b[48;2;143;0;0m et\u001b[0m\u001b[38;2;255;255;255m\u001b[48;2;46;0;0m pl\u001b[0m\u001b[38;2;255;255;255m\u001b[48;2;42;0;0men\u001b[0m\u001b[38;2;255;255;255m\u001b[48;2;68;0;0marm\u001b[0m\u001b[38;2;255;255;255m\u001b[48;2;31;0;0mø\u001b[0m\u001b[38;2;255;255;255m\u001b[48;2;97;0;0mde\u001b[0m\n",
            "\u001b[38;2;255;255;255m\u001b[48;2;87;0;0m mind\u001b[0m\u001b[38;2;255;255;255m\u001b[48;2;138;0;0mre\u001b[0m\u001b[38;2;255;255;255m\u001b[48;2;103;0;0m end\u001b[0m\u001b[38;2;255;255;255m\u001b[48;2;108;0;0m to\u001b[0m\u001b[38;2;255;255;255m\u001b[48;2;71;0;0m ug\u001b[0m\u001b[38;2;255;255;255m\u001b[48;2;104;0;0mer\u001b[0m\u001b[38;2;255;255;255m\u001b[48;2;87;0;0m efter\u001b[0m\u001b[38;2;255;255;255m\u001b[48;2;72;0;0m,\u001b[0m\u001b[38;2;255;255;255m\u001b[48;2;69;0;0m at\u001b[0m\u001b[38;2;255;255;255m\u001b[48;2;54;0;0m Kommission\u001b[0m\u001b[38;2;255;255;255m\u001b[48;2;100;0;0men\u001b[0m\u001b[38;2;255;255;255m\u001b[48;2;51;0;0m fre\u001b[0m\u001b[38;2;255;255;255m\u001b[48;2;63;0;0mms\u001b[0m\u001b[38;2;255;255;255m\u001b[48;2;102;0;0matte\u001b[0m\u001b[38;2;255;255;255m\u001b[48;2;157;0;0m sine\u001b[0m\u001b[38;2;255;255;255m\u001b[48;2;75;0;0m for\u001b[0m\u001b[38;2;255;255;255m\u001b[48;2;93;0;0msl\u001b[0m\u001b[38;2;255;255;255m\u001b[48;2;126;0;0mag\u001b[0m\u001b[38;2;255;255;255m\u001b[48;2;99;0;0m.\u001b[0m\u001b[38;2;255;255;255m\u001b[48;2;0;0;0mMid\u001b[0m\n",
            "\u001b[38;2;255;255;255m\u001b[48;2;0;0;16mler\u001b[0m\u001b[38;2;255;255;255m\u001b[48;2;0;0;2mne\u001b[0m\u001b[38;2;255;255;255m\u001b[48;2;37;0;0m vil\u001b[0m\u001b[38;2;255;255;255m\u001b[48;2;69;0;0m bl\u001b[0m\u001b[38;2;255;255;255m\u001b[48;2;84;0;0mive\u001b[0m\u001b[38;2;255;255;255m\u001b[48;2;87;0;0m ret\u001b[0m\u001b[38;2;255;255;255m\u001b[48;2;77;0;0mtet\u001b[0m\u001b[38;2;255;255;255m\u001b[48;2;53;0;0m mod\u001b[0m\u001b[38;2;255;255;255m\u001b[48;2;84;0;0m s\u001b[0m\u001b[38;2;255;255;255m\u001b[48;2;48;0;0mund\u001b[0m\u001b[38;2;255;255;255m\u001b[48;2;84;0;0mhed\u001b[0m\u001b[38;2;255;255;255m\u001b[48;2;74;0;0mss\u001b[0m\u001b[38;2;255;255;255m\u001b[48;2;58;0;0mystem\u001b[0m\u001b[38;2;255;255;255m\u001b[48;2;63;0;0mer\u001b[0m\u001b[38;2;255;255;255m\u001b[48;2;59;0;0m,\u001b[0m\u001b[38;2;255;255;255m\u001b[48;2;27;0;0m SM\u001b[0m\u001b[38;2;255;255;255m\u001b[48;2;39;0;0mV\u001b[0m\u001b[38;2;255;255;255m\u001b[48;2;65;0;0m'\u001b[0m\u001b[38;2;255;255;255m\u001b[48;2;59;0;0mer\u001b[0m\u001b[38;2;255;255;255m\u001b[48;2;54;0;0m,\u001b[0m\n",
            "\u001b[38;2;255;255;255m\u001b[48;2;39;0;0m arbe\u001b[0m\u001b[38;2;255;255;255m\u001b[48;2;43;0;0mj\u001b[0m\u001b[38;2;255;255;255m\u001b[48;2;61;0;0mds\u001b[0m\u001b[38;2;255;255;255m\u001b[48;2;63;0;0mmark\u001b[0m\u001b[38;2;255;255;255m\u001b[48;2;69;0;0meder\u001b[0m\u001b[38;2;255;255;255m\u001b[48;2;69;0;0m og\u001b[0m\u001b[38;2;255;255;255m\u001b[48;2;65;0;0m and\u001b[0m\u001b[38;2;255;255;255m\u001b[48;2;143;0;0mre\u001b[0m\u001b[38;2;255;255;255m\u001b[48;2;179;0;0m så\u001b[0m\u001b[38;2;255;255;255m\u001b[48;2;75;0;0mrb\u001b[0m\u001b[38;2;255;255;255m\u001b[48;2;155;0;0mare\u001b[0m\u001b[38;2;255;255;255m\u001b[48;2;112;0;0m dele\u001b[0m\u001b[38;2;255;255;255m\u001b[48;2;85;0;0m af\u001b[0m\u001b[38;2;255;255;255m\u001b[48;2;60;0;0m EU\u001b[0m\u001b[38;2;255;255;255m\u001b[48;2;133;0;0m-\u001b[0m\u001b[38;2;255;255;255m\u001b[48;2;104;0;0mmed\u001b[0m\u001b[38;2;255;255;255m\u001b[48;2;89;0;0mlems\u001b[0m\u001b[38;2;255;255;255m\u001b[48;2;64;0;0mland\u001b[0m\u001b[38;2;255;255;255m\u001b[48;2;117;0;0menes\u001b[0m\u001b[38;2;255;255;255m\u001b[48;2;49;0;0m ø\u001b[0m\n",
            "\u001b[38;2;255;255;255m\u001b[48;2;39;0;0mk\u001b[0m\u001b[38;2;255;255;255m\u001b[48;2;76;0;0monom\u001b[0m\u001b[38;2;255;255;255m\u001b[48;2;74;0;0mier\u001b[0m\u001b[38;2;255;255;255m\u001b[48;2;91;0;0m.\u001b[0m\u001b[38;2;255;255;255m\u001b[48;2;1;0;0mForm\u001b[0m\u001b[38;2;255;255;255m\u001b[48;2;37;0;0må\u001b[0m\u001b[38;2;255;255;255m\u001b[48;2;72;0;0mlet\u001b[0m\u001b[38;2;255;255;255m\u001b[48;2;40;0;0m med\u001b[0m\u001b[38;2;255;255;255m\u001b[48;2;132;0;0m disse\u001b[0m\u001b[38;2;255;255;255m\u001b[48;2;99;0;0m for\u001b[0m\u001b[38;2;255;255;255m\u001b[48;2;103;0;0man\u001b[0m\u001b[38;2;255;255;255m\u001b[48;2;64;0;0mst\u001b[0m\u001b[38;2;255;255;255m\u001b[48;2;79;0;0malt\u001b[0m\u001b[38;2;255;255;255m\u001b[48;2;136;0;0mninger\u001b[0m\u001b[38;2;255;255;255m\u001b[48;2;117;0;0m er\u001b[0m\u001b[38;2;255;255;255m\u001b[48;2;89;0;0m at\u001b[0m\u001b[38;2;255;255;255m\u001b[48;2;49;0;0m kan\u001b[0m\u001b[38;2;255;255;255m\u001b[48;2;48;0;0mal\u001b[0m\u001b[38;2;255;255;255m\u001b[48;2;66;0;0mise\u001b[0m\u001b[38;2;255;255;255m\u001b[48;2;61;0;0mre\u001b[0m\n",
            "\u001b[38;2;255;255;255m\u001b[48;2;107;0;0m 37\u001b[0m\u001b[38;2;255;255;255m\u001b[48;2;72;0;0m m\u001b[0m\u001b[38;2;255;255;255m\u001b[48;2;101;0;0mia\u001b[0m\u001b[38;2;255;255;255m\u001b[48;2;83;0;0m.\u001b[0m\u001b[38;2;255;255;255m\u001b[48;2;136;0;0m EUR\u001b[0m\u001b[38;2;255;255;255m\u001b[48;2;66;0;0m fra\u001b[0m\u001b[38;2;255;255;255m\u001b[48;2;78;0;0m e\u001b[0m\u001b[38;2;255;255;255m\u001b[48;2;43;0;0mks\u001b[0m\u001b[38;2;255;255;255m\u001b[48;2;59;0;0miste\u001b[0m\u001b[38;2;255;255;255m\u001b[48;2;99;0;0mrende\u001b[0m\u001b[38;2;255;255;255m\u001b[48;2;89;0;0m EU\u001b[0m\u001b[38;2;255;255;255m\u001b[48;2;130;0;0m-\u001b[0m\u001b[38;2;255;255;255m\u001b[48;2;88;0;0mmid\u001b[0m\u001b[38;2;255;255;255m\u001b[48;2;90;0;0mler\u001b[0m\u001b[38;2;255;255;255m\u001b[48;2;64;0;0m til\u001b[0m\u001b[38;2;255;255;255m\u001b[48;2;122;0;0m de\u001b[0m\u001b[38;2;255;255;255m\u001b[48;2;77;0;0m b\u001b[0m\u001b[38;2;255;255;255m\u001b[48;2;110;0;0morge\u001b[0m\u001b[38;2;255;255;255m\u001b[48;2;97;0;0mre\u001b[0m\u001b[38;2;255;255;255m\u001b[48;2;103;0;0m,\u001b[0m\n",
            "\u001b[38;2;255;255;255m\u001b[48;2;78;0;0m region\u001b[0m\u001b[38;2;255;255;255m\u001b[48;2;63;0;0mer\u001b[0m\u001b[38;2;255;255;255m\u001b[48;2;108;0;0m og\u001b[0m\u001b[38;2;255;255;255m\u001b[48;2;72;0;0m land\u001b[0m\u001b[38;2;255;255;255m\u001b[48;2;80;0;0me\u001b[0m\u001b[38;2;255;255;255m\u001b[48;2;99;0;0m,\u001b[0m\u001b[38;2;255;255;255m\u001b[48;2;79;0;0m der\u001b[0m\u001b[38;2;255;255;255m\u001b[48;2;102;0;0m er\u001b[0m\u001b[38;2;255;255;255m\u001b[48;2;40;0;0m hå\u001b[0m\u001b[38;2;255;255;255m\u001b[48;2;73;0;0mrd\u001b[0m\u001b[38;2;255;255;255m\u001b[48;2;77;0;0mest\u001b[0m\u001b[38;2;255;255;255m\u001b[48;2;23;0;0m ram\u001b[0m\u001b[38;2;255;255;255m\u001b[48;2;95;0;0mt\u001b[0m\u001b[38;2;255;255;255m\u001b[48;2;37;0;0m af\u001b[0m\u001b[38;2;255;255;255m\u001b[48;2;32;0;0m Coron\u001b[0m\u001b[38;2;255;255;255m\u001b[48;2;42;0;0mavirus\u001b[0m\u001b[38;2;255;255;255m\u001b[48;2;82;0;0m-\u001b[0m\u001b[38;2;255;255;255m\u001b[48;2;59;0;0mp\u001b[0m\u001b[38;2;255;255;255m\u001b[48;2;42;0;0mandem\u001b[0m\u001b[38;2;255;255;255m\u001b[48;2;33;0;0mien\u001b[0m\n",
            "\u001b[38;2;255;255;255m\u001b[48;2;160;0;0m så\u001b[0m\u001b[38;2;255;255;255m\u001b[48;2;89;0;0m hurt\u001b[0m\u001b[38;2;255;255;255m\u001b[48;2;143;0;0migt\u001b[0m\u001b[38;2;255;255;255m\u001b[48;2;134;0;0m som\u001b[0m\u001b[38;2;255;255;255m\u001b[48;2;92;0;0m mul\u001b[0m\u001b[38;2;255;255;255m\u001b[48;2;94;0;0migt\u001b[0m\u001b[38;2;255;255;255m\u001b[48;2;86;0;0m.\u001b[0m\u001b[38;2;255;255;255m\u001b[48;2;0;0;0mS\u001b[0m\u001b[38;2;255;255;255m\u001b[48;2;8;0;0mom\u001b[0m\u001b[38;2;255;255;255m\u001b[48;2;20;0;0m en\u001b[0m\u001b[38;2;255;255;255m\u001b[48;2;61;0;0m del\u001b[0m\u001b[38;2;255;255;255m\u001b[48;2;85;0;0m af\u001b[0m\u001b[38;2;255;255;255m\u001b[48;2;66;0;0m EU\u001b[0m\u001b[38;2;255;255;255m\u001b[48;2;134;0;0m's\u001b[0m\u001b[38;2;255;255;255m\u001b[48;2;73;0;0m f\u001b[0m\u001b[38;2;255;255;255m\u001b[48;2;38;0;0mæ\u001b[0m\u001b[38;2;255;255;255m\u001b[48;2;70;0;0mll\u001b[0m\u001b[38;2;255;255;255m\u001b[48;2;119;0;0mes\u001b[0m\u001b[38;2;255;255;255m\u001b[48;2;96;0;0m s\u001b[0m\u001b[38;2;255;255;255m\u001b[48;2;76;0;0mvar\u001b[0m\n",
            "\u001b[38;2;255;255;255m\u001b[48;2;83;0;0m mod\u001b[0m\u001b[38;2;255;255;255m\u001b[48;2;36;0;0m COVID\u001b[0m\u001b[38;2;255;255;255m\u001b[48;2;35;0;0m-\u001b[0m\u001b[38;2;255;255;255m\u001b[48;2;56;0;0m19\u001b[0m\u001b[38;2;255;255;255m\u001b[48;2;109;0;0m-\u001b[0m\u001b[38;2;255;255;255m\u001b[48;2;86;0;0mud\u001b[0m\u001b[38;2;255;255;255m\u001b[48;2;36;0;0mbr\u001b[0m\u001b[38;2;255;255;255m\u001b[48;2;63;0;0mud\u001b[0m\u001b[38;2;255;255;255m\u001b[48;2;74;0;0mdet\u001b[0m\u001b[38;2;255;255;255m\u001b[48;2;80;0;0m ved\u001b[0m\u001b[38;2;255;255;255m\u001b[48;2;73;0;0mt\u001b[0m\u001b[38;2;255;255;255m\u001b[48;2;97;0;0mog\u001b[0m\u001b[38;2;255;255;255m\u001b[48;2;91;0;0m med\u001b[0m\u001b[38;2;255;255;255m\u001b[48;2;69;0;0mlem\u001b[0m\u001b[38;2;255;255;255m\u001b[48;2;87;0;0mmer\u001b[0m\u001b[38;2;255;255;255m\u001b[48;2;69;0;0mne\u001b[0m\u001b[38;2;255;255;255m\u001b[48;2;49;0;0m n\u001b[0m\u001b[38;2;255;255;255m\u001b[48;2;27;0;0mæ\u001b[0m\u001b[38;2;255;255;255m\u001b[48;2;92;0;0msten\u001b[0m\u001b[38;2;255;255;255m\u001b[48;2;74;0;0m en\u001b[0m\n",
            "\u001b[38;2;255;255;255m\u001b[48;2;35;0;0mstem\u001b[0m\u001b[38;2;255;255;255m\u001b[48;2;24;0;0mm\u001b[0m\u001b[38;2;255;255;255m\u001b[48;2;30;0;0migt\u001b[0m\u001b[38;2;255;255;255m\u001b[48;2;136;0;0m tre\u001b[0m\u001b[38;2;255;255;255m\u001b[48;2;136;0;0m haste\u001b[0m\u001b[38;2;255;255;255m\u001b[48;2;61;0;0mfors\u001b[0m\u001b[38;2;255;255;255m\u001b[48;2;133;0;0mlag\u001b[0m\u001b[38;2;255;255;255m\u001b[48;2;119;0;0m på\u001b[0m\u001b[38;2;255;255;255m\u001b[48;2;101;0;0m en\u001b[0m\u001b[38;2;255;255;255m\u001b[48;2;17;0;0m ek\u001b[0m\u001b[38;2;255;255;255m\u001b[48;2;67;0;0mstra\u001b[0m\u001b[38;2;255;255;255m\u001b[48;2;36;0;0mordin\u001b[0m\u001b[38;2;255;255;255m\u001b[48;2;118;0;0mær\u001b[0m\u001b[38;2;255;255;255m\u001b[48;2;44;0;0m pl\u001b[0m\u001b[38;2;255;255;255m\u001b[48;2;31;0;0men\u001b[0m\u001b[38;2;255;255;255m\u001b[48;2;56;0;0marf\u001b[0m\u001b[38;2;255;255;255m\u001b[48;2;40;0;0mors\u001b[0m\u001b[38;2;255;255;255m\u001b[48;2;36;0;0mam\u001b[0m\u001b[38;2;255;255;255m\u001b[48;2;94;0;0mling\u001b[0m\u001b[38;2;255;255;255m\u001b[48;2;75;0;0m tors\u001b[0m\n",
            "\u001b[38;2;255;255;255m\u001b[48;2;78;0;0mdag\u001b[0m\u001b[38;2;255;255;255m\u001b[48;2;85;0;0m.\u001b[0m\u001b[38;2;255;255;255m\u001b[48;2;0;0;0mD\u001b[0m\u001b[38;2;255;255;255m\u001b[48;2;57;0;0mette\u001b[0m\u001b[38;2;255;255;255m\u001b[48;2;59;0;0m vil\u001b[0m\u001b[38;2;255;255;255m\u001b[48;2;81;0;0m for\u001b[0m\u001b[38;2;255;255;255m\u001b[48;2;51;0;0mhind\u001b[0m\u001b[38;2;255;255;255m\u001b[48;2;67;0;0mre\u001b[0m\u001b[38;2;255;255;255m\u001b[48;2;44;0;0m lu\u001b[0m\u001b[38;2;255;255;255m\u001b[48;2;63;0;0mft\u001b[0m\u001b[38;2;255;255;255m\u001b[48;2;53;0;0mf\u001b[0m\u001b[38;2;255;255;255m\u001b[48;2;100;0;0mart\u001b[0m\u001b[38;2;255;255;255m\u001b[48;2;85;0;0mss\u001b[0m\u001b[38;2;255;255;255m\u001b[48;2;60;0;0mels\u001b[0m\u001b[38;2;255;255;255m\u001b[48;2;72;0;0mk\u001b[0m\u001b[38;2;255;255;255m\u001b[48;2;65;0;0maber\u001b[0m\u001b[38;2;255;255;255m\u001b[48;2;49;0;0mne\u001b[0m\u001b[38;2;255;255;255m\u001b[48;2;33;0;0m i\u001b[0m\u001b[38;2;255;255;255m\u001b[48;2;56;0;0m at\u001b[0m\u001b[38;2;255;255;255m\u001b[48;2;46;0;0m fly\u001b[0m\n",
            "\u001b[38;2;255;255;255m\u001b[48;2;50;0;0mve\u001b[0m\u001b[38;2;255;255;255m\u001b[48;2;87;0;0m med\u001b[0m\u001b[38;2;255;255;255m\u001b[48;2;70;0;0m tom\u001b[0m\u001b[38;2;255;255;255m\u001b[48;2;61;0;0mme\u001b[0m\u001b[38;2;255;255;255m\u001b[48;2;64;0;0m fly\u001b[0m\u001b[38;2;255;255;255m\u001b[48;2;57;0;0m under\u001b[0m\u001b[38;2;255;255;255m\u001b[48;2;21;0;0m pand\u001b[0m\u001b[38;2;255;255;255m\u001b[48;2;29;0;0mem\u001b[0m\u001b[38;2;255;255;255m\u001b[48;2;39;0;0mien\u001b[0m\u001b[38;2;255;255;255m\u001b[48;2;90;0;0m.\u001b[0m\u001b[38;2;255;255;255m\u001b[48;2;0;0;0mSt\u001b[0m\u001b[38;2;255;255;255m\u001b[48;2;33;0;0mø\u001b[0m\u001b[38;2;255;255;255m\u001b[48;2;70;0;0mtte\u001b[0m\u001b[38;2;255;255;255m\u001b[48;2;57;0;0mbe\u001b[0m\u001b[38;2;255;255;255m\u001b[48;2;60;0;0mrett\u001b[0m\u001b[38;2;255;255;255m\u001b[48;2;54;0;0mig\u001b[0m\u001b[38;2;255;255;255m\u001b[48;2;87;0;0mede\u001b[0m\u001b[38;2;255;255;255m\u001b[48;2;55;0;0m tilt\u001b[0m\u001b[38;2;255;255;255m\u001b[48;2;101;0;0mag\u001b[0m\u001b[38;2;255;255;255m\u001b[48;2;80;0;0m under\u001b[0m\n",
            "\u001b[38;2;255;255;255m\u001b[48;2;74;0;0m fond\u001b[0m\u001b[38;2;255;255;255m\u001b[48;2;35;0;0men\u001b[0m\u001b[38;2;255;255;255m\u001b[48;2;95;0;0m,\u001b[0m\u001b[38;2;255;255;255m\u001b[48;2;101;0;0m vil\u001b[0m\u001b[38;2;255;255;255m\u001b[48;2;100;0;0m bl\u001b[0m\u001b[38;2;255;255;255m\u001b[48;2;138;0;0mive\u001b[0m\u001b[38;2;255;255;255m\u001b[48;2;102;0;0m ud\u001b[0m\u001b[38;2;255;255;255m\u001b[48;2;66;0;0mvid\u001b[0m\u001b[38;2;255;255;255m\u001b[48;2;118;0;0met\u001b[0m\u001b[38;2;255;255;255m\u001b[48;2;109;0;0m til\u001b[0m\u001b[38;2;255;255;255m\u001b[48;2;92;0;0m også\u001b[0m\u001b[38;2;255;255;255m\u001b[48;2;127;0;0m at\u001b[0m\u001b[38;2;255;255;255m\u001b[48;2;124;0;0m om\u001b[0m\u001b[38;2;255;255;255m\u001b[48;2;62;0;0mfat\u001b[0m\u001b[38;2;255;255;255m\u001b[48;2;98;0;0mte\u001b[0m\u001b[38;2;255;255;255m\u001b[48;2;80;0;0m st\u001b[0m\u001b[38;2;255;255;255m\u001b[48;2;70;0;0mø\u001b[0m\u001b[38;2;255;255;255m\u001b[48;2;118;0;0mtte\u001b[0m\u001b[38;2;255;255;255m\u001b[48;2;93;0;0m i\u001b[0m\u001b[38;2;255;255;255m\u001b[48;2;67;0;0m for\u001b[0m\n",
            "\u001b[38;2;255;255;255m\u001b[48;2;60;0;0mbind\u001b[0m\u001b[38;2;255;255;255m\u001b[48;2;83;0;0melse\u001b[0m\u001b[38;2;255;255;255m\u001b[48;2;65;0;0m med\u001b[0m\u001b[38;2;255;255;255m\u001b[48;2;50;0;0m st\u001b[0m\u001b[38;2;255;255;255m\u001b[48;2;93;0;0mør\u001b[0m\u001b[38;2;255;255;255m\u001b[48;2;119;0;0mre\u001b[0m\u001b[38;2;255;255;255m\u001b[48;2;41;0;0m fol\u001b[0m\u001b[38;2;255;255;255m\u001b[48;2;54;0;0mkes\u001b[0m\u001b[38;2;255;255;255m\u001b[48;2;46;0;0mund\u001b[0m\u001b[38;2;255;255;255m\u001b[48;2;89;0;0mhed\u001b[0m\u001b[38;2;255;255;255m\u001b[48;2;87;0;0msk\u001b[0m\u001b[38;2;255;255;255m\u001b[48;2;51;0;0mris\u001b[0m\u001b[38;2;255;255;255m\u001b[48;2;103;0;0mer\u001b[0m\u001b[38;2;255;255;255m\u001b[48;2;95;0;0m,\u001b[0m\u001b[38;2;255;255;255m\u001b[48;2;135;0;0m her\u001b[0m\u001b[38;2;255;255;255m\u001b[48;2;51;0;0munder\u001b[0m\u001b[38;2;255;255;255m\u001b[48;2;70;0;0m l\u001b[0m\u001b[38;2;255;255;255m\u001b[48;2;30;0;0mæ\u001b[0m\u001b[38;2;255;255;255m\u001b[48;2;70;0;0mge\u001b[0m\u001b[38;2;255;255;255m\u001b[48;2;56;0;0mh\u001b[0m\n",
            "\u001b[38;2;255;255;255m\u001b[48;2;29;0;0mj\u001b[0m\u001b[38;2;255;255;255m\u001b[48;2;17;0;0mæ\u001b[0m\u001b[38;2;255;255;255m\u001b[48;2;82;0;0mlp\u001b[0m\u001b[38;2;255;255;255m\u001b[48;2;63;0;0m,\u001b[0m\u001b[38;2;255;255;255m\u001b[48;2;53;0;0m sam\u001b[0m\u001b[38;2;255;255;255m\u001b[48;2;69;0;0mt\u001b[0m\u001b[38;2;255;255;255m\u001b[48;2;65;0;0m for\u001b[0m\u001b[38;2;255;255;255m\u001b[48;2;72;0;0man\u001b[0m\u001b[38;2;255;255;255m\u001b[48;2;62;0;0mst\u001b[0m\u001b[38;2;255;255;255m\u001b[48;2;75;0;0malt\u001b[0m\u001b[38;2;255;255;255m\u001b[48;2;141;0;0mninger\u001b[0m\u001b[38;2;255;255;255m\u001b[48;2;66;0;0m til\u001b[0m\u001b[38;2;255;255;255m\u001b[48;2;57;0;0m fore\u001b[0m\u001b[38;2;255;255;255m\u001b[48;2;30;0;0mby\u001b[0m\u001b[38;2;255;255;255m\u001b[48;2;49;0;0mgg\u001b[0m\u001b[38;2;255;255;255m\u001b[48;2;77;0;0melse\u001b[0m\u001b[38;2;255;255;255m\u001b[48;2;61;0;0m,\u001b[0m\u001b[38;2;255;255;255m\u001b[48;2;50;0;0m over\u001b[0m\u001b[38;2;255;255;255m\u001b[48;2;21;0;0mv\u001b[0m\u001b[38;2;255;255;255m\u001b[48;2;18;0;0må\u001b[0m\n",
            "\u001b[38;2;255;255;255m\u001b[48;2;41;0;0mg\u001b[0m\u001b[38;2;255;255;255m\u001b[48;2;75;0;0mning\u001b[0m\u001b[38;2;255;255;255m\u001b[48;2;61;0;0m eller\u001b[0m\u001b[38;2;255;255;255m\u001b[48;2;27;0;0m bek\u001b[0m\u001b[38;2;255;255;255m\u001b[48;2;26;0;0mæ\u001b[0m\u001b[38;2;255;255;255m\u001b[48;2;43;0;0mmp\u001b[0m\u001b[38;2;255;255;255m\u001b[48;2;98;0;0melse\u001b[0m\u001b[38;2;255;255;255m\u001b[48;2;66;0;0m af\u001b[0m\u001b[38;2;255;255;255m\u001b[48;2;30;0;0m sp\u001b[0m\u001b[38;2;255;255;255m\u001b[48;2;42;0;0mred\u001b[0m\u001b[38;2;255;255;255m\u001b[48;2;78;0;0mning\u001b[0m\u001b[38;2;255;255;255m\u001b[48;2;72;0;0m af\u001b[0m\u001b[38;2;255;255;255m\u001b[48;2;46;0;0m sy\u001b[0m\u001b[38;2;255;255;255m\u001b[48;2;72;0;0mg\u001b[0m\u001b[38;2;255;255;255m\u001b[48;2;82;0;0mdom\u001b[0m\u001b[38;2;255;255;255m\u001b[48;2;106;0;0mme\u001b[0m\u001b[38;2;255;255;255m\u001b[48;2;113;0;0m.\u001b[0m\u001b[38;2;255;255;255m\u001b[48;2;0;0;0mU\u001b[0m\u001b[38;2;255;255;255m\u001b[48;2;6;0;0mdv\u001b[0m\u001b[38;2;255;255;255m\u001b[48;2;29;0;0midel\u001b[0m\n",
            "\n",
            "\u001b[38;2;255;255;255m\u001b[48;2;0;0;0mThe\u001b[0m\u001b[38;2;255;255;255m\u001b[48;2;5;0;0m Cor\u001b[0m\u001b[38;2;255;255;255m\u001b[48;2;2;0;0mona\u001b[0m\u001b[38;2;255;255;255m\u001b[48;2;0;0;20m Response\u001b[0m\u001b[38;2;255;255;255m\u001b[48;2;0;0;14m Investment\u001b[0m\u001b[38;2;255;255;255m\u001b[48;2;0;0;42m Initiative\u001b[0m\u001b[38;2;255;255;255m\u001b[48;2;0;0;18m .\u001b[0m\u001b[38;2;255;255;255m\u001b[48;2;0;0;0mThe\u001b[0m\u001b[38;2;255;255;255m\u001b[48;2;0;0;0m Council\u001b[0m\u001b[38;2;255;255;255m\u001b[48;2;0;0;0m has\u001b[0m\u001b[38;2;255;255;255m\u001b[48;2;1;0;0m to\u001b[0m\u001b[38;2;255;255;255m\u001b[48;2;0;0;2m formally\u001b[0m\u001b[38;2;255;255;255m\u001b[48;2;0;0;62m approve\u001b[0m\u001b[38;2;255;255;255m\u001b[48;2;0;0;0m Parliament\u001b[0m\u001b[38;2;255;255;255m\u001b[48;2;0;0;4m's\u001b[0m\u001b[38;2;255;255;255m\u001b[48;2;1;0;0m position\u001b[0m\u001b[38;2;255;255;255m\u001b[48;2;0;0;21m.\u001b[0m\u001b[38;2;255;255;255m\u001b[48;2;0;0;0mThe\u001b[0m\u001b[38;2;255;255;255m\u001b[48;2;0;0;14m measures\u001b[0m\u001b[38;2;255;255;255m\u001b[48;2;0;0;0m will\u001b[0m\n",
            "\u001b[38;2;255;255;255m\u001b[48;2;0;0;28m make\u001b[0m\u001b[38;2;255;255;255m\u001b[48;2;3;0;0m up\u001b[0m\u001b[38;2;255;255;255m\u001b[48;2;0;0;3m to\u001b[0m\u001b[38;2;255;255;255m\u001b[48;2;16;0;0m âĤ¬\u001b[0m\u001b[38;2;255;255;255m\u001b[48;2;12;0;0m800\u001b[0m\u001b[38;2;255;255;255m\u001b[48;2;12;0;0m million\u001b[0m\u001b[38;2;255;255;255m\u001b[48;2;5;0;0m available\u001b[0m\u001b[38;2;255;255;255m\u001b[48;2;0;0;35m for\u001b[0m\u001b[38;2;255;255;255m\u001b[48;2;2;0;0m European\u001b[0m\u001b[38;2;255;255;255m\u001b[48;2;0;0;36m countries\u001b[0m\u001b[38;2;255;255;255m\u001b[48;2;0;0;27m in\u001b[0m\u001b[38;2;255;255;255m\u001b[48;2;0;0;19m 2020\u001b[0m\u001b[38;2;255;255;255m\u001b[48;2;0;0;17m.\u001b[0m\u001b[38;2;255;255;255m\u001b[48;2;0;0;0mFurther\u001b[0m\u001b[38;2;255;255;255m\u001b[48;2;20;0;0m information\u001b[0m\u001b[38;2;255;255;255m\u001b[48;2;0;0;0mThe\u001b[0m\u001b[38;2;255;255;255m\u001b[48;2;0;0;0m urgent\u001b[0m\u001b[38;2;255;255;255m\u001b[48;2;0;0;15m measures\u001b[0m\u001b[38;2;255;255;255m\u001b[48;2;0;0;23m to\u001b[0m\u001b[38;2;255;255;255m\u001b[48;2;0;0;22m help\u001b[0m\n",
            "\u001b[38;2;255;255;255m\u001b[48;2;0;0;15m people\u001b[0m\u001b[38;2;255;255;255m\u001b[48;2;3;0;0m and\u001b[0m\u001b[38;2;255;255;255m\u001b[48;2;0;0;3m businesses\u001b[0m\u001b[38;2;255;255;255m\u001b[48;2;0;0;36m tackle\u001b[0m\u001b[38;2;255;255;255m\u001b[48;2;6;0;0m the\u001b[0m\u001b[38;2;255;255;255m\u001b[48;2;0;0;0m crisis\u001b[0m\u001b[38;2;255;255;255m\u001b[48;2;0;0;7m were\u001b[0m\u001b[38;2;255;255;255m\u001b[48;2;13;0;0m voted\u001b[0m\u001b[38;2;255;255;255m\u001b[48;2;4;0;0m on\u001b[0m\u001b[38;2;255;255;255m\u001b[48;2;0;0;19m in\u001b[0m\u001b[38;2;255;255;255m\u001b[48;2;11;0;0m pl\u001b[0m\u001b[38;2;255;255;255m\u001b[48;2;3;0;0menary\u001b[0m\u001b[38;2;255;255;255m\u001b[48;2;0;0;25m less\u001b[0m\u001b[38;2;255;255;255m\u001b[48;2;0;0;12m than\u001b[0m\u001b[38;2;255;255;255m\u001b[48;2;3;0;0m two\u001b[0m\u001b[38;2;255;255;255m\u001b[48;2;0;0;0m weeks\u001b[0m\u001b[38;2;255;255;255m\u001b[48;2;0;0;35m after\u001b[0m\u001b[38;2;255;255;255m\u001b[48;2;0;0;14m the\u001b[0m\u001b[38;2;255;255;255m\u001b[48;2;2;0;0m Commission\u001b[0m\u001b[38;2;255;255;255m\u001b[48;2;14;0;0m t\u001b[0m\n",
            "\u001b[38;2;255;255;255m\u001b[48;2;0;0;9mabled\u001b[0m\u001b[38;2;255;255;255m\u001b[48;2;0;0;13m its\u001b[0m\u001b[38;2;255;255;255m\u001b[48;2;0;0;1m proposals\u001b[0m\u001b[38;2;255;255;255m\u001b[48;2;0;0;26m.\u001b[0m\u001b[38;2;255;255;255m\u001b[48;2;0;0;0mThe\u001b[0m\u001b[38;2;255;255;255m\u001b[48;2;0;0;17m funds\u001b[0m\u001b[38;2;255;255;255m\u001b[48;2;0;0;0m will\u001b[0m\u001b[38;2;255;255;255m\u001b[48;2;0;0;15m be\u001b[0m\u001b[38;2;255;255;255m\u001b[48;2;0;0;12m directed\u001b[0m\u001b[38;2;255;255;255m\u001b[48;2;0;0;49m towards\u001b[0m\u001b[38;2;255;255;255m\u001b[48;2;0;0;4m healthcare\u001b[0m\u001b[38;2;255;255;255m\u001b[48;2;0;0;20m systems\u001b[0m\u001b[38;2;255;255;255m\u001b[48;2;0;0;22m,\u001b[0m\u001b[38;2;255;255;255m\u001b[48;2;0;0;5m S\u001b[0m\u001b[38;2;255;255;255m\u001b[48;2;0;0;19mME\u001b[0m\u001b[38;2;255;255;255m\u001b[48;2;0;0;26ms\u001b[0m\u001b[38;2;255;255;255m\u001b[48;2;0;0;34m,\u001b[0m\u001b[38;2;255;255;255m\u001b[48;2;5;0;0m labour\u001b[0m\u001b[38;2;255;255;255m\u001b[48;2;0;0;0m markets\u001b[0m\u001b[38;2;255;255;255m\u001b[48;2;0;0;27m and\u001b[0m\n",
            "\u001b[38;2;255;255;255m\u001b[48;2;0;0;2m other\u001b[0m\u001b[38;2;255;255;255m\u001b[48;2;6;0;0m vulnerable\u001b[0m\u001b[38;2;255;255;255m\u001b[48;2;0;0;18m parts\u001b[0m\u001b[38;2;255;255;255m\u001b[48;2;0;0;15m of\u001b[0m\u001b[38;2;255;255;255m\u001b[48;2;3;0;0m EU\u001b[0m\u001b[38;2;255;255;255m\u001b[48;2;3;0;0m member\u001b[0m\u001b[38;2;255;255;255m\u001b[48;2;0;0;30m states\u001b[0m\u001b[38;2;255;255;255m\u001b[48;2;0;0;28m'\u001b[0m\u001b[38;2;255;255;255m\u001b[48;2;0;0;27m economies\u001b[0m\u001b[38;2;255;255;255m\u001b[48;2;0;0;20m.\u001b[0m\u001b[38;2;255;255;255m\u001b[48;2;1;0;0mThese\u001b[0m\u001b[38;2;255;255;255m\u001b[48;2;0;0;23m measures\u001b[0m\u001b[38;2;255;255;255m\u001b[48;2;2;0;0m are\u001b[0m\u001b[38;2;255;255;255m\u001b[48;2;7;0;0m meant\u001b[0m\u001b[38;2;255;255;255m\u001b[48;2;0;0;7m to\u001b[0m\u001b[38;2;255;255;255m\u001b[48;2;0;0;24m channel\u001b[0m\u001b[38;2;255;255;255m\u001b[48;2;8;0;0m âĤ¬\u001b[0m\u001b[38;2;255;255;255m\u001b[48;2;17;0;0m37\u001b[0m\u001b[38;2;255;255;255m\u001b[48;2;7;0;0m billion\u001b[0m\u001b[38;2;255;255;255m\u001b[48;2;0;0;13m from\u001b[0m\n",
            "\u001b[38;2;255;255;255m\u001b[48;2;0;0;9m available\u001b[0m\u001b[38;2;255;255;255m\u001b[48;2;6;0;0m EU\u001b[0m\u001b[38;2;255;255;255m\u001b[48;2;4;0;0m funds\u001b[0m\u001b[38;2;255;255;255m\u001b[48;2;3;0;0m as\u001b[0m\u001b[38;2;255;255;255m\u001b[48;2;6;0;0m soon\u001b[0m\u001b[38;2;255;255;255m\u001b[48;2;1;0;0m as\u001b[0m\u001b[38;2;255;255;255m\u001b[48;2;1;0;0m possible\u001b[0m\u001b[38;2;255;255;255m\u001b[48;2;0;0;34m to\u001b[0m\u001b[38;2;255;255;255m\u001b[48;2;2;0;0m citizens\u001b[0m\u001b[38;2;255;255;255m\u001b[48;2;0;0;7m,\u001b[0m\u001b[38;2;255;255;255m\u001b[48;2;2;0;0m regions\u001b[0m\u001b[38;2;255;255;255m\u001b[48;2;3;0;0m and\u001b[0m\u001b[38;2;255;255;255m\u001b[48;2;0;0;6m countries\u001b[0m\u001b[38;2;255;255;255m\u001b[48;2;5;0;0m hit\u001b[0m\u001b[38;2;255;255;255m\u001b[48;2;0;0;18m the\u001b[0m\u001b[38;2;255;255;255m\u001b[48;2;2;0;0m hardest\u001b[0m\u001b[38;2;255;255;255m\u001b[48;2;0;0;11m by\u001b[0m\u001b[38;2;255;255;255m\u001b[48;2;4;0;0m the\u001b[0m\u001b[38;2;255;255;255m\u001b[48;2;8;0;0m Coron\u001b[0m\u001b[38;2;255;255;255m\u001b[48;2;3;0;0mavirus\u001b[0m\n",
            "\u001b[38;2;255;255;255m\u001b[48;2;0;0;8m pandemic\u001b[0m\u001b[38;2;255;255;255m\u001b[48;2;0;0;17m.\u001b[0m\u001b[38;2;255;255;255m\u001b[48;2;0;0;0mAs\u001b[0m\u001b[38;2;255;255;255m\u001b[48;2;11;0;0m part\u001b[0m\u001b[38;2;255;255;255m\u001b[48;2;0;0;50m of\u001b[0m\u001b[38;2;255;255;255m\u001b[48;2;0;0;33m the\u001b[0m\u001b[38;2;255;255;255m\u001b[48;2;0;0;3m EU\u001b[0m\u001b[38;2;255;255;255m\u001b[48;2;0;0;2m's\u001b[0m\u001b[38;2;255;255;255m\u001b[48;2;3;0;0m joint\u001b[0m\u001b[38;2;255;255;255m\u001b[48;2;3;0;0m response\u001b[0m\u001b[38;2;255;255;255m\u001b[48;2;0;0;9m to\u001b[0m\u001b[38;2;255;255;255m\u001b[48;2;2;0;0m the\u001b[0m\u001b[38;2;255;255;255m\u001b[48;2;4;0;0m COVID\u001b[0m\u001b[38;2;255;255;255m\u001b[48;2;8;0;0m-\u001b[0m\u001b[38;2;255;255;255m\u001b[48;2;7;0;0m19\u001b[0m\u001b[38;2;255;255;255m\u001b[48;2;0;0;10m outbreak\u001b[0m\u001b[38;2;255;255;255m\u001b[48;2;0;0;0m,\u001b[0m\u001b[38;2;255;255;255m\u001b[48;2;14;0;0m ME\u001b[0m\u001b[38;2;255;255;255m\u001b[48;2;5;0;0mPs\u001b[0m\u001b[38;2;255;255;255m\u001b[48;2;0;0;25m almost\u001b[0m\n",
            "\u001b[38;2;255;255;255m\u001b[48;2;0;0;14m unanimously\u001b[0m\u001b[38;2;255;255;255m\u001b[48;2;0;0;10m adopted\u001b[0m\u001b[38;2;255;255;255m\u001b[48;2;1;0;0m three\u001b[0m\u001b[38;2;255;255;255m\u001b[48;2;17;0;0m urgent\u001b[0m\u001b[38;2;255;255;255m\u001b[48;2;9;0;0m proposals\u001b[0m\u001b[38;2;255;255;255m\u001b[48;2;0;0;0m in\u001b[0m\u001b[38;2;255;255;255m\u001b[48;2;1;0;0m an\u001b[0m\u001b[38;2;255;255;255m\u001b[48;2;11;0;0m extraordinary\u001b[0m\u001b[38;2;255;255;255m\u001b[48;2;12;0;0m pl\u001b[0m\u001b[38;2;255;255;255m\u001b[48;2;12;0;0menary\u001b[0m\u001b[38;2;255;255;255m\u001b[48;2;0;0;0m session\u001b[0m\u001b[38;2;255;255;255m\u001b[48;2;0;0;0m,\u001b[0m\u001b[38;2;255;255;255m\u001b[48;2;0;0;23m on\u001b[0m\u001b[38;2;255;255;255m\u001b[48;2;6;0;0m Thursday\u001b[0m\u001b[38;2;255;255;255m\u001b[48;2;6;0;0m.\u001b[0m\u001b[38;2;255;255;255m\u001b[48;2;0;0;0mThis\u001b[0m\u001b[38;2;255;255;255m\u001b[48;2;0;0;21m will\u001b[0m\u001b[38;2;255;255;255m\u001b[48;2;0;0;64m stop\u001b[0m\u001b[38;2;255;255;255m\u001b[48;2;0;0;18m air\u001b[0m\u001b[38;2;255;255;255m\u001b[48;2;0;0;38m carriers\u001b[0m\n",
            "\u001b[38;2;255;255;255m\u001b[48;2;0;0;57m from\u001b[0m\u001b[38;2;255;255;255m\u001b[48;2;0;0;36m operating\u001b[0m\u001b[38;2;255;255;255m\u001b[48;2;0;0;32m empty\u001b[0m\u001b[38;2;255;255;255m\u001b[48;2;0;0;26m flights\u001b[0m\u001b[38;2;255;255;255m\u001b[48;2;0;0;56m during\u001b[0m\u001b[38;2;255;255;255m\u001b[48;2;0;0;47m the\u001b[0m\u001b[38;2;255;255;255m\u001b[48;2;0;0;14m pandemic\u001b[0m\u001b[38;2;255;255;255m\u001b[48;2;0;0;43m.\u001b[0m\u001b[38;2;255;255;255m\u001b[48;2;1;0;0mOper\u001b[0m\u001b[38;2;255;255;255m\u001b[48;2;3;0;0mations\u001b[0m\u001b[38;2;255;255;255m\u001b[48;2;3;0;0m eligible\u001b[0m\u001b[38;2;255;255;255m\u001b[48;2;0;0;1m under\u001b[0m\u001b[38;2;255;255;255m\u001b[48;2;0;0;21m the\u001b[0m\u001b[38;2;255;255;255m\u001b[48;2;0;0;37m Fund\u001b[0m\u001b[38;2;255;255;255m\u001b[48;2;0;0;29m will\u001b[0m\u001b[38;2;255;255;255m\u001b[48;2;0;0;38m be\u001b[0m\u001b[38;2;255;255;255m\u001b[48;2;0;0;30m extended\u001b[0m\u001b[38;2;255;255;255m\u001b[48;2;0;0;48m to\u001b[0m\u001b[38;2;255;255;255m\u001b[48;2;0;0;52m include\u001b[0m\u001b[38;2;255;255;255m\u001b[48;2;1;0;0m support\u001b[0m\n",
            "\u001b[38;2;255;255;255m\u001b[48;2;0;0;41m in\u001b[0m\u001b[38;2;255;255;255m\u001b[48;2;0;0;33m a\u001b[0m\u001b[38;2;255;255;255m\u001b[48;2;0;0;14m major\u001b[0m\u001b[38;2;255;255;255m\u001b[48;2;4;0;0m public\u001b[0m\u001b[38;2;255;255;255m\u001b[48;2;5;0;0m health\u001b[0m\u001b[38;2;255;255;255m\u001b[48;2;2;0;0m emergency\u001b[0m\u001b[38;2;255;255;255m\u001b[48;2;0;0;9m,\u001b[0m\u001b[38;2;255;255;255m\u001b[48;2;0;0;19m including\u001b[0m\u001b[38;2;255;255;255m\u001b[48;2;0;0;5m medical\u001b[0m\u001b[38;2;255;255;255m\u001b[48;2;0;0;8m assistance\u001b[0m\u001b[38;2;255;255;255m\u001b[48;2;0;0;16m,\u001b[0m\u001b[38;2;255;255;255m\u001b[48;2;2;0;0m as\u001b[0m\u001b[38;2;255;255;255m\u001b[48;2;0;0;19m well\u001b[0m\u001b[38;2;255;255;255m\u001b[48;2;0;0;30m as\u001b[0m\u001b[38;2;255;255;255m\u001b[48;2;4;0;0m measures\u001b[0m\u001b[38;2;255;255;255m\u001b[48;2;0;0;23m to\u001b[0m\u001b[38;2;255;255;255m\u001b[48;2;0;0;11m prevent\u001b[0m\u001b[38;2;255;255;255m\u001b[48;2;0;0;32m,\u001b[0m\u001b[38;2;255;255;255m\u001b[48;2;0;0;16m monitor\u001b[0m\u001b[38;2;255;255;255m\u001b[48;2;0;0;23m or\u001b[0m\n",
            "\u001b[38;2;255;255;255m\u001b[48;2;4;0;0m control\u001b[0m\u001b[38;2;255;255;255m\u001b[48;2;1;0;0m the\u001b[0m\u001b[38;2;255;255;255m\u001b[48;2;5;0;0m spread\u001b[0m\u001b[38;2;255;255;255m\u001b[48;2;2;0;0m of\u001b[0m\u001b[38;2;255;255;255m\u001b[48;2;4;0;0m diseases\u001b[0m\u001b[38;2;255;255;255m\u001b[48;2;0;0;36m.\u001b[0m\u001b[38;2;255;255;255m\u001b[48;2;0;0;0mThe\u001b[0m\u001b[38;2;255;255;255m\u001b[48;2;0;0;13m extension\u001b[0m\u001b[38;2;255;255;255m\u001b[48;2;0;0;22m of\u001b[0m\u001b[38;2;255;255;255m\u001b[48;2;0;0;36m the\u001b[0m\u001b[38;2;255;255;255m\u001b[48;2;5;0;0m EU\u001b[0m\u001b[38;2;255;255;255m\u001b[48;2;8;0;0m Solid\u001b[0m\u001b[38;2;255;255;255m\u001b[48;2;5;0;0marity\u001b[0m\u001b[38;2;255;255;255m\u001b[48;2;0;0;30m Fund\u001b[0m\u001b[38;2;255;255;255m\u001b[48;2;0;0;27m to\u001b[0m\u001b[38;2;255;255;255m\u001b[48;2;0;0;41m cover\u001b[0m\u001b[38;2;255;255;255m\u001b[48;2;0;0;4m public\u001b[0m\u001b[38;2;255;255;255m\u001b[48;2;5;0;0m health\u001b[0m\u001b[38;2;255;255;255m\u001b[48;2;0;0;11m emergencies\u001b[0m\u001b[38;2;255;255;255m\u001b[48;2;0;0;4m.\u001b[0m\n",
            "\u001b[38;2;255;255;255m\u001b[48;2;0;0;0mThe\u001b[0m\u001b[38;2;255;255;255m\u001b[48;2;0;0;22m adopted\u001b[0m\u001b[38;2;255;255;255m\u001b[48;2;0;0;13m measures\u001b[0m\u001b[38;2;255;255;255m\u001b[48;2;2;0;0m will\u001b[0m\u001b[38;2;255;255;255m\u001b[48;2;25;0;0m enter\u001b[0m\u001b[38;2;255;255;255m\u001b[48;2;20;0;0m into\u001b[0m\u001b[38;2;255;255;255m\u001b[48;2;6;0;0m force\u001b[0m\u001b[38;2;255;255;255m\u001b[48;2;0;0;13m once\u001b[0m\u001b[38;2;255;255;255m\u001b[48;2;16;0;0m published\u001b[0m\u001b[38;2;255;255;255m\u001b[48;2;4;0;0m in\u001b[0m\u001b[38;2;255;255;255m\u001b[48;2;2;0;0m the\u001b[0m\u001b[38;2;255;255;255m\u001b[48;2;3;0;0m Official\u001b[0m\u001b[38;2;255;255;255m\u001b[48;2;1;0;0m Journal\u001b[0m\u001b[38;2;255;255;255m\u001b[48;2;6;0;0m of\u001b[0m\u001b[38;2;255;255;255m\u001b[48;2;12;0;0m the\u001b[0m\u001b[38;2;255;255;255m\u001b[48;2;18;0;0m European\u001b[0m\u001b[38;2;255;255;255m\u001b[48;2;3;0;0m Union\u001b[0m\u001b[38;2;255;255;255m\u001b[48;2;12;0;0m in\u001b[0m\u001b[38;2;255;255;255m\u001b[48;2;9;0;0m the\u001b[0m\u001b[38;2;255;255;255m\u001b[48;2;3;0;0m coming\u001b[0m\n",
            "\u001b[38;2;255;255;255m\u001b[48;2;4;0;0m days\u001b[0m\u001b[38;2;255;255;255m\u001b[48;2;0;0;14m.\u001b[0m\u001b[38;2;255;255;255m\u001b[48;2;0;0;0mTem\u001b[0m\u001b[38;2;255;255;255m\u001b[48;2;5;0;0mpor\u001b[0m\u001b[38;2;255;255;255m\u001b[48;2;0;0;12marily\u001b[0m\u001b[38;2;255;255;255m\u001b[48;2;0;0;4m susp\u001b[0m\u001b[38;2;255;255;255m\u001b[48;2;0;0;33mending\u001b[0m\u001b[38;2;255;255;255m\u001b[48;2;6;0;0m EU\u001b[0m\u001b[38;2;255;255;255m\u001b[48;2;0;0;19m rules\u001b[0m\u001b[38;2;255;255;255m\u001b[48;2;0;0;15m on\u001b[0m\u001b[38;2;255;255;255m\u001b[48;2;0;0;13m airport\u001b[0m\u001b[38;2;255;255;255m\u001b[48;2;0;0;15m slots\u001b[0m\u001b[38;2;255;255;255m\u001b[48;2;3;0;0m .\u001b[0m\u001b[38;2;255;255;255m\u001b[48;2;0;0;0mThe\u001b[0m\u001b[38;2;255;255;255m\u001b[48;2;0;0;12m temporary\u001b[0m\u001b[38;2;255;255;255m\u001b[48;2;0;0;26m suspension\u001b[0m\u001b[38;2;255;255;255m\u001b[48;2;0;0;29m means\u001b[0m\u001b[38;2;255;255;255m\u001b[48;2;0;0;60m that\u001b[0m\u001b[38;2;255;255;255m\u001b[48;2;0;0;5m airlines\u001b[0m\u001b[38;2;255;255;255m\u001b[48;2;0;0;15m are\u001b[0m\n",
            "\u001b[38;2;255;255;255m\u001b[48;2;0;0;8m not\u001b[0m\u001b[38;2;255;255;255m\u001b[48;2;0;0;6m obliged\u001b[0m\u001b[38;2;255;255;255m\u001b[48;2;0;0;37m to\u001b[0m\u001b[38;2;255;255;255m\u001b[48;2;0;0;33m use\u001b[0m\u001b[38;2;255;255;255m\u001b[48;2;0;0;31m their\u001b[0m\u001b[38;2;255;255;255m\u001b[48;2;0;0;53m planned\u001b[0m\u001b[38;2;255;255;255m\u001b[48;2;0;0;33m take\u001b[0m\u001b[38;2;255;255;255m\u001b[48;2;0;0;48m-\u001b[0m\u001b[38;2;255;255;255m\u001b[48;2;0;0;38moff\u001b[0m\u001b[38;2;255;255;255m\u001b[48;2;0;0;34m and\u001b[0m\u001b[38;2;255;255;255m\u001b[48;2;0;0;45m landing\u001b[0m\u001b[38;2;255;255;255m\u001b[48;2;0;0;12m slots\u001b[0m\u001b[38;2;255;255;255m\u001b[48;2;0;0;16m to\u001b[0m\u001b[38;2;255;255;255m\u001b[48;2;0;0;55m keep\u001b[0m\u001b[38;2;255;255;255m\u001b[48;2;0;0;17m them\u001b[0m\u001b[38;2;255;255;255m\u001b[48;2;0;0;6m in\u001b[0m\u001b[38;2;255;255;255m\u001b[48;2;0;0;4m the\u001b[0m\u001b[38;2;255;255;255m\u001b[48;2;0;0;21m next\u001b[0m\u001b[38;2;255;255;255m\u001b[48;2;0;0;31m corresponding\u001b[0m\u001b[38;2;255;255;255m\u001b[48;2;0;0;0m season\u001b[0m\n",
            "\u001b[38;2;255;255;255m\u001b[48;2;0;0;62m.\u001b[0m\u001b[38;2;255;255;255m\u001b[48;2;0;0;0mThe\u001b[0m\u001b[38;2;255;255;255m\u001b[48;2;0;0;9m '\u001b[0m\u001b[38;2;255;255;255m\u001b[48;2;1;0;0muse\u001b[0m\u001b[38;2;255;255;255m\u001b[48;2;0;0;40m it\u001b[0m\u001b[38;2;255;255;255m\u001b[48;2;1;0;0m or\u001b[0m\u001b[38;2;255;255;255m\u001b[48;2;0;0;25m lose\u001b[0m\u001b[38;2;255;255;255m\u001b[48;2;0;0;52m it\u001b[0m\u001b[38;2;255;255;255m\u001b[48;2;0;0;51m'\u001b[0m\u001b[38;2;255;255;255m\u001b[48;2;0;0;66m rule\u001b[0m\u001b[38;2;255;255;255m\u001b[48;2;0;0;24m will\u001b[0m\u001b[38;2;255;255;255m\u001b[48;2;0;0;15m be\u001b[0m\u001b[38;2;255;255;255m\u001b[48;2;0;0;27m waived\u001b[0m\u001b[38;2;255;255;255m\u001b[48;2;0;0;21m for\u001b[0m\u001b[38;2;255;255;255m\u001b[48;2;0;0;17m the\u001b[0m\u001b[38;2;255;255;255m\u001b[48;2;0;0;26m whole\u001b[0m\u001b[38;2;255;255;255m\u001b[48;2;0;0;7m summer\u001b[0m\u001b[38;2;255;255;255m\u001b[48;2;0;0;26m season\u001b[0m\u001b[38;2;255;255;255m\u001b[48;2;0;0;12m,\u001b[0m\u001b[38;2;255;255;255m\u001b[48;2;0;0;0m from\u001b[0m\n",
            "\u001b[38;2;255;255;255m\u001b[48;2;9;0;0m 29\u001b[0m\u001b[38;2;255;255;255m\u001b[48;2;8;0;0m March\u001b[0m\u001b[38;2;255;255;255m\u001b[48;2;0;0;24m until\u001b[0m\u001b[38;2;255;255;255m\u001b[48;2;0;0;13m 24\u001b[0m\u001b[38;2;255;255;255m\u001b[48;2;0;0;11m October\u001b[0m\u001b[38;2;255;255;255m\u001b[48;2;0;0;9m 2020\u001b[0m\u001b[38;2;255;255;255m\u001b[48;2;0;0;22m.\u001b[0m\u001b[38;2;255;255;255m\u001b[48;2;0;0;0mC\u001b[0m\u001b[38;2;255;255;255m\u001b[48;2;1;0;0mOVID\u001b[0m\u001b[38;2;255;255;255m\u001b[48;2;6;0;0m-\u001b[0m\u001b[38;2;255;255;255m\u001b[48;2;7;0;0m19\u001b[0m\u001b[38;2;255;255;255m\u001b[48;2;0;0;2m:\u001b[0m\u001b[38;2;255;255;255m\u001b[48;2;7;0;0m final\u001b[0m\u001b[38;2;255;255;255m\u001b[48;2;3;0;0m vote\u001b[0m\u001b[38;2;255;255;255m\u001b[48;2;0;0;0m in\u001b[0m\u001b[38;2;255;255;255m\u001b[48;2;4;0;0m EP\u001b[0m\u001b[38;2;255;255;255m\u001b[48;2;21;0;0m pl\u001b[0m\u001b[38;2;255;255;255m\u001b[48;2;5;0;0menary\u001b[0m\u001b[38;2;255;255;255m\u001b[48;2;11;0;0m to\u001b[0m\u001b[38;2;255;255;255m\u001b[48;2;0;0;0m approve\u001b[0m\n",
            "\u001b[38;2;255;255;255m\u001b[48;2;3;0;0m crucial\u001b[0m\u001b[38;2;255;255;255m\u001b[48;2;12;0;0m EU\u001b[0m\u001b[38;2;255;255;255m\u001b[48;2;14;0;0m support\u001b[0m\u001b[38;2;255;255;255m\u001b[48;2;4;0;0m measures\u001b[0m\u001b[38;2;255;255;255m\u001b[48;2;20;0;0m -\u001b[0m\u001b[38;2;255;255;255m\u001b[48;2;11;0;0m Â©\u001b[0m\u001b[38;2;255;255;255m\u001b[48;2;12;0;0m EP\u001b[0m\u001b[38;2;255;255;255m\u001b[48;2;0;0;0mThe\u001b[0m\u001b[38;2;255;255;255m\u001b[48;2;4;0;0m proposal\u001b[0m\u001b[38;2;255;255;255m\u001b[48;2;6;0;0m was\u001b[0m\u001b[38;2;255;255;255m\u001b[48;2;9;0;0m adopted\u001b[0m\u001b[38;2;255;255;255m\u001b[48;2;0;0;5m with\u001b[0m\u001b[38;2;255;255;255m\u001b[48;2;9;0;0m 6\u001b[0m\u001b[38;2;255;255;255m\u001b[48;2;11;0;0m71\u001b[0m\u001b[38;2;255;255;255m\u001b[48;2;13;0;0m votes\u001b[0m\u001b[38;2;255;255;255m\u001b[48;2;0;0;9m in\u001b[0m\u001b[38;2;255;255;255m\u001b[48;2;15;0;0m favour\u001b[0m\u001b[38;2;255;255;255m\u001b[48;2;0;0;2m,\u001b[0m\u001b[38;2;255;255;255m\u001b[48;2;0;0;14m 3\u001b[0m\u001b[38;2;255;255;255m\u001b[48;2;2;0;0m against\u001b[0m\n",
            "\u001b[38;2;255;255;255m\u001b[48;2;4;0;0m and\u001b[0m\u001b[38;2;255;255;255m\u001b[48;2;0;0;30m 14\u001b[0m\u001b[38;2;255;255;255m\u001b[48;2;0;0;5m abst\u001b[0m\u001b[38;2;255;255;255m\u001b[48;2;0;0;50ment\u001b[0m\u001b[38;2;255;255;255m\u001b[48;2;0;0;3mions\u001b[0m\u001b[38;2;255;255;255m\u001b[48;2;0;0;7m.\u001b[0m\u001b[38;2;255;255;255m\u001b[48;2;0;0;0mThe\u001b[0m\u001b[38;2;255;255;255m\u001b[48;2;4;0;0m proposal\u001b[0m\u001b[38;2;255;255;255m\u001b[48;2;6;0;0m was\u001b[0m\u001b[38;2;255;255;255m\u001b[48;2;9;0;0m adopted\u001b[0m\u001b[38;2;255;255;255m\u001b[48;2;0;0;5m with\u001b[0m\u001b[38;2;255;255;255m\u001b[48;2;9;0;0m 6\u001b[0m\u001b[38;2;255;255;255m\u001b[48;2;13;0;0m83\u001b[0m\u001b[38;2;255;255;255m\u001b[48;2;14;0;0m votes\u001b[0m\u001b[38;2;255;255;255m\u001b[48;2;0;0;7m in\u001b[0m\u001b[38;2;255;255;255m\u001b[48;2;15;0;0m favour\u001b[0m\u001b[38;2;255;255;255m\u001b[48;2;1;0;0m,\u001b[0m\u001b[38;2;255;255;255m\u001b[48;2;1;0;0m 1\u001b[0m\u001b[38;2;255;255;255m\u001b[48;2;4;0;0m against\u001b[0m\u001b[38;2;255;255;255m\u001b[48;2;6;0;0m and\u001b[0m\n",
            "\u001b[38;2;255;255;255m\u001b[48;2;0;0;33m 4\u001b[0m\u001b[38;2;255;255;255m\u001b[48;2;0;0;4m abst\u001b[0m\u001b[38;2;255;255;255m\u001b[48;2;0;0;51ment\u001b[0m\u001b[38;2;255;255;255m\u001b[48;2;0;0;1mions\u001b[0m\u001b[38;2;255;255;255m\u001b[48;2;0;0;0m.\u001b[0m\u001b[38;2;255;255;255m\u001b[48;2;0;0;0mThe\u001b[0m\u001b[38;2;255;255;255m\u001b[48;2;4;0;0m proposal\u001b[0m\u001b[38;2;255;255;255m\u001b[48;2;6;0;0m was\u001b[0m\u001b[38;2;255;255;255m\u001b[48;2;9;0;0m adopted\u001b[0m\u001b[38;2;255;255;255m\u001b[48;2;0;0;5m with\u001b[0m\u001b[38;2;255;255;255m\u001b[48;2;9;0;0m 6\u001b[0m\u001b[38;2;255;255;255m\u001b[48;2;11;0;0m86\u001b[0m\u001b[38;2;255;255;255m\u001b[48;2;14;0;0m votes\u001b[0m\u001b[38;2;255;255;255m\u001b[48;2;0;0;8m in\u001b[0m\u001b[38;2;255;255;255m\u001b[48;2;15;0;0m favour\u001b[0m\u001b[38;2;255;255;255m\u001b[48;2;0;0;9m,\u001b[0m\u001b[38;2;255;255;255m\u001b[48;2;11;0;0m no\u001b[0m\u001b[38;2;255;255;255m\u001b[48;2;6;0;0m votes\u001b[0m\u001b[38;2;255;255;255m\u001b[48;2;0;0;0m against\u001b[0m\u001b[38;2;255;255;255m\u001b[48;2;2;0;0m and\u001b[0m\n",
            "\u001b[38;2;255;255;255m\u001b[48;2;1;0;0m 2\u001b[0m\u001b[38;2;255;255;255m\u001b[48;2;0;0;2m abst\u001b[0m\u001b[38;2;255;255;255m\u001b[48;2;0;0;48ment\u001b[0m\u001b[38;2;255;255;255m\u001b[48;2;0;0;7mions\u001b[0m\u001b[38;2;255;255;255m\u001b[48;2;0;0;3m.\u001b[0m\u001b[38;2;255;255;255m\u001b[48;2;0;0;0mdevelop\u001b[0m\u001b[38;2;255;255;255m\u001b[48;2;0;0;19ming\u001b[0m\u001b[38;2;255;255;255m\u001b[48;2;0;0;12m new\u001b[0m\u001b[38;2;255;255;255m\u001b[48;2;0;0;7m vaccines\u001b[0m\u001b[38;2;255;255;255m\u001b[48;2;1;0;0mProgram\u001b[0m\u001b[38;2;255;255;255m\u001b[48;2;0;0;4mmes\u001b[0m\u001b[38;2;255;255;255m\u001b[48;2;0;0;16m already\u001b[0m\u001b[38;2;255;255;255m\u001b[48;2;0;0;8m in\u001b[0m\u001b[38;2;255;255;255m\u001b[48;2;0;0;15m place\u001b[0m\u001b[38;2;255;255;255m\u001b[48;2;0;0;0mThe\u001b[0m\u001b[38;2;255;255;255m\u001b[48;2;6;0;0m 140\u001b[0m\u001b[38;2;255;255;255m\u001b[48;2;6;0;0m research\u001b[0m\u001b[38;2;255;255;255m\u001b[48;2;1;0;0m teams\u001b[0m\u001b[38;2;255;255;255m\u001b[48;2;4;0;0m from\u001b[0m\u001b[38;2;255;255;255m\u001b[48;2;3;0;0m across\u001b[0m"
          ]
        }
      ],
      "source": [
        "print_colored_preacts(\n",
        "    da_tokens2[begin_at:],\n",
        "    da_preacts2[begin_at:],\n",
        "    26335,\n",
        "    tokenizer,\n",
        "    stop_after=400\n",
        ")\n",
        "print('')\n",
        "print_colored_preacts(\n",
        "    en_tokens2[begin_at:],\n",
        "    en_preacts2[begin_at:],\n",
        "    26335,\n",
        "    tokenizer,\n",
        "    stop_after=400\n",
        ")"
      ]
    },
    {
      "cell_type": "code",
      "execution_count": null,
      "metadata": {
        "id": "jEAG8u9Zmzoc"
      },
      "outputs": [],
      "source": [
        "hidden_acts_outfolder = 'results/sparse_autoencoder_activations'\n",
        "\n",
        "if not os.path.isdir(f'{hidden_acts_outfolder}'):\n",
        "    os.mkdir(f'{hidden_acts_outfolder}')\n",
        "\n",
        "if not os.path.isdir(f'{hidden_acts_outfolder}/{model_name}'):\n",
        "    os.mkdir(f'{hidden_acts_outfolder}/{model_name}')\n",
        "\n",
        "df = pd.DataFrame({'avg_da': avg_da.numpy(), 'avg_en': avg_en.numpy()})\n",
        "df.to_csv(f'{hidden_acts_outfolder}/{model_name}/{hookpoint}.csv', index=False)"
      ]
    },
    {
      "cell_type": "code",
      "execution_count": null,
      "metadata": {
        "id": "2zTUQKmImzoc"
      },
      "outputs": [],
      "source": []
    }
  ],
  "metadata": {
    "kernelspec": {
      "display_name": "Python 3",
      "name": "python3"
    },
    "language_info": {
      "codemirror_mode": {
        "name": "ipython",
        "version": 3
      },
      "file_extension": ".py",
      "mimetype": "text/x-python",
      "name": "python",
      "nbconvert_exporter": "python",
      "pygments_lexer": "ipython3",
      "version": "3.11.9"
    },
    "colab": {
      "provenance": [],
      "gpuType": "T4"
    },
    "accelerator": "GPU"
  },
  "nbformat": 4,
  "nbformat_minor": 0
}