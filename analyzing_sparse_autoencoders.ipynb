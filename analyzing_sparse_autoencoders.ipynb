{
  "cells": [
    {
      "cell_type": "code",
      "execution_count": 1,
      "metadata": {
        "id": "xn3wqVXqmzoU",
        "outputId": "92e47055-69da-4d3f-a84a-5fecc5bab478",
        "colab": {
          "base_uri": "https://localhost:8080/"
        }
      },
      "outputs": [
        {
          "output_type": "stream",
          "name": "stdout",
          "text": [
            "Running as a Colab notebook\n",
            "Requirement already satisfied: datasets in /usr/local/lib/python3.10/dist-packages (3.1.0)\n",
            "Requirement already satisfied: filelock in /usr/local/lib/python3.10/dist-packages (from datasets) (3.16.1)\n",
            "Requirement already satisfied: numpy>=1.17 in /usr/local/lib/python3.10/dist-packages (from datasets) (1.26.4)\n",
            "Requirement already satisfied: pyarrow>=15.0.0 in /usr/local/lib/python3.10/dist-packages (from datasets) (17.0.0)\n",
            "Requirement already satisfied: dill<0.3.9,>=0.3.0 in /usr/local/lib/python3.10/dist-packages (from datasets) (0.3.8)\n",
            "Requirement already satisfied: pandas in /usr/local/lib/python3.10/dist-packages (from datasets) (2.2.2)\n",
            "Requirement already satisfied: requests>=2.32.2 in /usr/local/lib/python3.10/dist-packages (from datasets) (2.32.3)\n",
            "Requirement already satisfied: tqdm>=4.66.3 in /usr/local/lib/python3.10/dist-packages (from datasets) (4.66.6)\n",
            "Requirement already satisfied: xxhash in /usr/local/lib/python3.10/dist-packages (from datasets) (3.5.0)\n",
            "Requirement already satisfied: multiprocess<0.70.17 in /usr/local/lib/python3.10/dist-packages (from datasets) (0.70.16)\n",
            "Requirement already satisfied: fsspec<=2024.9.0,>=2023.1.0 in /usr/local/lib/python3.10/dist-packages (from fsspec[http]<=2024.9.0,>=2023.1.0->datasets) (2024.9.0)\n",
            "Requirement already satisfied: aiohttp in /usr/local/lib/python3.10/dist-packages (from datasets) (3.11.9)\n",
            "Requirement already satisfied: huggingface-hub>=0.23.0 in /usr/local/lib/python3.10/dist-packages (from datasets) (0.26.3)\n",
            "Requirement already satisfied: packaging in /usr/local/lib/python3.10/dist-packages (from datasets) (24.2)\n",
            "Requirement already satisfied: pyyaml>=5.1 in /usr/local/lib/python3.10/dist-packages (from datasets) (6.0.2)\n",
            "Requirement already satisfied: aiohappyeyeballs>=2.3.0 in /usr/local/lib/python3.10/dist-packages (from aiohttp->datasets) (2.4.4)\n",
            "Requirement already satisfied: aiosignal>=1.1.2 in /usr/local/lib/python3.10/dist-packages (from aiohttp->datasets) (1.3.1)\n",
            "Requirement already satisfied: async-timeout<6.0,>=4.0 in /usr/local/lib/python3.10/dist-packages (from aiohttp->datasets) (4.0.3)\n",
            "Requirement already satisfied: attrs>=17.3.0 in /usr/local/lib/python3.10/dist-packages (from aiohttp->datasets) (24.2.0)\n",
            "Requirement already satisfied: frozenlist>=1.1.1 in /usr/local/lib/python3.10/dist-packages (from aiohttp->datasets) (1.5.0)\n",
            "Requirement already satisfied: multidict<7.0,>=4.5 in /usr/local/lib/python3.10/dist-packages (from aiohttp->datasets) (6.1.0)\n",
            "Requirement already satisfied: propcache>=0.2.0 in /usr/local/lib/python3.10/dist-packages (from aiohttp->datasets) (0.2.1)\n",
            "Requirement already satisfied: yarl<2.0,>=1.17.0 in /usr/local/lib/python3.10/dist-packages (from aiohttp->datasets) (1.18.3)\n",
            "Requirement already satisfied: typing-extensions>=3.7.4.3 in /usr/local/lib/python3.10/dist-packages (from huggingface-hub>=0.23.0->datasets) (4.12.2)\n",
            "Requirement already satisfied: charset-normalizer<4,>=2 in /usr/local/lib/python3.10/dist-packages (from requests>=2.32.2->datasets) (3.4.0)\n",
            "Requirement already satisfied: idna<4,>=2.5 in /usr/local/lib/python3.10/dist-packages (from requests>=2.32.2->datasets) (3.10)\n",
            "Requirement already satisfied: urllib3<3,>=1.21.1 in /usr/local/lib/python3.10/dist-packages (from requests>=2.32.2->datasets) (2.2.3)\n",
            "Requirement already satisfied: certifi>=2017.4.17 in /usr/local/lib/python3.10/dist-packages (from requests>=2.32.2->datasets) (2024.8.30)\n",
            "Requirement already satisfied: python-dateutil>=2.8.2 in /usr/local/lib/python3.10/dist-packages (from pandas->datasets) (2.8.2)\n",
            "Requirement already satisfied: pytz>=2020.1 in /usr/local/lib/python3.10/dist-packages (from pandas->datasets) (2024.2)\n",
            "Requirement already satisfied: tzdata>=2022.7 in /usr/local/lib/python3.10/dist-packages (from pandas->datasets) (2024.2)\n",
            "Requirement already satisfied: six>=1.5 in /usr/local/lib/python3.10/dist-packages (from python-dateutil>=2.8.2->pandas->datasets) (1.16.0)\n",
            "Requirement already satisfied: translate-toolkit in /usr/local/lib/python3.10/dist-packages (3.14.1)\n",
            "Requirement already satisfied: lxml>=4.6.3 in /usr/local/lib/python3.10/dist-packages (from translate-toolkit) (5.3.0)\n",
            "Requirement already satisfied: wcwidth>=0.2.10 in /usr/local/lib/python3.10/dist-packages (from translate-toolkit) (0.2.13)\n",
            "Requirement already satisfied: bitsandbytes in /usr/local/lib/python3.10/dist-packages (0.45.0)\n",
            "Requirement already satisfied: torch in /usr/local/lib/python3.10/dist-packages (from bitsandbytes) (2.5.1+cu121)\n",
            "Requirement already satisfied: numpy in /usr/local/lib/python3.10/dist-packages (from bitsandbytes) (1.26.4)\n",
            "Requirement already satisfied: typing_extensions>=4.8.0 in /usr/local/lib/python3.10/dist-packages (from bitsandbytes) (4.12.2)\n",
            "Requirement already satisfied: filelock in /usr/local/lib/python3.10/dist-packages (from torch->bitsandbytes) (3.16.1)\n",
            "Requirement already satisfied: networkx in /usr/local/lib/python3.10/dist-packages (from torch->bitsandbytes) (3.4.2)\n",
            "Requirement already satisfied: jinja2 in /usr/local/lib/python3.10/dist-packages (from torch->bitsandbytes) (3.1.4)\n",
            "Requirement already satisfied: fsspec in /usr/local/lib/python3.10/dist-packages (from torch->bitsandbytes) (2024.9.0)\n",
            "Requirement already satisfied: sympy==1.13.1 in /usr/local/lib/python3.10/dist-packages (from torch->bitsandbytes) (1.13.1)\n",
            "Requirement already satisfied: mpmath<1.4,>=1.1.0 in /usr/local/lib/python3.10/dist-packages (from sympy==1.13.1->torch->bitsandbytes) (1.3.0)\n",
            "Requirement already satisfied: MarkupSafe>=2.0 in /usr/local/lib/python3.10/dist-packages (from jinja2->torch->bitsandbytes) (3.0.2)\n",
            "fatal: destination path 'mechinterp_research_project' already exists and is not an empty directory.\n",
            "Drive already mounted at /content/drive/; to attempt to forcibly remount, call drive.mount(\"/content/drive/\", force_remount=True).\n"
          ]
        }
      ],
      "source": [
        "import os\n",
        "\n",
        "try:\n",
        "    has_changed_dir\n",
        "except:\n",
        "    has_changed_dir = False\n",
        "\n",
        "try:\n",
        "    import google.colab\n",
        "    IN_COLAB = True\n",
        "    print(\"Running as a Colab notebook\")\n",
        "except:\n",
        "    IN_COLAB = False\n",
        "\n",
        "if IN_COLAB:\n",
        "    %pip install datasets\n",
        "    %pip install translate-toolkit\n",
        "    %pip install bitsandbytes\n",
        "\n",
        "    !git clone https://github.com/MarkusSibbesen/mechinterp_research_project.git\n",
        "\n",
        "    from google.colab import drive\n",
        "    drive.mount('/content/drive/')\n",
        "\n",
        "    if not has_changed_dir:\n",
        "        os.chdir('mechinterp_research_project')\n",
        "        has_changed_dir = True\n",
        "else:\n",
        "    if not has_changed_dir:\n",
        "        os.chdir('.')\n",
        "        has_changed_dir = True"
      ]
    },
    {
      "cell_type": "code",
      "execution_count": 2,
      "metadata": {
        "id": "TfiNhhUjmzoW"
      },
      "outputs": [],
      "source": [
        "import torch\n",
        "device = torch.device(\"cuda\" if torch.cuda.is_available() else \"cpu\")\n",
        "from torch.utils.data import random_split, DataLoader\n",
        "from transformers import AutoModelForCausalLM, AutoTokenizer\n",
        "\n",
        "from collections import defaultdict\n",
        "import os\n",
        "import json\n",
        "from matplotlib import pyplot as plt\n",
        "import pandas as pd\n",
        "import numpy as np\n",
        "\n",
        "from src.dataset_handling import TextClassificationDataset\n",
        "from src.utils import get_activations_and_labels, get_hidden_activations\n",
        "from src.sparse_autoencoders import SAE_topk"
      ]
    },
    {
      "cell_type": "code",
      "execution_count": 3,
      "metadata": {
        "id": "xM0HaI3AmzoX",
        "outputId": "5137b949-7a6c-483c-d275-afcf40033374",
        "colab": {
          "base_uri": "https://localhost:8080/"
        }
      },
      "outputs": [
        {
          "output_type": "stream",
          "name": "stderr",
          "text": [
            "/usr/local/lib/python3.10/dist-packages/huggingface_hub/utils/_auth.py:94: UserWarning: \n",
            "The secret `HF_TOKEN` does not exist in your Colab secrets.\n",
            "To authenticate with the Hugging Face Hub, create a token in your settings tab (https://huggingface.co/settings/tokens), set it as secret in your Google Colab and restart your session.\n",
            "You will be able to reuse this secret in all of your notebooks.\n",
            "Please note that authentication is recommended but still optional to access public models or datasets.\n",
            "  warnings.warn(\n"
          ]
        }
      ],
      "source": [
        "load_from_drive = True\n",
        "\n",
        "model_url = \"EleutherAI/pythia-1.4b\"\n",
        "model_name = model_url.split('/')[-1]\n",
        "hookpoint_name = 'gpt_neox.layers.$.mlp.act'\n",
        "layer = 16\n",
        "\n",
        "model = AutoModelForCausalLM.from_pretrained(model_url).to(device)\n",
        "tokenizer = AutoTokenizer.from_pretrained(model_url)\n",
        "\n",
        "num_hookpoints = model.config.num_hidden_layers\n",
        "hookpoint = hookpoint_name.replace('$', str(layer))\n",
        "input_size = model.config.intermediate_size"
      ]
    },
    {
      "cell_type": "code",
      "source": [
        "from torch import nn\n",
        "import einops\n",
        "\n",
        "class SAE_topk(nn.Module):\n",
        "    def __init__(self, meta_data:dict):\n",
        "        super().__init__()\n",
        "\n",
        "        #meta_data dict needs to have input_size, hidden_size, k, pre_encoder_bias, activation_function\n",
        "\n",
        "        input_size = meta_data[\"input_size\"]\n",
        "        hidden_size = meta_data[\"hidden_size\"]\n",
        "        self.k = meta_data['k']\n",
        "        self.meta_data = meta_data\n",
        "\n",
        "        initial_W = torch.randn(hidden_size, input_size) * 0.01\n",
        "\n",
        "        with torch.no_grad():\n",
        "            self.W = nn.Parameter(initial_W.clone())\n",
        "            self.WT = nn.Parameter(initial_W.T.clone())\n",
        "\n",
        "\n",
        "\n",
        "        self.b1 = nn.Parameter(torch.randn(hidden_size)*0.1)  # Bias for encoder\n",
        "        self.b2 = nn.Parameter(torch.randn(input_size)*0.1)  # Bias for decoder\n",
        "        self.hidden_activations = None\n",
        "\n",
        "    def forward(self, x):\n",
        "\n",
        "\n",
        "        h = torch.topk(torch.matmul(x, self.WT) + self.b1, k=self.k, dim=-1)\n",
        "        self.hidden_activations = h\n",
        "        x_hat = einops.einsum(h.values, self.W[h.indices], 'token topk, token topk out -> token out') + self.b2\n",
        "\n",
        "        return x_hat\n",
        "\n",
        "    def get_activations(self, x):\n",
        "\n",
        "        h = torch.topk(torch.matmul(x, self.WT) + self.b1, k=self.k, dim=-1)\n",
        "\n",
        "\n",
        "        return h\n",
        "\n",
        "    def get_preacts(self, x):\n",
        "\n",
        "\n",
        "        return torch.matmul(x, self.WT) + self.b1"
      ],
      "metadata": {
        "id": "eAd_qhlVrdzX"
      },
      "execution_count": 4,
      "outputs": []
    },
    {
      "cell_type": "code",
      "execution_count": 5,
      "metadata": {
        "id": "4FXTixrqmzoX"
      },
      "outputs": [],
      "source": [
        "expansion_factor = 4\n",
        "k = int(np.sqrt(input_size * expansion_factor))\n",
        "\n",
        "meta_data = {\n",
        "    'input_size': input_size,\n",
        "    'hidden_size': input_size * expansion_factor,\n",
        "    'k': k\n",
        "}\n",
        "\n",
        "sae = SAE_topk(meta_data=meta_data).to(device)\n",
        "\n",
        "if load_from_drive:\n",
        "    sae.load_state_dict(torch.load(f'../drive/MyDrive/models/{hookpoint}.pt', weights_only=True, map_location=device))\n",
        "else:\n",
        "    sae.load_state_dict(torch.load(f'models/sparse_autoencoders/pythia-14m/topk{k}/{hookpoint}.pt', weights_only=True, map_location=torch.device('cpu')))"
      ]
    },
    {
      "cell_type": "code",
      "execution_count": 6,
      "metadata": {
        "id": "l-C2a_semzoY"
      },
      "outputs": [],
      "source": [
        "def get_biling_acts(dataset, model, tokenizer, stop_after = 100):\n",
        "\n",
        "    da_acts = []\n",
        "    da_preacts = []\n",
        "    da_tokens = []\n",
        "    en_acts = []\n",
        "    en_preacts = []\n",
        "    en_tokens = []\n",
        "\n",
        "    for i in range(stop_after):\n",
        "\n",
        "        sent, label = dataset[i]\n",
        "\n",
        "        tokenized = [\n",
        "            tokenizer(input_, return_tensors='pt').to(device)\n",
        "            for input_ in [sent]\n",
        "        ]\n",
        "\n",
        "        transformer_acts = get_hidden_activations(model, hookpoint, tokenized)\n",
        "\n",
        "        sae_preacts = sae.get_preacts(transformer_acts)\n",
        "        sae_acts = sae.get_activations(transformer_acts)\n",
        "\n",
        "        for act_indices, preacts, token in zip(sae_acts.indices, sae_preacts, tokenized[0]['input_ids'][0]):\n",
        "\n",
        "            zeros = torch.zeros(input_size * expansion_factor)\n",
        "\n",
        "            zeros[act_indices] = 1\n",
        "\n",
        "            if label == 0:\n",
        "                da_acts.append(zeros)\n",
        "                da_preacts.append(preacts)\n",
        "                da_tokens.append(token.item())\n",
        "            else:\n",
        "                en_acts.append(zeros)\n",
        "                en_preacts.append(preacts)\n",
        "                en_tokens.append(token.item())\n",
        "\n",
        "    return da_acts, da_preacts, da_tokens, en_acts, en_preacts, en_tokens"
      ]
    },
    {
      "cell_type": "code",
      "execution_count": 16,
      "metadata": {
        "id": "1zfkirLbmzoY"
      },
      "outputs": [],
      "source": [
        "## TEXT PRINTING\n",
        "\n",
        "def format_chars(text):\n",
        "    formatted = (\n",
        "        text.replace('Ġ', ' ').\n",
        "            replace('Ã¥', 'å').\n",
        "            replace('Ã¦', 'æ').\n",
        "            replace('Ã¸', 'ø')\n",
        "    )\n",
        "    return formatted\n",
        "\n",
        "\n",
        "# absolute genius stuff form chatgpt\n",
        "\n",
        "def rgb_text(text, r, g, b, background=False):\n",
        "    \"\"\"Returns text formatted with 24-bit RGB color.\"\"\"\n",
        "    if background:\n",
        "        if (r + g + b) / 3 > 128:\n",
        "            return f\"\\033[38;2;0;0;0m\\033[48;2;{r};{g};{b}m{text}\\033[0m\"\n",
        "        else:\n",
        "            return f\"\\033[48;2;{r};{g};{b}m{text}\\033[0m\"\n",
        "    return f\"\\033[38;2;{r};{g};{b}m{text}\\033[0m\"\n",
        "\n",
        "\n",
        "\n",
        "\n",
        "def print_colored_preacts(tokens, preacts, neuron, tokenizer, stop_after=100):\n",
        "\n",
        "    for idx, (token, preact) in enumerate(zip(tokens, preacts)):\n",
        "        if idx == stop_after:\n",
        "            break\n",
        "        if idx % 20 == 0:\n",
        "            print('')\n",
        "        formatted = format_chars(tokenizer.convert_ids_to_tokens(token))\n",
        "        value = preact[neuron].item() / 12\n",
        "\n",
        "        if value > 0:\n",
        "            print(rgb_text(formatted, r=int(abs(value) * 255), g=0, b=0, background=True), end='')\n",
        "        else:\n",
        "            print(rgb_text(formatted, r=0, g=0, b=int(abs(value) * 255), background=True), end='')\n",
        "\n",
        "\n",
        "def print_colored_acts(tokens, acts, neuron, tokenizer, stop_after=100):\n",
        "\n",
        "    for idx, (token, act) in enumerate(zip(tokens, acts)):\n",
        "        if idx == stop_after:\n",
        "            break\n",
        "        if idx % 20 == 0:\n",
        "            print('')\n",
        "\n",
        "        formatted = format_chars(tokenizer.convert_ids_to_tokens(token))\n",
        "        value = act[neuron].item()\n",
        "\n",
        "        if value:\n",
        "            print(rgb_text(formatted, r=255, g=0, b=0, background=True), end='')\n",
        "        else:\n",
        "            print(rgb_text(formatted, r=0, g=0, b=0, background=True), end='')\n",
        "\n",
        "\n",
        "\n",
        "def plot_difference_by_neuron(da_preacts, en_preacts, neuron):\n",
        "\n",
        "    da_preacts_tnsr = torch.stack(da_preacts).detach().cpu()\n",
        "    en_preacts_tnsr = torch.stack(en_preacts).detach().cpu()\n",
        "\n",
        "    fig, ax = plt.subplots(1, 1, figsize=(8, 4))\n",
        "\n",
        "    ax.set_title(f'Neuron {neuron}')\n",
        "    ax.hist(da_preacts_tnsr[:, neuron], bins=30, alpha=0.5, color='blue', label='Danish')\n",
        "    ax.hist(en_preacts_tnsr[:, neuron], bins=30, alpha=0.5, color='orange', label='English')\n",
        "\n",
        "    fig.legend()\n",
        "\n",
        "    fig.tight_layout()\n",
        "    fig.show()"
      ]
    },
    {
      "cell_type": "code",
      "execution_count": 8,
      "metadata": {
        "id": "c51NZRKXmzoZ"
      },
      "outputs": [],
      "source": [
        "# for identifying neurons overrepresented in one language\n",
        "\n",
        "data_path = 'data/split/tedtalks_test.tsv'\n",
        "dataset = TextClassificationDataset.from_tsv(data_path)\n",
        "\n",
        "da_acts, da_preacts, da_tokens, en_acts, en_preacts, en_tokens = get_biling_acts(dataset, model, tokenizer, stop_after=100)\n",
        "\n",
        "\n",
        "# for checking those neurons\n",
        "\n",
        "data_path = 'data/parallel/ELRC_2923.tmx'\n",
        "dataset = TextClassificationDataset.from_tmx(data_path, 'da', 'en')\n",
        "\n",
        "da_acts2, da_preacts2, da_tokens2, en_acts2, en_preacts2, en_tokens2 = get_biling_acts(dataset, model, tokenizer, stop_after=100)"
      ]
    },
    {
      "cell_type": "code",
      "execution_count": 9,
      "metadata": {
        "id": "HoIHfAjEmzoa"
      },
      "outputs": [],
      "source": [
        "da_acts_tnsr = torch.stack(da_acts)"
      ]
    },
    {
      "cell_type": "code",
      "execution_count": 10,
      "metadata": {
        "id": "avAFTBTFmzoa",
        "outputId": "da5b82f2-a5cf-47e1-bbdf-4f7aa213f86a",
        "colab": {
          "base_uri": "https://localhost:8080/"
        }
      },
      "outputs": [
        {
          "output_type": "execute_result",
          "data": {
            "text/plain": [
              "tensor(12266)"
            ]
          },
          "metadata": {},
          "execution_count": 10
        }
      ],
      "source": [
        "sum(da_acts_tnsr.sum(dim=0) > 0)"
      ]
    },
    {
      "cell_type": "code",
      "execution_count": 11,
      "metadata": {
        "id": "VYKKlgj5mzob"
      },
      "outputs": [],
      "source": [
        "# getting overrepresented neurons\n",
        "\n",
        "avg_da = sum(da_acts) / len(da_acts)\n",
        "avg_en = sum(en_acts) / len(en_acts)\n",
        "\n",
        "max_diff_neuron = torch.argmax(avg_da - avg_en).item()"
      ]
    },
    {
      "cell_type": "code",
      "source": [],
      "metadata": {
        "id": "lKAcjvrJtr4t"
      },
      "execution_count": 11,
      "outputs": []
    },
    {
      "cell_type": "code",
      "execution_count": 12,
      "metadata": {
        "id": "KOd9whaCmzob",
        "outputId": "0997e309-f412-4d2a-cc09-93f03f981fd7",
        "colab": {
          "base_uri": "https://localhost:8080/",
          "height": 339
        }
      },
      "outputs": [
        {
          "output_type": "display_data",
          "data": {
            "text/plain": [
              "<Figure size 800x400 with 1 Axes>"
            ],
            "image/png": "[encoded data removed]"
          },
          "metadata": {}
        }
      ],
      "source": [
        "plot_difference_by_neuron(da_preacts, en_preacts, max_diff_neuron)"
      ]
    },
    {
      "cell_type": "code",
      "execution_count": 13,
      "metadata": {
        "id": "cf9_FKKjmzob",
        "outputId": "165aeddf-cd3c-4ee6-f499-ad1ff733b542",
        "colab": {
          "base_uri": "https://localhost:8080/",
          "height": 339
        }
      },
      "outputs": [
        {
          "output_type": "display_data",
          "data": {
            "text/plain": [
              "<Figure size 800x400 with 1 Axes>"
            ],
            "image/png": "[encoded data removed]"
          },
          "metadata": {}
        }
      ],
      "source": [
        "plot_difference_by_neuron(da_preacts2, en_preacts2, max_diff_neuron)"
      ]
    },
    {
      "cell_type": "code",
      "execution_count": 17,
      "metadata": {
        "id": "uf9A7lUrmzoc",
        "outputId": "665c5bf0-2193-454a-800a-ca1aeedf0306",
        "colab": {
          "base_uri": "https://localhost:8080/"
        }
      },
      "outputs": [
        {
          "output_type": "stream",
          "name": "stdout",
          "text": [
            "\n",
            "\u001b[48;2;0;0;0mCor\u001b[0m\u001b[48;2;0;0;0mona\u001b[0m\u001b[48;2;0;0;0m Response\u001b[0m\u001b[48;2;0;0;0m Investment\u001b[0m\u001b[48;2;0;0;0m Initiative\u001b[0m\u001b[48;2;0;0;0m .\u001b[0m\u001b[48;2;0;0;0mR\u001b[0m\u001b[48;2;0;0;0må\u001b[0m\u001b[48;2;255;0;0mdet\u001b[0m\u001b[48;2;255;0;0m skal\u001b[0m\u001b[48;2;255;0;0m nu\u001b[0m\u001b[48;2;255;0;0m form\u001b[0m\u001b[48;2;255;0;0melt\u001b[0m\u001b[48;2;255;0;0m god\u001b[0m\u001b[48;2;255;0;0mk\u001b[0m\u001b[48;2;255;0;0mende\u001b[0m\u001b[48;2;255;0;0m Parlament\u001b[0m\u001b[48;2;255;0;0mets\u001b[0m\u001b[48;2;255;0;0m hold\u001b[0m\u001b[48;2;255;0;0mning\u001b[0m\n",
            "\u001b[48;2;255;0;0m.\u001b[0m\u001b[48;2;0;0;0mFor\u001b[0m\u001b[48;2;0;0;0man\u001b[0m\u001b[48;2;255;0;0mst\u001b[0m\u001b[48;2;255;0;0malt\u001b[0m\u001b[48;2;255;0;0mning\u001b[0m\u001b[48;2;255;0;0merne\u001b[0m\u001b[48;2;255;0;0m vil\u001b[0m\u001b[48;2;255;0;0m st\u001b[0m\u001b[48;2;255;0;0mille\u001b[0m\u001b[48;2;255;0;0m op\u001b[0m\u001b[48;2;255;0;0m til\u001b[0m\u001b[48;2;255;0;0m 800\u001b[0m\u001b[48;2;255;0;0m m\u001b[0m\u001b[48;2;255;0;0mio\u001b[0m\u001b[48;2;255;0;0m.\u001b[0m\u001b[48;2;255;0;0m EUR\u001b[0m\u001b[48;2;255;0;0m til\u001b[0m\u001b[48;2;255;0;0m r\u001b[0m\u001b[48;2;255;0;0må\u001b[0m\n",
            "\u001b[48;2;255;0;0mdig\u001b[0m\u001b[48;2;255;0;0mhed\u001b[0m\u001b[48;2;255;0;0m for\u001b[0m\u001b[48;2;255;0;0m EU\u001b[0m\u001b[48;2;255;0;0m land\u001b[0m\u001b[48;2;255;0;0mene\u001b[0m\u001b[48;2;255;0;0m i\u001b[0m\u001b[48;2;255;0;0m 2020\u001b[0m\u001b[48;2;255;0;0m.\u001b[0m\u001b[48;2;0;0;0mN\u001b[0m\u001b[48;2;255;0;0mæ\u001b[0m\u001b[48;2;255;0;0mste\u001b[0m\u001b[48;2;255;0;0m sk\u001b[0m\u001b[48;2;255;0;0mrid\u001b[0m\u001b[48;2;255;0;0mt\u001b[0m\u001b[48;2;0;0;0mH\u001b[0m\u001b[48;2;0;0;0maste\u001b[0m\u001b[48;2;0;0;0mfor\u001b[0m\u001b[48;2;0;0;0man\u001b[0m\u001b[48;2;255;0;0mst\u001b[0m\n",
            "\u001b[48;2;255;0;0malt\u001b[0m\u001b[48;2;255;0;0mninger\u001b[0m\u001b[48;2;255;0;0m,\u001b[0m\u001b[48;2;255;0;0m der\u001b[0m\u001b[48;2;255;0;0m skal\u001b[0m\u001b[48;2;255;0;0m h\u001b[0m\u001b[48;2;255;0;0mj\u001b[0m\u001b[48;2;255;0;0mæ\u001b[0m\u001b[48;2;255;0;0ml\u001b[0m\u001b[48;2;255;0;0mpe\u001b[0m\u001b[48;2;255;0;0m b\u001b[0m\u001b[48;2;255;0;0morge\u001b[0m\u001b[48;2;255;0;0mre\u001b[0m\u001b[48;2;255;0;0m og\u001b[0m\u001b[48;2;255;0;0m vir\u001b[0m\u001b[48;2;255;0;0mks\u001b[0m\u001b[48;2;255;0;0mom\u001b[0m\u001b[48;2;255;0;0mhe\u001b[0m\u001b[48;2;255;0;0mder\u001b[0m\u001b[48;2;255;0;0m med\u001b[0m\n",
            "\u001b[48;2;255;0;0m at\u001b[0m\u001b[48;2;255;0;0m tackle\u001b[0m\u001b[48;2;255;0;0m k\u001b[0m\u001b[48;2;255;0;0mris\u001b[0m\u001b[48;2;255;0;0men\u001b[0m\u001b[48;2;255;0;0m,\u001b[0m\u001b[48;2;255;0;0m ble\u001b[0m\u001b[48;2;255;0;0mv\u001b[0m\u001b[48;2;255;0;0m sat\u001b[0m\u001b[48;2;255;0;0m til\u001b[0m\u001b[48;2;255;0;0m af\u001b[0m\u001b[48;2;255;0;0mstem\u001b[0m\u001b[48;2;255;0;0mning\u001b[0m\u001b[48;2;255;0;0m på\u001b[0m\u001b[48;2;255;0;0m et\u001b[0m\u001b[48;2;255;0;0m pl\u001b[0m\u001b[48;2;255;0;0men\u001b[0m\u001b[48;2;255;0;0marm\u001b[0m\u001b[48;2;255;0;0mø\u001b[0m\u001b[48;2;255;0;0mde\u001b[0m\n",
            "\u001b[48;2;255;0;0m mind\u001b[0m\u001b[48;2;255;0;0mre\u001b[0m\u001b[48;2;255;0;0m end\u001b[0m\u001b[48;2;255;0;0m to\u001b[0m\u001b[48;2;255;0;0m ug\u001b[0m\u001b[48;2;255;0;0mer\u001b[0m\u001b[48;2;255;0;0m efter\u001b[0m\u001b[48;2;255;0;0m,\u001b[0m\u001b[48;2;255;0;0m at\u001b[0m\u001b[48;2;255;0;0m Kommission\u001b[0m\u001b[48;2;255;0;0men\u001b[0m\u001b[48;2;255;0;0m fre\u001b[0m\u001b[48;2;255;0;0mms\u001b[0m\u001b[48;2;255;0;0matte\u001b[0m\u001b[48;2;255;0;0m sine\u001b[0m\u001b[48;2;255;0;0m for\u001b[0m\u001b[48;2;255;0;0msl\u001b[0m\u001b[48;2;255;0;0mag\u001b[0m\u001b[48;2;255;0;0m.\u001b[0m\u001b[48;2;0;0;0mMid\u001b[0m\n",
            "\u001b[48;2;0;0;0mler\u001b[0m\u001b[48;2;0;0;0mne\u001b[0m\u001b[48;2;255;0;0m vil\u001b[0m\u001b[48;2;255;0;0m bl\u001b[0m\u001b[48;2;255;0;0mive\u001b[0m\u001b[48;2;255;0;0m ret\u001b[0m\u001b[48;2;255;0;0mtet\u001b[0m\u001b[48;2;255;0;0m mod\u001b[0m\u001b[48;2;255;0;0m s\u001b[0m\u001b[48;2;255;0;0mund\u001b[0m\u001b[48;2;255;0;0mhed\u001b[0m\u001b[48;2;255;0;0mss\u001b[0m\u001b[48;2;255;0;0mystem\u001b[0m\u001b[48;2;255;0;0mer\u001b[0m\u001b[48;2;255;0;0m,\u001b[0m\u001b[48;2;255;0;0m SM\u001b[0m\u001b[48;2;255;0;0mV\u001b[0m\u001b[48;2;255;0;0m'\u001b[0m\u001b[48;2;255;0;0mer\u001b[0m\u001b[48;2;255;0;0m,\u001b[0m\n",
            "\u001b[48;2;255;0;0m arbe\u001b[0m\u001b[48;2;255;0;0mj\u001b[0m\u001b[48;2;255;0;0mds\u001b[0m\u001b[48;2;255;0;0mmark\u001b[0m\u001b[48;2;255;0;0meder\u001b[0m\u001b[48;2;255;0;0m og\u001b[0m\u001b[48;2;255;0;0m and\u001b[0m\u001b[48;2;255;0;0mre\u001b[0m\u001b[48;2;255;0;0m så\u001b[0m\u001b[48;2;255;0;0mrb\u001b[0m\u001b[48;2;255;0;0mare\u001b[0m\u001b[48;2;255;0;0m dele\u001b[0m\u001b[48;2;255;0;0m af\u001b[0m\u001b[48;2;255;0;0m EU\u001b[0m\u001b[48;2;255;0;0m-\u001b[0m\u001b[48;2;255;0;0mmed\u001b[0m\u001b[48;2;255;0;0mlems\u001b[0m\u001b[48;2;255;0;0mland\u001b[0m\u001b[48;2;255;0;0menes\u001b[0m\u001b[48;2;255;0;0m ø\u001b[0m\n",
            "\u001b[48;2;255;0;0mk\u001b[0m\u001b[48;2;255;0;0monom\u001b[0m\u001b[48;2;255;0;0mier\u001b[0m\u001b[48;2;255;0;0m.\u001b[0m\u001b[48;2;0;0;0mForm\u001b[0m\u001b[48;2;255;0;0må\u001b[0m\u001b[48;2;255;0;0mlet\u001b[0m\u001b[48;2;255;0;0m med\u001b[0m\u001b[48;2;255;0;0m disse\u001b[0m\u001b[48;2;255;0;0m for\u001b[0m\u001b[48;2;255;0;0man\u001b[0m\u001b[48;2;255;0;0mst\u001b[0m\u001b[48;2;255;0;0malt\u001b[0m\u001b[48;2;255;0;0mninger\u001b[0m\u001b[48;2;255;0;0m er\u001b[0m\u001b[48;2;255;0;0m at\u001b[0m\u001b[48;2;255;0;0m kan\u001b[0m\u001b[48;2;255;0;0mal\u001b[0m\u001b[48;2;255;0;0mise\u001b[0m\u001b[48;2;255;0;0mre\u001b[0m\n",
            "\u001b[48;2;255;0;0m 37\u001b[0m\u001b[48;2;255;0;0m m\u001b[0m\u001b[48;2;255;0;0mia\u001b[0m\u001b[48;2;255;0;0m.\u001b[0m\u001b[48;2;255;0;0m EUR\u001b[0m\u001b[48;2;255;0;0m fra\u001b[0m\u001b[48;2;255;0;0m e\u001b[0m\u001b[48;2;255;0;0mks\u001b[0m\u001b[48;2;255;0;0miste\u001b[0m\u001b[48;2;255;0;0mrende\u001b[0m\u001b[48;2;255;0;0m EU\u001b[0m\u001b[48;2;255;0;0m-\u001b[0m\u001b[48;2;255;0;0mmid\u001b[0m\u001b[48;2;255;0;0mler\u001b[0m\u001b[48;2;255;0;0m til\u001b[0m\u001b[48;2;255;0;0m de\u001b[0m\u001b[48;2;255;0;0m b\u001b[0m\u001b[48;2;255;0;0morge\u001b[0m\u001b[48;2;255;0;0mre\u001b[0m\u001b[48;2;255;0;0m,\u001b[0m\n",
            "\u001b[48;2;255;0;0m region\u001b[0m\u001b[48;2;255;0;0mer\u001b[0m\u001b[48;2;255;0;0m og\u001b[0m\u001b[48;2;255;0;0m land\u001b[0m\u001b[48;2;255;0;0me\u001b[0m\u001b[48;2;255;0;0m,\u001b[0m\u001b[48;2;255;0;0m der\u001b[0m\u001b[48;2;255;0;0m er\u001b[0m\u001b[48;2;255;0;0m hå\u001b[0m\u001b[48;2;255;0;0mrd\u001b[0m\u001b[48;2;255;0;0mest\u001b[0m\u001b[48;2;255;0;0m ram\u001b[0m\u001b[48;2;255;0;0mt\u001b[0m\u001b[48;2;255;0;0m af\u001b[0m\u001b[48;2;255;0;0m Coron\u001b[0m\u001b[48;2;255;0;0mavirus\u001b[0m\u001b[48;2;255;0;0m-\u001b[0m\u001b[48;2;255;0;0mp\u001b[0m\u001b[48;2;255;0;0mandem\u001b[0m\u001b[48;2;255;0;0mien\u001b[0m\n",
            "\u001b[48;2;255;0;0m så\u001b[0m\u001b[48;2;255;0;0m hurt\u001b[0m\u001b[48;2;255;0;0migt\u001b[0m\u001b[48;2;255;0;0m som\u001b[0m\u001b[48;2;255;0;0m mul\u001b[0m\u001b[48;2;255;0;0migt\u001b[0m\u001b[48;2;255;0;0m.\u001b[0m\u001b[48;2;0;0;0mS\u001b[0m\u001b[48;2;0;0;0mom\u001b[0m\u001b[48;2;0;0;0m en\u001b[0m\u001b[48;2;255;0;0m del\u001b[0m\u001b[48;2;0;0;0m af\u001b[0m\u001b[48;2;255;0;0m EU\u001b[0m\u001b[48;2;255;0;0m's\u001b[0m\u001b[48;2;255;0;0m f\u001b[0m\u001b[48;2;255;0;0mæ\u001b[0m\u001b[48;2;255;0;0mll\u001b[0m\u001b[48;2;255;0;0mes\u001b[0m\u001b[48;2;255;0;0m s\u001b[0m\u001b[48;2;255;0;0mvar\u001b[0m\n",
            "\u001b[48;2;255;0;0m mod\u001b[0m\u001b[48;2;255;0;0m COVID\u001b[0m\u001b[48;2;255;0;0m-\u001b[0m\u001b[48;2;255;0;0m19\u001b[0m\u001b[48;2;255;0;0m-\u001b[0m\u001b[48;2;255;0;0mud\u001b[0m\u001b[48;2;255;0;0mbr\u001b[0m\u001b[48;2;255;0;0mud\u001b[0m\u001b[48;2;255;0;0mdet\u001b[0m\u001b[48;2;255;0;0m ved\u001b[0m\u001b[48;2;255;0;0mt\u001b[0m\u001b[48;2;255;0;0mog\u001b[0m\u001b[48;2;255;0;0m med\u001b[0m\u001b[48;2;255;0;0mlem\u001b[0m\u001b[48;2;255;0;0mmer\u001b[0m\u001b[48;2;255;0;0mne\u001b[0m\u001b[48;2;255;0;0m n\u001b[0m\u001b[48;2;255;0;0mæ\u001b[0m\u001b[48;2;255;0;0msten\u001b[0m\u001b[48;2;255;0;0m en\u001b[0m\n",
            "\u001b[48;2;255;0;0mstem\u001b[0m\u001b[48;2;255;0;0mm\u001b[0m\u001b[48;2;255;0;0migt\u001b[0m\u001b[48;2;255;0;0m tre\u001b[0m\u001b[48;2;255;0;0m haste\u001b[0m\u001b[48;2;255;0;0mfors\u001b[0m\u001b[48;2;255;0;0mlag\u001b[0m\u001b[48;2;255;0;0m på\u001b[0m\u001b[48;2;255;0;0m en\u001b[0m\u001b[48;2;255;0;0m ek\u001b[0m\u001b[48;2;255;0;0mstra\u001b[0m\u001b[48;2;255;0;0mordin\u001b[0m\u001b[48;2;255;0;0mær\u001b[0m\u001b[48;2;255;0;0m pl\u001b[0m\u001b[48;2;255;0;0men\u001b[0m\u001b[48;2;255;0;0marf\u001b[0m\u001b[48;2;255;0;0mors\u001b[0m\u001b[48;2;255;0;0mam\u001b[0m\u001b[48;2;255;0;0mling\u001b[0m\u001b[48;2;255;0;0m tors\u001b[0m\n",
            "\u001b[48;2;255;0;0mdag\u001b[0m\u001b[48;2;255;0;0m.\u001b[0m\u001b[48;2;0;0;0mD\u001b[0m\u001b[48;2;255;0;0mette\u001b[0m\u001b[48;2;255;0;0m vil\u001b[0m\u001b[48;2;255;0;0m for\u001b[0m\u001b[48;2;255;0;0mhind\u001b[0m\u001b[48;2;255;0;0mre\u001b[0m\u001b[48;2;255;0;0m lu\u001b[0m\u001b[48;2;255;0;0mft\u001b[0m\u001b[48;2;255;0;0mf\u001b[0m\u001b[48;2;255;0;0mart\u001b[0m\u001b[48;2;255;0;0mss\u001b[0m\u001b[48;2;255;0;0mels\u001b[0m\u001b[48;2;255;0;0mk\u001b[0m\u001b[48;2;255;0;0maber\u001b[0m\u001b[48;2;255;0;0mne\u001b[0m\u001b[48;2;255;0;0m i\u001b[0m\u001b[48;2;255;0;0m at\u001b[0m\u001b[48;2;255;0;0m fly\u001b[0m\n",
            "\u001b[48;2;255;0;0mve\u001b[0m\u001b[48;2;255;0;0m med\u001b[0m\u001b[48;2;255;0;0m tom\u001b[0m\u001b[48;2;255;0;0mme\u001b[0m\u001b[48;2;255;0;0m fly\u001b[0m\u001b[48;2;255;0;0m under\u001b[0m\u001b[48;2;255;0;0m pand\u001b[0m\u001b[48;2;255;0;0mem\u001b[0m\u001b[48;2;255;0;0mien\u001b[0m\u001b[48;2;255;0;0m.\u001b[0m\u001b[48;2;0;0;0mSt\u001b[0m\u001b[48;2;255;0;0mø\u001b[0m\u001b[48;2;255;0;0mtte\u001b[0m\u001b[48;2;255;0;0mbe\u001b[0m\u001b[48;2;255;0;0mrett\u001b[0m\u001b[48;2;255;0;0mig\u001b[0m\u001b[48;2;255;0;0mede\u001b[0m\u001b[48;2;255;0;0m tilt\u001b[0m\u001b[48;2;255;0;0mag\u001b[0m\u001b[48;2;255;0;0m under\u001b[0m\n",
            "\u001b[48;2;255;0;0m fond\u001b[0m\u001b[48;2;255;0;0men\u001b[0m\u001b[48;2;255;0;0m,\u001b[0m\u001b[48;2;255;0;0m vil\u001b[0m\u001b[48;2;255;0;0m bl\u001b[0m\u001b[48;2;255;0;0mive\u001b[0m\u001b[48;2;255;0;0m ud\u001b[0m\u001b[48;2;255;0;0mvid\u001b[0m\u001b[48;2;255;0;0met\u001b[0m\u001b[48;2;255;0;0m til\u001b[0m\u001b[48;2;255;0;0m også\u001b[0m\u001b[48;2;255;0;0m at\u001b[0m\u001b[48;2;255;0;0m om\u001b[0m\u001b[48;2;255;0;0mfat\u001b[0m\u001b[48;2;255;0;0mte\u001b[0m\u001b[48;2;255;0;0m st\u001b[0m\u001b[48;2;255;0;0mø\u001b[0m\u001b[48;2;255;0;0mtte\u001b[0m\u001b[48;2;255;0;0m i\u001b[0m\u001b[48;2;255;0;0m for\u001b[0m\n",
            "\u001b[48;2;255;0;0mbind\u001b[0m\u001b[48;2;255;0;0melse\u001b[0m\u001b[48;2;255;0;0m med\u001b[0m\u001b[48;2;255;0;0m st\u001b[0m\u001b[48;2;255;0;0mør\u001b[0m\u001b[48;2;255;0;0mre\u001b[0m\u001b[48;2;255;0;0m fol\u001b[0m\u001b[48;2;255;0;0mkes\u001b[0m\u001b[48;2;255;0;0mund\u001b[0m\u001b[48;2;255;0;0mhed\u001b[0m\u001b[48;2;255;0;0msk\u001b[0m\u001b[48;2;255;0;0mris\u001b[0m\u001b[48;2;255;0;0mer\u001b[0m\u001b[48;2;255;0;0m,\u001b[0m\u001b[48;2;255;0;0m her\u001b[0m\u001b[48;2;255;0;0munder\u001b[0m\u001b[48;2;255;0;0m l\u001b[0m\u001b[48;2;255;0;0mæ\u001b[0m\u001b[48;2;255;0;0mge\u001b[0m\u001b[48;2;255;0;0mh\u001b[0m\n",
            "\u001b[48;2;255;0;0mj\u001b[0m\u001b[48;2;255;0;0mæ\u001b[0m\u001b[48;2;255;0;0mlp\u001b[0m\u001b[48;2;255;0;0m,\u001b[0m\u001b[48;2;255;0;0m sam\u001b[0m\u001b[48;2;255;0;0mt\u001b[0m\u001b[48;2;255;0;0m for\u001b[0m\u001b[48;2;255;0;0man\u001b[0m\u001b[48;2;255;0;0mst\u001b[0m\u001b[48;2;255;0;0malt\u001b[0m\u001b[48;2;255;0;0mninger\u001b[0m\u001b[48;2;255;0;0m til\u001b[0m\u001b[48;2;255;0;0m fore\u001b[0m\u001b[48;2;255;0;0mby\u001b[0m\u001b[48;2;255;0;0mgg\u001b[0m\u001b[48;2;255;0;0melse\u001b[0m\u001b[48;2;255;0;0m,\u001b[0m\u001b[48;2;255;0;0m over\u001b[0m\u001b[48;2;255;0;0mv\u001b[0m\u001b[48;2;255;0;0må\u001b[0m\n",
            "\u001b[48;2;255;0;0mg\u001b[0m\u001b[48;2;255;0;0mning\u001b[0m\u001b[48;2;255;0;0m eller\u001b[0m\u001b[48;2;255;0;0m bek\u001b[0m\u001b[48;2;255;0;0mæ\u001b[0m\u001b[48;2;255;0;0mmp\u001b[0m\u001b[48;2;255;0;0melse\u001b[0m\u001b[48;2;255;0;0m af\u001b[0m\u001b[48;2;255;0;0m sp\u001b[0m\u001b[48;2;255;0;0mred\u001b[0m\u001b[48;2;255;0;0mning\u001b[0m\u001b[48;2;255;0;0m af\u001b[0m\u001b[48;2;255;0;0m sy\u001b[0m\u001b[48;2;255;0;0mg\u001b[0m\u001b[48;2;255;0;0mdom\u001b[0m\u001b[48;2;255;0;0mme\u001b[0m\u001b[48;2;255;0;0m.\u001b[0m\u001b[48;2;0;0;0mU\u001b[0m\u001b[48;2;0;0;0mdv\u001b[0m\u001b[48;2;255;0;0midel\u001b[0m\n",
            "\n",
            "\u001b[48;2;0;0;0mThe\u001b[0m\u001b[48;2;0;0;0m Cor\u001b[0m\u001b[48;2;0;0;0mona\u001b[0m\u001b[48;2;0;0;0m Response\u001b[0m\u001b[48;2;0;0;0m Investment\u001b[0m\u001b[48;2;0;0;0m Initiative\u001b[0m\u001b[48;2;0;0;0m .\u001b[0m\u001b[48;2;0;0;0mThe\u001b[0m\u001b[48;2;0;0;0m Council\u001b[0m\u001b[48;2;0;0;0m has\u001b[0m\u001b[48;2;0;0;0m to\u001b[0m\u001b[48;2;0;0;0m formally\u001b[0m\u001b[48;2;0;0;0m approve\u001b[0m\u001b[48;2;0;0;0m Parliament\u001b[0m\u001b[48;2;0;0;0m's\u001b[0m\u001b[48;2;0;0;0m position\u001b[0m\u001b[48;2;0;0;0m.\u001b[0m\u001b[48;2;0;0;0mThe\u001b[0m\u001b[48;2;0;0;0m measures\u001b[0m\u001b[48;2;0;0;0m will\u001b[0m\n",
            "\u001b[48;2;0;0;0m make\u001b[0m\u001b[48;2;0;0;0m up\u001b[0m\u001b[48;2;0;0;0m to\u001b[0m\u001b[48;2;0;0;0m âĤ¬\u001b[0m\u001b[48;2;0;0;0m800\u001b[0m\u001b[48;2;255;0;0m million\u001b[0m\u001b[48;2;0;0;0m available\u001b[0m\u001b[48;2;0;0;0m for\u001b[0m\u001b[48;2;0;0;0m European\u001b[0m\u001b[48;2;0;0;0m countries\u001b[0m\u001b[48;2;0;0;0m in\u001b[0m\u001b[48;2;0;0;0m 2020\u001b[0m\u001b[48;2;0;0;0m.\u001b[0m\u001b[48;2;0;0;0mFurther\u001b[0m\u001b[48;2;0;0;0m information\u001b[0m\u001b[48;2;0;0;0mThe\u001b[0m\u001b[48;2;0;0;0m urgent\u001b[0m\u001b[48;2;0;0;0m measures\u001b[0m\u001b[48;2;0;0;0m to\u001b[0m\u001b[48;2;0;0;0m help\u001b[0m\n",
            "\u001b[48;2;0;0;0m people\u001b[0m\u001b[48;2;0;0;0m and\u001b[0m\u001b[48;2;0;0;0m businesses\u001b[0m\u001b[48;2;0;0;0m tackle\u001b[0m\u001b[48;2;0;0;0m the\u001b[0m\u001b[48;2;0;0;0m crisis\u001b[0m\u001b[48;2;0;0;0m were\u001b[0m\u001b[48;2;0;0;0m voted\u001b[0m\u001b[48;2;0;0;0m on\u001b[0m\u001b[48;2;0;0;0m in\u001b[0m\u001b[48;2;0;0;0m pl\u001b[0m\u001b[48;2;0;0;0menary\u001b[0m\u001b[48;2;0;0;0m less\u001b[0m\u001b[48;2;0;0;0m than\u001b[0m\u001b[48;2;0;0;0m two\u001b[0m\u001b[48;2;255;0;0m weeks\u001b[0m\u001b[48;2;0;0;0m after\u001b[0m\u001b[48;2;0;0;0m the\u001b[0m\u001b[48;2;0;0;0m Commission\u001b[0m\u001b[48;2;0;0;0m t\u001b[0m\n",
            "\u001b[48;2;0;0;0mabled\u001b[0m\u001b[48;2;0;0;0m its\u001b[0m\u001b[48;2;0;0;0m proposals\u001b[0m\u001b[48;2;0;0;0m.\u001b[0m\u001b[48;2;0;0;0mThe\u001b[0m\u001b[48;2;0;0;0m funds\u001b[0m\u001b[48;2;0;0;0m will\u001b[0m\u001b[48;2;0;0;0m be\u001b[0m\u001b[48;2;0;0;0m directed\u001b[0m\u001b[48;2;0;0;0m towards\u001b[0m\u001b[48;2;0;0;0m healthcare\u001b[0m\u001b[48;2;0;0;0m systems\u001b[0m\u001b[48;2;0;0;0m,\u001b[0m\u001b[48;2;0;0;0m S\u001b[0m\u001b[48;2;0;0;0mME\u001b[0m\u001b[48;2;0;0;0ms\u001b[0m\u001b[48;2;0;0;0m,\u001b[0m\u001b[48;2;0;0;0m labour\u001b[0m\u001b[48;2;0;0;0m markets\u001b[0m\u001b[48;2;0;0;0m and\u001b[0m\n",
            "\u001b[48;2;0;0;0m other\u001b[0m\u001b[48;2;0;0;0m vulnerable\u001b[0m\u001b[48;2;0;0;0m parts\u001b[0m\u001b[48;2;0;0;0m of\u001b[0m\u001b[48;2;0;0;0m EU\u001b[0m\u001b[48;2;0;0;0m member\u001b[0m\u001b[48;2;0;0;0m states\u001b[0m\u001b[48;2;0;0;0m'\u001b[0m\u001b[48;2;0;0;0m economies\u001b[0m\u001b[48;2;0;0;0m.\u001b[0m\u001b[48;2;0;0;0mThese\u001b[0m\u001b[48;2;0;0;0m measures\u001b[0m\u001b[48;2;0;0;0m are\u001b[0m\u001b[48;2;0;0;0m meant\u001b[0m\u001b[48;2;0;0;0m to\u001b[0m\u001b[48;2;0;0;0m channel\u001b[0m\u001b[48;2;0;0;0m âĤ¬\u001b[0m\u001b[48;2;0;0;0m37\u001b[0m\u001b[48;2;0;0;0m billion\u001b[0m\u001b[48;2;0;0;0m from\u001b[0m\n",
            "\u001b[48;2;0;0;0m available\u001b[0m\u001b[48;2;0;0;0m EU\u001b[0m\u001b[48;2;0;0;0m funds\u001b[0m\u001b[48;2;0;0;0m as\u001b[0m\u001b[48;2;255;0;0m soon\u001b[0m\u001b[48;2;0;0;0m as\u001b[0m\u001b[48;2;0;0;0m possible\u001b[0m\u001b[48;2;0;0;0m to\u001b[0m\u001b[48;2;0;0;0m citizens\u001b[0m\u001b[48;2;0;0;0m,\u001b[0m\u001b[48;2;0;0;0m regions\u001b[0m\u001b[48;2;0;0;0m and\u001b[0m\u001b[48;2;0;0;0m countries\u001b[0m\u001b[48;2;255;0;0m hit\u001b[0m\u001b[48;2;0;0;0m the\u001b[0m\u001b[48;2;255;0;0m hardest\u001b[0m\u001b[48;2;0;0;0m by\u001b[0m\u001b[48;2;0;0;0m the\u001b[0m\u001b[48;2;0;0;0m Coron\u001b[0m\u001b[48;2;0;0;0mavirus\u001b[0m\n",
            "\u001b[48;2;0;0;0m pandemic\u001b[0m\u001b[48;2;0;0;0m.\u001b[0m\u001b[48;2;0;0;0mAs\u001b[0m\u001b[48;2;0;0;0m part\u001b[0m\u001b[48;2;0;0;0m of\u001b[0m\u001b[48;2;0;0;0m the\u001b[0m\u001b[48;2;0;0;0m EU\u001b[0m\u001b[48;2;0;0;0m's\u001b[0m\u001b[48;2;0;0;0m joint\u001b[0m\u001b[48;2;0;0;0m response\u001b[0m\u001b[48;2;0;0;0m to\u001b[0m\u001b[48;2;0;0;0m the\u001b[0m\u001b[48;2;0;0;0m COVID\u001b[0m\u001b[48;2;0;0;0m-\u001b[0m\u001b[48;2;0;0;0m19\u001b[0m\u001b[48;2;0;0;0m outbreak\u001b[0m\u001b[48;2;0;0;0m,\u001b[0m\u001b[48;2;0;0;0m ME\u001b[0m\u001b[48;2;0;0;0mPs\u001b[0m\u001b[48;2;0;0;0m almost\u001b[0m\n",
            "\u001b[48;2;0;0;0m unanimously\u001b[0m\u001b[48;2;0;0;0m adopted\u001b[0m\u001b[48;2;0;0;0m three\u001b[0m\u001b[48;2;0;0;0m urgent\u001b[0m\u001b[48;2;0;0;0m proposals\u001b[0m\u001b[48;2;0;0;0m in\u001b[0m\u001b[48;2;0;0;0m an\u001b[0m\u001b[48;2;0;0;0m extraordinary\u001b[0m\u001b[48;2;0;0;0m pl\u001b[0m\u001b[48;2;0;0;0menary\u001b[0m\u001b[48;2;0;0;0m session\u001b[0m\u001b[48;2;0;0;0m,\u001b[0m\u001b[48;2;0;0;0m on\u001b[0m\u001b[48;2;0;0;0m Thursday\u001b[0m\u001b[48;2;0;0;0m.\u001b[0m\u001b[48;2;0;0;0mThis\u001b[0m\u001b[48;2;0;0;0m will\u001b[0m\u001b[48;2;0;0;0m stop\u001b[0m\u001b[48;2;0;0;0m air\u001b[0m\u001b[48;2;0;0;0m carriers\u001b[0m\n",
            "\u001b[48;2;0;0;0m from\u001b[0m\u001b[48;2;0;0;0m operating\u001b[0m\u001b[48;2;0;0;0m empty\u001b[0m\u001b[48;2;0;0;0m flights\u001b[0m\u001b[48;2;0;0;0m during\u001b[0m\u001b[48;2;0;0;0m the\u001b[0m\u001b[48;2;0;0;0m pandemic\u001b[0m\u001b[48;2;0;0;0m.\u001b[0m\u001b[48;2;0;0;0mOper\u001b[0m\u001b[48;2;0;0;0mations\u001b[0m\u001b[48;2;0;0;0m eligible\u001b[0m\u001b[48;2;0;0;0m under\u001b[0m\u001b[48;2;0;0;0m the\u001b[0m\u001b[48;2;0;0;0m Fund\u001b[0m\u001b[48;2;0;0;0m will\u001b[0m\u001b[48;2;0;0;0m be\u001b[0m\u001b[48;2;0;0;0m extended\u001b[0m\u001b[48;2;0;0;0m to\u001b[0m\u001b[48;2;0;0;0m include\u001b[0m\u001b[48;2;0;0;0m support\u001b[0m\n",
            "\u001b[48;2;0;0;0m in\u001b[0m\u001b[48;2;0;0;0m a\u001b[0m\u001b[48;2;0;0;0m major\u001b[0m\u001b[48;2;0;0;0m public\u001b[0m\u001b[48;2;0;0;0m health\u001b[0m\u001b[48;2;0;0;0m emergency\u001b[0m\u001b[48;2;0;0;0m,\u001b[0m\u001b[48;2;0;0;0m including\u001b[0m\u001b[48;2;0;0;0m medical\u001b[0m\u001b[48;2;0;0;0m assistance\u001b[0m\u001b[48;2;0;0;0m,\u001b[0m\u001b[48;2;0;0;0m as\u001b[0m\u001b[48;2;0;0;0m well\u001b[0m\u001b[48;2;0;0;0m as\u001b[0m\u001b[48;2;0;0;0m measures\u001b[0m\u001b[48;2;0;0;0m to\u001b[0m\u001b[48;2;0;0;0m prevent\u001b[0m\u001b[48;2;0;0;0m,\u001b[0m\u001b[48;2;0;0;0m monitor\u001b[0m\u001b[48;2;0;0;0m or\u001b[0m\n",
            "\u001b[48;2;0;0;0m control\u001b[0m\u001b[48;2;0;0;0m the\u001b[0m\u001b[48;2;0;0;0m spread\u001b[0m\u001b[48;2;0;0;0m of\u001b[0m\u001b[48;2;0;0;0m diseases\u001b[0m\u001b[48;2;0;0;0m.\u001b[0m\u001b[48;2;0;0;0mThe\u001b[0m\u001b[48;2;0;0;0m extension\u001b[0m\u001b[48;2;0;0;0m of\u001b[0m\u001b[48;2;0;0;0m the\u001b[0m\u001b[48;2;0;0;0m EU\u001b[0m\u001b[48;2;0;0;0m Solid\u001b[0m\u001b[48;2;0;0;0marity\u001b[0m\u001b[48;2;0;0;0m Fund\u001b[0m\u001b[48;2;0;0;0m to\u001b[0m\u001b[48;2;0;0;0m cover\u001b[0m\u001b[48;2;0;0;0m public\u001b[0m\u001b[48;2;0;0;0m health\u001b[0m\u001b[48;2;0;0;0m emergencies\u001b[0m\u001b[48;2;0;0;0m.\u001b[0m\n",
            "\u001b[48;2;0;0;0mThe\u001b[0m\u001b[48;2;0;0;0m adopted\u001b[0m\u001b[48;2;0;0;0m measures\u001b[0m\u001b[48;2;0;0;0m will\u001b[0m\u001b[48;2;0;0;0m enter\u001b[0m\u001b[48;2;0;0;0m into\u001b[0m\u001b[48;2;255;0;0m force\u001b[0m\u001b[48;2;0;0;0m once\u001b[0m\u001b[48;2;0;0;0m published\u001b[0m\u001b[48;2;0;0;0m in\u001b[0m\u001b[48;2;0;0;0m the\u001b[0m\u001b[48;2;0;0;0m Official\u001b[0m\u001b[48;2;0;0;0m Journal\u001b[0m\u001b[48;2;0;0;0m of\u001b[0m\u001b[48;2;0;0;0m the\u001b[0m\u001b[48;2;0;0;0m European\u001b[0m\u001b[48;2;0;0;0m Union\u001b[0m\u001b[48;2;0;0;0m in\u001b[0m\u001b[48;2;0;0;0m the\u001b[0m\u001b[48;2;0;0;0m coming\u001b[0m\n",
            "\u001b[48;2;255;0;0m days\u001b[0m\u001b[48;2;0;0;0m.\u001b[0m\u001b[48;2;0;0;0mTem\u001b[0m\u001b[48;2;0;0;0mpor\u001b[0m\u001b[48;2;0;0;0marily\u001b[0m\u001b[48;2;0;0;0m susp\u001b[0m\u001b[48;2;0;0;0mending\u001b[0m\u001b[48;2;0;0;0m EU\u001b[0m\u001b[48;2;0;0;0m rules\u001b[0m\u001b[48;2;0;0;0m on\u001b[0m\u001b[48;2;0;0;0m airport\u001b[0m\u001b[48;2;0;0;0m slots\u001b[0m\u001b[48;2;0;0;0m .\u001b[0m\u001b[48;2;0;0;0mThe\u001b[0m\u001b[48;2;0;0;0m temporary\u001b[0m\u001b[48;2;0;0;0m suspension\u001b[0m\u001b[48;2;0;0;0m means\u001b[0m\u001b[48;2;0;0;0m that\u001b[0m\u001b[48;2;0;0;0m airlines\u001b[0m\u001b[48;2;0;0;0m are\u001b[0m\n",
            "\u001b[48;2;0;0;0m not\u001b[0m\u001b[48;2;255;0;0m obliged\u001b[0m\u001b[48;2;0;0;0m to\u001b[0m\u001b[48;2;0;0;0m use\u001b[0m\u001b[48;2;0;0;0m their\u001b[0m\u001b[48;2;0;0;0m planned\u001b[0m\u001b[48;2;0;0;0m take\u001b[0m\u001b[48;2;0;0;0m-\u001b[0m\u001b[48;2;0;0;0moff\u001b[0m\u001b[48;2;0;0;0m and\u001b[0m\u001b[48;2;0;0;0m landing\u001b[0m\u001b[48;2;0;0;0m slots\u001b[0m\u001b[48;2;0;0;0m to\u001b[0m\u001b[48;2;0;0;0m keep\u001b[0m\u001b[48;2;0;0;0m them\u001b[0m\u001b[48;2;255;0;0m in\u001b[0m\u001b[48;2;255;0;0m the\u001b[0m\u001b[48;2;0;0;0m next\u001b[0m\u001b[48;2;0;0;0m corresponding\u001b[0m\u001b[48;2;255;0;0m season\u001b[0m\n",
            "\u001b[48;2;0;0;0m.\u001b[0m\u001b[48;2;0;0;0mThe\u001b[0m\u001b[48;2;0;0;0m '\u001b[0m\u001b[48;2;0;0;0muse\u001b[0m\u001b[48;2;0;0;0m it\u001b[0m\u001b[48;2;0;0;0m or\u001b[0m\u001b[48;2;0;0;0m lose\u001b[0m\u001b[48;2;0;0;0m it\u001b[0m\u001b[48;2;0;0;0m'\u001b[0m\u001b[48;2;0;0;0m rule\u001b[0m\u001b[48;2;0;0;0m will\u001b[0m\u001b[48;2;0;0;0m be\u001b[0m\u001b[48;2;0;0;0m waived\u001b[0m\u001b[48;2;0;0;0m for\u001b[0m\u001b[48;2;0;0;0m the\u001b[0m\u001b[48;2;0;0;0m whole\u001b[0m\u001b[48;2;0;0;0m summer\u001b[0m\u001b[48;2;0;0;0m season\u001b[0m\u001b[48;2;0;0;0m,\u001b[0m\u001b[48;2;0;0;0m from\u001b[0m\n",
            "\u001b[48;2;0;0;0m 29\u001b[0m\u001b[48;2;0;0;0m March\u001b[0m\u001b[48;2;0;0;0m until\u001b[0m\u001b[48;2;0;0;0m 24\u001b[0m\u001b[48;2;0;0;0m October\u001b[0m\u001b[48;2;0;0;0m 2020\u001b[0m\u001b[48;2;0;0;0m.\u001b[0m\u001b[48;2;0;0;0mC\u001b[0m\u001b[48;2;0;0;0mOVID\u001b[0m\u001b[48;2;0;0;0m-\u001b[0m\u001b[48;2;0;0;0m19\u001b[0m\u001b[48;2;0;0;0m:\u001b[0m\u001b[48;2;0;0;0m final\u001b[0m\u001b[48;2;0;0;0m vote\u001b[0m\u001b[48;2;0;0;0m in\u001b[0m\u001b[48;2;0;0;0m EP\u001b[0m\u001b[48;2;0;0;0m pl\u001b[0m\u001b[48;2;0;0;0menary\u001b[0m\u001b[48;2;0;0;0m to\u001b[0m\u001b[48;2;0;0;0m approve\u001b[0m\n",
            "\u001b[48;2;0;0;0m crucial\u001b[0m\u001b[48;2;0;0;0m EU\u001b[0m\u001b[48;2;0;0;0m support\u001b[0m\u001b[48;2;0;0;0m measures\u001b[0m\u001b[48;2;0;0;0m -\u001b[0m\u001b[48;2;0;0;0m Â©\u001b[0m\u001b[48;2;0;0;0m EP\u001b[0m\u001b[48;2;0;0;0mThe\u001b[0m\u001b[48;2;0;0;0m proposal\u001b[0m\u001b[48;2;0;0;0m was\u001b[0m\u001b[48;2;0;0;0m adopted\u001b[0m\u001b[48;2;0;0;0m with\u001b[0m\u001b[48;2;0;0;0m 6\u001b[0m\u001b[48;2;0;0;0m71\u001b[0m\u001b[48;2;255;0;0m votes\u001b[0m\u001b[48;2;0;0;0m in\u001b[0m\u001b[48;2;0;0;0m favour\u001b[0m\u001b[48;2;0;0;0m,\u001b[0m\u001b[48;2;0;0;0m 3\u001b[0m\u001b[48;2;0;0;0m against\u001b[0m\n",
            "\u001b[48;2;0;0;0m and\u001b[0m\u001b[48;2;255;0;0m 14\u001b[0m\u001b[48;2;0;0;0m abst\u001b[0m\u001b[48;2;0;0;0ment\u001b[0m\u001b[48;2;255;0;0mions\u001b[0m\u001b[48;2;0;0;0m.\u001b[0m\u001b[48;2;0;0;0mThe\u001b[0m\u001b[48;2;0;0;0m proposal\u001b[0m\u001b[48;2;0;0;0m was\u001b[0m\u001b[48;2;0;0;0m adopted\u001b[0m\u001b[48;2;0;0;0m with\u001b[0m\u001b[48;2;0;0;0m 6\u001b[0m\u001b[48;2;0;0;0m83\u001b[0m\u001b[48;2;255;0;0m votes\u001b[0m\u001b[48;2;0;0;0m in\u001b[0m\u001b[48;2;0;0;0m favour\u001b[0m\u001b[48;2;0;0;0m,\u001b[0m\u001b[48;2;0;0;0m 1\u001b[0m\u001b[48;2;0;0;0m against\u001b[0m\u001b[48;2;0;0;0m and\u001b[0m\n",
            "\u001b[48;2;0;0;0m 4\u001b[0m\u001b[48;2;0;0;0m abst\u001b[0m\u001b[48;2;0;0;0ment\u001b[0m\u001b[48;2;255;0;0mions\u001b[0m\u001b[48;2;0;0;0m.\u001b[0m\u001b[48;2;0;0;0mThe\u001b[0m\u001b[48;2;0;0;0m proposal\u001b[0m\u001b[48;2;0;0;0m was\u001b[0m\u001b[48;2;0;0;0m adopted\u001b[0m\u001b[48;2;0;0;0m with\u001b[0m\u001b[48;2;0;0;0m 6\u001b[0m\u001b[48;2;0;0;0m86\u001b[0m\u001b[48;2;255;0;0m votes\u001b[0m\u001b[48;2;0;0;0m in\u001b[0m\u001b[48;2;0;0;0m favour\u001b[0m\u001b[48;2;0;0;0m,\u001b[0m\u001b[48;2;0;0;0m no\u001b[0m\u001b[48;2;0;0;0m votes\u001b[0m\u001b[48;2;0;0;0m against\u001b[0m\u001b[48;2;0;0;0m and\u001b[0m\n",
            "\u001b[48;2;0;0;0m 2\u001b[0m\u001b[48;2;0;0;0m abst\u001b[0m\u001b[48;2;0;0;0ment\u001b[0m\u001b[48;2;255;0;0mions\u001b[0m\u001b[48;2;0;0;0m.\u001b[0m\u001b[48;2;0;0;0mdevelop\u001b[0m\u001b[48;2;0;0;0ming\u001b[0m\u001b[48;2;0;0;0m new\u001b[0m\u001b[48;2;0;0;0m vaccines\u001b[0m\u001b[48;2;0;0;0mProgram\u001b[0m\u001b[48;2;0;0;0mmes\u001b[0m\u001b[48;2;0;0;0m already\u001b[0m\u001b[48;2;0;0;0m in\u001b[0m\u001b[48;2;0;0;0m place\u001b[0m\u001b[48;2;0;0;0mThe\u001b[0m\u001b[48;2;0;0;0m 140\u001b[0m\u001b[48;2;0;0;0m research\u001b[0m\u001b[48;2;0;0;0m teams\u001b[0m\u001b[48;2;0;0;0m from\u001b[0m\u001b[48;2;0;0;0m across\u001b[0m"
          ]
        }
      ],
      "source": [
        "begin_at = 0\n",
        "\n",
        "\n",
        "print_colored_acts(\n",
        "    da_tokens2[begin_at:],\n",
        "    da_acts2[begin_at:],\n",
        "    max_diff_neuron,\n",
        "    tokenizer,\n",
        "    stop_after=400\n",
        ")\n",
        "print('')\n",
        "print_colored_acts(\n",
        "    en_tokens2[begin_at:],\n",
        "    en_acts2[begin_at:],\n",
        "    max_diff_neuron,\n",
        "    tokenizer,\n",
        "    stop_after=400\n",
        ")"
      ]
    },
    {
      "cell_type": "code",
      "execution_count": 18,
      "metadata": {
        "id": "soGLSKI5mzoc",
        "outputId": "c32784c6-17f1-4bf0-afe8-29f4fe98c249",
        "colab": {
          "base_uri": "https://localhost:8080/"
        }
      },
      "outputs": [
        {
          "output_type": "stream",
          "name": "stdout",
          "text": [
            "\n",
            "\u001b[48;2;0;0;26mCor\u001b[0m\u001b[48;2;0;0;30mona\u001b[0m\u001b[48;2;0;0;32m Response\u001b[0m\u001b[48;2;0;0;44m Investment\u001b[0m\u001b[48;2;0;0;34m Initiative\u001b[0m\u001b[48;2;0;0;49m .\u001b[0m\u001b[48;2;0;0;25mR\u001b[0m\u001b[48;2;0;0;17må\u001b[0m\u001b[48;2;90;0;0mdet\u001b[0m\u001b[48;2;130;0;0m skal\u001b[0m\u001b[48;2;134;0;0m nu\u001b[0m\u001b[48;2;117;0;0m form\u001b[0m\u001b[48;2;129;0;0melt\u001b[0m\u001b[48;2;90;0;0m god\u001b[0m\u001b[48;2;91;0;0mk\u001b[0m\u001b[48;2;86;0;0mende\u001b[0m\u001b[48;2;72;0;0m Parlament\u001b[0m\u001b[48;2;69;0;0mets\u001b[0m\u001b[48;2;66;0;0m hold\u001b[0m\u001b[48;2;176;0;0mning\u001b[0m\n",
            "\u001b[48;2;102;0;0m.\u001b[0m\u001b[48;2;0;0;28mFor\u001b[0m\u001b[48;2;0;0;37man\u001b[0m\u001b[48;2;4;0;0mst\u001b[0m\u001b[48;2;29;0;0malt\u001b[0m\u001b[48;2;122;0;0mning\u001b[0m\u001b[48;2;158;0;0merne\u001b[0m\u001b[48;2;127;0;0m vil\u001b[0m\u001b[48;2;119;0;0m st\u001b[0m\u001b[48;2;130;0;0mille\u001b[0m\u001b[48;2;59;0;0m op\u001b[0m\u001b[48;2;96;0;0m til\u001b[0m\u001b[48;2;110;0;0m 800\u001b[0m\u001b[48;2;91;0;0m m\u001b[0m\u001b[48;2;93;0;0mio\u001b[0m\u001b[48;2;83;0;0m.\u001b[0m\u001b[48;2;194;0;0m EUR\u001b[0m\u001b[48;2;102;0;0m til\u001b[0m\u001b[48;2;69;0;0m r\u001b[0m\u001b[48;2;64;0;0må\u001b[0m\n",
            "\u001b[48;2;113;0;0mdig\u001b[0m\u001b[48;2;198;0;0mhed\u001b[0m\u001b[48;2;68;0;0m for\u001b[0m\u001b[48;2;69;0;0m EU\u001b[0m\u001b[48;2;51;0;0m land\u001b[0m\u001b[48;2;131;0;0mene\u001b[0m\u001b[48;2;70;0;0m i\u001b[0m\u001b[48;2;136;0;0m 2020\u001b[0m\u001b[48;2;110;0;0m.\u001b[0m\u001b[48;2;0;0;26mN\u001b[0m\u001b[48;2;0;0;0mæ\u001b[0m\u001b[48;2;75;0;0mste\u001b[0m\u001b[48;2;91;0;0m sk\u001b[0m\u001b[48;2;54;0;0mrid\u001b[0m\u001b[48;2;211;0;0mt\u001b[0m\u001b[48;2;0;0;24mH\u001b[0m\u001b[48;2;0;0;33maste\u001b[0m\u001b[48;2;0;0;52mfor\u001b[0m\u001b[48;2;0;0;43man\u001b[0m\u001b[48;2;4;0;0mst\u001b[0m\n",
            "\u001b[48;2;21;0;0malt\u001b[0m\u001b[48;2;106;0;0mninger\u001b[0m\u001b[48;2;76;0;0m,\u001b[0m\u001b[48;2;158;0;0m der\u001b[0m\u001b[48;2;152;0;0m skal\u001b[0m\u001b[48;2;156;0;0m h\u001b[0m\u001b[48;2;102;0;0mj\u001b[0m\u001b[48;2;37;0;0mæ\u001b[0m\u001b[48;2;77;0;0ml\u001b[0m\u001b[48;2;126;0;0mpe\u001b[0m\u001b[48;2;66;0;0m b\u001b[0m\u001b[48;2;93;0;0morge\u001b[0m\u001b[48;2;193;0;0mre\u001b[0m\u001b[48;2;65;0;0m og\u001b[0m\u001b[48;2;20;0;0m vir\u001b[0m\u001b[48;2;92;0;0mks\u001b[0m\u001b[48;2;102;0;0mom\u001b[0m\u001b[48;2;89;0;0mhe\u001b[0m\u001b[48;2;222;0;0mder\u001b[0m\u001b[48;2;168;0;0m med\u001b[0m\n",
            "\u001b[48;2;155;0;0m at\u001b[0m\u001b[48;2;144;0;0m tackle\u001b[0m\u001b[48;2;121;0;0m k\u001b[0m\u001b[48;2;99;0;0mris\u001b[0m\u001b[48;2;199;0;0men\u001b[0m\u001b[48;2;212;0;0m,\u001b[0m\u001b[48;2;89;0;0m ble\u001b[0m\u001b[48;2;164;0;0mv\u001b[0m\u001b[48;2;185;0;0m sat\u001b[0m\u001b[48;2;114;0;0m til\u001b[0m\u001b[48;2;13;0;0m af\u001b[0m\u001b[48;2;108;0;0mstem\u001b[0m\u001b[48;2;176;0;0mning\u001b[0m\u001b[48;2;57;0;0m på\u001b[0m\u001b[48;2;154;0;0m et\u001b[0m\u001b[48;2;62;0;0m pl\u001b[0m\u001b[48;2;75;0;0men\u001b[0m\u001b[48;2;46;0;0marm\u001b[0m\u001b[48;2;30;0;0mø\u001b[0m\u001b[48;2;203;0;0mde\u001b[0m\n",
            "\u001b[48;2;89;0;0m mind\u001b[0m\u001b[48;2;181;0;0mre\u001b[0m\u001b[48;2;195;0;0m end\u001b[0m\u001b[48;2;167;0;0m to\u001b[0m\u001b[48;2;99;0;0m ug\u001b[0m\u001b[48;2;225;0;0mer\u001b[0m\u001b[48;2;95;0;0m efter\u001b[0m\u001b[48;2;148;0;0m,\u001b[0m\u001b[48;2;45;0;0m at\u001b[0m\u001b[48;2;67;0;0m Kommission\u001b[0m\u001b[48;2;153;0;0men\u001b[0m\u001b[48;2;50;0;0m fre\u001b[0m\u001b[48;2;91;0;0mms\u001b[0m\u001b[48;2;113;0;0matte\u001b[0m\u001b[48;2;106;0;0m sine\u001b[0m\u001b[48;2;65;0;0m for\u001b[0m\u001b[48;2;97;0;0msl\u001b[0m\u001b[48;2;196;0;0mag\u001b[0m\u001b[48;2;124;0;0m.\u001b[0m\u001b[48;2;0;0;26mMid\u001b[0m\n",
            "\u001b[48;2;0;0;34mler\u001b[0m\u001b[48;2;0;0;43mne\u001b[0m\u001b[48;2;66;0;0m vil\u001b[0m\u001b[48;2;106;0;0m bl\u001b[0m\u001b[48;2;123;0;0mive\u001b[0m\u001b[48;2;102;0;0m ret\u001b[0m\u001b[48;2;141;0;0mtet\u001b[0m\u001b[48;2;30;0;0m mod\u001b[0m\u001b[48;2;72;0;0m s\u001b[0m\u001b[48;2;55;0;0mund\u001b[0m\u001b[48;2;103;0;0mhed\u001b[0m\u001b[48;2;82;0;0mss\u001b[0m\u001b[48;2;121;0;0mystem\u001b[0m\u001b[48;2;182;0;0mer\u001b[0m\u001b[48;2;118;0;0m,\u001b[0m\u001b[48;2;34;0;0m SM\u001b[0m\u001b[48;2;104;0;0mV\u001b[0m\u001b[48;2;142;0;0m'\u001b[0m\u001b[48;2;164;0;0mer\u001b[0m\u001b[48;2;60;0;0m,\u001b[0m\n",
            "\u001b[48;2;47;0;0m arbe\u001b[0m\u001b[48;2;54;0;0mj\u001b[0m\u001b[48;2;61;0;0mds\u001b[0m\u001b[48;2;64;0;0mmark\u001b[0m\u001b[48;2;180;0;0meder\u001b[0m\u001b[48;2;81;0;0m og\u001b[0m\u001b[48;2;97;0;0m and\u001b[0m\u001b[48;2;104;0;0mre\u001b[0m\u001b[48;2;204;0;0m så\u001b[0m\u001b[48;2;118;0;0mrb\u001b[0m\u001b[48;2;117;0;0mare\u001b[0m\u001b[48;2;171;0;0m dele\u001b[0m\u001b[48;2;41;0;0m af\u001b[0m\u001b[48;2;98;0;0m EU\u001b[0m\u001b[48;2;81;0;0m-\u001b[0m\u001b[48;2;45;0;0mmed\u001b[0m\u001b[48;2;99;0;0mlems\u001b[0m\u001b[48;2;123;0;0mland\u001b[0m\u001b[48;2;88;0;0menes\u001b[0m\u001b[48;2;59;0;0m ø\u001b[0m\n",
            "\u001b[48;2;60;0;0mk\u001b[0m\u001b[48;2;125;0;0monom\u001b[0m\u001b[48;2;217;0;0mier\u001b[0m\u001b[48;2;110;0;0m.\u001b[0m\u001b[48;2;0;0;27mForm\u001b[0m\u001b[48;2;0;0;5må\u001b[0m\u001b[48;2;131;0;0mlet\u001b[0m\u001b[48;2;5;0;0m med\u001b[0m\u001b[48;2;47;0;0m disse\u001b[0m\u001b[48;2;82;0;0m for\u001b[0m\u001b[48;2;81;0;0man\u001b[0m\u001b[48;2;64;0;0mst\u001b[0m\u001b[48;2;136;0;0malt\u001b[0m\u001b[48;2;250;0;0mninger\u001b[0m\u001b[48;2;226;0;0m er\u001b[0m\u001b[48;2;129;0;0m at\u001b[0m\u001b[48;2;59;0;0m kan\u001b[0m\u001b[48;2;92;0;0mal\u001b[0m\u001b[48;2;163;0;0mise\u001b[0m\u001b[48;2;94;0;0mre\u001b[0m\n",
            "\u001b[48;2;88;0;0m 37\u001b[0m\u001b[48;2;83;0;0m m\u001b[0m\u001b[48;2;61;0;0mia\u001b[0m\u001b[48;2;54;0;0m.\u001b[0m\u001b[48;2;164;0;0m EUR\u001b[0m\u001b[48;2;38;0;0m fra\u001b[0m\u001b[48;2;82;0;0m e\u001b[0m\u001b[48;2;19;0;0mks\u001b[0m\u001b[48;2;124;0;0miste\u001b[0m\u001b[48;2;70;0;0mrende\u001b[0m\u001b[48;2;54;0;0m EU\u001b[0m\u001b[48;2;70;0;0m-\u001b[0m\u001b[48;2;72;0;0mmid\u001b[0m\u001b[48;2;176;0;0mler\u001b[0m\u001b[48;2;74;0;0m til\u001b[0m\u001b[48;2;99;0;0m de\u001b[0m\u001b[48;2;82;0;0m b\u001b[0m\u001b[48;2;113;0;0morge\u001b[0m\u001b[48;2;162;0;0mre\u001b[0m\u001b[48;2;134;0;0m,\u001b[0m\n",
            "\u001b[48;2;122;0;0m region\u001b[0m\u001b[48;2;120;0;0mer\u001b[0m\u001b[48;2;57;0;0m og\u001b[0m\u001b[48;2;75;0;0m land\u001b[0m\u001b[48;2;147;0;0me\u001b[0m\u001b[48;2;158;0;0m,\u001b[0m\u001b[48;2;175;0;0m der\u001b[0m\u001b[48;2;172;0;0m er\u001b[0m\u001b[48;2;53;0;0m hå\u001b[0m\u001b[48;2;175;0;0mrd\u001b[0m\u001b[48;2;162;0;0mest\u001b[0m\u001b[48;2;54;0;0m ram\u001b[0m\u001b[48;2;238;0;0mt\u001b[0m\u001b[48;2;64;0;0m af\u001b[0m\u001b[48;2;38;0;0m Coron\u001b[0m\u001b[48;2;85;0;0mavirus\u001b[0m\u001b[48;2;108;0;0m-\u001b[0m\u001b[48;2;99;0;0mp\u001b[0m\u001b[48;2;77;0;0mandem\u001b[0m\u001b[48;2;145;0;0mien\u001b[0m\n",
            "\u001b[48;2;228;0;0m så\u001b[0m\u001b[48;2;166;0;0m hurt\u001b[0m\u001b[48;2;219;0;0migt\u001b[0m\u001b[48;2;172;0;0m som\u001b[0m\u001b[48;2;136;0;0m mul\u001b[0m\u001b[48;2;192;0;0migt\u001b[0m\u001b[48;2;109;0;0m.\u001b[0m\u001b[48;2;0;0;26mS\u001b[0m\u001b[48;2;0;0;45mom\u001b[0m\u001b[48;2;0;0;15m en\u001b[0m\u001b[48;2;72;0;0m del\u001b[0m\u001b[48;2;0;0;11m af\u001b[0m\u001b[48;2;80;0;0m EU\u001b[0m\u001b[48;2;68;0;0m's\u001b[0m\u001b[48;2;82;0;0m f\u001b[0m\u001b[48;2;9;0;0mæ\u001b[0m\u001b[48;2;76;0;0mll\u001b[0m\u001b[48;2;57;0;0mes\u001b[0m\u001b[48;2;67;0;0m s\u001b[0m\u001b[48;2;201;0;0mvar\u001b[0m\n",
            "\u001b[48;2;54;0;0m mod\u001b[0m\u001b[48;2;30;0;0m COVID\u001b[0m\u001b[48;2;28;0;0m-\u001b[0m\u001b[48;2;159;0;0m19\u001b[0m\u001b[48;2;112;0;0m-\u001b[0m\u001b[48;2;38;0;0mud\u001b[0m\u001b[48;2;72;0;0mbr\u001b[0m\u001b[48;2;100;0;0mud\u001b[0m\u001b[48;2;225;0;0mdet\u001b[0m\u001b[48;2;86;0;0m ved\u001b[0m\u001b[48;2;142;0;0mt\u001b[0m\u001b[48;2;212;0;0mog\u001b[0m\u001b[48;2;108;0;0m med\u001b[0m\u001b[48;2;72;0;0mlem\u001b[0m\u001b[48;2;183;0;0mmer\u001b[0m\u001b[48;2;154;0;0mne\u001b[0m\u001b[48;2;117;0;0m n\u001b[0m\u001b[48;2;55;0;0mæ\u001b[0m\u001b[48;2;213;0;0msten\u001b[0m\u001b[48;2;163;0;0m en\u001b[0m\n",
            "\u001b[48;2;77;0;0mstem\u001b[0m\u001b[48;2;125;0;0mm\u001b[0m\u001b[48;2;179;0;0migt\u001b[0m\u001b[48;2;143;0;0m tre\u001b[0m\u001b[48;2;92;0;0m haste\u001b[0m\u001b[48;2;50;0;0mfors\u001b[0m\u001b[48;2;239;0;0mlag\u001b[0m\u001b[48;2;79;0;0m på\u001b[0m\u001b[48;2;131;0;0m en\u001b[0m\u001b[48;2;29;0;0m ek\u001b[0m\u001b[48;2;131;0;0mstra\u001b[0m\u001b[48;2;140;0;0mordin\u001b[0m\u001b[48;2;153;0;0mær\u001b[0m\u001b[48;2;59;0;0m pl\u001b[0m\u001b[48;2;54;0;0men\u001b[0m\u001b[48;2;43;0;0marf\u001b[0m\u001b[48;2;39;0;0mors\u001b[0m\u001b[48;2;15;0;0mam\u001b[0m\u001b[48;2;217;0;0mling\u001b[0m\u001b[48;2;105;0;0m tors\u001b[0m\n",
            "\u001b[48;2;138;0;0mdag\u001b[0m\u001b[48;2;124;0;0m.\u001b[0m\u001b[48;2;0;0;26mD\u001b[0m\u001b[48;2;2;0;0mette\u001b[0m\u001b[48;2;67;0;0m vil\u001b[0m\u001b[48;2;97;0;0m for\u001b[0m\u001b[48;2;169;0;0mhind\u001b[0m\u001b[48;2;150;0;0mre\u001b[0m\u001b[48;2;40;0;0m lu\u001b[0m\u001b[48;2;72;0;0mft\u001b[0m\u001b[48;2;62;0;0mf\u001b[0m\u001b[48;2;131;0;0mart\u001b[0m\u001b[48;2;97;0;0mss\u001b[0m\u001b[48;2;80;0;0mels\u001b[0m\u001b[48;2;80;0;0mk\u001b[0m\u001b[48;2;256;0;0maber\u001b[0m\u001b[48;2;237;0;0mne\u001b[0m\u001b[48;2;205;0;0m i\u001b[0m\u001b[48;2;174;0;0m at\u001b[0m\u001b[48;2;82;0;0m fly\u001b[0m\n",
            "\u001b[48;2;110;0;0mve\u001b[0m\u001b[48;2;101;0;0m med\u001b[0m\u001b[48;2;54;0;0m tom\u001b[0m\u001b[48;2;23;0;0mme\u001b[0m\u001b[48;2;59;0;0m fly\u001b[0m\u001b[48;2;69;0;0m under\u001b[0m\u001b[48;2;83;0;0m pand\u001b[0m\u001b[48;2;109;0;0mem\u001b[0m\u001b[48;2;130;0;0mien\u001b[0m\u001b[48;2;141;0;0m.\u001b[0m\u001b[48;2;0;0;26mSt\u001b[0m\u001b[48;2;3;0;0mø\u001b[0m\u001b[48;2;80;0;0mtte\u001b[0m\u001b[48;2;23;0;0mbe\u001b[0m\u001b[48;2;77;0;0mrett\u001b[0m\u001b[48;2;78;0;0mig\u001b[0m\u001b[48;2;59;0;0mede\u001b[0m\u001b[48;2;68;0;0m tilt\u001b[0m\u001b[48;2;188;0;0mag\u001b[0m\u001b[48;2;66;0;0m under\u001b[0m\n",
            "\u001b[48;2;84;0;0m fond\u001b[0m\u001b[48;2;100;0;0men\u001b[0m\u001b[48;2;171;0;0m,\u001b[0m\u001b[48;2;118;0;0m vil\u001b[0m\u001b[48;2;125;0;0m bl\u001b[0m\u001b[48;2;162;0;0mive\u001b[0m\u001b[48;2;54;0;0m ud\u001b[0m\u001b[48;2;139;0;0mvid\u001b[0m\u001b[48;2;234;0;0met\u001b[0m\u001b[48;2;118;0;0m til\u001b[0m\u001b[48;2;133;0;0m også\u001b[0m\u001b[48;2;128;0;0m at\u001b[0m\u001b[48;2;64;0;0m om\u001b[0m\u001b[48;2;114;0;0mfat\u001b[0m\u001b[48;2;91;0;0mte\u001b[0m\u001b[48;2;94;0;0m st\u001b[0m\u001b[48;2;72;0;0mø\u001b[0m\u001b[48;2;139;0;0mtte\u001b[0m\u001b[48;2;125;0;0m i\u001b[0m\u001b[48;2;117;0;0m for\u001b[0m\n",
            "\u001b[48;2;95;0;0mbind\u001b[0m\u001b[48;2;154;0;0melse\u001b[0m\u001b[48;2;88;0;0m med\u001b[0m\u001b[48;2;94;0;0m st\u001b[0m\u001b[48;2;118;0;0mør\u001b[0m\u001b[48;2;150;0;0mre\u001b[0m\u001b[48;2;38;0;0m fol\u001b[0m\u001b[48;2;89;0;0mkes\u001b[0m\u001b[48;2;70;0;0mund\u001b[0m\u001b[48;2;151;0;0mhed\u001b[0m\u001b[48;2;117;0;0msk\u001b[0m\u001b[48;2;139;0;0mris\u001b[0m\u001b[48;2;219;0;0mer\u001b[0m\u001b[48;2;175;0;0m,\u001b[0m\u001b[48;2;148;0;0m her\u001b[0m\u001b[48;2;139;0;0munder\u001b[0m\u001b[48;2;121;0;0m l\u001b[0m\u001b[48;2;24;0;0mæ\u001b[0m\u001b[48;2;113;0;0mge\u001b[0m\u001b[48;2;93;0;0mh\u001b[0m\n",
            "\u001b[48;2;67;0;0mj\u001b[0m\u001b[48;2;6;0;0mæ\u001b[0m\u001b[48;2;167;0;0mlp\u001b[0m\u001b[48;2;117;0;0m,\u001b[0m\u001b[48;2;30;0;0m sam\u001b[0m\u001b[48;2;130;0;0mt\u001b[0m\u001b[48;2;120;0;0m for\u001b[0m\u001b[48;2;91;0;0man\u001b[0m\u001b[48;2;76;0;0mst\u001b[0m\u001b[48;2;168;0;0malt\u001b[0m\u001b[48;2;248;0;0mninger\u001b[0m\u001b[48;2;138;0;0m til\u001b[0m\u001b[48;2;54;0;0m fore\u001b[0m\u001b[48;2;99;0;0mby\u001b[0m\u001b[48;2;132;0;0mgg\u001b[0m\u001b[48;2;194;0;0melse\u001b[0m\u001b[48;2;124;0;0m,\u001b[0m\u001b[48;2;96;0;0m over\u001b[0m\u001b[48;2;58;0;0mv\u001b[0m\u001b[48;2;103;0;0må\u001b[0m\n",
            "\u001b[48;2;114;0;0mg\u001b[0m\u001b[48;2;176;0;0mning\u001b[0m\u001b[48;2;110;0;0m eller\u001b[0m\u001b[48;2;42;0;0m bek\u001b[0m\u001b[48;2;17;0;0mæ\u001b[0m\u001b[48;2;140;0;0mmp\u001b[0m\u001b[48;2;205;0;0melse\u001b[0m\u001b[48;2;122;0;0m af\u001b[0m\u001b[48;2;65;0;0m sp\u001b[0m\u001b[48;2;99;0;0mred\u001b[0m\u001b[48;2;186;0;0mning\u001b[0m\u001b[48;2;88;0;0m af\u001b[0m\u001b[48;2;62;0;0m sy\u001b[0m\u001b[48;2;103;0;0mg\u001b[0m\u001b[48;2;126;0;0mdom\u001b[0m\u001b[48;2;226;0;0mme\u001b[0m\u001b[48;2;112;0;0m.\u001b[0m\u001b[48;2;0;0;27mU\u001b[0m\u001b[48;2;0;0;21mdv\u001b[0m\u001b[48;2;19;0;0midel\u001b[0m\n",
            "\n",
            "\u001b[48;2;0;0;29mThe\u001b[0m\u001b[48;2;0;0;46m Cor\u001b[0m\u001b[48;2;0;0;31mona\u001b[0m\u001b[48;2;0;0;42m Response\u001b[0m\u001b[48;2;0;0;44m Investment\u001b[0m\u001b[48;2;0;0;35m Initiative\u001b[0m\u001b[48;2;0;0;47m .\u001b[0m\u001b[48;2;0;0;29mThe\u001b[0m\u001b[48;2;0;0;55m Council\u001b[0m\u001b[48;2;0;0;55m has\u001b[0m\u001b[48;2;0;0;41m to\u001b[0m\u001b[48;2;0;0;52m formally\u001b[0m\u001b[48;2;0;0;55m approve\u001b[0m\u001b[48;2;0;0;36m Parliament\u001b[0m\u001b[48;2;0;0;42m's\u001b[0m\u001b[48;2;0;0;23m position\u001b[0m\u001b[48;2;0;0;48m.\u001b[0m\u001b[48;2;0;0;29mThe\u001b[0m\u001b[48;2;0;0;52m measures\u001b[0m\u001b[48;2;0;0;49m will\u001b[0m\n",
            "\u001b[48;2;0;0;45m make\u001b[0m\u001b[48;2;0;0;21m up\u001b[0m\u001b[48;2;0;0;24m to\u001b[0m\u001b[48;2;0;0;20m âĤ¬\u001b[0m\u001b[48;2;0;0;18m800\u001b[0m\u001b[48;2;4;0;0m million\u001b[0m\u001b[48;2;0;0;9m available\u001b[0m\u001b[48;2;0;0;39m for\u001b[0m\u001b[48;2;0;0;28m European\u001b[0m\u001b[48;2;0;0;25m countries\u001b[0m\u001b[48;2;0;0;17m in\u001b[0m\u001b[48;2;0;0;12m 2020\u001b[0m\u001b[48;2;0;0;42m.\u001b[0m\u001b[48;2;0;0;26mFurther\u001b[0m\u001b[48;2;0;0;22m information\u001b[0m\u001b[48;2;0;0;29mThe\u001b[0m\u001b[48;2;0;0;45m urgent\u001b[0m\u001b[48;2;0;0;38m measures\u001b[0m\u001b[48;2;0;0;53m to\u001b[0m\u001b[48;2;0;0;54m help\u001b[0m\n",
            "\u001b[48;2;0;0;52m people\u001b[0m\u001b[48;2;0;0;52m and\u001b[0m\u001b[48;2;0;0;45m businesses\u001b[0m\u001b[48;2;0;0;32m tackle\u001b[0m\u001b[48;2;0;0;27m the\u001b[0m\u001b[48;2;0;0;17m crisis\u001b[0m\u001b[48;2;0;0;37m were\u001b[0m\u001b[48;2;0;0;11m voted\u001b[0m\u001b[48;2;0;0;13m on\u001b[0m\u001b[48;2;0;0;34m in\u001b[0m\u001b[48;2;0;0;8m pl\u001b[0m\u001b[48;2;0;0;25menary\u001b[0m\u001b[48;2;0;0;1m less\u001b[0m\u001b[48;2;0;0;11m than\u001b[0m\u001b[48;2;0;0;11m two\u001b[0m\u001b[48;2;7;0;0m weeks\u001b[0m\u001b[48;2;0;0;61m after\u001b[0m\u001b[48;2;0;0;45m the\u001b[0m\u001b[48;2;0;0;43m Commission\u001b[0m\u001b[48;2;0;0;11m t\u001b[0m\n",
            "\u001b[48;2;0;0;34mabled\u001b[0m\u001b[48;2;0;0;31m its\u001b[0m\u001b[48;2;0;0;21m proposals\u001b[0m\u001b[48;2;0;0;49m.\u001b[0m\u001b[48;2;0;0;29mThe\u001b[0m\u001b[48;2;0;0;60m funds\u001b[0m\u001b[48;2;0;0;50m will\u001b[0m\u001b[48;2;0;0;39m be\u001b[0m\u001b[48;2;0;0;32m directed\u001b[0m\u001b[48;2;0;0;52m towards\u001b[0m\u001b[48;2;0;0;48m healthcare\u001b[0m\u001b[48;2;0;0;39m systems\u001b[0m\u001b[48;2;0;0;46m,\u001b[0m\u001b[48;2;0;0;32m S\u001b[0m\u001b[48;2;0;0;33mME\u001b[0m\u001b[48;2;0;0;30ms\u001b[0m\u001b[48;2;0;0;42m,\u001b[0m\u001b[48;2;0;0;29m labour\u001b[0m\u001b[48;2;0;0;26m markets\u001b[0m\u001b[48;2;0;0;40m and\u001b[0m\n",
            "\u001b[48;2;0;0;35m other\u001b[0m\u001b[48;2;0;0;21m vulnerable\u001b[0m\u001b[48;2;0;0;7m parts\u001b[0m\u001b[48;2;0;0;32m of\u001b[0m\u001b[48;2;0;0;30m EU\u001b[0m\u001b[48;2;0;0;25m member\u001b[0m\u001b[48;2;0;0;20m states\u001b[0m\u001b[48;2;0;0;31m'\u001b[0m\u001b[48;2;0;0;15m economies\u001b[0m\u001b[48;2;0;0;42m.\u001b[0m\u001b[48;2;0;0;27mThese\u001b[0m\u001b[48;2;0;0;53m measures\u001b[0m\u001b[48;2;0;0;58m are\u001b[0m\u001b[48;2;0;0;21m meant\u001b[0m\u001b[48;2;0;0;54m to\u001b[0m\u001b[48;2;0;0;51m channel\u001b[0m\u001b[48;2;0;0;27m âĤ¬\u001b[0m\u001b[48;2;0;0;19m37\u001b[0m\u001b[48;2;0;0;0m billion\u001b[0m\u001b[48;2;0;0;38m from\u001b[0m\n",
            "\u001b[48;2;0;0;33m available\u001b[0m\u001b[48;2;0;0;31m EU\u001b[0m\u001b[48;2;0;0;24m funds\u001b[0m\u001b[48;2;0;0;29m as\u001b[0m\u001b[48;2;6;0;0m soon\u001b[0m\u001b[48;2;0;0;16m as\u001b[0m\u001b[48;2;0;0;10m possible\u001b[0m\u001b[48;2;0;0;37m to\u001b[0m\u001b[48;2;0;0;34m citizens\u001b[0m\u001b[48;2;0;0;41m,\u001b[0m\u001b[48;2;0;0;23m regions\u001b[0m\u001b[48;2;0;0;38m and\u001b[0m\u001b[48;2;0;0;23m countries\u001b[0m\u001b[48;2;16;0;0m hit\u001b[0m\u001b[48;2;0;0;3m the\u001b[0m\u001b[48;2;23;0;0m hardest\u001b[0m\u001b[48;2;0;0;31m by\u001b[0m\u001b[48;2;0;0;29m the\u001b[0m\u001b[48;2;0;0;30m Coron\u001b[0m\u001b[48;2;0;0;20mavirus\u001b[0m\n",
            "\u001b[48;2;0;0;13m pandemic\u001b[0m\u001b[48;2;0;0;35m.\u001b[0m\u001b[48;2;0;0;28mAs\u001b[0m\u001b[48;2;0;0;24m part\u001b[0m\u001b[48;2;0;0;69m of\u001b[0m\u001b[48;2;0;0;69m the\u001b[0m\u001b[48;2;0;0;39m EU\u001b[0m\u001b[48;2;0;0;29m's\u001b[0m\u001b[48;2;0;0;22m joint\u001b[0m\u001b[48;2;0;0;25m response\u001b[0m\u001b[48;2;0;0;51m to\u001b[0m\u001b[48;2;0;0;51m the\u001b[0m\u001b[48;2;0;0;23m COVID\u001b[0m\u001b[48;2;0;0;17m-\u001b[0m\u001b[48;2;0;0;17m19\u001b[0m\u001b[48;2;0;0;25m outbreak\u001b[0m\u001b[48;2;0;0;65m,\u001b[0m\u001b[48;2;0;0;38m ME\u001b[0m\u001b[48;2;0;0;44mPs\u001b[0m\u001b[48;2;0;0;12m almost\u001b[0m\n",
            "\u001b[48;2;0;0;35m unanimously\u001b[0m\u001b[48;2;0;0;34m adopted\u001b[0m\u001b[48;2;0;0;27m three\u001b[0m\u001b[48;2;0;0;13m urgent\u001b[0m\u001b[48;2;0;0;17m proposals\u001b[0m\u001b[48;2;0;0;17m in\u001b[0m\u001b[48;2;0;0;28m an\u001b[0m\u001b[48;2;0;0;13m extraordinary\u001b[0m\u001b[48;2;0;0;16m pl\u001b[0m\u001b[48;2;0;0;27menary\u001b[0m\u001b[48;2;0;0;8m session\u001b[0m\u001b[48;2;0;0;46m,\u001b[0m\u001b[48;2;0;0;40m on\u001b[0m\u001b[48;2;0;0;16m Thursday\u001b[0m\u001b[48;2;0;0;35m.\u001b[0m\u001b[48;2;0;0;28mThis\u001b[0m\u001b[48;2;0;0;67m will\u001b[0m\u001b[48;2;0;0;57m stop\u001b[0m\u001b[48;2;0;0;37m air\u001b[0m\u001b[48;2;0;0;44m carriers\u001b[0m\n",
            "\u001b[48;2;0;0;50m from\u001b[0m\u001b[48;2;0;0;39m operating\u001b[0m\u001b[48;2;0;0;38m empty\u001b[0m\u001b[48;2;0;0;33m flights\u001b[0m\u001b[48;2;0;0;29m during\u001b[0m\u001b[48;2;0;0;40m the\u001b[0m\u001b[48;2;0;0;28m pandemic\u001b[0m\u001b[48;2;0;0;43m.\u001b[0m\u001b[48;2;0;0;25mOper\u001b[0m\u001b[48;2;0;0;50mations\u001b[0m\u001b[48;2;0;0;43m eligible\u001b[0m\u001b[48;2;0;0;61m under\u001b[0m\u001b[48;2;0;0;59m the\u001b[0m\u001b[48;2;0;0;41m Fund\u001b[0m\u001b[48;2;0;0;46m will\u001b[0m\u001b[48;2;0;0;43m be\u001b[0m\u001b[48;2;0;0;21m extended\u001b[0m\u001b[48;2;0;0;51m to\u001b[0m\u001b[48;2;0;0;65m include\u001b[0m\u001b[48;2;0;0;38m support\u001b[0m\n",
            "\u001b[48;2;0;0;42m in\u001b[0m\u001b[48;2;0;0;33m a\u001b[0m\u001b[48;2;0;0;24m major\u001b[0m\u001b[48;2;0;0;23m public\u001b[0m\u001b[48;2;0;0;24m health\u001b[0m\u001b[48;2;0;0;13m emergency\u001b[0m\u001b[48;2;0;0;27m,\u001b[0m\u001b[48;2;0;0;33m including\u001b[0m\u001b[48;2;0;0;31m medical\u001b[0m\u001b[48;2;0;0;40m assistance\u001b[0m\u001b[48;2;0;0;34m,\u001b[0m\u001b[48;2;0;0;11m as\u001b[0m\u001b[48;2;0;0;7m well\u001b[0m\u001b[48;2;0;0;35m as\u001b[0m\u001b[48;2;0;0;12m measures\u001b[0m\u001b[48;2;0;0;40m to\u001b[0m\u001b[48;2;0;0;18m prevent\u001b[0m\u001b[48;2;0;0;24m,\u001b[0m\u001b[48;2;0;0;19m monitor\u001b[0m\u001b[48;2;0;0;32m or\u001b[0m\n",
            "\u001b[48;2;0;0;19m control\u001b[0m\u001b[48;2;0;0;25m the\u001b[0m\u001b[48;2;0;0;14m spread\u001b[0m\u001b[48;2;0;0;23m of\u001b[0m\u001b[48;2;0;0;22m diseases\u001b[0m\u001b[48;2;0;0;48m.\u001b[0m\u001b[48;2;0;0;29mThe\u001b[0m\u001b[48;2;0;0;62m extension\u001b[0m\u001b[48;2;0;0;73m of\u001b[0m\u001b[48;2;0;0;66m the\u001b[0m\u001b[48;2;0;0;41m EU\u001b[0m\u001b[48;2;0;0;32m Solid\u001b[0m\u001b[48;2;0;0;27marity\u001b[0m\u001b[48;2;0;0;28m Fund\u001b[0m\u001b[48;2;0;0;53m to\u001b[0m\u001b[48;2;0;0;55m cover\u001b[0m\u001b[48;2;0;0;38m public\u001b[0m\u001b[48;2;0;0;36m health\u001b[0m\u001b[48;2;0;0;28m emergencies\u001b[0m\u001b[48;2;0;0;47m.\u001b[0m\n",
            "\u001b[48;2;0;0;29mThe\u001b[0m\u001b[48;2;0;0;73m adopted\u001b[0m\u001b[48;2;0;0;36m measures\u001b[0m\u001b[48;2;0;0;50m will\u001b[0m\u001b[48;2;0;0;14m enter\u001b[0m\u001b[48;2;0;0;4m into\u001b[0m\u001b[48;2;6;0;0m force\u001b[0m\u001b[48;2;0;0;45m once\u001b[0m\u001b[48;2;0;0;22m published\u001b[0m\u001b[48;2;0;0;34m in\u001b[0m\u001b[48;2;0;0;37m the\u001b[0m\u001b[48;2;0;0;30m Official\u001b[0m\u001b[48;2;0;0;24m Journal\u001b[0m\u001b[48;2;0;0;47m of\u001b[0m\u001b[48;2;0;0;37m the\u001b[0m\u001b[48;2;0;0;27m European\u001b[0m\u001b[48;2;0;0;14m Union\u001b[0m\u001b[48;2;0;0;20m in\u001b[0m\u001b[48;2;0;0;6m the\u001b[0m\u001b[48;2;0;0;13m coming\u001b[0m\n",
            "\u001b[48;2;0;0;1m days\u001b[0m\u001b[48;2;0;0;45m.\u001b[0m\u001b[48;2;0;0;24mTem\u001b[0m\u001b[48;2;0;0;17mpor\u001b[0m\u001b[48;2;0;0;51marily\u001b[0m\u001b[48;2;0;0;38m susp\u001b[0m\u001b[48;2;0;0;58mending\u001b[0m\u001b[48;2;0;0;43m EU\u001b[0m\u001b[48;2;0;0;38m rules\u001b[0m\u001b[48;2;0;0;43m on\u001b[0m\u001b[48;2;0;0;44m airport\u001b[0m\u001b[48;2;0;0;32m slots\u001b[0m\u001b[48;2;0;0;42m .\u001b[0m\u001b[48;2;0;0;29mThe\u001b[0m\u001b[48;2;0;0;60m temporary\u001b[0m\u001b[48;2;0;0;42m suspension\u001b[0m\u001b[48;2;0;0;55m means\u001b[0m\u001b[48;2;0;0;82m that\u001b[0m\u001b[48;2;0;0;40m airlines\u001b[0m\u001b[48;2;0;0;29m are\u001b[0m\n",
            "\u001b[48;2;0;0;22m not\u001b[0m\u001b[48;2;0;0;3m obliged\u001b[0m\u001b[48;2;0;0;37m to\u001b[0m\u001b[48;2;0;0;51m use\u001b[0m\u001b[48;2;0;0;32m their\u001b[0m\u001b[48;2;0;0;31m planned\u001b[0m\u001b[48;2;0;0;17m take\u001b[0m\u001b[48;2;0;0;12m-\u001b[0m\u001b[48;2;0;0;36moff\u001b[0m\u001b[48;2;0;0;19m and\u001b[0m\u001b[48;2;0;0;29m landing\u001b[0m\u001b[48;2;0;0;13m slots\u001b[0m\u001b[48;2;0;0;35m to\u001b[0m\u001b[48;2;0;0;18m keep\u001b[0m\u001b[48;2;0;0;31m them\u001b[0m\u001b[48;2;2;0;0m in\u001b[0m\u001b[48;2;0;0;3m the\u001b[0m\u001b[48;2;0;0;18m next\u001b[0m\u001b[48;2;0;0;31m corresponding\u001b[0m\u001b[48;2;0;0;4m season\u001b[0m\n",
            "\u001b[48;2;0;0;36m.\u001b[0m\u001b[48;2;0;0;29mThe\u001b[0m\u001b[48;2;0;0;59m '\u001b[0m\u001b[48;2;0;0;42muse\u001b[0m\u001b[48;2;0;0;39m it\u001b[0m\u001b[48;2;0;0;22m or\u001b[0m\u001b[48;2;0;0;8m lose\u001b[0m\u001b[48;2;0;0;30m it\u001b[0m\u001b[48;2;0;0;49m'\u001b[0m\u001b[48;2;0;0;51m rule\u001b[0m\u001b[48;2;0;0;54m will\u001b[0m\u001b[48;2;0;0;35m be\u001b[0m\u001b[48;2;0;0;25m waived\u001b[0m\u001b[48;2;0;0;46m for\u001b[0m\u001b[48;2;0;0;34m the\u001b[0m\u001b[48;2;0;0;53m whole\u001b[0m\u001b[48;2;0;0;36m summer\u001b[0m\u001b[48;2;0;0;21m season\u001b[0m\u001b[48;2;0;0;38m,\u001b[0m\u001b[48;2;0;0;36m from\u001b[0m\n",
            "\u001b[48;2;0;0;7m 29\u001b[0m\u001b[48;2;0;0;21m March\u001b[0m\u001b[48;2;0;0;31m until\u001b[0m\u001b[48;2;0;0;33m 24\u001b[0m\u001b[48;2;0;0;19m October\u001b[0m\u001b[48;2;0;0;16m 2020\u001b[0m\u001b[48;2;0;0;45m.\u001b[0m\u001b[48;2;0;0;25mC\u001b[0m\u001b[48;2;0;0;29mOVID\u001b[0m\u001b[48;2;0;0;20m-\u001b[0m\u001b[48;2;0;0;37m19\u001b[0m\u001b[48;2;0;0;49m:\u001b[0m\u001b[48;2;0;0;25m final\u001b[0m\u001b[48;2;0;0;15m vote\u001b[0m\u001b[48;2;0;0;28m in\u001b[0m\u001b[48;2;0;0;27m EP\u001b[0m\u001b[48;2;0;0;9m pl\u001b[0m\u001b[48;2;0;0;24menary\u001b[0m\u001b[48;2;0;0;21m to\u001b[0m\u001b[48;2;0;0;31m approve\u001b[0m\n",
            "\u001b[48;2;0;0;20m crucial\u001b[0m\u001b[48;2;0;0;21m EU\u001b[0m\u001b[48;2;0;0;14m support\u001b[0m\u001b[48;2;0;0;12m measures\u001b[0m\u001b[48;2;0;0;24m -\u001b[0m\u001b[48;2;0;0;25m Â©\u001b[0m\u001b[48;2;0;0;33m EP\u001b[0m\u001b[48;2;0;0;29mThe\u001b[0m\u001b[48;2;0;0;50m proposal\u001b[0m\u001b[48;2;0;0;51m was\u001b[0m\u001b[48;2;0;0;24m adopted\u001b[0m\u001b[48;2;0;0;10m with\u001b[0m\u001b[48;2;0;0;7m 6\u001b[0m\u001b[48;2;0;0;10m71\u001b[0m\u001b[48;2;1;0;0m votes\u001b[0m\u001b[48;2;0;0;20m in\u001b[0m\u001b[48;2;0;0;6m favour\u001b[0m\u001b[48;2;0;0;23m,\u001b[0m\u001b[48;2;0;0;13m 3\u001b[0m\u001b[48;2;0;0;19m against\u001b[0m\n",
            "\u001b[48;2;0;0;11m and\u001b[0m\u001b[48;2;16;0;0m 14\u001b[0m\u001b[48;2;0;0;3m abst\u001b[0m\u001b[48;2;0;0;11ment\u001b[0m\u001b[48;2;6;0;0mions\u001b[0m\u001b[48;2;0;0;52m.\u001b[0m\u001b[48;2;0;0;29mThe\u001b[0m\u001b[48;2;0;0;50m proposal\u001b[0m\u001b[48;2;0;0;51m was\u001b[0m\u001b[48;2;0;0;24m adopted\u001b[0m\u001b[48;2;0;0;10m with\u001b[0m\u001b[48;2;0;0;7m 6\u001b[0m\u001b[48;2;0;0;15m83\u001b[0m\u001b[48;2;3;0;0m votes\u001b[0m\u001b[48;2;0;0;20m in\u001b[0m\u001b[48;2;0;0;6m favour\u001b[0m\u001b[48;2;0;0;24m,\u001b[0m\u001b[48;2;0;0;14m 1\u001b[0m\u001b[48;2;0;0;18m against\u001b[0m\u001b[48;2;0;0;13m and\u001b[0m\n",
            "\u001b[48;2;4;0;0m 4\u001b[0m\u001b[48;2;0;0;3m abst\u001b[0m\u001b[48;2;0;0;12ment\u001b[0m\u001b[48;2;3;0;0mions\u001b[0m\u001b[48;2;0;0;51m.\u001b[0m\u001b[48;2;0;0;29mThe\u001b[0m\u001b[48;2;0;0;50m proposal\u001b[0m\u001b[48;2;0;0;51m was\u001b[0m\u001b[48;2;0;0;24m adopted\u001b[0m\u001b[48;2;0;0;10m with\u001b[0m\u001b[48;2;0;0;7m 6\u001b[0m\u001b[48;2;0;0;17m86\u001b[0m\u001b[48;2;2;0;0m votes\u001b[0m\u001b[48;2;0;0;20m in\u001b[0m\u001b[48;2;0;0;5m favour\u001b[0m\u001b[48;2;0;0;24m,\u001b[0m\u001b[48;2;0;0;2m no\u001b[0m\u001b[48;2;0;0;1m votes\u001b[0m\u001b[48;2;0;0;17m against\u001b[0m\u001b[48;2;0;0;15m and\u001b[0m\n",
            "\u001b[48;2;0;0;8m 2\u001b[0m\u001b[48;2;0;0;4m abst\u001b[0m\u001b[48;2;0;0;12ment\u001b[0m\u001b[48;2;5;0;0mions\u001b[0m\u001b[48;2;0;0;53m.\u001b[0m\u001b[48;2;0;0;28mdevelop\u001b[0m\u001b[48;2;0;0;60ming\u001b[0m\u001b[48;2;0;0;55m new\u001b[0m\u001b[48;2;0;0;32m vaccines\u001b[0m\u001b[48;2;0;0;27mProgram\u001b[0m\u001b[48;2;0;0;42mmes\u001b[0m\u001b[48;2;0;0;56m already\u001b[0m\u001b[48;2;0;0;6m in\u001b[0m\u001b[48;2;0;0;29m place\u001b[0m\u001b[48;2;0;0;29mThe\u001b[0m\u001b[48;2;0;0;53m 140\u001b[0m\u001b[48;2;0;0;57m research\u001b[0m\u001b[48;2;0;0;42m teams\u001b[0m\u001b[48;2;0;0;36m from\u001b[0m\u001b[48;2;0;0;30m across\u001b[0m"
          ]
        }
      ],
      "source": [
        "print_colored_preacts(\n",
        "    da_tokens2[begin_at:],\n",
        "    da_preacts2[begin_at:],\n",
        "    max_diff_neuron,\n",
        "    tokenizer,\n",
        "    stop_after=400\n",
        ")\n",
        "print('')\n",
        "print_colored_preacts(\n",
        "    en_tokens2[begin_at:],\n",
        "    en_preacts2[begin_at:],\n",
        "    max_diff_neuron,\n",
        "    tokenizer,\n",
        "    stop_after=400\n",
        ")"
      ]
    },
    {
      "cell_type": "code",
      "execution_count": null,
      "metadata": {
        "id": "jEAG8u9Zmzoc"
      },
      "outputs": [],
      "source": [
        "hidden_acts_outfolder = 'results/sparse_autoencoder_activations'\n",
        "\n",
        "if not os.path.isdir(f'{hidden_acts_outfolder}'):\n",
        "    os.mkdir(f'{hidden_acts_outfolder}')\n",
        "\n",
        "if not os.path.isdir(f'{hidden_acts_outfolder}/{model_name}'):\n",
        "    os.mkdir(f'{hidden_acts_outfolder}/{model_name}')\n",
        "\n",
        "df = pd.DataFrame({'avg_da': avg_da.numpy(), 'avg_en': avg_en.numpy()})\n",
        "df.to_csv(f'{hidden_acts_outfolder}/{model_name}/{hookpoint}.csv', index=False)"
      ]
    },
    {
      "cell_type": "code",
      "execution_count": null,
      "metadata": {
        "id": "2zTUQKmImzoc"
      },
      "outputs": [],
      "source": []
    }
  ],
  "metadata": {
    "kernelspec": {
      "display_name": "Python 3",
      "name": "python3"
    },
    "language_info": {
      "codemirror_mode": {
        "name": "ipython",
        "version": 3
      },
      "file_extension": ".py",
      "mimetype": "text/x-python",
      "name": "python",
      "nbconvert_exporter": "python",
      "pygments_lexer": "ipython3",
      "version": "3.11.9"
    },
    "colab": {
      "provenance": [],
      "gpuType": "T4"
    },
    "accelerator": "GPU"
  },
  "nbformat": 4,
  "nbformat_minor": 0
}