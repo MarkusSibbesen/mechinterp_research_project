{
  "cells": [
    {
      "cell_type": "code",
      "execution_count": 8,
      "metadata": {
        "colab": {
          "base_uri": "https://localhost:8080/"
        },
        "id": "xn3wqVXqmzoU",
        "outputId": "6acb6f14-12d5-4ed0-8f06-c4644f7e6f02"
      },
      "outputs": [],
      "source": [
        "import os\n",
        "\n",
        "try:\n",
        "    has_changed_dir\n",
        "except:\n",
        "    has_changed_dir = False\n",
        "\n",
        "try:\n",
        "    import google.colab\n",
        "    IN_COLAB = True\n",
        "    print(\"Running as a Colab notebook\")\n",
        "except:\n",
        "    IN_COLAB = False\n",
        "\n",
        "if IN_COLAB:\n",
        "    %pip install datasets\n",
        "    %pip install translate-toolkit\n",
        "    %pip install bitsandbytes\n",
        "\n",
        "    !git clone https://github.com/MarkusSibbesen/mechinterp_research_project.git\n",
        "\n",
        "    from google.colab import drive\n",
        "    drive.mount('/content/drive/')\n",
        "\n",
        "    if not has_changed_dir:\n",
        "        os.chdir('mechinterp_research_project')\n",
        "        has_changed_dir = True\n",
        "else:\n",
        "    if not has_changed_dir:\n",
        "        os.chdir('.')\n",
        "        has_changed_dir = True"
      ]
    },
    {
      "cell_type": "code",
      "execution_count": 9,
      "metadata": {
        "id": "TfiNhhUjmzoW"
      },
      "outputs": [],
      "source": [
        "import torch\n",
        "device = torch.device(\"cuda\" if torch.cuda.is_available() else \"cpu\")\n",
        "from torch.utils.data import random_split, DataLoader\n",
        "from transformers import AutoModelForCausalLM, AutoTokenizer\n",
        "\n",
        "from collections import defaultdict\n",
        "import os\n",
        "import json\n",
        "from matplotlib import pyplot as plt\n",
        "import pandas as pd\n",
        "import numpy as np\n",
        "\n",
        "from src.dataset_handling import TextClassificationDataset\n",
        "from src.utils import get_activations_and_labels, get_hidden_activations\n",
        "from src.sparse_autoencoders import SAE_topk"
      ]
    },
    {
      "cell_type": "code",
      "execution_count": 10,
      "metadata": {
        "colab": {
          "base_uri": "https://localhost:8080/"
        },
        "id": "xM0HaI3AmzoX",
        "outputId": "b8003d6e-78a3-45f9-cda1-16c3ba1ded92"
      },
      "outputs": [],
      "source": [
        "load_from_drive = False\n",
        "\n",
        "model_url = \"EleutherAI/pythia-14m\"\n",
        "model_name = model_url.split('/')[-1]\n",
        "hookpoint_name = 'gpt_neox.layers.$.mlp.act'\n",
        "layer = 3\n",
        "\n",
        "model = AutoModelForCausalLM.from_pretrained(model_url).to(device)\n",
        "tokenizer = AutoTokenizer.from_pretrained(model_url)\n",
        "\n",
        "num_hookpoints = model.config.num_hidden_layers\n",
        "hookpoint = hookpoint_name.replace('$', str(layer))\n",
        "input_size = model.config.intermediate_size"
      ]
    },
    {
      "cell_type": "code",
      "execution_count": 11,
      "metadata": {
        "id": "4FXTixrqmzoX"
      },
      "outputs": [],
      "source": [
        "expansion_factor = 8\n",
        "meta_data = {\n",
        "    'input_size': input_size,\n",
        "    'hidden_size': input_size * expansion_factor,\n",
        "    'k': 32,\n",
        "    \"pre_encoder_bias\": True,\n",
        "    \"same_W\": False\n",
        "}\n",
        "\n",
        "k = meta_data['k']\n",
        "\n",
        "sae = SAE_topk(meta_data=meta_data).to(device)\n",
        "\n",
        "if load_from_drive:\n",
        "    sae.load_state_dict(torch.load(f'../drive/MyDrive/models/{hookpoint}.pt', weights_only=True, map_location=device))\n",
        "else:\n",
        "    sae.load_state_dict(torch.load(f'models/sparse_autoencoders/pythia-14m/topk{k}/{hookpoint}.pt', weights_only=True, map_location=torch.device('cpu')))"
      ]
    },
    {
      "cell_type": "code",
      "execution_count": 12,
      "metadata": {
        "id": "l-C2a_semzoY"
      },
      "outputs": [],
      "source": [
        "def get_biling_acts(dataset, model, tokenizer, stop_after = 100):\n",
        "\n",
        "    da_acts = []\n",
        "    da_preacts = []\n",
        "    da_tokens = []\n",
        "    en_acts = []\n",
        "    en_preacts = []\n",
        "    en_tokens = []\n",
        "\n",
        "    for i in range(stop_after):\n",
        "\n",
        "        sent, label = dataset[i]\n",
        "\n",
        "        tokenized = [\n",
        "            tokenizer(input_, return_tensors='pt').to(device)\n",
        "            for input_ in [sent]\n",
        "        ]\n",
        "\n",
        "        transformer_acts = get_hidden_activations(model, hookpoint, tokenized)\n",
        "\n",
        "        sae_preacts = sae.get_preacts(transformer_acts)\n",
        "        sae_acts = sae.get_activations(transformer_acts)\n",
        "\n",
        "        for act_indices, preacts, token in zip(sae_acts.indices, sae_preacts, tokenized[0]['input_ids'][0]):\n",
        "\n",
        "            zeros = torch.zeros(input_size * expansion_factor)\n",
        "\n",
        "            zeros[act_indices] = 1\n",
        "\n",
        "            if label == 0:\n",
        "                da_acts.append(zeros.detach())\n",
        "                da_preacts.append(preacts.detach())\n",
        "                da_tokens.append(token.item())\n",
        "            else:\n",
        "                en_acts.append(zeros.detach())\n",
        "                en_preacts.append(preacts.detach())\n",
        "                en_tokens.append(token.item())\n",
        "\n",
        "    return (\n",
        "        torch.stack(da_acts).cpu().numpy(),\n",
        "        torch.stack(da_preacts).cpu().numpy(),\n",
        "        da_tokens,\n",
        "        torch.stack(en_acts).cpu().numpy(),\n",
        "        torch.stack(en_preacts).cpu().numpy(),\n",
        "        en_tokens\n",
        "    )\n",
        "\n",
        "\n",
        "def get_characteristic_tokens(preacts, tokens, neuron, value, less_than=False):\n",
        "    if less_than:\n",
        "        ids = np.array(tokens)[(preacts[:, neuron] < value)]\n",
        "    else:\n",
        "        ids = np.array(tokens)[(preacts[:, neuron] > value)]\n",
        "\n",
        "    return tokenizer.convert_ids_to_tokens(ids)\n",
        "\n",
        "\n",
        "def find_histogram_overlap(da_preacts, en_preacts, neuron, num_bins=30):\n",
        "\n",
        "    min_da_preact = np.min(da_preacts[:, neuron])\n",
        "    min_en_preact = np.min(en_preacts[:, neuron])\n",
        "    min_preact = min(min_da_preact, min_en_preact)\n",
        "\n",
        "    max_da_preact = np.max(da_preacts[:, neuron])\n",
        "    max_en_preact = np.max(en_preacts[:, neuron])\n",
        "    max_preact = max(max_da_preact, max_en_preact)\n",
        "\n",
        "    bins = np.linspace(min_preact, max_preact, num_bins)\n",
        "\n",
        "    da_hist = np.histogram(da_preacts[:,neuron], bins=bins)[0]\n",
        "    en_hist = np.histogram(en_preacts[:,neuron], bins=bins)[0]\n",
        "\n",
        "    da_hist = da_hist / np.sum(da_hist)\n",
        "    en_hist = en_hist / np.sum(en_hist)\n",
        "\n",
        "    overlap = np.sum(np.minimum(da_hist, en_hist))\n",
        "\n",
        "    avg_da_preact = np.mean(da_preacts[:, neuron])\n",
        "    avg_en_preact = np.mean(en_preacts[:, neuron])\n",
        "    if avg_da_preact > avg_en_preact:\n",
        "        return overlap, 'da'\n",
        "    else:\n",
        "        return overlap, 'en'\n",
        "    \n",
        "\n",
        "\n",
        "def plot_difference_by_neuron(da_preacts, en_preacts, neuron, output_file=None):\n",
        "\n",
        "    # da_preacts_tnsr = torch.stack(da_preacts).detach().cpu()\n",
        "    # en_preacts_tnsr = torch.stack(en_preacts).detach().cpu()\n",
        "\n",
        "    fig, ax = plt.subplots(1, 1, figsize=(8, 4))\n",
        "\n",
        "    ax.set_title(f'Neuron {neuron}')\n",
        "    ax.hist(da_preacts[:, neuron], density=True, bins=30, alpha=0.5, color='blue',  label='Danish tokens')\n",
        "    ax.hist(en_preacts[:, neuron], density=True, bins=30, alpha=0.5, color='orange', label='English tokens')\n",
        "    ax.set_yticks([])\n",
        "    ax.set_xlabel('pre-activations')\n",
        "\n",
        "    fig.legend(loc='upper right', bbox_to_anchor=(0.9, 0.85))\n",
        "\n",
        "    fig.tight_layout()\n",
        "    fig.show()\n",
        "\n",
        "    if output_file:\n",
        "        fig.savefig(output_file, dpi=300)\n"
      ]
    },
    {
      "cell_type": "code",
      "execution_count": 34,
      "metadata": {
        "id": "1zfkirLbmzoY"
      },
      "outputs": [],
      "source": [
        "## TEXT PRINTING\n",
        "\n",
        "def format_chars(text):\n",
        "    formatted = (\n",
        "        text.replace('Ġ', ' ').\n",
        "            replace('Ã¥', 'å').\n",
        "            replace('Ã¦', 'æ').\n",
        "            replace('Ã¸', 'ø')\n",
        "    )\n",
        "    return formatted\n",
        "\n",
        "\n",
        "# absolute genius stuff form chatgpt\n",
        "\n",
        "def rgb_text(text, r, g, b, background=False):\n",
        "    \"\"\"Returns text formatted with 24-bit RGB color.\"\"\"\n",
        "    if background:\n",
        "        if (r + g + b) / 3 > 128:\n",
        "            return f\"\\033[38;2;0;0;0m\\033[48;2;{r};{g};{b}m{text}\\033[0m\"\n",
        "        else:\n",
        "            return f\"\\033[38;2;255;255;255m\\033[48;2;{r};{g};{b}m{text}\\033[0m\"\n",
        "    return f\"\\033[38;2;{r};{g};{b}m{text}\\033[0m\"\n",
        "\n",
        "\n",
        "\n",
        "\n",
        "def print_colored_preacts(tokens, preacts, neuron, tokenizer, stop_after=100):\n",
        "\n",
        "    min_preact = np.min(preacts[:, neuron])\n",
        "    max_preact = np.max(preacts[:, neuron])\n",
        "\n",
        "    for idx, (token, preact) in enumerate(zip(tokens, preacts)):\n",
        "        if idx == stop_after:\n",
        "            break\n",
        "        if idx % 20 == 0:\n",
        "            print('')\n",
        "        formatted = format_chars(tokenizer.convert_ids_to_tokens(token))\n",
        "        value = preact[neuron].item()\n",
        "\n",
        "        if value > 0:\n",
        "            print(rgb_text(formatted, r=int((abs(value) / abs(max_preact)) * 255), g=0, b=0, background=True), end='')\n",
        "        else:\n",
        "            print(rgb_text(formatted, r=0, g=0, b=int((abs(value) / abs(min_preact)) * 255), background=True), end='')\n",
        "\n",
        "\n",
        "def print_colored_acts(tokens, acts, neuron, tokenizer, stop_after=100):\n",
        "\n",
        "    for idx, (token, act) in enumerate(zip(tokens, acts)):\n",
        "        if idx == stop_after:\n",
        "            break\n",
        "        if idx % 20 == 0:\n",
        "            print('')\n",
        "\n",
        "        formatted = format_chars(tokenizer.convert_ids_to_tokens(token))\n",
        "        value = act[neuron].item()\n",
        "\n",
        "        if value:\n",
        "            print(rgb_text(formatted, r=255, g=0, b=0, background=True), end='')\n",
        "        else:\n",
        "            print(formatted, end='')\n",
        "\n",
        "\n"
      ]
    },
    {
      "cell_type": "code",
      "execution_count": 14,
      "metadata": {
        "id": "c51NZRKXmzoZ"
      },
      "outputs": [],
      "source": [
        "# for identifying neurons overrepresented in one language\n",
        "\n",
        "data_path = 'data/split/tedtalks_test.tsv'\n",
        "dataset = TextClassificationDataset.from_tsv(data_path)\n",
        "\n",
        "da_acts, da_preacts, da_tokens, en_acts, en_preacts, en_tokens = get_biling_acts(dataset, model, tokenizer, stop_after=100)\n",
        "\n",
        "\n",
        "# for checking those neurons\n",
        "\n",
        "data_path = 'data/parallel/ELRC_2923.tmx'\n",
        "dataset = TextClassificationDataset.from_tmx(data_path, 'da', 'en')\n",
        "\n",
        "da_acts2, da_preacts2, da_tokens2, en_acts2, en_preacts2, en_tokens2 = get_biling_acts(dataset, model, tokenizer, stop_after=100)"
      ]
    },
    {
      "cell_type": "code",
      "execution_count": 24,
      "metadata": {
        "id": "VYKKlgj5mzob"
      },
      "outputs": [],
      "source": [
        "# getting overrepresented neurons\n",
        "\n",
        "avg_da = sum(da_acts) / len(da_acts)\n",
        "avg_en = sum(en_acts) / len(en_acts)\n",
        "\n",
        "max_diff_neuron = np.argmax(avg_da - avg_en).item()\n",
        "\n",
        "\n",
        "neurons_common_in_da_but_not_en = np.where((avg_da > 0.5) & (avg_en < 0.01))\n",
        "\n",
        "\n",
        "overlaps = []\n",
        "\n",
        "for i in range(input_size*expansion_factor):\n",
        "    overlap, highest_lan = find_histogram_overlap(da_preacts, en_preacts, i, num_bins=30)\n",
        "    if highest_lan == 'da':\n",
        "        overlaps.append((overlap, i))\n",
        "\n",
        "\n",
        "overlaps = sorted(overlaps, key=lambda x: x[0])\n",
        "\n",
        "min_overlap_neuron = overlaps[0][1]"
      ]
    },
    {
      "cell_type": "code",
      "execution_count": 25,
      "metadata": {},
      "outputs": [],
      "source": [
        "neuron_to_use = max_diff_neuron"
      ]
    },
    {
      "cell_type": "code",
      "execution_count": 26,
      "metadata": {},
      "outputs": [
        {
          "name": "stderr",
          "output_type": "stream",
          "text": [
            "C:\\Users\\Bruger\\AppData\\Local\\Temp\\ipykernel_1520\\2561394540.py:103: UserWarning: FigureCanvasAgg is non-interactive, and thus cannot be shown\n",
            "  fig.show()\n"
          ]
        },
        {
          "data": {
            "image/png": "[encoded data removed]",
            "text/plain": [
              "<Figure size 800x400 with 1 Axes>"
            ]
          },
          "metadata": {},
          "output_type": "display_data"
        }
      ],
      "source": [
        "plot_difference_by_neuron(da_preacts2, en_preacts2, neuron_to_use)"
      ]
    },
    {
      "cell_type": "code",
      "execution_count": 36,
      "metadata": {
        "colab": {
          "base_uri": "https://localhost:8080/"
        },
        "id": "uf9A7lUrmzoc",
        "outputId": "9d1d0f74-bc8e-4e36-a6c2-b3338ea013ca"
      },
      "outputs": [
        {
          "name": "stdout",
          "output_type": "stream",
          "text": [
            "\n",
            "Corona Response Investment Initiative .Rådet skal\u001b[38;2;255;255;255m\u001b[48;2;255;0;0m nu\u001b[0m formelt god\u001b[38;2;255;255;255m\u001b[48;2;255;0;0mk\u001b[0m\u001b[38;2;255;255;255m\u001b[48;2;255;0;0mende\u001b[0m\u001b[38;2;255;255;255m\u001b[48;2;255;0;0m Parlament\u001b[0m\u001b[38;2;255;255;255m\u001b[48;2;255;0;0mets\u001b[0m\u001b[38;2;255;255;255m\u001b[48;2;255;0;0m hold\u001b[0m\u001b[38;2;255;255;255m\u001b[48;2;255;0;0mning\u001b[0m\n",
            ".Foranstaltningerne vil\u001b[38;2;255;255;255m\u001b[48;2;255;0;0m st\u001b[0mille\u001b[38;2;255;255;255m\u001b[48;2;255;0;0m op\u001b[0m til 800\u001b[38;2;255;255;255m\u001b[48;2;255;0;0m m\u001b[0m\u001b[38;2;255;255;255m\u001b[48;2;255;0;0mio\u001b[0m. EUR til\u001b[38;2;255;255;255m\u001b[48;2;255;0;0m r\u001b[0må\n",
            "\u001b[38;2;255;255;255m\u001b[48;2;255;0;0mdig\u001b[0m\u001b[38;2;255;255;255m\u001b[48;2;255;0;0mhed\u001b[0m\u001b[38;2;255;255;255m\u001b[48;2;255;0;0m for\u001b[0m EU landene\u001b[38;2;255;255;255m\u001b[48;2;255;0;0m i\u001b[0m\u001b[38;2;255;255;255m\u001b[48;2;255;0;0m 2020\u001b[0m.Næste sk\u001b[38;2;255;255;255m\u001b[48;2;255;0;0mrid\u001b[0mtH\u001b[38;2;255;255;255m\u001b[48;2;255;0;0maste\u001b[0mforanst\n",
            "altninger, der skal h\u001b[38;2;255;255;255m\u001b[48;2;255;0;0mj\u001b[0m\u001b[38;2;255;255;255m\u001b[48;2;255;0;0mæ\u001b[0m\u001b[38;2;255;255;255m\u001b[48;2;255;0;0ml\u001b[0mpe borgere og virks\u001b[38;2;255;255;255m\u001b[48;2;255;0;0mom\u001b[0mheder med\n",
            "\u001b[38;2;255;255;255m\u001b[48;2;255;0;0m at\u001b[0m tackle\u001b[38;2;255;255;255m\u001b[48;2;255;0;0m k\u001b[0m\u001b[38;2;255;255;255m\u001b[48;2;255;0;0mris\u001b[0men, blev sat til\u001b[38;2;255;255;255m\u001b[48;2;255;0;0m af\u001b[0m\u001b[38;2;255;255;255m\u001b[48;2;255;0;0mstem\u001b[0mning på\u001b[38;2;255;255;255m\u001b[48;2;255;0;0m et\u001b[0m\u001b[38;2;255;255;255m\u001b[48;2;255;0;0m pl\u001b[0m\u001b[38;2;255;255;255m\u001b[48;2;255;0;0men\u001b[0m\u001b[38;2;255;255;255m\u001b[48;2;255;0;0marm\u001b[0m\u001b[38;2;255;255;255m\u001b[48;2;255;0;0mø\u001b[0mde\n",
            "\u001b[38;2;255;255;255m\u001b[48;2;255;0;0m mind\u001b[0mre\u001b[38;2;255;255;255m\u001b[48;2;255;0;0m end\u001b[0m\u001b[38;2;255;255;255m\u001b[48;2;255;0;0m to\u001b[0m\u001b[38;2;255;255;255m\u001b[48;2;255;0;0m ug\u001b[0mer efter\u001b[38;2;255;255;255m\u001b[48;2;255;0;0m,\u001b[0m\u001b[38;2;255;255;255m\u001b[48;2;255;0;0m at\u001b[0m Kommissionen fremsatte sine\u001b[38;2;255;255;255m\u001b[48;2;255;0;0m for\u001b[0m\u001b[38;2;255;255;255m\u001b[48;2;255;0;0msl\u001b[0m\u001b[38;2;255;255;255m\u001b[48;2;255;0;0mag\u001b[0m.Mid\n",
            "lerne vil blive ret\u001b[38;2;255;255;255m\u001b[48;2;255;0;0mtet\u001b[0m mod\u001b[38;2;255;255;255m\u001b[48;2;255;0;0m s\u001b[0mund\u001b[38;2;255;255;255m\u001b[48;2;255;0;0mhed\u001b[0mssystemer, SMV'er,\n",
            " arbejdsmarkeder og andre sårbare dele\u001b[38;2;255;255;255m\u001b[48;2;255;0;0m af\u001b[0m EU-\u001b[38;2;255;255;255m\u001b[48;2;255;0;0mmed\u001b[0mlemslandenes ø\n",
            "konomier.Formålet med\u001b[38;2;255;255;255m\u001b[48;2;255;0;0m disse\u001b[0m\u001b[38;2;255;255;255m\u001b[48;2;255;0;0m for\u001b[0m\u001b[38;2;255;255;255m\u001b[48;2;255;0;0man\u001b[0m\u001b[38;2;255;255;255m\u001b[48;2;255;0;0mst\u001b[0m\u001b[38;2;255;255;255m\u001b[48;2;255;0;0malt\u001b[0m\u001b[38;2;255;255;255m\u001b[48;2;255;0;0mninger\u001b[0m er\u001b[38;2;255;255;255m\u001b[48;2;255;0;0m at\u001b[0m\u001b[38;2;255;255;255m\u001b[48;2;255;0;0m kan\u001b[0m\u001b[38;2;255;255;255m\u001b[48;2;255;0;0mal\u001b[0misere\n",
            " 37\u001b[38;2;255;255;255m\u001b[48;2;255;0;0m m\u001b[0m\u001b[38;2;255;255;255m\u001b[48;2;255;0;0mia\u001b[0m. EUR fra\u001b[38;2;255;255;255m\u001b[48;2;255;0;0m e\u001b[0m\u001b[38;2;255;255;255m\u001b[48;2;255;0;0mks\u001b[0miste\u001b[38;2;255;255;255m\u001b[48;2;255;0;0mrende\u001b[0m EU\u001b[38;2;255;255;255m\u001b[48;2;255;0;0m-\u001b[0m\u001b[38;2;255;255;255m\u001b[48;2;255;0;0mmid\u001b[0mler\u001b[38;2;255;255;255m\u001b[48;2;255;0;0m til\u001b[0m\u001b[38;2;255;255;255m\u001b[48;2;255;0;0m de\u001b[0m\u001b[38;2;255;255;255m\u001b[48;2;255;0;0m b\u001b[0morge\u001b[38;2;255;255;255m\u001b[48;2;255;0;0mre\u001b[0m,\n",
            " regioner og lande\u001b[38;2;255;255;255m\u001b[48;2;255;0;0m,\u001b[0m der er hårdest\u001b[38;2;255;255;255m\u001b[48;2;255;0;0m ram\u001b[0mt\u001b[38;2;255;255;255m\u001b[48;2;255;0;0m af\u001b[0m\u001b[38;2;255;255;255m\u001b[48;2;255;0;0m Coron\u001b[0mavirus-\u001b[38;2;255;255;255m\u001b[48;2;255;0;0mp\u001b[0mandemien\n",
            " så\u001b[38;2;255;255;255m\u001b[48;2;255;0;0m hurt\u001b[0migt som mul\u001b[38;2;255;255;255m\u001b[48;2;255;0;0migt\u001b[0m.Som\u001b[38;2;255;255;255m\u001b[48;2;255;0;0m en\u001b[0m del\u001b[38;2;255;255;255m\u001b[48;2;255;0;0m af\u001b[0m EU's f\u001b[38;2;255;255;255m\u001b[48;2;255;0;0mæ\u001b[0mlles svar\n",
            "\u001b[38;2;255;255;255m\u001b[48;2;255;0;0m mod\u001b[0m COVID-19-\u001b[38;2;255;255;255m\u001b[48;2;255;0;0mud\u001b[0m\u001b[38;2;255;255;255m\u001b[48;2;255;0;0mbr\u001b[0m\u001b[38;2;255;255;255m\u001b[48;2;255;0;0mud\u001b[0m\u001b[38;2;255;255;255m\u001b[48;2;255;0;0mdet\u001b[0m\u001b[38;2;255;255;255m\u001b[48;2;255;0;0m ved\u001b[0m\u001b[38;2;255;255;255m\u001b[48;2;255;0;0mt\u001b[0m\u001b[38;2;255;255;255m\u001b[48;2;255;0;0mog\u001b[0m\u001b[38;2;255;255;255m\u001b[48;2;255;0;0m med\u001b[0m\u001b[38;2;255;255;255m\u001b[48;2;255;0;0mlem\u001b[0m\u001b[38;2;255;255;255m\u001b[48;2;255;0;0mmer\u001b[0m\u001b[38;2;255;255;255m\u001b[48;2;255;0;0mne\u001b[0m\u001b[38;2;255;255;255m\u001b[48;2;255;0;0m n\u001b[0m\u001b[38;2;255;255;255m\u001b[48;2;255;0;0mæ\u001b[0m\u001b[38;2;255;255;255m\u001b[48;2;255;0;0msten\u001b[0m\u001b[38;2;255;255;255m\u001b[48;2;255;0;0m en\u001b[0m\n",
            "\u001b[38;2;255;255;255m\u001b[48;2;255;0;0mstem\u001b[0mmigt\u001b[38;2;255;255;255m\u001b[48;2;255;0;0m tre\u001b[0m\u001b[38;2;255;255;255m\u001b[48;2;255;0;0m haste\u001b[0mforslag\u001b[38;2;255;255;255m\u001b[48;2;255;0;0m på\u001b[0m\u001b[38;2;255;255;255m\u001b[48;2;255;0;0m en\u001b[0m\u001b[38;2;255;255;255m\u001b[48;2;255;0;0m ek\u001b[0m\u001b[38;2;255;255;255m\u001b[48;2;255;0;0mstra\u001b[0m\u001b[38;2;255;255;255m\u001b[48;2;255;0;0mordin\u001b[0m\u001b[38;2;255;255;255m\u001b[48;2;255;0;0mær\u001b[0m\u001b[38;2;255;255;255m\u001b[48;2;255;0;0m pl\u001b[0m\u001b[38;2;255;255;255m\u001b[48;2;255;0;0men\u001b[0m\u001b[38;2;255;255;255m\u001b[48;2;255;0;0marf\u001b[0mors\u001b[38;2;255;255;255m\u001b[48;2;255;0;0mam\u001b[0m\u001b[38;2;255;255;255m\u001b[48;2;255;0;0mling\u001b[0m tors\n",
            "\u001b[38;2;255;255;255m\u001b[48;2;255;0;0mdag\u001b[0m.Dette vil forhindre luft\u001b[38;2;255;255;255m\u001b[48;2;255;0;0mf\u001b[0m\u001b[38;2;255;255;255m\u001b[48;2;255;0;0mart\u001b[0msselsk\u001b[38;2;255;255;255m\u001b[48;2;255;0;0maber\u001b[0mne i\u001b[38;2;255;255;255m\u001b[48;2;255;0;0m at\u001b[0m fly\n",
            "ve med\u001b[38;2;255;255;255m\u001b[48;2;255;0;0m tom\u001b[0mme fly\u001b[38;2;255;255;255m\u001b[48;2;255;0;0m under\u001b[0m pandemien.Støtteberett\u001b[38;2;255;255;255m\u001b[48;2;255;0;0mig\u001b[0mede tilt\u001b[38;2;255;255;255m\u001b[48;2;255;0;0mag\u001b[0m\u001b[38;2;255;255;255m\u001b[48;2;255;0;0m under\u001b[0m\n",
            " fonden, vil blive udvidet til også\u001b[38;2;255;255;255m\u001b[48;2;255;0;0m at\u001b[0m\u001b[38;2;255;255;255m\u001b[48;2;255;0;0m om\u001b[0mfatte\u001b[38;2;255;255;255m\u001b[48;2;255;0;0m st\u001b[0møtte i\u001b[38;2;255;255;255m\u001b[48;2;255;0;0m for\u001b[0m\n",
            "\u001b[38;2;255;255;255m\u001b[48;2;255;0;0mbind\u001b[0melse\u001b[38;2;255;255;255m\u001b[48;2;255;0;0m med\u001b[0m\u001b[38;2;255;255;255m\u001b[48;2;255;0;0m st\u001b[0m\u001b[38;2;255;255;255m\u001b[48;2;255;0;0mør\u001b[0mre folkes\u001b[38;2;255;255;255m\u001b[48;2;255;0;0mund\u001b[0mhed\u001b[38;2;255;255;255m\u001b[48;2;255;0;0msk\u001b[0m\u001b[38;2;255;255;255m\u001b[48;2;255;0;0mris\u001b[0mer,\u001b[38;2;255;255;255m\u001b[48;2;255;0;0m her\u001b[0munder l\u001b[38;2;255;255;255m\u001b[48;2;255;0;0mæ\u001b[0m\u001b[38;2;255;255;255m\u001b[48;2;255;0;0mge\u001b[0mh\n",
            "\u001b[38;2;255;255;255m\u001b[48;2;255;0;0mj\u001b[0m\u001b[38;2;255;255;255m\u001b[48;2;255;0;0mæ\u001b[0m\u001b[38;2;255;255;255m\u001b[48;2;255;0;0mlp\u001b[0m, samt\u001b[38;2;255;255;255m\u001b[48;2;255;0;0m for\u001b[0manst\u001b[38;2;255;255;255m\u001b[48;2;255;0;0malt\u001b[0m\u001b[38;2;255;255;255m\u001b[48;2;255;0;0mninger\u001b[0m til\u001b[38;2;255;255;255m\u001b[48;2;255;0;0m fore\u001b[0m\u001b[38;2;255;255;255m\u001b[48;2;255;0;0mby\u001b[0m\u001b[38;2;255;255;255m\u001b[48;2;255;0;0mgg\u001b[0melse\u001b[38;2;255;255;255m\u001b[48;2;255;0;0m,\u001b[0m\u001b[38;2;255;255;255m\u001b[48;2;255;0;0m over\u001b[0m\u001b[38;2;255;255;255m\u001b[48;2;255;0;0mv\u001b[0må\n",
            "g\u001b[38;2;255;255;255m\u001b[48;2;255;0;0mning\u001b[0m eller\u001b[38;2;255;255;255m\u001b[48;2;255;0;0m bek\u001b[0m\u001b[38;2;255;255;255m\u001b[48;2;255;0;0mæ\u001b[0m\u001b[38;2;255;255;255m\u001b[48;2;255;0;0mmp\u001b[0melse\u001b[38;2;255;255;255m\u001b[48;2;255;0;0m af\u001b[0m\u001b[38;2;255;255;255m\u001b[48;2;255;0;0m sp\u001b[0m\u001b[38;2;255;255;255m\u001b[48;2;255;0;0mred\u001b[0m\u001b[38;2;255;255;255m\u001b[48;2;255;0;0mning\u001b[0m\u001b[38;2;255;255;255m\u001b[48;2;255;0;0m af\u001b[0m\u001b[38;2;255;255;255m\u001b[48;2;255;0;0m sy\u001b[0m\u001b[38;2;255;255;255m\u001b[48;2;255;0;0mg\u001b[0m\u001b[38;2;255;255;255m\u001b[48;2;255;0;0mdom\u001b[0m\u001b[38;2;255;255;255m\u001b[48;2;255;0;0mme\u001b[0m.U\u001b[38;2;255;255;255m\u001b[48;2;255;0;0mdv\u001b[0m\u001b[38;2;255;255;255m\u001b[48;2;255;0;0midel\u001b[0m\n",
            "\n",
            "The Corona Response Investment Initiative .The Council has to formally approve Parliament's position.The measures will\n",
            " make up to âĤ¬800 million available for European countries in 2020.Further informationThe urgent measures to help\n",
            " people and businesses tackle the crisis were voted on in plenary less than two weeks after the Commission t\n",
            "abled its proposals.The funds will be directed towards healthcare systems,\u001b[38;2;255;255;255m\u001b[48;2;255;0;0m S\u001b[0mMEs, labour markets and\n",
            " other vulnerable parts of EU member states' economies.These measures are meant to channel âĤ¬37 billion from\n",
            " available EU funds as soon as possible to citizens, regions and countries hit the hardest by the Coronavirus\n",
            " pandemic.As part of the EU's joint response to the COVID-19 outbreak, MEPs almost\n",
            " unanimously adopted three urgent proposals in an extraordinary plenary session, on Thursday.This will stop air carriers\n",
            " from operating empty flights during the pandemic.Operations eligible under the Fund will be extended to include support\n",
            " in a major public health emergency, including medical assistance, as well as measures to prevent, monitor or\n",
            " control the spread of diseases.The extension of the EU Solidarity Fund to cover public health emergencies.\n",
            "The adopted measures will enter into force once published in the Official Journal of the European Union in\u001b[38;2;255;255;255m\u001b[48;2;255;0;0m the\u001b[0m coming\n",
            " days.Temporarily suspending EU rules\u001b[38;2;255;255;255m\u001b[48;2;255;0;0m on\u001b[0m airport slots\u001b[38;2;255;255;255m\u001b[48;2;255;0;0m .\u001b[0mThe temporary suspension means that airlines are\n",
            " not obliged to use their planned take-off and landing slots to keep them in the next corresponding season\n",
            ".The 'use it or lose it' rule will be waived for the whole summer season, from\n",
            " 29 March until 24 October 2020.COVID-19: final vote\u001b[38;2;255;255;255m\u001b[48;2;255;0;0m in\u001b[0m EP pl\u001b[38;2;255;255;255m\u001b[48;2;255;0;0menary\u001b[0m to approve\n",
            " crucial EU support measures - Â© EPThe proposal was adopted with 671 votes in favour, 3 against\n",
            " and 14 abstentions.The proposal was adopted with 683 votes in favour, 1 against and\n",
            " 4 abstentions.The proposal was adopted with 686 votes in favour, no votes against and\n",
            " 2 abstentions.developing new vaccinesProgrammes already in placeThe 140 research teams from across"
          ]
        }
      ],
      "source": [
        "begin_at = 0\n",
        "\n",
        "\n",
        "print_colored_acts(\n",
        "    da_tokens2[begin_at:],\n",
        "    da_acts2[begin_at:],\n",
        "    neuron_to_use,\n",
        "    tokenizer,\n",
        "    stop_after=400\n",
        ")\n",
        "print('')\n",
        "print_colored_acts(\n",
        "    en_tokens2[begin_at:],\n",
        "    en_acts2[begin_at:],\n",
        "    neuron_to_use,\n",
        "    tokenizer,\n",
        "    stop_after=400\n",
        ")"
      ]
    },
    {
      "cell_type": "code",
      "execution_count": 35,
      "metadata": {
        "colab": {
          "base_uri": "https://localhost:8080/"
        },
        "id": "soGLSKI5mzoc",
        "outputId": "6cfad226-1a33-43aa-d340-fbc769ed2eab"
      },
      "outputs": [
        {
          "name": "stdout",
          "output_type": "stream",
          "text": [
            "\n",
            "\u001b[38;2;255;255;255m\u001b[48;2;0;0;165mCor\u001b[0m\u001b[38;2;255;255;255m\u001b[48;2;15;0;0mona\u001b[0m\u001b[38;2;255;255;255m\u001b[48;2;47;0;0m Response\u001b[0m\u001b[38;2;255;255;255m\u001b[48;2;0;0;17m Investment\u001b[0m\u001b[38;2;255;255;255m\u001b[48;2;49;0;0m Initiative\u001b[0m\u001b[38;2;255;255;255m\u001b[48;2;65;0;0m .\u001b[0m\u001b[38;2;255;255;255m\u001b[48;2;0;0;176mR\u001b[0m\u001b[38;2;255;255;255m\u001b[48;2;0;0;138må\u001b[0m\u001b[38;2;255;255;255m\u001b[48;2;38;0;0mdet\u001b[0m\u001b[38;2;255;255;255m\u001b[48;2;67;0;0m skal\u001b[0m\u001b[38;2;255;255;255m\u001b[48;2;85;0;0m nu\u001b[0m\u001b[38;2;255;255;255m\u001b[48;2;63;0;0m form\u001b[0m\u001b[38;2;255;255;255m\u001b[48;2;43;0;0melt\u001b[0m\u001b[38;2;255;255;255m\u001b[48;2;66;0;0m god\u001b[0m\u001b[38;2;255;255;255m\u001b[48;2;136;0;0mk\u001b[0m\u001b[38;2;255;255;255m\u001b[48;2;196;0;0mende\u001b[0m\u001b[38;2;255;255;255m\u001b[48;2;121;0;0m Parlament\u001b[0m\u001b[38;2;255;255;255m\u001b[48;2;128;0;0mets\u001b[0m\u001b[38;2;255;255;255m\u001b[48;2;116;0;0m hold\u001b[0m\u001b[38;2;255;255;255m\u001b[48;2;115;0;0mning\u001b[0m\n",
            "\u001b[38;2;255;255;255m\u001b[48;2;0;0;191m.\u001b[0m\u001b[38;2;255;255;255m\u001b[48;2;0;0;120mFor\u001b[0m\u001b[38;2;255;255;255m\u001b[48;2;37;0;0man\u001b[0m\u001b[38;2;255;255;255m\u001b[48;2;1;0;0mst\u001b[0m\u001b[38;2;255;255;255m\u001b[48;2;52;0;0malt\u001b[0m\u001b[38;2;255;255;255m\u001b[48;2;89;0;0mning\u001b[0m\u001b[38;2;255;255;255m\u001b[48;2;47;0;0merne\u001b[0m\u001b[38;2;255;255;255m\u001b[48;2;0;0;135m vil\u001b[0m\u001b[38;2;255;255;255m\u001b[48;2;163;0;0m st\u001b[0m\u001b[38;2;255;255;255m\u001b[48;2;69;0;0mille\u001b[0m\u001b[38;2;255;255;255m\u001b[48;2;166;0;0m op\u001b[0m\u001b[38;2;255;255;255m\u001b[48;2;68;0;0m til\u001b[0m\u001b[38;2;255;255;255m\u001b[48;2;83;0;0m 800\u001b[0m\u001b[38;2;255;255;255m\u001b[48;2;156;0;0m m\u001b[0m\u001b[38;2;255;255;255m\u001b[48;2;181;0;0mio\u001b[0m\u001b[38;2;255;255;255m\u001b[48;2;72;0;0m.\u001b[0m\u001b[38;2;255;255;255m\u001b[48;2;31;0;0m EUR\u001b[0m\u001b[38;2;255;255;255m\u001b[48;2;39;0;0m til\u001b[0m\u001b[38;2;255;255;255m\u001b[48;2;126;0;0m r\u001b[0m\u001b[38;2;255;255;255m\u001b[48;2;65;0;0må\u001b[0m\n",
            "\u001b[38;2;255;255;255m\u001b[48;2;111;0;0mdig\u001b[0m\u001b[38;2;255;255;255m\u001b[48;2;108;0;0mhed\u001b[0m\u001b[38;2;255;255;255m\u001b[48;2;117;0;0m for\u001b[0m\u001b[38;2;255;255;255m\u001b[48;2;51;0;0m EU\u001b[0m\u001b[38;2;255;255;255m\u001b[48;2;56;0;0m land\u001b[0m\u001b[38;2;255;255;255m\u001b[48;2;76;0;0mene\u001b[0m\u001b[38;2;255;255;255m\u001b[48;2;83;0;0m i\u001b[0m\u001b[38;2;255;255;255m\u001b[48;2;88;0;0m 2020\u001b[0m\u001b[38;2;255;255;255m\u001b[48;2;59;0;0m.\u001b[0m\u001b[38;2;255;255;255m\u001b[48;2;0;0;160mN\u001b[0m\u001b[38;2;255;255;255m\u001b[48;2;7;0;0mæ\u001b[0m\u001b[38;2;255;255;255m\u001b[48;2;81;0;0mste\u001b[0m\u001b[38;2;255;255;255m\u001b[48;2;69;0;0m sk\u001b[0m\u001b[38;2;255;255;255m\u001b[48;2;124;0;0mrid\u001b[0m\u001b[38;2;255;255;255m\u001b[48;2;70;0;0mt\u001b[0m\u001b[38;2;255;255;255m\u001b[48;2;0;0;170mH\u001b[0m\u001b[38;2;255;255;255m\u001b[48;2;85;0;0maste\u001b[0m\u001b[38;2;255;255;255m\u001b[48;2;54;0;0mfor\u001b[0m\u001b[38;2;255;255;255m\u001b[48;2;65;0;0man\u001b[0m\u001b[38;2;255;255;255m\u001b[48;2;49;0;0mst\u001b[0m\n",
            "\u001b[38;2;255;255;255m\u001b[48;2;77;0;0malt\u001b[0m\u001b[38;2;255;255;255m\u001b[48;2;0;0;19mninger\u001b[0m\u001b[38;2;255;255;255m\u001b[48;2;0;0;200m,\u001b[0m\u001b[38;2;255;255;255m\u001b[48;2;27;0;0m der\u001b[0m\u001b[38;2;255;255;255m\u001b[48;2;10;0;0m skal\u001b[0m\u001b[38;2;255;255;255m\u001b[48;2;100;0;0m h\u001b[0m\u001b[38;2;255;255;255m\u001b[48;2;186;0;0mj\u001b[0m\u001b[38;2;255;255;255m\u001b[48;2;153;0;0mæ\u001b[0m\u001b[38;2;255;255;255m\u001b[48;2;114;0;0ml\u001b[0m\u001b[38;2;255;255;255m\u001b[48;2;87;0;0mpe\u001b[0m\u001b[38;2;255;255;255m\u001b[48;2;117;0;0m b\u001b[0m\u001b[38;2;255;255;255m\u001b[48;2;72;0;0morge\u001b[0m\u001b[38;2;255;255;255m\u001b[48;2;74;0;0mre\u001b[0m\u001b[38;2;255;255;255m\u001b[48;2;17;0;0m og\u001b[0m\u001b[38;2;255;255;255m\u001b[48;2;91;0;0m vir\u001b[0m\u001b[38;2;255;255;255m\u001b[48;2;11;0;0mks\u001b[0m\u001b[38;2;255;255;255m\u001b[48;2;124;0;0mom\u001b[0m\u001b[38;2;255;255;255m\u001b[48;2;84;0;0mhe\u001b[0m\u001b[38;2;255;255;255m\u001b[48;2;58;0;0mder\u001b[0m\u001b[38;2;255;255;255m\u001b[48;2;82;0;0m med\u001b[0m\n",
            "\u001b[38;2;255;255;255m\u001b[48;2;121;0;0m at\u001b[0m\u001b[38;2;255;255;255m\u001b[48;2;3;0;0m tackle\u001b[0m\u001b[38;2;255;255;255m\u001b[48;2;122;0;0m k\u001b[0m\u001b[38;2;255;255;255m\u001b[48;2;143;0;0mris\u001b[0m\u001b[38;2;255;255;255m\u001b[48;2;67;0;0men\u001b[0m\u001b[38;2;255;255;255m\u001b[48;2;63;0;0m,\u001b[0m\u001b[38;2;255;255;255m\u001b[48;2;41;0;0m ble\u001b[0m\u001b[38;2;255;255;255m\u001b[48;2;33;0;0mv\u001b[0m\u001b[38;2;255;255;255m\u001b[48;2;0;0;31m sat\u001b[0m\u001b[38;2;255;255;255m\u001b[48;2;55;0;0m til\u001b[0m\u001b[38;2;255;255;255m\u001b[48;2;134;0;0m af\u001b[0m\u001b[38;2;255;255;255m\u001b[48;2;139;0;0mstem\u001b[0m\u001b[38;2;255;255;255m\u001b[48;2;3;0;0mning\u001b[0m\u001b[38;2;255;255;255m\u001b[48;2;36;0;0m på\u001b[0m\u001b[38;2;255;255;255m\u001b[48;2;114;0;0m et\u001b[0m\u001b[38;2;255;255;255m\u001b[48;2;169;0;0m pl\u001b[0m\u001b[38;2;255;255;255m\u001b[48;2;157;0;0men\u001b[0m\u001b[38;2;255;255;255m\u001b[48;2;145;0;0marm\u001b[0m\u001b[38;2;255;255;255m\u001b[48;2;112;0;0mø\u001b[0m\u001b[38;2;255;255;255m\u001b[48;2;112;0;0mde\u001b[0m\n",
            "\u001b[38;2;255;255;255m\u001b[48;2;96;0;0m mind\u001b[0m\u001b[38;2;255;255;255m\u001b[48;2;40;0;0mre\u001b[0m\u001b[38;2;255;255;255m\u001b[48;2;107;0;0m end\u001b[0m\u001b[38;2;255;255;255m\u001b[48;2;89;0;0m to\u001b[0m\u001b[38;2;255;255;255m\u001b[48;2;161;0;0m ug\u001b[0m\u001b[38;2;255;255;255m\u001b[48;2;31;0;0mer\u001b[0m\u001b[38;2;255;255;255m\u001b[48;2;62;0;0m efter\u001b[0m\u001b[38;2;255;255;255m\u001b[48;2;78;0;0m,\u001b[0m\u001b[38;2;255;255;255m\u001b[48;2;120;0;0m at\u001b[0m\u001b[38;2;255;255;255m\u001b[48;2;54;0;0m Kommission\u001b[0m\u001b[38;2;255;255;255m\u001b[48;2;0;0;18men\u001b[0m\u001b[38;2;255;255;255m\u001b[48;2;36;0;0m fre\u001b[0m\u001b[38;2;255;255;255m\u001b[48;2;51;0;0mms\u001b[0m\u001b[38;2;255;255;255m\u001b[48;2;54;0;0matte\u001b[0m\u001b[38;2;255;255;255m\u001b[48;2;49;0;0m sine\u001b[0m\u001b[38;2;255;255;255m\u001b[48;2;153;0;0m for\u001b[0m\u001b[38;2;255;255;255m\u001b[48;2;152;0;0msl\u001b[0m\u001b[38;2;255;255;255m\u001b[48;2;97;0;0mag\u001b[0m\u001b[38;2;255;255;255m\u001b[48;2;0;0;8m.\u001b[0m\u001b[38;2;255;255;255m\u001b[48;2;0;0;193mMid\u001b[0m\n",
            "\u001b[38;2;255;255;255m\u001b[48;2;0;0;137mler\u001b[0m\u001b[38;2;255;255;255m\u001b[48;2;0;0;2mne\u001b[0m\u001b[38;2;255;255;255m\u001b[48;2;0;0;199m vil\u001b[0m\u001b[38;2;255;255;255m\u001b[48;2;0;0;26m bl\u001b[0m\u001b[38;2;255;255;255m\u001b[48;2;32;0;0mive\u001b[0m\u001b[38;2;255;255;255m\u001b[48;2;31;0;0m ret\u001b[0m\u001b[38;2;255;255;255m\u001b[48;2;85;0;0mtet\u001b[0m\u001b[38;2;255;255;255m\u001b[48;2;77;0;0m mod\u001b[0m\u001b[38;2;255;255;255m\u001b[48;2;139;0;0m s\u001b[0m\u001b[38;2;255;255;255m\u001b[48;2;0;0;127mund\u001b[0m\u001b[38;2;255;255;255m\u001b[48;2;81;0;0mhed\u001b[0m\u001b[38;2;255;255;255m\u001b[48;2;66;0;0mss\u001b[0m\u001b[38;2;255;255;255m\u001b[48;2;2;0;0mystem\u001b[0m\u001b[38;2;255;255;255m\u001b[48;2;23;0;0mer\u001b[0m\u001b[38;2;255;255;255m\u001b[48;2;0;0;245m,\u001b[0m\u001b[38;2;255;255;255m\u001b[48;2;0;0;113m SM\u001b[0m\u001b[38;2;255;255;255m\u001b[48;2;13;0;0mV\u001b[0m\u001b[38;2;255;255;255m\u001b[48;2;29;0;0m'\u001b[0m\u001b[38;2;255;255;255m\u001b[48;2;0;0;39mer\u001b[0m\u001b[38;2;255;255;255m\u001b[48;2;0;0;185m,\u001b[0m\n",
            "\u001b[38;2;255;255;255m\u001b[48;2;0;0;79m arbe\u001b[0m\u001b[38;2;255;255;255m\u001b[48;2;26;0;0mj\u001b[0m\u001b[38;2;255;255;255m\u001b[48;2;47;0;0mds\u001b[0m\u001b[38;2;255;255;255m\u001b[48;2;22;0;0mmark\u001b[0m\u001b[38;2;255;255;255m\u001b[48;2;0;0;16meder\u001b[0m\u001b[38;2;255;255;255m\u001b[48;2;14;0;0m og\u001b[0m\u001b[38;2;255;255;255m\u001b[48;2;51;0;0m and\u001b[0m\u001b[38;2;255;255;255m\u001b[48;2;0;0;12mre\u001b[0m\u001b[38;2;255;255;255m\u001b[48;2;5;0;0m så\u001b[0m\u001b[38;2;255;255;255m\u001b[48;2;37;0;0mrb\u001b[0m\u001b[38;2;255;255;255m\u001b[48;2;21;0;0mare\u001b[0m\u001b[38;2;255;255;255m\u001b[48;2;28;0;0m dele\u001b[0m\u001b[38;2;255;255;255m\u001b[48;2;120;0;0m af\u001b[0m\u001b[38;2;255;255;255m\u001b[48;2;12;0;0m EU\u001b[0m\u001b[38;2;255;255;255m\u001b[48;2;44;0;0m-\u001b[0m\u001b[38;2;255;255;255m\u001b[48;2;113;0;0mmed\u001b[0m\u001b[38;2;255;255;255m\u001b[48;2;67;0;0mlems\u001b[0m\u001b[38;2;255;255;255m\u001b[48;2;9;0;0mland\u001b[0m\u001b[38;2;255;255;255m\u001b[48;2;4;0;0menes\u001b[0m\u001b[38;2;255;255;255m\u001b[48;2;41;0;0m ø\u001b[0m\n",
            "\u001b[38;2;255;255;255m\u001b[48;2;69;0;0mk\u001b[0m\u001b[38;2;255;255;255m\u001b[48;2;2;0;0monom\u001b[0m\u001b[38;2;255;255;255m\u001b[48;2;33;0;0mier\u001b[0m\u001b[38;2;255;255;255m\u001b[48;2;52;0;0m.\u001b[0m\u001b[38;2;255;255;255m\u001b[48;2;0;0;144mForm\u001b[0m\u001b[38;2;255;255;255m\u001b[48;2;23;0;0må\u001b[0m\u001b[38;2;255;255;255m\u001b[48;2;16;0;0mlet\u001b[0m\u001b[38;2;255;255;255m\u001b[48;2;91;0;0m med\u001b[0m\u001b[38;2;255;255;255m\u001b[48;2;123;0;0m disse\u001b[0m\u001b[38;2;255;255;255m\u001b[48;2;145;0;0m for\u001b[0m\u001b[38;2;255;255;255m\u001b[48;2;84;0;0man\u001b[0m\u001b[38;2;255;255;255m\u001b[48;2;100;0;0mst\u001b[0m\u001b[38;2;255;255;255m\u001b[48;2;121;0;0malt\u001b[0m\u001b[38;2;255;255;255m\u001b[48;2;137;0;0mninger\u001b[0m\u001b[38;2;255;255;255m\u001b[48;2;61;0;0m er\u001b[0m\u001b[38;2;255;255;255m\u001b[48;2;87;0;0m at\u001b[0m\u001b[38;2;255;255;255m\u001b[48;2;98;0;0m kan\u001b[0m\u001b[38;2;255;255;255m\u001b[48;2;171;0;0mal\u001b[0m\u001b[38;2;255;255;255m\u001b[48;2;84;0;0mise\u001b[0m\u001b[38;2;255;255;255m\u001b[48;2;36;0;0mre\u001b[0m\n",
            "\u001b[38;2;255;255;255m\u001b[48;2;62;0;0m 37\u001b[0m\u001b[38;2;255;255;255m\u001b[48;2;152;0;0m m\u001b[0m\u001b[38;2;255;255;255m\u001b[48;2;165;0;0mia\u001b[0m\u001b[38;2;255;255;255m\u001b[48;2;34;0;0m.\u001b[0m\u001b[38;2;255;255;255m\u001b[48;2;20;0;0m EUR\u001b[0m\u001b[38;2;255;255;255m\u001b[48;2;31;0;0m fra\u001b[0m\u001b[38;2;255;255;255m\u001b[48;2;109;0;0m e\u001b[0m\u001b[38;2;255;255;255m\u001b[48;2;103;0;0mks\u001b[0m\u001b[38;2;255;255;255m\u001b[48;2;56;0;0miste\u001b[0m\u001b[38;2;255;255;255m\u001b[48;2;148;0;0mrende\u001b[0m\u001b[38;2;255;255;255m\u001b[48;2;42;0;0m EU\u001b[0m\u001b[38;2;255;255;255m\u001b[48;2;78;0;0m-\u001b[0m\u001b[38;2;255;255;255m\u001b[48;2;78;0;0mmid\u001b[0m\u001b[38;2;255;255;255m\u001b[48;2;87;0;0mler\u001b[0m\u001b[38;2;255;255;255m\u001b[48;2;133;0;0m til\u001b[0m\u001b[38;2;255;255;255m\u001b[48;2;156;0;0m de\u001b[0m\u001b[38;2;255;255;255m\u001b[48;2;240;0;0m b\u001b[0m\u001b[38;2;255;255;255m\u001b[48;2;87;0;0morge\u001b[0m\u001b[38;2;255;255;255m\u001b[48;2;87;0;0mre\u001b[0m\u001b[38;2;255;255;255m\u001b[48;2;51;0;0m,\u001b[0m\n",
            "\u001b[38;2;255;255;255m\u001b[48;2;1;0;0m region\u001b[0m\u001b[38;2;255;255;255m\u001b[48;2;43;0;0mer\u001b[0m\u001b[38;2;255;255;255m\u001b[48;2;29;0;0m og\u001b[0m\u001b[38;2;255;255;255m\u001b[48;2;60;0;0m land\u001b[0m\u001b[38;2;255;255;255m\u001b[48;2;7;0;0me\u001b[0m\u001b[38;2;255;255;255m\u001b[48;2;81;0;0m,\u001b[0m\u001b[38;2;255;255;255m\u001b[48;2;53;0;0m der\u001b[0m\u001b[38;2;255;255;255m\u001b[48;2;57;0;0m er\u001b[0m\u001b[38;2;255;255;255m\u001b[48;2;33;0;0m hå\u001b[0m\u001b[38;2;255;255;255m\u001b[48;2;85;0;0mrd\u001b[0m\u001b[38;2;255;255;255m\u001b[48;2;82;0;0mest\u001b[0m\u001b[38;2;255;255;255m\u001b[48;2;126;0;0m ram\u001b[0m\u001b[38;2;255;255;255m\u001b[48;2;74;0;0mt\u001b[0m\u001b[38;2;255;255;255m\u001b[48;2;183;0;0m af\u001b[0m\u001b[38;2;255;255;255m\u001b[48;2;94;0;0m Coron\u001b[0m\u001b[38;2;255;255;255m\u001b[48;2;2;0;0mavirus\u001b[0m\u001b[38;2;255;255;255m\u001b[48;2;60;0;0m-\u001b[0m\u001b[38;2;255;255;255m\u001b[48;2;129;0;0mp\u001b[0m\u001b[38;2;255;255;255m\u001b[48;2;85;0;0mandem\u001b[0m\u001b[38;2;255;255;255m\u001b[48;2;56;0;0mien\u001b[0m\n",
            "\u001b[38;2;255;255;255m\u001b[48;2;100;0;0m så\u001b[0m\u001b[38;2;255;255;255m\u001b[48;2;109;0;0m hurt\u001b[0m\u001b[38;2;255;255;255m\u001b[48;2;69;0;0migt\u001b[0m\u001b[38;2;255;255;255m\u001b[48;2;39;0;0m som\u001b[0m\u001b[38;2;255;255;255m\u001b[48;2;115;0;0m mul\u001b[0m\u001b[38;2;255;255;255m\u001b[48;2;117;0;0migt\u001b[0m\u001b[38;2;255;255;255m\u001b[48;2;28;0;0m.\u001b[0m\u001b[38;2;255;255;255m\u001b[48;2;0;0;188mS\u001b[0m\u001b[38;2;255;255;255m\u001b[48;2;0;0;184mom\u001b[0m\u001b[38;2;255;255;255m\u001b[48;2;83;0;0m en\u001b[0m\u001b[38;2;255;255;255m\u001b[48;2;66;0;0m del\u001b[0m\u001b[38;2;255;255;255m\u001b[48;2;121;0;0m af\u001b[0m\u001b[38;2;255;255;255m\u001b[48;2;0;0;138m EU\u001b[0m\u001b[38;2;255;255;255m\u001b[48;2;0;0;9m's\u001b[0m\u001b[38;2;255;255;255m\u001b[48;2;68;0;0m f\u001b[0m\u001b[38;2;255;255;255m\u001b[48;2;106;0;0mæ\u001b[0m\u001b[38;2;255;255;255m\u001b[48;2;36;0;0mll\u001b[0m\u001b[38;2;255;255;255m\u001b[48;2;53;0;0mes\u001b[0m\u001b[38;2;255;255;255m\u001b[48;2;62;0;0m s\u001b[0m\u001b[38;2;255;255;255m\u001b[48;2;72;0;0mvar\u001b[0m\n",
            "\u001b[38;2;255;255;255m\u001b[48;2;138;0;0m mod\u001b[0m\u001b[38;2;255;255;255m\u001b[48;2;62;0;0m COVID\u001b[0m\u001b[38;2;255;255;255m\u001b[48;2;80;0;0m-\u001b[0m\u001b[38;2;255;255;255m\u001b[48;2;8;0;0m19\u001b[0m\u001b[38;2;255;255;255m\u001b[48;2;87;0;0m-\u001b[0m\u001b[38;2;255;255;255m\u001b[48;2;144;0;0mud\u001b[0m\u001b[38;2;255;255;255m\u001b[48;2;104;0;0mbr\u001b[0m\u001b[38;2;255;255;255m\u001b[48;2;143;0;0mud\u001b[0m\u001b[38;2;255;255;255m\u001b[48;2;139;0;0mdet\u001b[0m\u001b[38;2;255;255;255m\u001b[48;2;185;0;0m ved\u001b[0m\u001b[38;2;255;255;255m\u001b[48;2;151;0;0mt\u001b[0m\u001b[38;2;255;255;255m\u001b[48;2;138;0;0mog\u001b[0m\u001b[38;2;255;255;255m\u001b[48;2;123;0;0m med\u001b[0m\u001b[38;2;255;255;255m\u001b[48;2;117;0;0mlem\u001b[0m\u001b[38;2;255;255;255m\u001b[48;2;106;0;0mmer\u001b[0m\u001b[38;2;255;255;255m\u001b[48;2;124;0;0mne\u001b[0m\u001b[38;2;255;255;255m\u001b[48;2;154;0;0m n\u001b[0m\u001b[38;2;255;255;255m\u001b[48;2;104;0;0mæ\u001b[0m\u001b[38;2;255;255;255m\u001b[48;2;97;0;0msten\u001b[0m\u001b[38;2;255;255;255m\u001b[48;2;121;0;0m en\u001b[0m\n",
            "\u001b[38;2;255;255;255m\u001b[48;2;108;0;0mstem\u001b[0m\u001b[38;2;255;255;255m\u001b[48;2;0;0;0mm\u001b[0m\u001b[38;2;255;255;255m\u001b[48;2;84;0;0migt\u001b[0m\u001b[38;2;255;255;255m\u001b[48;2;120;0;0m tre\u001b[0m\u001b[38;2;255;255;255m\u001b[48;2;100;0;0m haste\u001b[0m\u001b[38;2;255;255;255m\u001b[48;2;79;0;0mfors\u001b[0m\u001b[38;2;255;255;255m\u001b[48;2;48;0;0mlag\u001b[0m\u001b[38;2;255;255;255m\u001b[48;2;150;0;0m på\u001b[0m\u001b[38;2;255;255;255m\u001b[48;2;185;0;0m en\u001b[0m\u001b[38;2;255;255;255m\u001b[48;2;177;0;0m ek\u001b[0m\u001b[38;2;255;255;255m\u001b[48;2;91;0;0mstra\u001b[0m\u001b[38;2;255;255;255m\u001b[48;2;140;0;0mordin\u001b[0m\u001b[38;2;255;255;255m\u001b[48;2;131;0;0mær\u001b[0m\u001b[38;2;255;255;255m\u001b[48;2;178;0;0m pl\u001b[0m\u001b[38;2;255;255;255m\u001b[48;2;158;0;0men\u001b[0m\u001b[38;2;255;255;255m\u001b[48;2;112;0;0marf\u001b[0m\u001b[38;2;255;255;255m\u001b[48;2;46;0;0mors\u001b[0m\u001b[38;2;255;255;255m\u001b[48;2;134;0;0mam\u001b[0m\u001b[38;2;255;255;255m\u001b[48;2;169;0;0mling\u001b[0m\u001b[38;2;255;255;255m\u001b[48;2;85;0;0m tors\u001b[0m\n",
            "\u001b[38;2;255;255;255m\u001b[48;2;91;0;0mdag\u001b[0m\u001b[38;2;255;255;255m\u001b[48;2;0;0;143m.\u001b[0m\u001b[38;2;255;255;255m\u001b[48;2;0;0;156mD\u001b[0m\u001b[38;2;255;255;255m\u001b[48;2;63;0;0mette\u001b[0m\u001b[38;2;255;255;255m\u001b[48;2;0;0;183m vil\u001b[0m\u001b[38;2;255;255;255m\u001b[48;2;64;0;0m for\u001b[0m\u001b[38;2;255;255;255m\u001b[48;2;5;0;0mhind\u001b[0m\u001b[38;2;255;255;255m\u001b[48;2;0;0;64mre\u001b[0m\u001b[38;2;255;255;255m\u001b[48;2;32;0;0m lu\u001b[0m\u001b[38;2;255;255;255m\u001b[48;2;55;0;0mft\u001b[0m\u001b[38;2;255;255;255m\u001b[48;2;113;0;0mf\u001b[0m\u001b[38;2;255;255;255m\u001b[48;2;93;0;0mart\u001b[0m\u001b[38;2;255;255;255m\u001b[48;2;19;0;0mss\u001b[0m\u001b[38;2;255;255;255m\u001b[48;2;0;0;110mels\u001b[0m\u001b[38;2;255;255;255m\u001b[48;2;55;0;0mk\u001b[0m\u001b[38;2;255;255;255m\u001b[48;2;131;0;0maber\u001b[0m\u001b[38;2;255;255;255m\u001b[48;2;58;0;0mne\u001b[0m\u001b[38;2;255;255;255m\u001b[48;2;55;0;0m i\u001b[0m\u001b[38;2;255;255;255m\u001b[48;2;77;0;0m at\u001b[0m\u001b[38;2;255;255;255m\u001b[48;2;0;0;74m fly\u001b[0m\n",
            "\u001b[38;2;255;255;255m\u001b[48;2;0;0;63mve\u001b[0m\u001b[38;2;255;255;255m\u001b[48;2;26;0;0m med\u001b[0m\u001b[38;2;255;255;255m\u001b[48;2;91;0;0m tom\u001b[0m\u001b[38;2;255;255;255m\u001b[48;2;62;0;0mme\u001b[0m\u001b[38;2;255;255;255m\u001b[48;2;23;0;0m fly\u001b[0m\u001b[38;2;255;255;255m\u001b[48;2;94;0;0m under\u001b[0m\u001b[38;2;255;255;255m\u001b[48;2;30;0;0m pand\u001b[0m\u001b[38;2;255;255;255m\u001b[48;2;43;0;0mem\u001b[0m\u001b[38;2;255;255;255m\u001b[48;2;0;0;38mien\u001b[0m\u001b[38;2;255;255;255m\u001b[48;2;3;0;0m.\u001b[0m\u001b[38;2;255;255;255m\u001b[48;2;0;0;118mSt\u001b[0m\u001b[38;2;255;255;255m\u001b[48;2;0;0;213mø\u001b[0m\u001b[38;2;255;255;255m\u001b[48;2;0;0;122mtte\u001b[0m\u001b[38;2;255;255;255m\u001b[48;2;13;0;0mbe\u001b[0m\u001b[38;2;255;255;255m\u001b[48;2;47;0;0mrett\u001b[0m\u001b[38;2;255;255;255m\u001b[48;2;96;0;0mig\u001b[0m\u001b[38;2;255;255;255m\u001b[48;2;41;0;0mede\u001b[0m\u001b[38;2;255;255;255m\u001b[48;2;79;0;0m tilt\u001b[0m\u001b[38;2;255;255;255m\u001b[48;2;93;0;0mag\u001b[0m\u001b[38;2;255;255;255m\u001b[48;2;79;0;0m under\u001b[0m\n",
            "\u001b[38;2;255;255;255m\u001b[48;2;61;0;0m fond\u001b[0m\u001b[38;2;255;255;255m\u001b[48;2;17;0;0men\u001b[0m\u001b[38;2;255;255;255m\u001b[48;2;0;0;255m,\u001b[0m\u001b[38;2;255;255;255m\u001b[48;2;27;0;0m vil\u001b[0m\u001b[38;2;255;255;255m\u001b[48;2;47;0;0m bl\u001b[0m\u001b[38;2;255;255;255m\u001b[48;2;36;0;0mive\u001b[0m\u001b[38;2;255;255;255m\u001b[48;2;43;0;0m ud\u001b[0m\u001b[38;2;255;255;255m\u001b[48;2;0;0;29mvid\u001b[0m\u001b[38;2;255;255;255m\u001b[48;2;52;0;0met\u001b[0m\u001b[38;2;255;255;255m\u001b[48;2;55;0;0m til\u001b[0m\u001b[38;2;255;255;255m\u001b[48;2;33;0;0m også\u001b[0m\u001b[38;2;255;255;255m\u001b[48;2;110;0;0m at\u001b[0m\u001b[38;2;255;255;255m\u001b[48;2;123;0;0m om\u001b[0m\u001b[38;2;255;255;255m\u001b[48;2;91;0;0mfat\u001b[0m\u001b[38;2;255;255;255m\u001b[48;2;40;0;0mte\u001b[0m\u001b[38;2;255;255;255m\u001b[48;2;173;0;0m st\u001b[0m\u001b[38;2;255;255;255m\u001b[48;2;99;0;0mø\u001b[0m\u001b[38;2;255;255;255m\u001b[48;2;70;0;0mtte\u001b[0m\u001b[38;2;255;255;255m\u001b[48;2;57;0;0m i\u001b[0m\u001b[38;2;255;255;255m\u001b[48;2;200;0;0m for\u001b[0m\n",
            "\u001b[38;2;255;255;255m\u001b[48;2;203;0;0mbind\u001b[0m\u001b[38;2;255;255;255m\u001b[48;2;87;0;0melse\u001b[0m\u001b[38;2;255;255;255m\u001b[48;2;147;0;0m med\u001b[0m\u001b[38;2;255;255;255m\u001b[48;2;244;0;0m st\u001b[0m\u001b[38;2;255;255;255m\u001b[48;2;144;0;0mør\u001b[0m\u001b[38;2;255;255;255m\u001b[48;2;93;0;0mre\u001b[0m\u001b[38;2;255;255;255m\u001b[48;2;120;0;0m fol\u001b[0m\u001b[38;2;255;255;255m\u001b[48;2;22;0;0mkes\u001b[0m\u001b[38;2;255;255;255m\u001b[48;2;144;0;0mund\u001b[0m\u001b[38;2;255;255;255m\u001b[48;2;86;0;0mhed\u001b[0m\u001b[38;2;255;255;255m\u001b[48;2;87;0;0msk\u001b[0m\u001b[38;2;255;255;255m\u001b[48;2;170;0;0mris\u001b[0m\u001b[38;2;255;255;255m\u001b[48;2;91;0;0mer\u001b[0m\u001b[38;2;255;255;255m\u001b[48;2;67;0;0m,\u001b[0m\u001b[38;2;255;255;255m\u001b[48;2;103;0;0m her\u001b[0m\u001b[38;2;255;255;255m\u001b[48;2;84;0;0munder\u001b[0m\u001b[38;2;255;255;255m\u001b[48;2;98;0;0m l\u001b[0m\u001b[38;2;255;255;255m\u001b[48;2;122;0;0mæ\u001b[0m\u001b[38;2;255;255;255m\u001b[48;2;86;0;0mge\u001b[0m\u001b[38;2;255;255;255m\u001b[48;2;72;0;0mh\u001b[0m\n",
            "\u001b[38;2;255;255;255m\u001b[48;2;181;0;0mj\u001b[0m\u001b[38;2;255;255;255m\u001b[48;2;139;0;0mæ\u001b[0m\u001b[38;2;255;255;255m\u001b[48;2;102;0;0mlp\u001b[0m\u001b[38;2;255;255;255m\u001b[48;2;64;0;0m,\u001b[0m\u001b[38;2;255;255;255m\u001b[48;2;57;0;0m sam\u001b[0m\u001b[38;2;255;255;255m\u001b[48;2;49;0;0mt\u001b[0m\u001b[38;2;255;255;255m\u001b[48;2;153;0;0m for\u001b[0m\u001b[38;2;255;255;255m\u001b[48;2;71;0;0man\u001b[0m\u001b[38;2;255;255;255m\u001b[48;2;85;0;0mst\u001b[0m\u001b[38;2;255;255;255m\u001b[48;2;95;0;0malt\u001b[0m\u001b[38;2;255;255;255m\u001b[48;2;107;0;0mninger\u001b[0m\u001b[38;2;255;255;255m\u001b[48;2;61;0;0m til\u001b[0m\u001b[38;2;255;255;255m\u001b[48;2;209;0;0m fore\u001b[0m\u001b[38;2;255;255;255m\u001b[48;2;108;0;0mby\u001b[0m\u001b[38;2;255;255;255m\u001b[48;2;119;0;0mgg\u001b[0m\u001b[38;2;255;255;255m\u001b[48;2;55;0;0melse\u001b[0m\u001b[38;2;255;255;255m\u001b[48;2;99;0;0m,\u001b[0m\u001b[38;2;255;255;255m\u001b[48;2;166;0;0m over\u001b[0m\u001b[38;2;255;255;255m\u001b[48;2;102;0;0mv\u001b[0m\u001b[38;2;255;255;255m\u001b[48;2;54;0;0må\u001b[0m\n",
            "\u001b[38;2;255;255;255m\u001b[48;2;67;0;0mg\u001b[0m\u001b[38;2;255;255;255m\u001b[48;2;145;0;0mning\u001b[0m\u001b[38;2;255;255;255m\u001b[48;2;26;0;0m eller\u001b[0m\u001b[38;2;255;255;255m\u001b[48;2;219;0;0m bek\u001b[0m\u001b[38;2;255;255;255m\u001b[48;2;132;0;0mæ\u001b[0m\u001b[38;2;255;255;255m\u001b[48;2;158;0;0mmp\u001b[0m\u001b[38;2;255;255;255m\u001b[48;2;28;0;0melse\u001b[0m\u001b[38;2;255;255;255m\u001b[48;2;156;0;0m af\u001b[0m\u001b[38;2;255;255;255m\u001b[48;2;163;0;0m sp\u001b[0m\u001b[38;2;255;255;255m\u001b[48;2;106;0;0mred\u001b[0m\u001b[38;2;255;255;255m\u001b[48;2;103;0;0mning\u001b[0m\u001b[38;2;255;255;255m\u001b[48;2;124;0;0m af\u001b[0m\u001b[38;2;255;255;255m\u001b[48;2;178;0;0m sy\u001b[0m\u001b[38;2;255;255;255m\u001b[48;2;134;0;0mg\u001b[0m\u001b[38;2;255;255;255m\u001b[48;2;142;0;0mdom\u001b[0m\u001b[38;2;255;255;255m\u001b[48;2;103;0;0mme\u001b[0m\u001b[38;2;255;255;255m\u001b[48;2;37;0;0m.\u001b[0m\u001b[38;2;255;255;255m\u001b[48;2;0;0;182mU\u001b[0m\u001b[38;2;255;255;255m\u001b[48;2;91;0;0mdv\u001b[0m\u001b[38;2;255;255;255m\u001b[48;2;125;0;0midel\u001b[0m\n",
            "\n",
            "\u001b[38;2;255;255;255m\u001b[48;2;0;0;164mThe\u001b[0m\u001b[38;2;255;255;255m\u001b[48;2;170;0;0m Cor\u001b[0m\u001b[38;2;255;255;255m\u001b[48;2;0;0;26mona\u001b[0m\u001b[38;2;255;255;255m\u001b[48;2;90;0;0m Response\u001b[0m\u001b[38;2;255;255;255m\u001b[48;2;0;0;10m Investment\u001b[0m\u001b[38;2;255;255;255m\u001b[48;2;65;0;0m Initiative\u001b[0m\u001b[38;2;255;255;255m\u001b[48;2;129;0;0m .\u001b[0m\u001b[38;2;255;255;255m\u001b[48;2;0;0;164mThe\u001b[0m\u001b[38;2;255;255;255m\u001b[48;2;17;0;0m Council\u001b[0m\u001b[38;2;255;255;255m\u001b[48;2;5;0;0m has\u001b[0m\u001b[38;2;255;255;255m\u001b[48;2;0;0;116m to\u001b[0m\u001b[38;2;255;255;255m\u001b[48;2;0;0;45m formally\u001b[0m\u001b[38;2;255;255;255m\u001b[48;2;0;0;154m approve\u001b[0m\u001b[38;2;255;255;255m\u001b[48;2;0;0;118m Parliament\u001b[0m\u001b[38;2;255;255;255m\u001b[48;2;0;0;33m's\u001b[0m\u001b[38;2;255;255;255m\u001b[48;2;0;0;121m position\u001b[0m\u001b[38;2;255;255;255m\u001b[48;2;0;0;156m.\u001b[0m\u001b[38;2;255;255;255m\u001b[48;2;0;0;164mThe\u001b[0m\u001b[38;2;255;255;255m\u001b[48;2;0;0;40m measures\u001b[0m\u001b[38;2;255;255;255m\u001b[48;2;0;0;144m will\u001b[0m\n",
            "\u001b[38;2;255;255;255m\u001b[48;2;32;0;0m make\u001b[0m\u001b[38;2;255;255;255m\u001b[48;2;0;0;93m up\u001b[0m\u001b[38;2;255;255;255m\u001b[48;2;0;0;60m to\u001b[0m\u001b[38;2;255;255;255m\u001b[48;2;0;0;117m âĤ¬\u001b[0m\u001b[38;2;255;255;255m\u001b[48;2;0;0;26m800\u001b[0m\u001b[38;2;255;255;255m\u001b[48;2;0;0;97m million\u001b[0m\u001b[38;2;255;255;255m\u001b[48;2;0;0;12m available\u001b[0m\u001b[38;2;255;255;255m\u001b[48;2;28;0;0m for\u001b[0m\u001b[38;2;255;255;255m\u001b[48;2;57;0;0m European\u001b[0m\u001b[38;2;255;255;255m\u001b[48;2;0;0;137m countries\u001b[0m\u001b[38;2;255;255;255m\u001b[48;2;89;0;0m in\u001b[0m\u001b[38;2;255;255;255m\u001b[48;2;17;0;0m 2020\u001b[0m\u001b[38;2;255;255;255m\u001b[48;2;0;0;138m.\u001b[0m\u001b[38;2;255;255;255m\u001b[48;2;0;0;138mFurther\u001b[0m\u001b[38;2;255;255;255m\u001b[48;2;0;0;122m information\u001b[0m\u001b[38;2;255;255;255m\u001b[48;2;0;0;164mThe\u001b[0m\u001b[38;2;255;255;255m\u001b[48;2;5;0;0m urgent\u001b[0m\u001b[38;2;255;255;255m\u001b[48;2;0;0;50m measures\u001b[0m\u001b[38;2;255;255;255m\u001b[48;2;62;0;0m to\u001b[0m\u001b[38;2;255;255;255m\u001b[48;2;111;0;0m help\u001b[0m\n",
            "\u001b[38;2;255;255;255m\u001b[48;2;0;0;33m people\u001b[0m\u001b[38;2;255;255;255m\u001b[48;2;74;0;0m and\u001b[0m\u001b[38;2;255;255;255m\u001b[48;2;0;0;40m businesses\u001b[0m\u001b[38;2;255;255;255m\u001b[48;2;0;0;8m tackle\u001b[0m\u001b[38;2;255;255;255m\u001b[48;2;0;0;156m the\u001b[0m\u001b[38;2;255;255;255m\u001b[48;2;0;0;13m crisis\u001b[0m\u001b[38;2;255;255;255m\u001b[48;2;0;0;94m were\u001b[0m\u001b[38;2;255;255;255m\u001b[48;2;0;0;80m voted\u001b[0m\u001b[38;2;255;255;255m\u001b[48;2;0;0;5m on\u001b[0m\u001b[38;2;255;255;255m\u001b[48;2;95;0;0m in\u001b[0m\u001b[38;2;255;255;255m\u001b[48;2;168;0;0m pl\u001b[0m\u001b[38;2;255;255;255m\u001b[48;2;140;0;0menary\u001b[0m\u001b[38;2;255;255;255m\u001b[48;2;0;0;25m less\u001b[0m\u001b[38;2;255;255;255m\u001b[48;2;0;0;87m than\u001b[0m\u001b[38;2;255;255;255m\u001b[48;2;0;0;50m two\u001b[0m\u001b[38;2;255;255;255m\u001b[48;2;36;0;0m weeks\u001b[0m\u001b[38;2;255;255;255m\u001b[48;2;16;0;0m after\u001b[0m\u001b[38;2;255;255;255m\u001b[48;2;28;0;0m the\u001b[0m\u001b[38;2;255;255;255m\u001b[48;2;0;0;70m Commission\u001b[0m\u001b[38;2;255;255;255m\u001b[48;2;0;0;59m t\u001b[0m\n",
            "\u001b[38;2;255;255;255m\u001b[48;2;0;0;7mabled\u001b[0m\u001b[38;2;255;255;255m\u001b[48;2;51;0;0m its\u001b[0m\u001b[38;2;255;255;255m\u001b[48;2;0;0;110m proposals\u001b[0m\u001b[38;2;255;255;255m\u001b[48;2;0;0;60m.\u001b[0m\u001b[38;2;255;255;255m\u001b[48;2;0;0;164mThe\u001b[0m\u001b[38;2;255;255;255m\u001b[48;2;0;0;81m funds\u001b[0m\u001b[38;2;255;255;255m\u001b[48;2;0;0;45m will\u001b[0m\u001b[38;2;255;255;255m\u001b[48;2;0;0;98m be\u001b[0m\u001b[38;2;255;255;255m\u001b[48;2;41;0;0m directed\u001b[0m\u001b[38;2;255;255;255m\u001b[48;2;0;0;47m towards\u001b[0m\u001b[38;2;255;255;255m\u001b[48;2;0;0;33m healthcare\u001b[0m\u001b[38;2;255;255;255m\u001b[48;2;0;0;35m systems\u001b[0m\u001b[38;2;255;255;255m\u001b[48;2;0;0;0m,\u001b[0m\u001b[38;2;255;255;255m\u001b[48;2;203;0;0m S\u001b[0m\u001b[38;2;255;255;255m\u001b[48;2;0;0;71mME\u001b[0m\u001b[38;2;255;255;255m\u001b[48;2;0;0;120ms\u001b[0m\u001b[38;2;255;255;255m\u001b[48;2;0;0;173m,\u001b[0m\u001b[38;2;255;255;255m\u001b[48;2;0;0;155m labour\u001b[0m\u001b[38;2;255;255;255m\u001b[48;2;0;0;138m markets\u001b[0m\u001b[38;2;255;255;255m\u001b[48;2;0;0;25m and\u001b[0m\n",
            "\u001b[38;2;255;255;255m\u001b[48;2;10;0;0m other\u001b[0m\u001b[38;2;255;255;255m\u001b[48;2;25;0;0m vulnerable\u001b[0m\u001b[38;2;255;255;255m\u001b[48;2;31;0;0m parts\u001b[0m\u001b[38;2;255;255;255m\u001b[48;2;0;0;81m of\u001b[0m\u001b[38;2;255;255;255m\u001b[48;2;0;0;5m EU\u001b[0m\u001b[38;2;255;255;255m\u001b[48;2;0;0;97m member\u001b[0m\u001b[38;2;255;255;255m\u001b[48;2;0;0;58m states\u001b[0m\u001b[38;2;255;255;255m\u001b[48;2;2;0;0m'\u001b[0m\u001b[38;2;255;255;255m\u001b[48;2;0;0;158m economies\u001b[0m\u001b[38;2;255;255;255m\u001b[48;2;0;0;123m.\u001b[0m\u001b[38;2;255;255;255m\u001b[48;2;0;0;154mThese\u001b[0m\u001b[38;2;255;255;255m\u001b[48;2;0;0;57m measures\u001b[0m\u001b[38;2;255;255;255m\u001b[48;2;0;0;161m are\u001b[0m\u001b[38;2;255;255;255m\u001b[48;2;0;0;116m meant\u001b[0m\u001b[38;2;255;255;255m\u001b[48;2;0;0;153m to\u001b[0m\u001b[38;2;255;255;255m\u001b[48;2;0;0;244m channel\u001b[0m\u001b[38;2;255;255;255m\u001b[48;2;0;0;150m âĤ¬\u001b[0m\u001b[38;2;255;255;255m\u001b[48;2;0;0;39m37\u001b[0m\u001b[38;2;255;255;255m\u001b[48;2;0;0;77m billion\u001b[0m\u001b[38;2;255;255;255m\u001b[48;2;0;0;42m from\u001b[0m\n",
            "\u001b[38;2;255;255;255m\u001b[48;2;0;0;75m available\u001b[0m\u001b[38;2;255;255;255m\u001b[48;2;0;0;125m EU\u001b[0m\u001b[38;2;255;255;255m\u001b[48;2;0;0;94m funds\u001b[0m\u001b[38;2;255;255;255m\u001b[48;2;0;0;61m as\u001b[0m\u001b[38;2;255;255;255m\u001b[48;2;31;0;0m soon\u001b[0m\u001b[38;2;255;255;255m\u001b[48;2;0;0;217m as\u001b[0m\u001b[38;2;255;255;255m\u001b[48;2;0;0;15m possible\u001b[0m\u001b[38;2;255;255;255m\u001b[48;2;0;0;36m to\u001b[0m\u001b[38;2;255;255;255m\u001b[48;2;0;0;107m citizens\u001b[0m\u001b[38;2;255;255;255m\u001b[48;2;0;0;55m,\u001b[0m\u001b[38;2;255;255;255m\u001b[48;2;0;0;53m regions\u001b[0m\u001b[38;2;255;255;255m\u001b[48;2;0;0;88m and\u001b[0m\u001b[38;2;255;255;255m\u001b[48;2;0;0;166m countries\u001b[0m\u001b[38;2;255;255;255m\u001b[48;2;0;0;71m hit\u001b[0m\u001b[38;2;255;255;255m\u001b[48;2;0;0;158m the\u001b[0m\u001b[38;2;255;255;255m\u001b[48;2;0;0;109m hardest\u001b[0m\u001b[38;2;255;255;255m\u001b[48;2;10;0;0m by\u001b[0m\u001b[38;2;255;255;255m\u001b[48;2;57;0;0m the\u001b[0m\u001b[38;2;255;255;255m\u001b[48;2;0;0;102m Coron\u001b[0m\u001b[38;2;255;255;255m\u001b[48;2;0;0;188mavirus\u001b[0m\n",
            "\u001b[38;2;255;255;255m\u001b[48;2;0;0;98m pandemic\u001b[0m\u001b[38;2;255;255;255m\u001b[48;2;0;0;105m.\u001b[0m\u001b[38;2;255;255;255m\u001b[48;2;0;0;169mAs\u001b[0m\u001b[38;2;255;255;255m\u001b[48;2;0;0;187m part\u001b[0m\u001b[38;2;255;255;255m\u001b[48;2;0;0;126m of\u001b[0m\u001b[38;2;255;255;255m\u001b[48;2;0;0;173m the\u001b[0m\u001b[38;2;255;255;255m\u001b[48;2;0;0;79m EU\u001b[0m\u001b[38;2;255;255;255m\u001b[48;2;0;0;41m's\u001b[0m\u001b[38;2;255;255;255m\u001b[48;2;0;0;232m joint\u001b[0m\u001b[38;2;255;255;255m\u001b[48;2;0;0;107m response\u001b[0m\u001b[38;2;255;255;255m\u001b[48;2;0;0;137m to\u001b[0m\u001b[38;2;255;255;255m\u001b[48;2;0;0;73m the\u001b[0m\u001b[38;2;255;255;255m\u001b[48;2;0;0;158m COVID\u001b[0m\u001b[38;2;255;255;255m\u001b[48;2;0;0;61m-\u001b[0m\u001b[38;2;255;255;255m\u001b[48;2;0;0;133m19\u001b[0m\u001b[38;2;255;255;255m\u001b[48;2;0;0;25m outbreak\u001b[0m\u001b[38;2;255;255;255m\u001b[48;2;0;0;147m,\u001b[0m\u001b[38;2;255;255;255m\u001b[48;2;0;0;77m ME\u001b[0m\u001b[38;2;255;255;255m\u001b[48;2;0;0;117mPs\u001b[0m\u001b[38;2;255;255;255m\u001b[48;2;0;0;164m almost\u001b[0m\n",
            "\u001b[38;2;255;255;255m\u001b[48;2;0;0;228m unanimously\u001b[0m\u001b[38;2;255;255;255m\u001b[48;2;0;0;143m adopted\u001b[0m\u001b[38;2;255;255;255m\u001b[48;2;0;0;170m three\u001b[0m\u001b[38;2;255;255;255m\u001b[48;2;69;0;0m urgent\u001b[0m\u001b[38;2;255;255;255m\u001b[48;2;0;0;137m proposals\u001b[0m\u001b[38;2;255;255;255m\u001b[48;2;40;0;0m in\u001b[0m\u001b[38;2;255;255;255m\u001b[48;2;17;0;0m an\u001b[0m\u001b[38;2;255;255;255m\u001b[48;2;0;0;48m extraordinary\u001b[0m\u001b[38;2;255;255;255m\u001b[48;2;64;0;0m pl\u001b[0m\u001b[38;2;255;255;255m\u001b[48;2;130;0;0menary\u001b[0m\u001b[38;2;255;255;255m\u001b[48;2;4;0;0m session\u001b[0m\u001b[38;2;255;255;255m\u001b[48;2;0;0;89m,\u001b[0m\u001b[38;2;255;255;255m\u001b[48;2;88;0;0m on\u001b[0m\u001b[38;2;255;255;255m\u001b[48;2;0;0;14m Thursday\u001b[0m\u001b[38;2;255;255;255m\u001b[48;2;0;0;62m.\u001b[0m\u001b[38;2;255;255;255m\u001b[48;2;0;0;151mThis\u001b[0m\u001b[38;2;255;255;255m\u001b[48;2;0;0;162m will\u001b[0m\u001b[38;2;255;255;255m\u001b[48;2;0;0;37m stop\u001b[0m\u001b[38;2;255;255;255m\u001b[48;2;0;0;62m air\u001b[0m\u001b[38;2;255;255;255m\u001b[48;2;0;0;144m carriers\u001b[0m\n",
            "\u001b[38;2;255;255;255m\u001b[48;2;0;0;0m from\u001b[0m\u001b[38;2;255;255;255m\u001b[48;2;54;0;0m operating\u001b[0m\u001b[38;2;255;255;255m\u001b[48;2;19;0;0m empty\u001b[0m\u001b[38;2;255;255;255m\u001b[48;2;0;0;11m flights\u001b[0m\u001b[38;2;255;255;255m\u001b[48;2;77;0;0m during\u001b[0m\u001b[38;2;255;255;255m\u001b[48;2;0;0;146m the\u001b[0m\u001b[38;2;255;255;255m\u001b[48;2;11;0;0m pandemic\u001b[0m\u001b[38;2;255;255;255m\u001b[48;2;0;0;71m.\u001b[0m\u001b[38;2;255;255;255m\u001b[48;2;0;0;150mOper\u001b[0m\u001b[38;2;255;255;255m\u001b[48;2;0;0;86mations\u001b[0m\u001b[38;2;255;255;255m\u001b[48;2;0;0;182m eligible\u001b[0m\u001b[38;2;255;255;255m\u001b[48;2;0;0;0m under\u001b[0m\u001b[38;2;255;255;255m\u001b[48;2;0;0;180m the\u001b[0m\u001b[38;2;255;255;255m\u001b[48;2;0;0;85m Fund\u001b[0m\u001b[38;2;255;255;255m\u001b[48;2;0;0;47m will\u001b[0m\u001b[38;2;255;255;255m\u001b[48;2;0;0;118m be\u001b[0m\u001b[38;2;255;255;255m\u001b[48;2;0;0;71m extended\u001b[0m\u001b[38;2;255;255;255m\u001b[48;2;0;0;112m to\u001b[0m\u001b[38;2;255;255;255m\u001b[48;2;0;0;108m include\u001b[0m\u001b[38;2;255;255;255m\u001b[48;2;0;0;158m support\u001b[0m\n",
            "\u001b[38;2;255;255;255m\u001b[48;2;0;0;23m in\u001b[0m\u001b[38;2;255;255;255m\u001b[48;2;0;0;53m a\u001b[0m\u001b[38;2;255;255;255m\u001b[48;2;0;0;81m major\u001b[0m\u001b[38;2;255;255;255m\u001b[48;2;13;0;0m public\u001b[0m\u001b[38;2;255;255;255m\u001b[48;2;0;0;55m health\u001b[0m\u001b[38;2;255;255;255m\u001b[48;2;0;0;152m emergency\u001b[0m\u001b[38;2;255;255;255m\u001b[48;2;1;0;0m,\u001b[0m\u001b[38;2;255;255;255m\u001b[48;2;7;0;0m including\u001b[0m\u001b[38;2;255;255;255m\u001b[48;2;0;0;98m medical\u001b[0m\u001b[38;2;255;255;255m\u001b[48;2;0;0;119m assistance\u001b[0m\u001b[38;2;255;255;255m\u001b[48;2;0;0;98m,\u001b[0m\u001b[38;2;255;255;255m\u001b[48;2;0;0;77m as\u001b[0m\u001b[38;2;255;255;255m\u001b[48;2;0;0;67m well\u001b[0m\u001b[38;2;255;255;255m\u001b[48;2;0;0;206m as\u001b[0m\u001b[38;2;255;255;255m\u001b[48;2;0;0;174m measures\u001b[0m\u001b[38;2;255;255;255m\u001b[48;2;0;0;127m to\u001b[0m\u001b[38;2;255;255;255m\u001b[48;2;0;0;80m prevent\u001b[0m\u001b[38;2;255;255;255m\u001b[48;2;0;0;195m,\u001b[0m\u001b[38;2;255;255;255m\u001b[48;2;0;0;178m monitor\u001b[0m\u001b[38;2;255;255;255m\u001b[48;2;0;0;87m or\u001b[0m\n",
            "\u001b[38;2;255;255;255m\u001b[48;2;0;0;79m control\u001b[0m\u001b[38;2;255;255;255m\u001b[48;2;59;0;0m the\u001b[0m\u001b[38;2;255;255;255m\u001b[48;2;45;0;0m spread\u001b[0m\u001b[38;2;255;255;255m\u001b[48;2;0;0;141m of\u001b[0m\u001b[38;2;255;255;255m\u001b[48;2;0;0;86m diseases\u001b[0m\u001b[38;2;255;255;255m\u001b[48;2;0;0;95m.\u001b[0m\u001b[38;2;255;255;255m\u001b[48;2;0;0;164mThe\u001b[0m\u001b[38;2;255;255;255m\u001b[48;2;71;0;0m extension\u001b[0m\u001b[38;2;255;255;255m\u001b[48;2;29;0;0m of\u001b[0m\u001b[38;2;255;255;255m\u001b[48;2;0;0;170m the\u001b[0m\u001b[38;2;255;255;255m\u001b[48;2;0;0;21m EU\u001b[0m\u001b[38;2;255;255;255m\u001b[48;2;0;0;121m Solid\u001b[0m\u001b[38;2;255;255;255m\u001b[48;2;0;0;48marity\u001b[0m\u001b[38;2;255;255;255m\u001b[48;2;0;0;72m Fund\u001b[0m\u001b[38;2;255;255;255m\u001b[48;2;80;0;0m to\u001b[0m\u001b[38;2;255;255;255m\u001b[48;2;0;0;40m cover\u001b[0m\u001b[38;2;255;255;255m\u001b[48;2;0;0;53m public\u001b[0m\u001b[38;2;255;255;255m\u001b[48;2;0;0;13m health\u001b[0m\u001b[38;2;255;255;255m\u001b[48;2;0;0;73m emergencies\u001b[0m\u001b[38;2;255;255;255m\u001b[48;2;0;0;32m.\u001b[0m\n",
            "\u001b[38;2;255;255;255m\u001b[48;2;0;0;164mThe\u001b[0m\u001b[38;2;255;255;255m\u001b[48;2;0;0;55m adopted\u001b[0m\u001b[38;2;255;255;255m\u001b[48;2;0;0;108m measures\u001b[0m\u001b[38;2;255;255;255m\u001b[48;2;0;0;74m will\u001b[0m\u001b[38;2;255;255;255m\u001b[48;2;0;0;31m enter\u001b[0m\u001b[38;2;255;255;255m\u001b[48;2;0;0;104m into\u001b[0m\u001b[38;2;255;255;255m\u001b[48;2;0;0;32m force\u001b[0m\u001b[38;2;255;255;255m\u001b[48;2;0;0;105m once\u001b[0m\u001b[38;2;255;255;255m\u001b[48;2;42;0;0m published\u001b[0m\u001b[38;2;255;255;255m\u001b[48;2;0;0;12m in\u001b[0m\u001b[38;2;255;255;255m\u001b[48;2;0;0;161m the\u001b[0m\u001b[38;2;255;255;255m\u001b[48;2;21;0;0m Official\u001b[0m\u001b[38;2;255;255;255m\u001b[48;2;0;0;13m Journal\u001b[0m\u001b[38;2;255;255;255m\u001b[48;2;4;0;0m of\u001b[0m\u001b[38;2;255;255;255m\u001b[48;2;92;0;0m the\u001b[0m\u001b[38;2;255;255;255m\u001b[48;2;39;0;0m European\u001b[0m\u001b[38;2;255;255;255m\u001b[48;2;0;0;113m Union\u001b[0m\u001b[38;2;255;255;255m\u001b[48;2;113;0;0m in\u001b[0m\u001b[38;2;255;255;255m\u001b[48;2;110;0;0m the\u001b[0m\u001b[38;2;255;255;255m\u001b[48;2;23;0;0m coming\u001b[0m\n",
            "\u001b[38;2;255;255;255m\u001b[48;2;0;0;104m days\u001b[0m\u001b[38;2;255;255;255m\u001b[48;2;0;0;24m.\u001b[0m\u001b[38;2;255;255;255m\u001b[48;2;0;0;142mTem\u001b[0m\u001b[38;2;255;255;255m\u001b[48;2;24;0;0mpor\u001b[0m\u001b[38;2;255;255;255m\u001b[48;2;0;0;153marily\u001b[0m\u001b[38;2;255;255;255m\u001b[48;2;72;0;0m susp\u001b[0m\u001b[38;2;255;255;255m\u001b[48;2;28;0;0mending\u001b[0m\u001b[38;2;255;255;255m\u001b[48;2;0;0;187m EU\u001b[0m\u001b[38;2;255;255;255m\u001b[48;2;59;0;0m rules\u001b[0m\u001b[38;2;255;255;255m\u001b[48;2;169;0;0m on\u001b[0m\u001b[38;2;255;255;255m\u001b[48;2;0;0;5m airport\u001b[0m\u001b[38;2;255;255;255m\u001b[48;2;1;0;0m slots\u001b[0m\u001b[38;2;255;255;255m\u001b[48;2;156;0;0m .\u001b[0m\u001b[38;2;255;255;255m\u001b[48;2;0;0;164mThe\u001b[0m\u001b[38;2;255;255;255m\u001b[48;2;29;0;0m temporary\u001b[0m\u001b[38;2;255;255;255m\u001b[48;2;0;0;8m suspension\u001b[0m\u001b[38;2;255;255;255m\u001b[48;2;0;0;38m means\u001b[0m\u001b[38;2;255;255;255m\u001b[48;2;0;0;77m that\u001b[0m\u001b[38;2;255;255;255m\u001b[48;2;0;0;21m airlines\u001b[0m\u001b[38;2;255;255;255m\u001b[48;2;0;0;32m are\u001b[0m\n",
            "\u001b[38;2;255;255;255m\u001b[48;2;0;0;30m not\u001b[0m\u001b[38;2;255;255;255m\u001b[48;2;0;0;49m obliged\u001b[0m\u001b[38;2;255;255;255m\u001b[48;2;0;0;74m to\u001b[0m\u001b[38;2;255;255;255m\u001b[48;2;0;0;45m use\u001b[0m\u001b[38;2;255;255;255m\u001b[48;2;0;0;19m their\u001b[0m\u001b[38;2;255;255;255m\u001b[48;2;0;0;76m planned\u001b[0m\u001b[38;2;255;255;255m\u001b[48;2;53;0;0m take\u001b[0m\u001b[38;2;255;255;255m\u001b[48;2;37;0;0m-\u001b[0m\u001b[38;2;255;255;255m\u001b[48;2;0;0;83moff\u001b[0m\u001b[38;2;255;255;255m\u001b[48;2;0;0;40m and\u001b[0m\u001b[38;2;255;255;255m\u001b[48;2;0;0;73m landing\u001b[0m\u001b[38;2;255;255;255m\u001b[48;2;0;0;126m slots\u001b[0m\u001b[38;2;255;255;255m\u001b[48;2;14;0;0m to\u001b[0m\u001b[38;2;255;255;255m\u001b[48;2;62;0;0m keep\u001b[0m\u001b[38;2;255;255;255m\u001b[48;2;0;0;124m them\u001b[0m\u001b[38;2;255;255;255m\u001b[48;2;0;0;0m in\u001b[0m\u001b[38;2;255;255;255m\u001b[48;2;0;0;163m the\u001b[0m\u001b[38;2;255;255;255m\u001b[48;2;0;0;70m next\u001b[0m\u001b[38;2;255;255;255m\u001b[48;2;0;0;15m corresponding\u001b[0m\u001b[38;2;255;255;255m\u001b[48;2;0;0;69m season\u001b[0m\n",
            "\u001b[38;2;255;255;255m\u001b[48;2;0;0;50m.\u001b[0m\u001b[38;2;255;255;255m\u001b[48;2;0;0;164mThe\u001b[0m\u001b[38;2;255;255;255m\u001b[48;2;0;0;72m '\u001b[0m\u001b[38;2;255;255;255m\u001b[48;2;59;0;0muse\u001b[0m\u001b[38;2;255;255;255m\u001b[48;2;30;0;0m it\u001b[0m\u001b[38;2;255;255;255m\u001b[48;2;0;0;34m or\u001b[0m\u001b[38;2;255;255;255m\u001b[48;2;29;0;0m lose\u001b[0m\u001b[38;2;255;255;255m\u001b[48;2;39;0;0m it\u001b[0m\u001b[38;2;255;255;255m\u001b[48;2;0;0;17m'\u001b[0m\u001b[38;2;255;255;255m\u001b[48;2;0;0;13m rule\u001b[0m\u001b[38;2;255;255;255m\u001b[48;2;0;0;35m will\u001b[0m\u001b[38;2;255;255;255m\u001b[48;2;0;0;86m be\u001b[0m\u001b[38;2;255;255;255m\u001b[48;2;46;0;0m waived\u001b[0m\u001b[38;2;255;255;255m\u001b[48;2;6;0;0m for\u001b[0m\u001b[38;2;255;255;255m\u001b[48;2;0;0;156m the\u001b[0m\u001b[38;2;255;255;255m\u001b[48;2;34;0;0m whole\u001b[0m\u001b[38;2;255;255;255m\u001b[48;2;0;0;57m summer\u001b[0m\u001b[38;2;255;255;255m\u001b[48;2;0;0;111m season\u001b[0m\u001b[38;2;255;255;255m\u001b[48;2;0;0;59m,\u001b[0m\u001b[38;2;255;255;255m\u001b[48;2;28;0;0m from\u001b[0m\n",
            "\u001b[38;2;255;255;255m\u001b[48;2;21;0;0m 29\u001b[0m\u001b[38;2;255;255;255m\u001b[48;2;82;0;0m March\u001b[0m\u001b[38;2;255;255;255m\u001b[48;2;0;0;76m until\u001b[0m\u001b[38;2;255;255;255m\u001b[48;2;17;0;0m 24\u001b[0m\u001b[38;2;255;255;255m\u001b[48;2;96;0;0m October\u001b[0m\u001b[38;2;255;255;255m\u001b[48;2;0;0;51m 2020\u001b[0m\u001b[38;2;255;255;255m\u001b[48;2;0;0;20m.\u001b[0m\u001b[38;2;255;255;255m\u001b[48;2;0;0;154mC\u001b[0m\u001b[38;2;255;255;255m\u001b[48;2;74;0;0mOVID\u001b[0m\u001b[38;2;255;255;255m\u001b[48;2;29;0;0m-\u001b[0m\u001b[38;2;255;255;255m\u001b[48;2;32;0;0m19\u001b[0m\u001b[38;2;255;255;255m\u001b[48;2;48;0;0m:\u001b[0m\u001b[38;2;255;255;255m\u001b[48;2;0;0;95m final\u001b[0m\u001b[38;2;255;255;255m\u001b[48;2;62;0;0m vote\u001b[0m\u001b[38;2;255;255;255m\u001b[48;2;153;0;0m in\u001b[0m\u001b[38;2;255;255;255m\u001b[48;2;25;0;0m EP\u001b[0m\u001b[38;2;255;255;255m\u001b[48;2;111;0;0m pl\u001b[0m\u001b[38;2;255;255;255m\u001b[48;2;187;0;0menary\u001b[0m\u001b[38;2;255;255;255m\u001b[48;2;86;0;0m to\u001b[0m\u001b[38;2;255;255;255m\u001b[48;2;0;0;34m approve\u001b[0m\n",
            "\u001b[38;2;255;255;255m\u001b[48;2;0;0;144m crucial\u001b[0m\u001b[38;2;255;255;255m\u001b[48;2;0;0;59m EU\u001b[0m\u001b[38;2;255;255;255m\u001b[48;2;0;0;40m support\u001b[0m\u001b[38;2;255;255;255m\u001b[48;2;0;0;15m measures\u001b[0m\u001b[38;2;255;255;255m\u001b[48;2;0;0;0m -\u001b[0m\u001b[38;2;255;255;255m\u001b[48;2;93;0;0m Â©\u001b[0m\u001b[38;2;255;255;255m\u001b[48;2;1;0;0m EP\u001b[0m\u001b[38;2;255;255;255m\u001b[48;2;0;0;164mThe\u001b[0m\u001b[38;2;255;255;255m\u001b[48;2;3;0;0m proposal\u001b[0m\u001b[38;2;255;255;255m\u001b[48;2;3;0;0m was\u001b[0m\u001b[38;2;255;255;255m\u001b[48;2;0;0;66m adopted\u001b[0m\u001b[38;2;255;255;255m\u001b[48;2;0;0;89m with\u001b[0m\u001b[38;2;255;255;255m\u001b[48;2;10;0;0m 6\u001b[0m\u001b[38;2;255;255;255m\u001b[48;2;86;0;0m71\u001b[0m\u001b[38;2;255;255;255m\u001b[48;2;0;0;49m votes\u001b[0m\u001b[38;2;255;255;255m\u001b[48;2;82;0;0m in\u001b[0m\u001b[38;2;255;255;255m\u001b[48;2;4;0;0m favour\u001b[0m\u001b[38;2;255;255;255m\u001b[48;2;0;0;129m,\u001b[0m\u001b[38;2;255;255;255m\u001b[48;2;77;0;0m 3\u001b[0m\u001b[38;2;255;255;255m\u001b[48;2;88;0;0m against\u001b[0m\n",
            "\u001b[38;2;255;255;255m\u001b[48;2;0;0;73m and\u001b[0m\u001b[38;2;255;255;255m\u001b[48;2;0;0;15m 14\u001b[0m\u001b[38;2;255;255;255m\u001b[48;2;108;0;0m abst\u001b[0m\u001b[38;2;255;255;255m\u001b[48;2;0;0;157ment\u001b[0m\u001b[38;2;255;255;255m\u001b[48;2;0;0;154mions\u001b[0m\u001b[38;2;255;255;255m\u001b[48;2;0;0;90m.\u001b[0m\u001b[38;2;255;255;255m\u001b[48;2;0;0;164mThe\u001b[0m\u001b[38;2;255;255;255m\u001b[48;2;3;0;0m proposal\u001b[0m\u001b[38;2;255;255;255m\u001b[48;2;3;0;0m was\u001b[0m\u001b[38;2;255;255;255m\u001b[48;2;0;0;66m adopted\u001b[0m\u001b[38;2;255;255;255m\u001b[48;2;0;0;89m with\u001b[0m\u001b[38;2;255;255;255m\u001b[48;2;10;0;0m 6\u001b[0m\u001b[38;2;255;255;255m\u001b[48;2;49;0;0m83\u001b[0m\u001b[38;2;255;255;255m\u001b[48;2;0;0;55m votes\u001b[0m\u001b[38;2;255;255;255m\u001b[48;2;77;0;0m in\u001b[0m\u001b[38;2;255;255;255m\u001b[48;2;2;0;0m favour\u001b[0m\u001b[38;2;255;255;255m\u001b[48;2;0;0;130m,\u001b[0m\u001b[38;2;255;255;255m\u001b[48;2;52;0;0m 1\u001b[0m\u001b[38;2;255;255;255m\u001b[48;2;55;0;0m against\u001b[0m\u001b[38;2;255;255;255m\u001b[48;2;0;0;79m and\u001b[0m\n",
            "\u001b[38;2;255;255;255m\u001b[48;2;0;0;9m 4\u001b[0m\u001b[38;2;255;255;255m\u001b[48;2;72;0;0m abst\u001b[0m\u001b[38;2;255;255;255m\u001b[48;2;0;0;162ment\u001b[0m\u001b[38;2;255;255;255m\u001b[48;2;0;0;164mions\u001b[0m\u001b[38;2;255;255;255m\u001b[48;2;0;0;95m.\u001b[0m\u001b[38;2;255;255;255m\u001b[48;2;0;0;164mThe\u001b[0m\u001b[38;2;255;255;255m\u001b[48;2;3;0;0m proposal\u001b[0m\u001b[38;2;255;255;255m\u001b[48;2;3;0;0m was\u001b[0m\u001b[38;2;255;255;255m\u001b[48;2;0;0;66m adopted\u001b[0m\u001b[38;2;255;255;255m\u001b[48;2;0;0;89m with\u001b[0m\u001b[38;2;255;255;255m\u001b[48;2;10;0;0m 6\u001b[0m\u001b[38;2;255;255;255m\u001b[48;2;65;0;0m86\u001b[0m\u001b[38;2;255;255;255m\u001b[48;2;0;0;62m votes\u001b[0m\u001b[38;2;255;255;255m\u001b[48;2;76;0;0m in\u001b[0m\u001b[38;2;255;255;255m\u001b[48;2;3;0;0m favour\u001b[0m\u001b[38;2;255;255;255m\u001b[48;2;0;0;128m,\u001b[0m\u001b[38;2;255;255;255m\u001b[48;2;0;0;40m no\u001b[0m\u001b[38;2;255;255;255m\u001b[48;2;0;0;79m votes\u001b[0m\u001b[38;2;255;255;255m\u001b[48;2;42;0;0m against\u001b[0m\u001b[38;2;255;255;255m\u001b[48;2;24;0;0m and\u001b[0m\n",
            "\u001b[38;2;255;255;255m\u001b[48;2;50;0;0m 2\u001b[0m\u001b[38;2;255;255;255m\u001b[48;2;104;0;0m abst\u001b[0m\u001b[38;2;255;255;255m\u001b[48;2;0;0;162ment\u001b[0m\u001b[38;2;255;255;255m\u001b[48;2;0;0;156mions\u001b[0m\u001b[38;2;255;255;255m\u001b[48;2;0;0;130m.\u001b[0m\u001b[38;2;255;255;255m\u001b[48;2;0;0;144mdevelop\u001b[0m\u001b[38;2;255;255;255m\u001b[48;2;0;0;122ming\u001b[0m\u001b[38;2;255;255;255m\u001b[48;2;0;0;45m new\u001b[0m\u001b[38;2;255;255;255m\u001b[48;2;0;0;32m vaccines\u001b[0m\u001b[38;2;255;255;255m\u001b[48;2;0;0;84mProgram\u001b[0m\u001b[38;2;255;255;255m\u001b[48;2;159;0;0mmes\u001b[0m\u001b[38;2;255;255;255m\u001b[48;2;0;0;178m already\u001b[0m\u001b[38;2;255;255;255m\u001b[48;2;63;0;0m in\u001b[0m\u001b[38;2;255;255;255m\u001b[48;2;0;0;59m place\u001b[0m\u001b[38;2;255;255;255m\u001b[48;2;0;0;164mThe\u001b[0m\u001b[38;2;255;255;255m\u001b[48;2;39;0;0m 140\u001b[0m\u001b[38;2;255;255;255m\u001b[48;2;44;0;0m research\u001b[0m\u001b[38;2;255;255;255m\u001b[48;2;0;0;186m teams\u001b[0m\u001b[38;2;255;255;255m\u001b[48;2;0;0;53m from\u001b[0m\u001b[38;2;255;255;255m\u001b[48;2;72;0;0m across\u001b[0m"
          ]
        }
      ],
      "source": [
        "print_colored_preacts(\n",
        "    da_tokens2[begin_at:],\n",
        "    da_preacts2[begin_at:],\n",
        "    neuron_to_use,\n",
        "    tokenizer,\n",
        "    stop_after=400\n",
        ")\n",
        "print('')\n",
        "print_colored_preacts(\n",
        "    en_tokens2[begin_at:],\n",
        "    en_preacts2[begin_at:],\n",
        "    neuron_to_use,\n",
        "    tokenizer,\n",
        "    stop_after=400\n",
        ")"
      ]
    },
    {
      "cell_type": "code",
      "execution_count": 30,
      "metadata": {
        "id": "jEAG8u9Zmzoc"
      },
      "outputs": [
        {
          "ename": "AttributeError",
          "evalue": "'numpy.ndarray' object has no attribute 'numpy'",
          "output_type": "error",
          "traceback": [
            "\u001b[1;31m---------------------------------------------------------------------------\u001b[0m",
            "\u001b[1;31mAttributeError\u001b[0m                            Traceback (most recent call last)",
            "Cell \u001b[1;32mIn[30], line 9\u001b[0m\n\u001b[0;32m      6\u001b[0m \u001b[38;5;28;01mif\u001b[39;00m \u001b[38;5;129;01mnot\u001b[39;00m os\u001b[38;5;241m.\u001b[39mpath\u001b[38;5;241m.\u001b[39misdir(\u001b[38;5;124mf\u001b[39m\u001b[38;5;124m'\u001b[39m\u001b[38;5;132;01m{\u001b[39;00mhidden_acts_outfolder\u001b[38;5;132;01m}\u001b[39;00m\u001b[38;5;124m/\u001b[39m\u001b[38;5;132;01m{\u001b[39;00mmodel_name\u001b[38;5;132;01m}\u001b[39;00m\u001b[38;5;124m'\u001b[39m):\n\u001b[0;32m      7\u001b[0m     os\u001b[38;5;241m.\u001b[39mmkdir(\u001b[38;5;124mf\u001b[39m\u001b[38;5;124m'\u001b[39m\u001b[38;5;132;01m{\u001b[39;00mhidden_acts_outfolder\u001b[38;5;132;01m}\u001b[39;00m\u001b[38;5;124m/\u001b[39m\u001b[38;5;132;01m{\u001b[39;00mmodel_name\u001b[38;5;132;01m}\u001b[39;00m\u001b[38;5;124m'\u001b[39m)\n\u001b[1;32m----> 9\u001b[0m df \u001b[38;5;241m=\u001b[39m pd\u001b[38;5;241m.\u001b[39mDataFrame({\u001b[38;5;124m'\u001b[39m\u001b[38;5;124mavg_da\u001b[39m\u001b[38;5;124m'\u001b[39m: \u001b[43mavg_da\u001b[49m\u001b[38;5;241;43m.\u001b[39;49m\u001b[43mnumpy\u001b[49m(), \u001b[38;5;124m'\u001b[39m\u001b[38;5;124mavg_en\u001b[39m\u001b[38;5;124m'\u001b[39m: avg_en\u001b[38;5;241m.\u001b[39mnumpy()})\n\u001b[0;32m     10\u001b[0m df\u001b[38;5;241m.\u001b[39mto_csv(\u001b[38;5;124mf\u001b[39m\u001b[38;5;124m'\u001b[39m\u001b[38;5;132;01m{\u001b[39;00mhidden_acts_outfolder\u001b[38;5;132;01m}\u001b[39;00m\u001b[38;5;124m/\u001b[39m\u001b[38;5;132;01m{\u001b[39;00mmodel_name\u001b[38;5;132;01m}\u001b[39;00m\u001b[38;5;124m/\u001b[39m\u001b[38;5;132;01m{\u001b[39;00mhookpoint\u001b[38;5;132;01m}\u001b[39;00m\u001b[38;5;124m.csv\u001b[39m\u001b[38;5;124m'\u001b[39m, index\u001b[38;5;241m=\u001b[39m\u001b[38;5;28;01mFalse\u001b[39;00m)\n",
            "\u001b[1;31mAttributeError\u001b[0m: 'numpy.ndarray' object has no attribute 'numpy'"
          ]
        }
      ],
      "source": [
        "hidden_acts_outfolder = 'results/sparse_autoencoder_activations'\n",
        "\n",
        "if not os.path.isdir(f'{hidden_acts_outfolder}'):\n",
        "    os.mkdir(f'{hidden_acts_outfolder}')\n",
        "\n",
        "if not os.path.isdir(f'{hidden_acts_outfolder}/{model_name}'):\n",
        "    os.mkdir(f'{hidden_acts_outfolder}/{model_name}')\n",
        "\n",
        "df = pd.DataFrame({'avg_da': avg_da.numpy(), 'avg_en': avg_en.numpy()})\n",
        "df.to_csv(f'{hidden_acts_outfolder}/{model_name}/{hookpoint}.csv', index=False)"
      ]
    },
    {
      "cell_type": "code",
      "execution_count": null,
      "metadata": {
        "id": "2zTUQKmImzoc"
      },
      "outputs": [],
      "source": []
    }
  ],
  "metadata": {
    "accelerator": "GPU",
    "colab": {
      "gpuType": "T4",
      "provenance": []
    },
    "kernelspec": {
      "display_name": "rp",
      "language": "python",
      "name": "python3"
    },
    "language_info": {
      "codemirror_mode": {
        "name": "ipython",
        "version": 3
      },
      "file_extension": ".py",
      "mimetype": "text/x-python",
      "name": "python",
      "nbconvert_exporter": "python",
      "pygments_lexer": "ipython3",
      "version": "3.11.9"
    }
  },
  "nbformat": 4,
  "nbformat_minor": 0
}
